{
 "cells": [
  {
   "cell_type": "markdown",
   "metadata": {},
   "source": [
    "# SRAD2018_submit_Neutrino"
   ]
  },
  {
   "cell_type": "code",
   "execution_count": null,
   "metadata": {},
   "outputs": [],
   "source": [
    "import os\n",
    "import numpy as np\n",
    "import pandas as pd\n",
    "np.random.seed(123)\n",
    "from six.moves import cPickle\n",
    "import PIL\n",
    "import matplotlib.pyplot as plt\n",
    "from matplotlib import cm\n",
    "import time\n",
    "import multiprocessing\n",
    "import random\n",
    "import sklearn\n",
    "from sklearn import metrics\n",
    "import seaborn as sns\n",
    "import cv2\n",
    "import skimage\n",
    "from skimage import restoration\n",
    "import copy\n",
    "import seaborn as sns"
   ]
  },
  {
   "cell_type": "code",
   "execution_count": null,
   "metadata": {},
   "outputs": [],
   "source": [
    "RAD_id_submit_list = os.listdir(\"C:\\\\Users\\\\Administrator\\\\Downloads\\\\Downloads\\\\[20180919] SRAD2018_Test_2\")\n",
    "print(len(RAD_id_submit_list))\n",
    "RAD_id_train_list = os.listdir(\"C:\\\\Users\\\\Administrator\\\\Downloads\\\\Downloads\\\\SRAD2018_train\")\n",
    "print(len(RAD_id_train_list))"
   ]
  },
  {
   "cell_type": "code",
   "execution_count": null,
   "metadata": {
    "scrolled": true
   },
   "outputs": [],
   "source": [
    "for counter, RAD_id in enumerate(RAD_id_train_list[:6]):\n",
    "    cx_list_old = cx_list\n",
    "    cy_list_old = cy_list\n",
    "    cx_list = []\n",
    "    cy_list = []\n",
    "    cx_list_old = []\n",
    "    cy_list_old = []\n",
    "    for i in range(60):\n",
    "        temp_matrix = np.array(PIL.Image.open(\"C:\\\\Users\\\\Administrator\\\\Downloads\\\\Downloads\\\\SRAD2018_train\\\\%s\\\\%s_%03d.png\" % (RAD_id, RAD_id, i)))\n",
    "        temp_matrix = np.where(temp_matrix==255, 0, temp_matrix)\n",
    "    #     plt.imshow(temp_matrix, cmap=cm.gist_ncar_r)\n",
    "    #     plt.show()\n",
    "        M = cv2.moments(temp_matrix)\n",
    "        cx = int(M['m10']/M['m00'])\n",
    "        cy = int(M['m01']/M['m00'])\n",
    "        if i > 30:\n",
    "            cx_list.append(cx)\n",
    "            cy_list.append(cy)\n",
    "        else:\n",
    "            cx_list_old.append(cx)\n",
    "            cy_list_old.append(cy)\n",
    "    #     print(cx, cy)\n",
    "    plt.plot(cx_list_old, cy_list_old)\n",
    "    plt.plot(cx_list, cy_list)\n",
    "    plt.xlim(0, 500)\n",
    "    plt.ylim(0, 500)\n",
    "    plt.show()"
   ]
  },
  {
   "cell_type": "code",
   "execution_count": null,
   "metadata": {},
   "outputs": [],
   "source": [
    "plt.plot(cx_list_old, cy_list_old)\n",
    "plt.plot(cx_list, cy_list)\n",
    "plt.xlim(0, 500)\n",
    "plt.ylim(0, 500)\n",
    "plt.show()"
   ]
  },
  {
   "cell_type": "code",
   "execution_count": null,
   "metadata": {},
   "outputs": [],
   "source": [
    "plt.plot(cx_list, cy_list)\n",
    "plt.xlim(0, 500)\n",
    "plt.ylim(0, 500)\n",
    "plt.show()"
   ]
  },
  {
   "cell_type": "code",
   "execution_count": null,
   "metadata": {},
   "outputs": [],
   "source": [
    "sns.plotting_context(cx_list)"
   ]
  },
  {
   "cell_type": "code",
   "execution_count": null,
   "metadata": {},
   "outputs": [],
   "source": []
  },
  {
   "cell_type": "code",
   "execution_count": null,
   "metadata": {},
   "outputs": [],
   "source": [
    "start_time = time.time()\n",
    "print(time.strftime(\"start time: %Y-%m-%d %H:%M:%S\", time.localtime()))\n",
    "model_abs_loss = []\n",
    "model_sqr_loss = []\n",
    "last_frame_abs_loss = []\n",
    "last_frame_sqr_loss = []\n",
    "for RAD_id_counter, RAD_id in enumerate(RAD_id_list[-1:]):\n",
    "    x, y = data_generation([RAD_id], batch_size=1, image_size=image_size, image_scalar=image_scalar, nt=nt, step_size=step_size, offset=0, path='/home/hadoop/Documents/Neutrino/SRAD2018/SRAD2018_train')\n",
    "    x_last = np.array(PIL.Image.open(\"/home/hadoop/Documents/Neutrino/SRAD2018/SRAD2018_train/%s/%s_%03d.png\" % (RAD_id, RAD_id, (nt - 1) * step_size)).resize((image_size, image_size))).astype(np.int8).reshape((image_size, image_size))\n",
    "    y_true_last = np.array(PIL.Image.open(\"/home/hadoop/Documents/Neutrino/SRAD2018/SRAD2018_train/%s/%s_%03d.png\" % (RAD_id, RAD_id, 30)).resize((image_size, image_size))).astype(np.int8).reshape((image_size, image_size))\n",
    "    for i in range(1):\n",
    "#     for i in range(30 // step_size - nt + 1):\n",
    "        y = model_predict(x)\n",
    "        temp_matrix = np.rollaxis(y[0], 2, 0)\n",
    "#         for k in range(n_channels):\n",
    "#             temp_matrix[k] = rescale(x_last, temp_matrix[k], split=0.25)\n",
    "        y[0] = np.rollaxis(temp_matrix, 0, 3)\n",
    "        y = np.where(y<0.03, -0.01, y)\n",
    "    #     y = np.where(y>0.6, 0.6, y)\n",
    "        for j in range(nt - 1):\n",
    "            x[0][j] = x[0][j + 1]\n",
    "        x[0][-1] = y[0]\n",
    "    x, y = x[0], y[0]\n",
    "    y_pred_last = np.rollaxis(y, 2, 0)[0] * image_scalar \n",
    "#     y_pred_last = np.rollaxis(y, 2, 0)[0] * image_scalar + np.rollaxis(y, 2, 0)[1] * image_scalar + np.rollaxis(y, 2, 0)[2] * image_scalar# + np.rollaxis(y, 2, 0)[3] * image_scalar\n",
    "#     y_pred_last = y_pred_last / 3\n",
    "#     y_pred_last = rescale(x_last, y_pred_last, split=0.25)\n",
    "    last_frame_abs_loss.append(sklearn.metrics.mean_absolute_error(y_true_last.astype(np.int), x_last.astype(np.int)))\n",
    "    model_abs_loss.append(sklearn.metrics.mean_absolute_error(y_true_last.astype(np.int), y_pred_last.astype(np.int)))\n",
    "    last_frame_sqr_loss.append(sklearn.metrics.mean_squared_error(y_true_last.astype(np.int), x_last.astype(np.int)))\n",
    "    model_sqr_loss.append(sklearn.metrics.mean_squared_error(y_true_last.astype(np.int), y_pred_last.astype(np.int)))\n",
    "    if RAD_id_counter % 10 == 0:\n",
    "        print('RAD_id_counter=%5d\\t\\tIt takes %.2f' % (RAD_id_counter, time.time() - start_time))\n",
    "model_abs_loss = np.array(model_abs_loss)\n",
    "last_frame_abs_loss = np.array(last_frame_abs_loss)\n",
    "model_sqr_loss = np.array(model_sqr_loss)\n",
    "last_frame_sqr_loss = np.array(last_frame_sqr_loss)\n",
    "print('     model_abs_loss=%.7f' % model_abs_loss.mean())\n",
    "print('last_frame_abs_loss=%.7f' % last_frame_abs_loss.mean())\n",
    "print('     model_sqr_loss=%.7f' % model_sqr_loss.mean())\n",
    "print('last_frame_sqr_loss=%.7f' % last_frame_sqr_loss.mean())\n",
    "print(time.strftime('It took  %H:%M:%S', time.gmtime(time.time() - start_time)))\n",
    "print(time.strftime(\"end time: %Y-%m-%d %H:%M:%S\", time.localtime()))"
   ]
  },
  {
   "cell_type": "code",
   "execution_count": null,
   "metadata": {},
   "outputs": [],
   "source": [
    "np.where(temp_matrix==255, 0, temp_matrix)"
   ]
  },
  {
   "cell_type": "code",
   "execution_count": null,
   "metadata": {},
   "outputs": [],
   "source": [
    "a = np.array(PIL.Image.open(\"C:\\\\Users\\\\Administrator\\\\Downloads\\\\Downloads\\\\[20180919] SRAD2018_Test_2\\\\%s\\\\%s_%03d.png\" % (RAD_id, RAD_id, 30))).astype(np.int8)"
   ]
  },
  {
   "cell_type": "code",
   "execution_count": null,
   "metadata": {},
   "outputs": [],
   "source": [
    "sigmaX = 100\n",
    "kernel_size = 51"
   ]
  },
  {
   "cell_type": "code",
   "execution_count": null,
   "metadata": {
    "scrolled": true
   },
   "outputs": [],
   "source": [
    "start_time = time.time()\n",
    "for counter, RAD_id in enumerate(RAD_id_submit_list):\n",
    "    temp_matrix = np.array(PIL.Image.open(\"C:\\\\Users\\\\Administrator\\\\Downloads\\\\Downloads\\\\[20180919] SRAD2018_Test_2\\\\%s\\\\%s_%03d.png\" % (RAD_id, RAD_id, 30))).astype(np.int8)\n",
    "#     plt.imshow(temp_matrix, cmap=cm.gist_ncar_r)\n",
    "#     plt.show()\n",
    "    result = cv2.GaussianBlur(temp_matrix.astype(np.float64), (kernel_size, kernel_size), sigmaX)\n",
    "    result = PIL.Image.fromarray(temp_matrix.astype(np.uint8))\n",
    "    if not os.path.exists(\"C:\\SRAD2018\\SRAD2018_Test_Output\\%s\" % RAD_id):\n",
    "        os.makedirs(\"C:\\SRAD2018\\SRAD2018_Test_Output\\%s\" % RAD_id)\n",
    "    for k in range(1, 7):\n",
    "        result.save(\"C:\\SRAD2018\\SRAD2018_Test_Output\\%s\\%s_f%03d.png\" % (RAD_id, RAD_id, k))\n",
    "    if counter % 100 == 0:\n",
    "        print(counter, time.time()-start_time)"
   ]
  },
  {
   "cell_type": "code",
   "execution_count": null,
   "metadata": {},
   "outputs": [],
   "source": [
    "a = np.zeros((100,100))"
   ]
  },
  {
   "cell_type": "code",
   "execution_count": null,
   "metadata": {},
   "outputs": [],
   "source": [
    "cv2.GaussianBlur(temp_matrix.astype(np.float64), (3, 3), 0)"
   ]
  },
  {
   "cell_type": "code",
   "execution_count": null,
   "metadata": {},
   "outputs": [],
   "source": [
    "a.dtype"
   ]
  },
  {
   "cell_type": "code",
   "execution_count": null,
   "metadata": {},
   "outputs": [],
   "source": []
  }
 ],
 "metadata": {
  "kernelspec": {
   "display_name": "Python 3",
   "language": "python",
   "name": "python3"
  },
  "language_info": {
   "codemirror_mode": {
    "name": "ipython",
    "version": 3
   },
   "file_extension": ".py",
   "mimetype": "text/x-python",
   "name": "python",
   "nbconvert_exporter": "python",
   "pygments_lexer": "ipython3",
   "version": "3.6.5"
  }
 },
 "nbformat": 4,
 "nbformat_minor": 2
}
