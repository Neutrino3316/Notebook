{
 "cells": [
  {
   "cell_type": "code",
   "execution_count": 1,
   "metadata": {},
   "outputs": [],
   "source": [
    "import os\n",
    "import numpy as np\n",
    "import pandas as pd\n",
    "np.random.seed(123)\n",
    "from six.moves import cPickle\n",
    "import PIL\n",
    "import matplotlib.pyplot as plt\n",
    "from matplotlib import cm\n",
    "import time\n",
    "import multiprocessing\n",
    "import random\n",
    "import sklearn\n",
    "from sklearn import metrics\n",
    "import seaborn as sns\n",
    "import cv2\n",
    "import skimage\n",
    "from skimage import restoration\n",
    "import copy\n",
    "import seaborn as sns"
   ]
  },
  {
   "cell_type": "code",
   "execution_count": 2,
   "metadata": {},
   "outputs": [
    {
     "name": "stdout",
     "output_type": "stream",
     "text": [
      "8000\n",
      "50000\n"
     ]
    }
   ],
   "source": [
    "RAD_id_submit_list = os.listdir(\"C:\\\\Users\\\\Administrator\\\\Downloads\\\\Downloads\\\\[20180919] SRAD2018_Test_2\")\n",
    "print(len(RAD_id_submit_list))\n",
    "raw_RAD_id_list = os.listdir(\"C:\\\\Users\\\\Administrator\\\\Downloads\\\\Downloads\\\\SRAD2018_train\")\n",
    "print(len(raw_RAD_id_list))"
   ]
  },
  {
   "cell_type": "code",
   "execution_count": 3,
   "metadata": {},
   "outputs": [],
   "source": [
    "def check_RAD_id(RAD_id):\n",
    "#     return RAD_id\n",
    "    mean_list = []\n",
    "    for k in range(61):\n",
    "        mean_list.append(np.array(PIL.Image.open('C:\\\\Users\\\\Administrator\\\\Downloads\\\\Downloads\\\\SRAD2018_train\\\\%s\\\\%s_%03d.png'\n",
    "                         % (RAD_id, RAD_id, k))).astype(np.int8).ravel().mean())\n",
    "    mean_list = np.array(mean_list)\n",
    "    if mean_list.mean() < -0.5:\n",
    "        return None\n",
    "    for k in range(59):\n",
    "        if abs(mean_list[k] + mean_list[k + 2] - 2 * mean_list[k + 1]) > 2:\n",
    "            return None\n",
    "    return RAD_id"
   ]
  },
  {
   "cell_type": "code",
   "execution_count": null,
   "metadata": {},
   "outputs": [
    {
     "name": "stdout",
     "output_type": "stream",
     "text": [
      "start time: 2018-10-05 13:54:23\n"
     ]
    }
   ],
   "source": [
    "pool = multiprocessing.Pool()\n",
    "start_time = time.time()\n",
    "print(time.strftime('start time: %Y-%m-%d %H:%M:%S', time.localtime()))\n",
    "# map(check_RAD_id, raw_RAD_id_list[:100])\n",
    "# print(time.strftime('start time: %Y-%m-%d %H:%M:%S', time.localtime()))\n",
    "RAD_id_train_list = list(pool.map(check_RAD_id, raw_RAD_id_list))\n",
    "RAD_id_train_list = [x for x in RAD_id_train_list if x is not None]\n",
    "print(time.strftime('end time: %Y-%m-%d %H:%M:%S', time.localtime()))\n",
    "print(time.strftime('%H:%M:%S', time.gmtime(time.time() - start_time)))\n",
    "print(len(RAD_id_list))"
   ]
  },
  {
   "cell_type": "code",
   "execution_count": null,
   "metadata": {},
   "outputs": [],
   "source": [
    "image_scalar = 80\n",
    "vmin = -1\n",
    "vmax = 0.6 * image_scalar"
   ]
  },
  {
   "cell_type": "code",
   "execution_count": null,
   "metadata": {},
   "outputs": [],
   "source": [
    "for counter, RAD_id in enumerate(RAD_id_train_list[-2:]):\n",
    "    for i in range(0, 61, 5):\n",
    "        temp_matrix = np.array(PIL.Image.open(\"C:\\\\Users\\\\Administrator\\\\Downloads\\\\Downloads\\\\SRAD2018_train\\\\%s\\\\%s_%03d.png\" % (RAD_id, RAD_id, i))).astype(np.int8)\n",
    "        print(i)\n",
    "        plt.imshow(temp_matrix, cmap=cm.gist_ncar_r, vmin=vmin, vmax=vmax)\n",
    "        plt.show()\n",
    "    temp_matrix_old = np.array(PIL.Image.open(\"C:\\\\Users\\\\Administrator\\\\Downloads\\\\Downloads\\\\SRAD2018_train\\\\%s\\\\%s_%03d.png\" % (RAD_id, RAD_id, 0))).astype(np.int8)\n",
    "    temp_matrix_new = np.array(PIL.Image.open(\"C:\\\\Users\\\\Administrator\\\\Downloads\\\\Downloads\\\\SRAD2018_train\\\\%s\\\\%s_%03d.png\" % (RAD_id, RAD_id, 1))).astype(np.int8)\n"
   ]
  },
  {
   "cell_type": "code",
   "execution_count": null,
   "metadata": {},
   "outputs": [],
   "source": [
    "plt.imshow(temp_matrix_old, cmap=cm.gist_ncar_r, vmin=vmin, vmax=vmax)\n",
    "plt.show()\n",
    "plt.imshow(temp_matrix_new, cmap=cm.gist_ncar_r, vmin=vmin, vmax=vmax)\n",
    "plt.show()"
   ]
  },
  {
   "cell_type": "code",
   "execution_count": null,
   "metadata": {},
   "outputs": [],
   "source": []
  }
 ],
 "metadata": {
  "kernelspec": {
   "display_name": "Python 3",
   "language": "python",
   "name": "python3"
  },
  "language_info": {
   "codemirror_mode": {
    "name": "ipython",
    "version": 3
   },
   "file_extension": ".py",
   "mimetype": "text/x-python",
   "name": "python",
   "nbconvert_exporter": "python",
   "pygments_lexer": "ipython3",
   "version": "3.6.5"
  }
 },
 "nbformat": 4,
 "nbformat_minor": 2
}
