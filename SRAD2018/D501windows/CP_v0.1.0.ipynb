{
 "cells": [
  {
   "cell_type": "markdown",
   "metadata": {},
   "source": [
    "# SRAD2018_submit_Neutrino_CP_18.09.25.01.13"
   ]
  },
  {
   "cell_type": "code",
   "execution_count": 1,
   "metadata": {},
   "outputs": [],
   "source": [
    "import os\n",
    "import numpy as np\n",
    "import pandas as pd\n",
    "np.random.seed(123)\n",
    "from six.moves import cPickle\n",
    "import PIL\n",
    "import matplotlib.pyplot as plt\n",
    "from matplotlib import cm\n",
    "import time\n",
    "import multiprocessing\n",
    "import random\n",
    "import sklearn\n",
    "from sklearn import metrics\n",
    "import seaborn as sns\n",
    "import cv2\n",
    "import skimage\n",
    "from skimage import restoration\n",
    "import copy"
   ]
  },
  {
   "cell_type": "code",
   "execution_count": 2,
   "metadata": {},
   "outputs": [
    {
     "name": "stdout",
     "output_type": "stream",
     "text": [
      "8000\n"
     ]
    }
   ],
   "source": [
    "RAD_id_submit_list = os.listdir(\"C:\\\\Users\\\\Administrator\\\\Downloads\\\\Downloads\\\\[20180919] SRAD2018_Test_2\")\n",
    "print(len(RAD_id_submit_list))"
   ]
  },
  {
   "cell_type": "code",
   "execution_count": 3,
   "metadata": {},
   "outputs": [
    {
     "data": {
      "image/png": "[encoded data removed]",
      "text/plain": [
       "<Figure size 432x288 with 1 Axes>"
      ]
     },
     "metadata": {},
     "output_type": "display_data"
    }
   ],
   "source": [
    "RAD_id = RAD_id_submit_list[0]\n",
    "temp_matrix = np.array(PIL.Image.open(\"C:\\\\Users\\\\Administrator\\\\Downloads\\\\Downloads\\\\[20180919] SRAD2018_Test_2\\\\%s\\\\%s_%03d.png\" % (RAD_id, RAD_id, 30))).astype(np.int8)\n",
    "plt.imshow(temp_matrix, cmap=cm.gist_ncar_r)\n",
    "plt.show()\n",
    "result = PIL.Image.fromarray(temp_matrix.astype(np.uint8))\n",
    "if not os.path.exists(\"C:\\SRAD2018\\SRAD2018_Test_Output\\%s\" % RAD_id):\n",
    "    os.makedirs(\"C:\\SRAD2018\\SRAD2018_Test_Output\\%s\" % RAD_id)\n",
    "for k in range(1, 7):\n",
    "    result.save(\"C:\\SRAD2018\\SRAD2018_Test_Output\\%s\\%s_f%03d.png\" % (RAD_id, RAD_id, k))"
   ]
  },
  {
   "cell_type": "code",
   "execution_count": 4,
   "metadata": {},
   "outputs": [],
   "source": [
    "a = np.array(PIL.Image.open(\"C:\\\\Users\\\\Administrator\\\\Downloads\\\\Downloads\\\\[20180919] SRAD2018_Test_2\\\\%s\\\\%s_%03d.png\" % (RAD_id, RAD_id, 30))).astype(np.int8)"
   ]
  },
  {
   "cell_type": "code",
   "execution_count": 5,
   "metadata": {},
   "outputs": [],
   "source": [
    "sigmaX = 100\n",
    "kernel_size = 51"
   ]
  },
  {
   "cell_type": "code",
   "execution_count": 18,
   "metadata": {
    "scrolled": true
   },
   "outputs": [
    {
     "name": "stdout",
     "output_type": "stream",
     "text": [
      "0 0.0747690200805664\n",
      "100 4.925887584686279\n",
      "200 10.055294275283813\n",
      "300 14.852730989456177\n",
      "400 20.0618736743927\n",
      "500 23.90778684616089\n",
      "600 28.62128472328186\n",
      "700 33.67494511604309\n",
      "800 38.99089050292969\n",
      "900 44.97497057914734\n",
      "1000 51.48565626144409\n",
      "1100 58.53290414810181\n",
      "1200 62.0964834690094\n",
      "1300 65.72485947608948\n",
      "1400 69.77908515930176\n",
      "1500 74.22230124473572\n",
      "1600 79.97098064422607\n",
      "1700 84.83318638801575\n",
      "1800 90.08734130859375\n",
      "1900 95.47508978843689\n",
      "2000 101.90486741065979\n",
      "2100 107.3484296798706\n",
      "2200 112.00906658172607\n",
      "2300 116.12109971046448\n",
      "2400 119.58595967292786\n",
      "2500 123.28221201896667\n",
      "2600 127.11024141311646\n",
      "2700 131.24825072288513\n",
      "2800 135.19478940963745\n",
      "2900 139.42857384681702\n",
      "3000 143.5845925807953\n",
      "3100 148.01486134529114\n",
      "3200 151.90462613105774\n",
      "3300 155.3337960243225\n",
      "3400 158.745774269104\n",
      "3500 163.79951238632202\n",
      "3600 168.81122183799744\n",
      "3700 173.1507351398468\n",
      "3800 177.00651812553406\n",
      "3900 181.77485418319702\n",
      "4000 187.01300072669983\n",
      "4100 192.80661845207214\n",
      "4200 198.03786039352417\n",
      "4300 203.6528799533844\n",
      "4400 209.77365136146545\n",
      "4500 213.15072178840637\n",
      "4600 217.1261065006256\n",
      "4700 222.19465923309326\n",
      "4800 227.33804059028625\n",
      "4900 233.63034510612488\n",
      "5000 240.60772347450256\n",
      "5100 244.94926929473877\n",
      "5200 249.41435432434082\n",
      "5300 253.42864847183228\n",
      "5400 256.9692454338074\n",
      "5500 260.3741760253906\n",
      "5600 264.20614886283875\n",
      "5700 268.62042355537415\n",
      "5800 272.9174280166626\n",
      "5900 277.7765083312988\n",
      "6000 282.53082728385925\n",
      "6100 286.98210883140564\n",
      "6200 290.89271235466003\n",
      "6300 294.8402090072632\n",
      "6400 298.842542886734\n",
      "6500 305.06071376800537\n",
      "6600 311.02186012268066\n",
      "6700 315.71052289009094\n",
      "6800 322.00577092170715\n",
      "6900 327.6598365306854\n",
      "7000 334.73509097099304\n",
      "7100 339.30292105674744\n",
      "7200 343.57378792762756\n",
      "7300 348.3042492866516\n",
      "7400 353.91937041282654\n",
      "7500 358.6307771205902\n",
      "7600 363.8837606906891\n",
      "7700 368.9643235206604\n",
      "7800 374.9633710384369\n",
      "7900 379.9830150604248\n"
     ]
    }
   ],
   "source": [
    "start_time = time.time()\n",
    "for counter, RAD_id in enumerate(RAD_id_submit_list):\n",
    "    temp_matrix = np.array(PIL.Image.open(\"C:\\\\Users\\\\Administrator\\\\Downloads\\\\Downloads\\\\[20180919] SRAD2018_Test_2\\\\%s\\\\%s_%03d.png\" % (RAD_id, RAD_id, 30))).astype(np.int8)\n",
    "#     plt.imshow(temp_matrix, cmap=cm.gist_ncar_r)\n",
    "#     plt.show()\n",
    "    result = cv2.GaussianBlur(temp_matrix.astype(np.float64), (kernel_size, kernel_size), sigmaX)\n",
    "    result = PIL.Image.fromarray(temp_matrix.astype(np.uint8))\n",
    "    if not os.path.exists(\"C:\\SRAD2018\\SRAD2018_Test_Output\\%s\" % RAD_id):\n",
    "        os.makedirs(\"C:\\SRAD2018\\SRAD2018_Test_Output\\%s\" % RAD_id)\n",
    "    for k in range(1, 7):\n",
    "        result.save(\"C:\\SRAD2018\\SRAD2018_Test_Output\\%s\\%s_f%03d.png\" % (RAD_id, RAD_id, k))\n",
    "    if counter % 100 == 0:\n",
    "        print(counter, time.time()-start_time)"
   ]
  },
  {
   "cell_type": "code",
   "execution_count": 13,
   "metadata": {},
   "outputs": [],
   "source": [
    "a = np.zeros((100,100))"
   ]
  },
  {
   "cell_type": "code",
   "execution_count": 16,
   "metadata": {},
   "outputs": [
    {
     "data": {
      "text/plain": [
       "array([[-1., -1., -1., ..., -1., -1., -1.],\n",
       "       [-1., -1., -1., ..., -1., -1., -1.],\n",
       "       [-1., -1., -1., ..., -1., -1., -1.],\n",
       "       ...,\n",
       "       [-1., -1., -1., ..., -1., -1., -1.],\n",
       "       [-1., -1., -1., ..., -1., -1., -1.],\n",
       "       [-1., -1., -1., ..., -1., -1., -1.]])"
      ]
     },
     "execution_count": 16,
     "metadata": {},
     "output_type": "execute_result"
    }
   ],
   "source": [
    "cv2.GaussianBlur(temp_matrix.astype(np.float64), (3, 3), 0)"
   ]
  },
  {
   "cell_type": "code",
   "execution_count": 14,
   "metadata": {},
   "outputs": [
    {
     "data": {
      "text/plain": [
       "dtype('float64')"
      ]
     },
     "execution_count": 14,
     "metadata": {},
     "output_type": "execute_result"
    }
   ],
   "source": [
    "a.dtype"
   ]
  },
  {
   "cell_type": "code",
   "execution_count": null,
   "metadata": {},
   "outputs": [],
   "source": []
  }
 ],
 "metadata": {
  "kernelspec": {
   "display_name": "Python 3",
   "language": "python",
   "name": "python3"
  },
  "language_info": {
   "codemirror_mode": {
    "name": "ipython",
    "version": 3
   },
   "file_extension": ".py",
   "mimetype": "text/x-python",
   "name": "python",
   "nbconvert_exporter": "python",
   "pygments_lexer": "ipython3",
   "version": "3.6.5"
  }
 },
 "nbformat": 4,
 "nbformat_minor": 2
}
