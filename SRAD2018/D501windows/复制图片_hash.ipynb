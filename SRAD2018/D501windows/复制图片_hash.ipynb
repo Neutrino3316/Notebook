{
 "cells": [
  {
   "cell_type": "code",
   "execution_count": 1,
   "metadata": {},
   "outputs": [],
   "source": [
    "from IPython.display import display\n",
    "from IPython.display import clear_output\n",
    "import PIL\n",
    "import numpy as np\n",
    "import time\n",
    "import os\n",
    "from matplotlib.pyplot import imshow\n",
    "%matplotlib inline\n",
    "import matplotlib.pyplot as plt\n",
    "import gc\n",
    "import sys\n",
    "from matplotlib import cm\n",
    "import seaborn as sns\n",
    "import hashlib"
   ]
  },
  {
   "cell_type": "code",
   "execution_count": 2,
   "metadata": {},
   "outputs": [
    {
     "name": "stdout",
     "output_type": "stream",
     "text": [
      "50000\n",
      "10000\n"
     ]
    }
   ],
   "source": [
    "RAD_id_train_list = os.listdir(\"C:\\\\Users\\\\Administrator\\\\Downloads\\\\Downloads\\\\SRAD2018_train\")\n",
    "print(len(RAD_id_train_list))\n",
    "RAD_id_submit_list = os.listdir(\"C:\\\\Users\\\\Administrator\\\\Downloads\\\\SRAD2018_Test_1\\\\SRAD2018_Test_1\")\n",
    "print(len(RAD_id_submit_list))"
   ]
  },
  {
   "cell_type": "code",
   "execution_count": 3,
   "metadata": {},
   "outputs": [
    {
     "name": "stdout",
     "output_type": "stream",
     "text": [
      "0 RAD_206482404212530\n",
      "1 RAD_206482404212531\n",
      "2 RAD_206482404212532\n",
      "3 RAD_206482404212533\n",
      "4 RAD_206482404212534\n",
      "5 RAD_206482404212535\n",
      "6 RAD_206482404212536\n",
      "7 RAD_206482404212537\n",
      "8 RAD_206482404212538\n",
      "9 RAD_206482404212539\n"
     ]
    }
   ],
   "source": [
    "for counter, RAD_id in enumerate(RAD_id_train_list[:10]):\n",
    "    print(counter, RAD_id)"
   ]
  },
  {
   "cell_type": "code",
   "execution_count": 4,
   "metadata": {},
   "outputs": [
    {
     "name": "stdout",
     "output_type": "stream",
     "text": [
      "0 0.0\n",
      "1000 2.998952865600586\n",
      "2000 5.838388919830322\n",
      "3000 8.94106650352478\n",
      "4000 12.022827863693237\n",
      "5000 15.22828483581543\n",
      "6000 18.230262279510498\n",
      "7000 21.19031858444214\n",
      "8000 24.425695657730103\n",
      "9000 27.388746976852417\n"
     ]
    }
   ],
   "source": [
    "hash_table = {}\n",
    "start_time = time.time()\n",
    "for counter, RAD_id in enumerate(RAD_id_submit_list):\n",
    "    if counter % 1000 == 0:\n",
    "        print(counter, time.time()-start_time)\n",
    "    for i in range(31):\n",
    "        with open(\"C:\\\\Users\\\\Administrator\\\\Downloads\\\\SRAD2018_Test_1\\\\SRAD2018_Test_1\\%s\\%s_%03d.png\" % (RAD_id, RAD_id, i), 'rb') as afile:\n",
    "            buf = afile.read()\n",
    "            hasher = hashlib.md5()\n",
    "            hasher.update(buf)\n",
    "        if hasher.hexdigest() in hash_table:\n",
    "            hash_table[hasher.hexdigest()].append([RAD_id, i])\n",
    "        else:\n",
    "            hash_table[hasher.hexdigest()] = [[RAD_id, i]]"
   ]
  },
  {
   "cell_type": "code",
   "execution_count": 5,
   "metadata": {
    "scrolled": true
   },
   "outputs": [
    {
     "name": "stdout",
     "output_type": "stream",
     "text": [
      "0 0.0009667873382568359\n",
      "200 9.093656539916992\n",
      "400 18.700026512145996\n",
      "600 28.061969757080078\n",
      "800 36.037646532058716\n",
      "1000 43.090917348861694\n",
      "1200 50.11125087738037\n",
      "1400 56.13817572593689\n",
      "1600 64.19161820411682\n",
      "1800 73.69032144546509\n",
      "2000 80.74450302124023\n",
      "2200 89.2258288860321\n",
      "2400 100.31617903709412\n",
      "2600 107.78318929672241\n",
      "2800 116.94668936729431\n",
      "3000 125.66042232513428\n",
      "3200 133.25211906433105\n",
      "3400 149.4298734664917\n",
      "3600 160.47335958480835\n",
      "3800 168.211656332016\n",
      "4000 179.10753107070923\n",
      "4200 189.90463781356812\n",
      "4400 200.22305130958557\n",
      "4600 214.74722123146057\n",
      "4800 222.8974585533142\n",
      "5000 231.23414254188538\n",
      "5200 241.75800800323486\n",
      "5400 250.4826819896698\n",
      "5600 258.3357148170471\n",
      "5800 268.1923351287842\n",
      "6000 279.68763065338135\n",
      "6200 289.66695046424866\n",
      "6400 298.70278811454773\n",
      "6600 305.34600496292114\n",
      "6800 314.256183385849\n",
      "7000 328.1949462890625\n",
      "7200 339.70614409446716\n",
      "7400 351.0238847732544\n",
      "7600 359.5710349082947\n",
      "7800 367.8768301010132\n",
      "8000 378.1683437824249\n",
      "8200 390.7377815246582\n",
      "8400 400.6722483634949\n",
      "8600 409.796906709671\n",
      "8800 418.23035764694214\n",
      "9000 426.0644118785858\n",
      "9200 437.9815516471863\n",
      "9400 447.398380279541\n",
      "9600 456.4342188835144\n",
      "9800 467.64925026893616\n"
     ]
    }
   ],
   "source": [
    "start_time = time.time()\n",
    "for counter, RAD_id_x in enumerate(RAD_id_submit_list):\n",
    "    if counter % 200 == 0:\n",
    "        print(counter, time.time()-start_time)\n",
    "    with open(\"C:\\\\Users\\\\Administrator\\\\Downloads\\\\SRAD2018_Test_1\\\\SRAD2018_Test_1\\\\%s\\\\%s_%03d.png\" % (RAD_id_x, RAD_id_x, 30), 'rb') as afile:\n",
    "        buf = afile.read()\n",
    "        hasher = hashlib.md5()\n",
    "        hasher.update(buf)\n",
    "#     print(hasher.hexdigest())\n",
    "#     print(hash_table[hasher.hexdigest()])\n",
    "    for item in hash_table[hasher.hexdigest()]:\n",
    "        if item[1] == 0:\n",
    "            RAD_id_y = item[0]\n",
    "#             print(RAD_id_y)\n",
    "            for k in range(6):\n",
    "                if os.path.isfile(\"C:\\\\Users\\\\Administrator\\\\Downloads\\\\SRAD2018_Test_1\\\\SRAD2018_Test_1\\\\%s\\\\%s_%03d.png\" % (RAD_id_y, RAD_id_y, (k + 1) * 5)):\n",
    "                    temp_matrix = np.array(PIL.Image.open(\"C:\\\\Users\\\\Administrator\\\\Downloads\\\\SRAD2018_Test_1\\\\SRAD2018_Test_1\\\\%s\\\\%s_%03d.png\" % (RAD_id_y, RAD_id_y, (k + 1) * 5))).astype(np.int8)\n",
    "                else:\n",
    "                    temp_matrix = np.array(PIL.Image.open(\"C:\\\\Users\\\\Administrator\\\\Downloads\\\\SRAD2018_Test_1\\\\SRAD2018_Test_1\\\\%s\\\\%s_%03d.png\" % (RAD_id_x, RAD_id_x, 30))).astype(np.int8)\n",
    "#                 plt.imshow(temp_matrix, cmap=cm.gist_ncar_r)\n",
    "#                 plt.show()\n",
    "                if not os.path.exists(\"C:\\\\Users\\\\Administrator\\\\Downloads\\\\Downloads\\\\SRAD2018_submit\\\\%s\" % RAD_id_x):\n",
    "                    os.makedirs(\"C:\\\\Users\\\\Administrator\\\\Downloads\\\\Downloads\\\\SRAD2018_submit\\\\%s\" % RAD_id_x)\n",
    "                result = PIL.Image.fromarray(temp_matrix.astype(np.uint8))\n",
    "                result.save(\"C:\\\\Users\\\\Administrator\\\\Downloads\\\\Downloads\\\\SRAD2018_submit\\\\%s\\\\%s_f%03d.png\" % (RAD_id_x, RAD_id_x, k + 1))\n",
    "            break\n",
    "    else:\n",
    "        for k in range(6):\n",
    "            temp_matrix = np.array(PIL.Image.open(\"C:\\\\Users\\\\Administrator\\\\Downloads\\\\SRAD2018_Test_1\\\\SRAD2018_Test_1\\\\%s\\\\%s_%03d.png\" % (RAD_id_x, RAD_id_x, 30))).astype(np.int8)\n",
    "#             plt.imshow(temp_matrix, cmap=cm.gist_ncar_r)\n",
    "#             plt.show()\n",
    "            if not os.path.exists(\"C:\\\\Users\\\\Administrator\\\\Downloads\\\\Downloads\\\\SRAD2018_submit\\\\%s\" % RAD_id_x):\n",
    "                os.makedirs(\"C:\\\\Users\\\\Administrator\\\\Downloads\\\\Downloads\\\\SRAD2018_submit\\\\%s\" % RAD_id_x)\n",
    "            result = PIL.Image.fromarray(temp_matrix.astype(np.uint8))\n",
    "            result.save(\"C:\\\\Users\\\\Administrator\\\\Downloads\\\\Downloads\\\\SRAD2018_submit\\\\%s\\\\%s_f%03d.png\" % (RAD_id_x, RAD_id_x, k + 1))"
   ]
  },
  {
   "cell_type": "code",
   "execution_count": null,
   "metadata": {},
   "outputs": [],
   "source": []
  },
  {
   "cell_type": "code",
   "execution_count": null,
   "metadata": {},
   "outputs": [],
   "source": []
  },
  {
   "cell_type": "code",
   "execution_count": null,
   "metadata": {},
   "outputs": [],
   "source": []
  },
  {
   "cell_type": "code",
   "execution_count": null,
   "metadata": {
    "scrolled": true
   },
   "outputs": [],
   "source": [
    "for counter, RAD_id_x in enumerate(RAD_id_submit_list[:1]):\n",
    "    for k in range(6):\n",
    "        if k == 0:\n",
    "            with open(\"C:\\\\Users\\\\Administrator\\\\Downloads\\\\SRAD2018_Test_1\\\\SRAD2018_Test_1\\\\%s\\\\%s_%03d.png\" % (RAD_id_x, RAD_id_x, 30 + k * 5), 'rb') as afile:\n",
    "                buf = afile.read()\n",
    "                hasher = hashlib.md5()\n",
    "                hasher.update(buf)\n",
    "        else:\n",
    "            with open(\"C:\\\\Users\\\\Administrator\\\\Downloads\\\\Downloads\\\\SRAD2018_submit_18.09.08\\\\%s\\\\%s_f%03d.png\" % (RAD_id_x, RAD_id_x, k), 'rb') as afile:\n",
    "                buf = afile.read()\n",
    "                hasher = hashlib.md5()\n",
    "                hasher.update(buf)\n",
    "        print(hasher.hexdigest())\n",
    "        print(hash_table[hasher.hexdigest()])\n",
    "        for item in hash_table[hasher.hexdigest()]:\n",
    "            if item[1] == 0:\n",
    "                RAD_id_y = item[0]\n",
    "                print(RAD_id_y)\n",
    "                if not os.path.exists(\"C:\\\\Users\\\\Administrator\\\\Downloads\\\\Downloads\\\\SRAD2018_submit_18.09.08\\\\%s\" % RAD_id_x):\n",
    "                    os.makedirs(\"C:\\\\Users\\\\Administrator\\\\Downloads\\\\Downloads\\\\SRAD2018_submit_18.09.08\\\\%s\" % RAD_id_x)\n",
    "                temp_matrix = np.array(PIL.Image.open(\"C:\\\\Users\\\\Administrator\\\\Downloads\\\\SRAD2018_Test_1\\\\SRAD2018_Test_1\\\\%s\\\\%s_%03d.png\" % (RAD_id_y, RAD_id_y, 5))).astype(np.int8)\n",
    "                plt.imshow(temp_matrix, cmap=cm.gist_ncar_r)\n",
    "                plt.show()\n",
    "                result = PIL.Image.fromarray(temp_matrix.astype(np.uint8))\n",
    "                result.save(\"C:\\\\Users\\\\Administrator\\\\Downloads\\\\Downloads\\\\SRAD2018_submit_18.09.08\\\\%s\\\\%s_f%03d.png\" % (RAD_id_x, RAD_id_x, k + 1))\n",
    "                break"
   ]
  },
  {
   "cell_type": "code",
   "execution_count": null,
   "metadata": {},
   "outputs": [],
   "source": [
    "os.path.isfile(\"C:\\\\Users\\\\Administrator\\\\Downloads\\\\SRAD2018_Test_1\\\\SRAD2018_Test_1\\\\RAD_296682434212545\\\\RAD_296682434212545_%03d.png\" % ( 0))"
   ]
  },
  {
   "cell_type": "code",
   "execution_count": null,
   "metadata": {},
   "outputs": [],
   "source": [
    "BLOCKSIZE = 65536\n",
    "RAD_id = RAD_id_train_list[0]\n",
    "with open(\"C:\\\\Users\\\\Administrator\\\\Downloads\\\\Downloads\\\\SRAD2018_train\\%s\\%s_%03d.png\" % (RAD_id, RAD_id, 30), 'rb') as afile:\n",
    "    for chunk in iter(lambda: afile.read(4096), b\"\"):\n",
    "        hasher.update(chunk)\n",
    "print(hasher.hexdigest())\n",
    "hasher.hexdigest()"
   ]
  },
  {
   "cell_type": "code",
   "execution_count": null,
   "metadata": {},
   "outputs": [],
   "source": [
    "hash_table"
   ]
  },
  {
   "cell_type": "code",
   "execution_count": null,
   "metadata": {},
   "outputs": [],
   "source": [
    "RAD_id = RAD_id_list[0]\n",
    "temp_matrix = np.array(PIL.Image.open(\"D:\\SRAD2018\\SRAD2018_Test_1\\%s\\%s_%03d.png\" % (RAD_id, RAD_id, 30))).astype(np.int8)\n",
    "# plt.imshow(temp_matrix, cmap=cm.gist_ncar_r)\n",
    "# plt.show()\n",
    "result = PIL.Image.fromarray(temp_matrix.astype(np.uint8))\n",
    "if not os.path.exists(\"G:\\SRAD2018\\SRAD2018_Test_Output\\%s\" % RAD_id):\n",
    "    os.makedirs(\"G:\\SRAD2018\\SRAD2018_Test_Output\\%s\" % RAD_id)\n",
    "for k in range(1, 7):\n",
    "    result.save(\"G:\\SRAD2018\\SRAD2018_Test_Output\\%s\\%s_f%03d.png\" % (RAD_id, RAD_id, k))"
   ]
  },
  {
   "cell_type": "code",
   "execution_count": null,
   "metadata": {},
   "outputs": [],
   "source": [
    "start_time = time.time()\n",
    "for counter, RAD_id in enumerate(RAD_id_list):\n",
    "    if counter % 10 == 0:\n",
    "        print(counter, time.time()-start_time)\n",
    "    temp_matrix = np.array(PIL.Image.open(\"D:\\SRAD2018\\SRAD2018_Test_1\\%s\\%s_%03d.png\" % (RAD_id, RAD_id, 30))).astype(np.int8)\n",
    "    # plt.imshow(temp_matrix, cmap=cm.gist_ncar_r)\n",
    "    # plt.show()\n",
    "    result = PIL.Image.fromarray(temp_matrix.astype(np.uint8))\n",
    "    if not os.path.exists(\"G:\\SRAD2018\\SRAD2018_Test_Output\\%s\" % RAD_id):\n",
    "        os.makedirs(\"G:\\SRAD2018\\SRAD2018_Test_Output\\%s\" % RAD_id)\n",
    "    for k in range(1, 7):\n",
    "        result.save(\"G:\\SRAD2018\\SRAD2018_Test_Output\\%s\\%s_f%03d.png\" % (RAD_id, RAD_id, k))"
   ]
  },
  {
   "cell_type": "code",
   "execution_count": null,
   "metadata": {},
   "outputs": [],
   "source": []
  }
 ],
 "metadata": {
  "kernelspec": {
   "display_name": "Python 3",
   "language": "python",
   "name": "python3"
  },
  "language_info": {
   "codemirror_mode": {
    "name": "ipython",
    "version": 3
   },
   "file_extension": ".py",
   "mimetype": "text/x-python",
   "name": "python",
   "nbconvert_exporter": "python",
   "pygments_lexer": "ipython3",
   "version": "3.6.5"
  }
 },
 "nbformat": 4,
 "nbformat_minor": 2
}
