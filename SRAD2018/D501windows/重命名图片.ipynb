{
 "cells": [
  {
   "cell_type": "code",
   "execution_count": 1,
   "metadata": {},
   "outputs": [],
   "source": [
    "from IPython.display import display\n",
    "from IPython.display import clear_output\n",
    "import PIL\n",
    "import numpy as np\n",
    "import time\n",
    "import os\n",
    "from matplotlib.pyplot import imshow\n",
    "%matplotlib inline\n",
    "import matplotlib.pyplot as plt\n",
    "import gc\n",
    "import sys\n",
    "from matplotlib import cm\n",
    "import seaborn as sns\n",
    "import hashlib"
   ]
  },
  {
   "cell_type": "code",
   "execution_count": 5,
   "metadata": {},
   "outputs": [
    {
     "name": "stdout",
     "output_type": "stream",
     "text": [
      "10000\n"
     ]
    }
   ],
   "source": [
    "RAD_id_submit_list = os.listdir(\"C:\\\\Users\\\\Administrator\\\\Downloads\\\\Downloads\\\\SRAD2018_submit_Neutrino_PN_v0.4.1.1_18.09.09.00.49\")\n",
    "print(len(RAD_id_submit_list))"
   ]
  },
  {
   "cell_type": "code",
   "execution_count": 8,
   "metadata": {},
   "outputs": [
    {
     "name": "stdout",
     "output_type": "stream",
     "text": [
      "0 0.007978677749633789\n",
      "1000 1.8690273761749268\n",
      "2000 3.7569525241851807\n",
      "3000 5.7486279010772705\n",
      "4000 7.559788703918457\n",
      "5000 9.545477867126465\n",
      "6000 11.498256206512451\n",
      "7000 13.320384502410889\n",
      "8000 15.279147624969482\n",
      "9000 17.227938652038574\n"
     ]
    }
   ],
   "source": [
    "start_time = time.time()\n",
    "for counter, RAD_id in enumerate(RAD_id_submit_list):\n",
    "    for i in reversed(range(6)):\n",
    "        os.rename(\"C:\\\\Users\\\\Administrator\\\\Downloads\\\\Downloads\\\\SRAD2018_submit_Neutrino_PN_v0.4.1.1_18.09.09.00.49\\\\%s\\\\%s_f%03d.png\" % (RAD_id, RAD_id, i),\n",
    "                  \"C:\\\\Users\\\\Administrator\\\\Downloads\\\\Downloads\\\\SRAD2018_submit_Neutrino_PN_v0.4.1.1_18.09.09.00.49\\\\%s\\\\%s_f%03d.png\" % (RAD_id, RAD_id, i + 1))\n",
    "    if counter % 1000 == 0:\n",
    "        print(counter, time.time()-start_time)"
   ]
  },
  {
   "cell_type": "code",
   "execution_count": null,
   "metadata": {},
   "outputs": [],
   "source": []
  }
 ],
 "metadata": {
  "kernelspec": {
   "display_name": "Python 3",
   "language": "python",
   "name": "python3"
  },
  "language_info": {
   "codemirror_mode": {
    "name": "ipython",
    "version": 3
   },
   "file_extension": ".py",
   "mimetype": "text/x-python",
   "name": "python",
   "nbconvert_exporter": "python",
   "pygments_lexer": "ipython3",
   "version": "3.6.5"
  }
 },
 "nbformat": 4,
 "nbformat_minor": 2
}
