{
 "cells": [
  {
   "cell_type": "code",
   "execution_count": 1,
   "metadata": {},
   "outputs": [],
   "source": [
    "import numpy as np\n",
    "import itertools\n",
    "import time"
   ]
  },
  {
   "cell_type": "code",
   "execution_count": 2,
   "metadata": {},
   "outputs": [],
   "source": [
    "Ciphertext = \"KCCPKBGUFDPHQTYAVINRRTMVGRKDNBVFDETDGILTXRGUDDKOTFMBPVGEGLTGCKQRACQCWDNAWCRXIZAKFTLEWRPTYCQKYVXCHKFTPONCQQRHJVAJUWETMCMSPKQDYHJVDAHCTRLSVSKCGCZQQDZXGSFRLSWCWSJTBHAFSIASPRJAHKJRJUMVGKMITZHFPDISPZLVLGWTFPLKKEBDPGCEBSHCTJRWXBAFSPEZQNRWXCVYCGAONWDDKACKAWBBIKFTIOVKCGGHJVLNHIFFSQESVYCLACNVRWBBIREPBBVFEXOSCDYGZWPFDTKFQIYCWHJVLNHIQIBTKHJVNPIST\""
   ]
  },
  {
   "cell_type": "code",
   "execution_count": 3,
   "metadata": {
    "scrolled": true
   },
   "outputs": [
    {
     "name": "stdout",
     "output_type": "stream",
     "text": [
      "1 24\n",
      "2 5\n",
      "3 2\n",
      "4 1\n",
      "5 1\n",
      "6 2\n",
      "7 1\n",
      "8 1\n",
      "9 1\n",
      "10 1\n",
      "11 1\n",
      "12 1\n",
      "13 1\n",
      "14 1\n",
      "15 1\n",
      "16 1\n",
      "17 1\n",
      "18 1\n",
      "19 1\n",
      "20 1\n",
      "21 1\n",
      "22 1\n",
      "23 1\n",
      "24 1\n"
     ]
    }
   ],
   "source": [
    "for k in range(1, 25):\n",
    "    temp_dict = {}\n",
    "    for i in range(len(Ciphertext) // k):\n",
    "        if Ciphertext[i*k:(i+1)*k] in temp_dict:\n",
    "            temp_dict[Ciphertext[i*k:(i+1)*k]] += 1\n",
    "        else:\n",
    "            temp_dict[Ciphertext[i*k:(i+1)*k]] = 1\n",
    "#         print(Ciphertext[i*k:(i+1)*k])\n",
    "    print(k, np.array(list(temp_dict.values())).max())"
   ]
  },
  {
   "cell_type": "code",
   "execution_count": null,
   "metadata": {
    "scrolled": true
   },
   "outputs": [
    {
     "name": "stdout",
     "output_type": "stream",
     "text": [
      "AA: 2018-09-12 01:27:11\n",
      "AAA: 2018-09-12 01:27:11\n",
      "OUQ: 2018-09-12 01:27:14\n",
      "AAAA: 2018-09-12 01:27:15\n",
      "AOUQ: 2018-09-12 01:27:18\n",
      "BDPG: 2018-09-12 01:27:20\n",
      "BSJW: 2018-09-12 01:27:22\n",
      "CHEM: 2018-09-12 01:27:23\n",
      "CVZC: 2018-09-12 01:27:25\n",
      "DKTS: 2018-09-12 01:27:27\n",
      "DZOI: 2018-09-12 01:27:30\n",
      "EOIY: 2018-09-12 01:27:32\n",
      "FDDO: 2018-09-12 01:27:34\n",
      "FRYE: 2018-09-12 01:27:36\n",
      "GGSU: 2018-09-12 01:27:38\n",
      "GVNK: 2018-09-12 01:27:40\n",
      "HKIA: 2018-09-12 01:27:42\n",
      "HZCQ: 2018-09-12 01:27:44\n",
      "INXG: 2018-09-12 01:27:46\n",
      "JCRW: 2018-09-12 01:27:47\n",
      "JRMM: 2018-09-12 01:27:49\n",
      "KGHC: 2018-09-12 01:27:51\n",
      "KVBS: 2018-09-12 01:27:53\n",
      "LJWI: 2018-09-12 01:27:55\n",
      "LYQY: 2018-09-12 01:27:57\n",
      "MNLO: 2018-09-12 01:27:59\n",
      "NCGE: 2018-09-12 01:28:01\n",
      "NRAU: 2018-09-12 01:28:03\n",
      "OFVK: 2018-09-12 01:28:05\n",
      "OUQA: 2018-09-12 01:28:07\n",
      "PJKQ: 2018-09-12 01:28:09\n",
      "PYFG: 2018-09-12 01:28:10\n",
      "QMZW: 2018-09-12 01:28:12\n",
      "RBUM: 2018-09-12 01:28:14\n",
      "RQPC: 2018-09-12 01:28:16\n",
      "SFJS: 2018-09-12 01:28:18\n",
      "SUEI: 2018-09-12 01:28:20\n",
      "TIYY: 2018-09-12 01:28:22\n",
      "TXTO: 2018-09-12 01:28:24\n",
      "UMOE: 2018-09-12 01:28:26\n",
      "VBIU: 2018-09-12 01:28:28\n",
      "VQDK: 2018-09-12 01:28:30\n",
      "WEYA: 2018-09-12 01:28:32\n",
      "WTSQ: 2018-09-12 01:28:34\n",
      "XING: 2018-09-12 01:28:36\n",
      "XXHW: 2018-09-12 01:28:37\n",
      "YMCM: 2018-09-12 01:28:39\n"
     ]
    }
   ],
   "source": [
    "start_time = time.time()\n",
    "for key_length in range(2, 9):\n",
    "    a_z = ''\n",
    "    for i in range(65, 91):\n",
    "        a_z += chr(i)\n",
    "\n",
    "    Keylist = []\n",
    "    for temp_key in itertools.product(a_z, repeat=key_length):\n",
    "        temp_key = ''.join(temp_key)\n",
    "    #     print(temp_key)\n",
    "        Keylist.append(temp_key)\n",
    "\n",
    "    for counter, Key in enumerate(Keylist):\n",
    "        ans = ''\n",
    "        for i in range(len(Ciphertext)):\n",
    "        #     print(Ciphertext[i], Key[i%2])\n",
    "            a = ord(Ciphertext[i]) + ord(Key[i%2]) - 65  # ord('A')==65\n",
    "            if a > 90:\n",
    "                a -= 26\n",
    "            a += 32  # lower case\n",
    "        #     print(chr(a))\n",
    "            ans += chr(a)\n",
    "        if counter % 10000 == 0:\n",
    "#             print(Key)\n",
    "            print(time.strftime(Key+': %Y-%m-%d %H:%M:%S', time.localtime()))\n",
    "#         if 'ere' in ans:\n",
    "        if ans.count('e') > len(Ciphertext) * 0.08:\n",
    "            print(Key, '\\t\\t', ans)\n",
    "print(time.strftime('%H:%M:%S', time.gmtime(time.time() - start_time)))"
   ]
  },
  {
   "cell_type": "code",
   "execution_count": null,
   "metadata": {},
   "outputs": [],
   "source": [
    "len(Ciphertext) * 0.08"
   ]
  },
  {
   "cell_type": "code",
   "execution_count": null,
   "metadata": {},
   "outputs": [],
   "source": [
    "1/26*2"
   ]
  },
  {
   "cell_type": "code",
   "execution_count": null,
   "metadata": {},
   "outputs": [],
   "source": [
    "ans.count('e')"
   ]
  }
 ],
 "metadata": {
  "kernelspec": {
   "display_name": "Python 3",
   "language": "python",
   "name": "python3"
  },
  "language_info": {
   "codemirror_mode": {
    "name": "ipython",
    "version": 3
   },
   "file_extension": ".py",
   "mimetype": "text/x-python",
   "name": "python",
   "nbconvert_exporter": "python",
   "pygments_lexer": "ipython3",
   "version": "3.6.5"
  }
 },
 "nbformat": 4,
 "nbformat_minor": 2
}
