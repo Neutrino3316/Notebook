{
 "cells": [
  {
   "cell_type": "code",
   "execution_count": 1,
   "metadata": {},
   "outputs": [],
   "source": [
    "import os\n",
    "import shutil\n",
    "import time"
   ]
  },
  {
   "cell_type": "code",
   "execution_count": 7,
   "metadata": {},
   "outputs": [
    {
     "name": "stdout",
     "output_type": "stream",
     "text": [
      "8000\n"
     ]
    }
   ],
   "source": [
    "RAD_id_submit_list = os.listdir(\"C:\\\\Users\\\\Administrator\\\\Downloads\\\\Downloads\\\\[20180919] SRAD2018_Test_2\")\n",
    "print(len(RAD_id_submit_list))"
   ]
  },
  {
   "cell_type": "code",
   "execution_count": 3,
   "metadata": {},
   "outputs": [],
   "source": [
    "# shutil.copyfile(\"test_org.txt\",\"test_copy.txt\")        # copy test_org.txt 为 test_copy.txt 若存在，则覆盖"
   ]
  },
  {
   "cell_type": "code",
   "execution_count": 11,
   "metadata": {
    "scrolled": false
   },
   "outputs": [
    {
     "name": "stdout",
     "output_type": "stream",
     "text": [
      "0 0.013993263244628906\n",
      "1000 3.3923699855804443\n",
      "2000 7.13086199760437\n",
      "3000 10.643503665924072\n",
      "4000 14.13129711151123\n",
      "5000 17.672150135040283\n",
      "6000 21.13291907310486\n",
      "7000 24.805380821228027\n"
     ]
    }
   ],
   "source": [
    "start_time = time.time()\n",
    "for counter, RAD_id in enumerate(RAD_id_submit_list):\n",
    "    os.mkdir(\"C:\\\\Users\\\\Administrator\\\\Downloads\\\\Downloads\\\\SRAD2018_submit_Neutrino_CP_18.09.21.17.49\\\\%s\" % (RAD_id))\n",
    "    for i in reversed(range(6)):\n",
    "        shutil.copyfile(\"C:\\\\Users\\\\Administrator\\\\Downloads\\\\Downloads\\\\[20180919] SRAD2018_Test_2\\\\%s\\\\%s_%03d.png\" % (RAD_id, RAD_id, 30),\n",
    "                        \"C:\\\\Users\\\\Administrator\\\\Downloads\\\\Downloads\\\\SRAD2018_submit_Neutrino_CP_18.09.21.17.49\\\\%s\\\\%s_f%03d.png\" % (RAD_id, RAD_id, i + 1))\n",
    "    if counter % 1000 == 0:\n",
    "        print(counter, time.time()-start_time)"
   ]
  },
  {
   "cell_type": "code",
   "execution_count": null,
   "metadata": {},
   "outputs": [],
   "source": []
  }
 ],
 "metadata": {
  "kernelspec": {
   "display_name": "Python 3",
   "language": "python",
   "name": "python3"
  },
  "language_info": {
   "codemirror_mode": {
    "name": "ipython",
    "version": 3
   },
   "file_extension": ".py",
   "mimetype": "text/x-python",
   "name": "python",
   "nbconvert_exporter": "python",
   "pygments_lexer": "ipython3",
   "version": "3.6.5"
  }
 },
 "nbformat": 4,
 "nbformat_minor": 2
}
