{
 "cells": [
  {
   "cell_type": "code",
   "execution_count": 1,
   "metadata": {},
   "outputs": [
    {
     "data": {
      "text/plain": [
       "2"
      ]
     },
     "execution_count": 1,
     "metadata": {},
     "output_type": "execute_result"
    }
   ],
   "source": [
    "1+1"
   ]
  },
  {
   "cell_type": "code",
   "execution_count": 2,
   "metadata": {},
   "outputs": [],
   "source": [
    "import os\n",
    "import numpy as np\n",
    "import pandas as pd\n",
    "from six.moves import cPickle\n",
    "import PIL\n",
    "import matplotlib.pyplot as plt\n",
    "from matplotlib import cm\n",
    "import time\n",
    "import multiprocessing\n",
    "import random\n",
    "import sklearn\n",
    "from sklearn import metrics\n",
    "import seaborn as sns\n",
    "import cv2\n",
    "import skimage\n",
    "from skimage import restoration\n",
    "import copy\n",
    "import seaborn as sns"
   ]
  },
  {
   "cell_type": "code",
   "execution_count": 3,
   "metadata": {},
   "outputs": [
    {
     "name": "stdout",
     "output_type": "stream",
     "text": [
      "15000\n"
     ]
    }
   ],
   "source": [
    "raw_RAD_id_list = os.listdir('/home/hadoop/Documents/Neutrino/SRAD2018/SRAD2018_train/')\n",
    "print(len(raw_RAD_id_list))\n",
    "RAD_id_list = raw_RAD_id_list"
   ]
  },
  {
   "cell_type": "code",
   "execution_count": 4,
   "metadata": {},
   "outputs": [
    {
     "name": "stdout",
     "output_type": "stream",
     "text": [
      "8000\n"
     ]
    }
   ],
   "source": [
    "RAD_id_submit_list = os.listdir(\"/home/hadoop/Documents/Neutrino/SRAD2018/SRAD2018_Test_2/\")\n",
    "print(len(RAD_id_submit_list))"
   ]
  },
  {
   "cell_type": "code",
   "execution_count": 5,
   "metadata": {},
   "outputs": [],
   "source": [
    "image_size = 64\n",
    "nt = 4 # number of timesteps used for sequences in training\n",
    "image_scalar = 80\n",
    "vmin = -1\n",
    "vmax = 0.6 * image_scalar\n",
    "step_size = 5"
   ]
  },
  {
   "cell_type": "code",
   "execution_count": 8,
   "metadata": {},
   "outputs": [],
   "source": [
    "# params for ShiTomasi corner detection\n",
    "feature_params = dict( maxCorners = 100,\n",
    "                       qualityLevel = 0.3,\n",
    "                       minDistance = 7,\n",
    "                       blockSize = 7 )\n",
    "\n",
    "# Parameters for lucas kanade optical flow\n",
    "lk_params = dict( winSize  = (15,15),\n",
    "                  maxLevel = 2,\n",
    "                  criteria = (cv2.TERM_CRITERIA_EPS | cv2.TERM_CRITERIA_COUNT, 10, 0.03))\n",
    "\n",
    "color = [255, 255, 255]"
   ]
  },
  {
   "cell_type": "code",
   "execution_count": 70,
   "metadata": {},
   "outputs": [
    {
     "name": "stdout",
     "output_type": "stream",
     "text": [
      "RAD_436482474222544\n",
      "RAD_326482464239548\n",
      "RAD_426382464232542\n",
      "RAD_256582464212538\n",
      "RAD_416382474232536\n",
      "RAD_446482464229537\n",
      "RAD_206582464222546\n",
      "RAD_466382464212541\n",
      "RAD_496482474232542\n",
      "RAD_336482464232533\n",
      "RAD_466582464222547\n",
      "RAD_336582474229546\n",
      "RAD_496382464219531\n",
      "RAD_486382464212548\n",
      "RAD_256482474239552\n",
      "RAD_376382464222540\n",
      "RAD_296482464232543\n",
      "RAD_296582474222537\n",
      "RAD_346482464229534\n",
      "RAD_446382464219545\n",
      "RAD_386582474222532\n",
      "RAD_236482464222542\n",
      "RAD_306382464229539\n",
      "RAD_236482464229542\n",
      "RAD_426582474222545\n",
      "RAD_426582474222551\n",
      "RAD_356582464229531\n",
      "RAD_486582464229549\n",
      "RAD_266482464229547\n",
      "RAD_476482474229534\n",
      "RAD_486382464229548\n",
      "RAD_436382474232551\n"
     ]
    },
    {
     "name": "stderr",
     "output_type": "stream",
     "text": [
      "/home/hadoop/.local/lib/python3.5/site-packages/ipykernel_launcher.py:42: RuntimeWarning: Mean of empty slice.\n",
      "/home/hadoop/.local/lib/python3.5/site-packages/numpy/core/_methods.py:73: RuntimeWarning: invalid value encountered in true_divide\n",
      "  ret, rcount, out=ret, casting='unsafe', subok=False)\n"
     ]
    },
    {
     "ename": "error",
     "evalue": "OpenCV(3.4.2) /io/opencv/modules/video/src/lkpyramid.cpp:1244: error: (-215:Assertion failed) (npoints = prevPtsMat.checkVector(2, 5, true)) >= 0 in function 'calc'\n",
     "output_type": "error",
     "traceback": [
      "\u001b[0;31m---------------------------------------------------------------------------\u001b[0m",
      "\u001b[0;31merror\u001b[0m                                     Traceback (most recent call last)",
      "\u001b[0;32m<ipython-input-70-bb36e94fdb02>\u001b[0m in \u001b[0;36m<module>\u001b[0;34m()\u001b[0m\n\u001b[1;32m     34\u001b[0m \u001b[0;34m\u001b[0m\u001b[0m\n\u001b[1;32m     35\u001b[0m         \u001b[0;31m# calculate optical flow\u001b[0m\u001b[0;34m\u001b[0m\u001b[0;34m\u001b[0m\u001b[0m\n\u001b[0;32m---> 36\u001b[0;31m         \u001b[0mp1\u001b[0m\u001b[0;34m,\u001b[0m \u001b[0mst\u001b[0m\u001b[0;34m,\u001b[0m \u001b[0merr\u001b[0m \u001b[0;34m=\u001b[0m \u001b[0mcv2\u001b[0m\u001b[0;34m.\u001b[0m\u001b[0mcalcOpticalFlowPyrLK\u001b[0m\u001b[0;34m(\u001b[0m\u001b[0mtemp_matrix_old\u001b[0m\u001b[0;34m,\u001b[0m \u001b[0mtemp_matrix_new\u001b[0m\u001b[0;34m,\u001b[0m \u001b[0mp0\u001b[0m\u001b[0;34m,\u001b[0m \u001b[0;32mNone\u001b[0m\u001b[0;34m,\u001b[0m \u001b[0;34m**\u001b[0m\u001b[0mlk_params\u001b[0m\u001b[0;34m)\u001b[0m\u001b[0;34m\u001b[0m\u001b[0m\n\u001b[0m\u001b[1;32m     37\u001b[0m \u001b[0;34m\u001b[0m\u001b[0m\n\u001b[1;32m     38\u001b[0m         \u001b[0;31m# Select good points\u001b[0m\u001b[0;34m\u001b[0m\u001b[0;34m\u001b[0m\u001b[0m\n",
      "\u001b[0;31merror\u001b[0m: OpenCV(3.4.2) /io/opencv/modules/video/src/lkpyramid.cpp:1244: error: (-215:Assertion failed) (npoints = prevPtsMat.checkVector(2, 5, true)) >= 0 in function 'calc'\n"
     ]
    }
   ],
   "source": [
    "for counter, RAD_id in enumerate(RAD_id_list[:50]):\n",
    "    move_list = []\n",
    "    temp_matrix_list = []\n",
    "    print(RAD_id)\n",
    "    for i in range(52, 55, 1):\n",
    "#     for i in range(0, 60, 5):\n",
    "#     for i in range(0, 5, 5):\n",
    "        temp_matrix_old = np.array(PIL.Image.open(\"/home/hadoop/Documents/Neutrino/SRAD2018/SRAD2018_train/%s/%s_%03d.png\" % (RAD_id, RAD_id, i + 0))).astype(np.uint8)\n",
    "        temp_matrix_new = np.array(PIL.Image.open(\"/home/hadoop/Documents/Neutrino/SRAD2018/SRAD2018_train/%s/%s_%03d.png\" % (RAD_id, RAD_id, i + step_size))).astype(np.uint8)\n",
    "        temp_matrix_old = np.where(temp_matrix_old==255, 0, temp_matrix_old)\n",
    "        temp_matrix_new = np.where(temp_matrix_new==255, 0, temp_matrix_new)\n",
    "        temp_matrix_list.append(temp_matrix_new)\n",
    "#         plt.imshow(temp_matrix_old, cmap=cm.gist_ncar_r, vmin=vmin, vmax=vmax)\n",
    "#         plt.show()\n",
    "#         plt.imshow(temp_matrix_new, cmap=cm.gist_ncar_r, vmin=vmin, vmax=vmax)\n",
    "#         plt.show()\n",
    "        \n",
    "        p0 = cv2.goodFeaturesToTrack(temp_matrix_old, mask = None, **feature_params)\n",
    "        # Create a mask image for drawing purposes\n",
    "        mask = np.zeros_like(temp_matrix_old)\n",
    "\n",
    "        # calculate optical flow\n",
    "        p1, st, err = cv2.calcOpticalFlowPyrLK(temp_matrix_old, temp_matrix_new, p0, None, **lk_params)\n",
    "\n",
    "        # Select good points\n",
    "        good_new = p1[st==1]\n",
    "        good_old = p0[st==1]\n",
    "        \n",
    "        move = (good_new - good_old).mean(axis=0)\n",
    "        move_list.append(move)\n",
    "        \n",
    "        # draw the tracks\n",
    "        for j,(new,old) in enumerate(zip(good_new,good_old)):\n",
    "            a,b = new.ravel()\n",
    "            c,d = old.ravel()\n",
    "            mask = cv2.line(mask, (a,b),(c,d), color, 2)\n",
    "            img = copy.deepcopy(temp_matrix_new)\n",
    "            img = cv2.circle(img,(a,b),3,color,-1)\n",
    "        img = cv2.add(img,mask)\n",
    "        \n",
    "#         print(i, i+5)\n",
    "#         print(move)\n",
    "#         plt.imshow(img, cmap=cm.gist_ncar_r, vmin=vmin, vmax=vmax)\n",
    "#         plt.show()\n",
    "        \n",
    "#         H = np.float32([[1,0,move[0]], [0,1,move[1]]])\n",
    "#         res = cv2.warpAffine(img, H, (501, 501))\n",
    "#         plt.imshow(res, cmap=cm.gist_ncar_r, vmin=vmin, vmax=vmax)\n",
    "#         plt.show()\n",
    "    move_list = np.array(move_list)\n",
    "    move = move_list.mean(axis=0)\n",
    "    for i in range(len(temp_matrix_list)):\n",
    "        k = (len(temp_matrix_list) - 1 - i)\n",
    "        H = np.float32([[1,0,k*move[0]], [0,1,k*move[1]]])\n",
    "        temp_matrix_list[i] = cv2.warpAffine(temp_matrix_list[i], H, (501, 501))\n",
    "        \n",
    "    temp_matrix_list = np.array(temp_matrix_list)\n",
    "    temp_matrix = temp_matrix_list.mean(axis=0)\n",
    "    H = np.float32([[1,0,move[0]], [0,1,move[1]]])\n",
    "    res = cv2.warpAffine(temp_matrix, H, (501, 501))\n",
    "#     plt.imshow(res, cmap=cm.gist_ncar_r, vmin=vmin, vmax=vmax)\n",
    "#     plt.show()\n",
    "#     plt.imshow(temp_matrix_new, cmap=cm.gist_ncar_r, vmin=vmin, vmax=vmax)\n",
    "#     plt.show()"
   ]
  },
  {
   "cell_type": "code",
   "execution_count": 20,
   "metadata": {},
   "outputs": [],
   "source": [
    "p0 = [None]"
   ]
  },
  {
   "cell_type": "code",
   "execution_count": 21,
   "metadata": {},
   "outputs": [],
   "source": [
    "try:\n",
    "    len(p0)\n",
    "except:\n",
    "    print('e')"
   ]
  },
  {
   "cell_type": "code",
   "execution_count": 17,
   "metadata": {},
   "outputs": [],
   "source": [
    "p0"
   ]
  },
  {
   "cell_type": "code",
   "execution_count": 22,
   "metadata": {},
   "outputs": [],
   "source": [
    "def predict(RAD_id, path='/home/hadoop/Documents/Neutrino/SRAD2018/SRAD2018_train'):\n",
    "    mean_list = []\n",
    "    for i in range(31):\n",
    "        temp = np.array(PIL.Image.open('%s/%s/%s_%03d.png' % (path, RAD_id, RAD_id, i))).astype(np.uint8)\n",
    "        temp = np.where(temp==255, 0, temp)\n",
    "        mean_list.append(temp.ravel().mean())\n",
    "    mean_list = np.array(mean_list)\n",
    "    if mean_list.mean() < 0.45:\n",
    "        return [temp] * 6\n",
    "    \n",
    "    move_list = []\n",
    "    temp_matrix_list = []\n",
    "#     print(RAD_id)\n",
    "    for i in range(20, 26, 1):\n",
    "#     for i in range(20, 26, 1):\n",
    "#     for i in range(0, 60, 5):\n",
    "#     for i in range(0, 5, 5):\n",
    "        temp_matrix_old = np.array(PIL.Image.open(\"%s/%s/%s_%03d.png\" % (path, RAD_id, RAD_id, i + 0))).astype(np.uint8)\n",
    "        temp_matrix_new = np.array(PIL.Image.open(\"%s/%s/%s_%03d.png\" % (path, RAD_id, RAD_id, i + step_size))).astype(np.uint8)\n",
    "        temp_matrix_old = np.where(temp_matrix_old==255, 0, temp_matrix_old)\n",
    "        temp_matrix_new = np.where(temp_matrix_new==255, 0, temp_matrix_new)\n",
    "        temp_matrix_list.append(temp_matrix_new)\n",
    "#         plt.imshow(temp_matrix_old, cmap=cm.gist_ncar_r, vmin=vmin, vmax=vmax)\n",
    "#         plt.show()\n",
    "#         plt.imshow(temp_matrix_new, cmap=cm.gist_ncar_r, vmin=vmin, vmax=vmax)\n",
    "#         plt.show()\n",
    "        \n",
    "        p0 = cv2.goodFeaturesToTrack(temp_matrix_old, mask = None, **feature_params)\n",
    "        \n",
    "        try:\n",
    "            len(p0)\n",
    "        except:\n",
    "            return [temp] * 6\n",
    "        \n",
    "        # Create a mask image for drawing purposes\n",
    "        mask = np.zeros_like(temp_matrix_old)\n",
    "\n",
    "        # calculate optical flow\n",
    "        p1, st, err = cv2.calcOpticalFlowPyrLK(temp_matrix_old, temp_matrix_new, p0, None, **lk_params)\n",
    "\n",
    "        # Select good points\n",
    "        good_new = p1[st==1]\n",
    "        good_old = p0[st==1]\n",
    "        \n",
    "        move = (good_new - good_old).mean(axis=0)\n",
    "        move_list.append(move)\n",
    "        \n",
    "#         # draw the tracks\n",
    "#         for j,(new,old) in enumerate(zip(good_new,good_old)):\n",
    "#             a,b = new.ravel()\n",
    "#             c,d = old.ravel()\n",
    "#             mask = cv2.line(mask, (a,b),(c,d), color, 2)\n",
    "#             img = copy.deepcopy(temp_matrix_new)\n",
    "#             img = cv2.circle(img,(a,b),3,color,-1)\n",
    "#         img = cv2.add(img,mask)\n",
    "        \n",
    "#         print(i, i+step_size)\n",
    "#         print(move)\n",
    "#         plt.imshow(img, cmap=cm.gist_ncar_r, vmin=vmin, vmax=vmax)\n",
    "#         plt.show()\n",
    "        \n",
    "#         H = np.float32([[1,0,move[0]], [0,1,move[1]]])\n",
    "#         res = cv2.warpAffine(img, H, (501, 501))\n",
    "#         plt.imshow(res, cmap=cm.gist_ncar_r, vmin=vmin, vmax=vmax)\n",
    "#         plt.show()\n",
    "    move_list = np.array(move_list)\n",
    "    move = move_list.mean(axis=0)\n",
    "    for i in range(len(temp_matrix_list)):\n",
    "        k = (len(temp_matrix_list) - 1 - i)\n",
    "        H = np.float32([[1,0,k*move[0]], [0,1,k*move[1]]])\n",
    "        temp_matrix_list[i] = cv2.warpAffine(temp_matrix_list[i], H, (501, 501))\n",
    "        \n",
    "    temp_matrix_list = np.array(temp_matrix_list)\n",
    "    temp_matrix = temp_matrix_list.mean(axis=0)\n",
    "    H = np.float32([[1,0,move[0]], [0,1,move[1]]])\n",
    "    res = cv2.warpAffine(temp_matrix, H, (501, 501))\n",
    "#     plt.imshow(res, cmap=cm.gist_ncar_r, vmin=vmin, vmax=vmax)\n",
    "#     plt.show()\n",
    "#     plt.imshow(temp_matrix_new, cmap=cm.gist_ncar_r, vmin=vmin, vmax=vmax)\n",
    "#     plt.show()\n",
    "    \n",
    "    ans_list = []\n",
    "    for i in range(1, 7):\n",
    "        k = i\n",
    "        H = np.float32([[1,0,k*move[0]], [0,1,k*move[1]]])\n",
    "        res = cv2.warpAffine(temp_matrix, H, (501, 501))\n",
    "        ans_list.append(res)\n",
    "    return ans_list"
   ]
  },
  {
   "cell_type": "code",
   "execution_count": 10,
   "metadata": {
    "scrolled": true
   },
   "outputs": [
    {
     "name": "stdout",
     "output_type": "stream",
     "text": [
      "start time: 2018-10-06 01:55:23\n",
      "RAD_id_counter=    0\t\tIt takes 0.13\n",
      "RAD_id_counter=   10\t\tIt takes 0.65\n",
      "RAD_id_counter=   20\t\tIt takes 1.31\n",
      "RAD_id_counter=   30\t\tIt takes 2.11\n",
      "RAD_id_counter=   40\t\tIt takes 2.77\n",
      "RAD_id_counter=   50\t\tIt takes 3.43\n",
      "RAD_id_counter=   60\t\tIt takes 4.09\n",
      "RAD_id_counter=   70\t\tIt takes 4.90\n",
      "RAD_id_counter=   80\t\tIt takes 5.52\n",
      "RAD_id_counter=   90\t\tIt takes 6.37\n",
      "     model_abs_loss=1.7828282\n",
      "last_frame_abs_loss=1.9779436\n",
      "     model_sqr_loss=32.9963815\n",
      "last_frame_sqr_loss=40.9361165\n",
      "It took  00:00:06\n",
      "end time: 2018-10-06 01:55:30\n"
     ]
    }
   ],
   "source": [
    "start_time = time.time()\n",
    "print(time.strftime(\"start time: %Y-%m-%d %H:%M:%S\", time.localtime()))\n",
    "model_abs_loss = []\n",
    "model_sqr_loss = []\n",
    "last_frame_abs_loss = []\n",
    "last_frame_sqr_loss = []\n",
    "for RAD_id_counter, RAD_id in enumerate(RAD_id_list[:100]):\n",
    "    x_last = np.array(PIL.Image.open(\"/home/hadoop/Documents/Neutrino/SRAD2018/SRAD2018_train/%s/%s_%03d.png\" % (RAD_id, RAD_id, 30))).astype(np.uint8)\n",
    "    x_last = np.where(x_last==255, 0, x_last)\n",
    "    y_true_last = np.array(PIL.Image.open(\"/home/hadoop/Documents/Neutrino/SRAD2018/SRAD2018_train/%s/%s_%03d.png\" % (RAD_id, RAD_id, 60))).astype(np.uint8)\n",
    "    y_true_last = np.where(y_true_last==255, 0, y_true_last)\n",
    "    y_pred_last = predict(RAD_id)[-1]\n",
    "    last_frame_abs_loss.append(sklearn.metrics.mean_absolute_error(y_true_last.astype(np.int), x_last.astype(np.int)))\n",
    "    model_abs_loss.append(sklearn.metrics.mean_absolute_error(y_true_last.astype(np.int), y_pred_last.astype(np.int)))\n",
    "    last_frame_sqr_loss.append(sklearn.metrics.mean_squared_error(y_true_last.astype(np.int), x_last.astype(np.int)))\n",
    "    model_sqr_loss.append(sklearn.metrics.mean_squared_error(y_true_last.astype(np.int), y_pred_last.astype(np.int)))\n",
    "    if RAD_id_counter % 10 == 0:\n",
    "        print('RAD_id_counter=%5d\\t\\tIt takes %.2f' % (RAD_id_counter, time.time() - start_time))\n",
    "model_abs_loss = np.array(model_abs_loss)\n",
    "last_frame_abs_loss = np.array(last_frame_abs_loss)\n",
    "model_sqr_loss = np.array(model_sqr_loss)\n",
    "last_frame_sqr_loss = np.array(last_frame_sqr_loss)\n",
    "print('     model_abs_loss=%.7f' % model_abs_loss.mean())\n",
    "print('last_frame_abs_loss=%.7f' % last_frame_abs_loss.mean())\n",
    "print('     model_sqr_loss=%.7f' % model_sqr_loss.mean())\n",
    "print('last_frame_sqr_loss=%.7f' % last_frame_sqr_loss.mean())\n",
    "print(time.strftime('It took  %H:%M:%S', time.gmtime(time.time() - start_time)))\n",
    "print(time.strftime(\"end time: %Y-%m-%d %H:%M:%S\", time.localtime()))"
   ]
  },
  {
   "cell_type": "code",
   "execution_count": 11,
   "metadata": {},
   "outputs": [
    {
     "name": "stdout",
     "output_type": "stream",
     "text": [
      "     model_abs_loss=1.7828282\n",
      "last_frame_abs_loss=1.9779436\n",
      "     model_sqr_loss=32.9963815\n",
      "last_frame_sqr_loss=40.9361165\n"
     ]
    },
    {
     "data": {
      "image/png": "[encoded data removed]",
      "text/plain": [
       "<Figure size 432x288 with 1 Axes>"
      ]
     },
     "metadata": {},
     "output_type": "display_data"
    },
    {
     "data": {
      "image/png": "[encoded data removed]",
      "text/plain": [
       "<Figure size 432x288 with 1 Axes>"
      ]
     },
     "metadata": {},
     "output_type": "display_data"
    },
    {
     "data": {
      "image/png": "[encoded data removed]",
      "text/plain": [
       "<Figure size 432x288 with 1 Axes>"
      ]
     },
     "metadata": {},
     "output_type": "display_data"
    }
   ],
   "source": [
    "print('     model_abs_loss=%.7f' % model_abs_loss.mean())\n",
    "print('last_frame_abs_loss=%.7f' % last_frame_abs_loss.mean())\n",
    "print('     model_sqr_loss=%.7f' % model_sqr_loss.mean())\n",
    "print('last_frame_sqr_loss=%.7f' % last_frame_sqr_loss.mean())\n",
    "\n",
    "plt.imshow(x_last, cmap=cm.gist_ncar_r, vmin=vmin, vmax=vmax)\n",
    "plt.show()\n",
    "\n",
    "plt.imshow(y_pred_last, cmap=cm.gist_ncar_r, vmin=vmin, vmax=vmax)\n",
    "plt.show()\n",
    "\n",
    "plt.imshow(y_true_last, cmap=cm.gist_ncar_r, vmin=vmin, vmax=vmax)\n",
    "plt.show()"
   ]
  },
  {
   "cell_type": "code",
   "execution_count": 23,
   "metadata": {},
   "outputs": [],
   "source": [
    "version = 'SRAD2018_Neutrino_Optical_Flow_v0.2.1.1_18.10.06.01.55'"
   ]
  },
  {
   "cell_type": "code",
   "execution_count": 24,
   "metadata": {},
   "outputs": [
    {
     "name": "stdout",
     "output_type": "stream",
     "text": [
      "version=SRAD2018_Neutrino_Optical_Flow_v0.2.1.1_18.10.06.01.55\n",
      "start time: 2018-10-06 02:01:56\n",
      "RAD_id_counter=    0\t\tIt takes 0.04\n",
      "RAD_id_counter=   10\t\tIt takes 0.84\n",
      "RAD_id_counter=   20\t\tIt takes 2.23\n",
      "RAD_id_counter=   30\t\tIt takes 3.23\n",
      "RAD_id_counter=   40\t\tIt takes 4.11\n",
      "RAD_id_counter=   50\t\tIt takes 4.84\n",
      "RAD_id_counter=   60\t\tIt takes 5.87\n",
      "RAD_id_counter=   70\t\tIt takes 6.89\n",
      "RAD_id_counter=   80\t\tIt takes 7.65\n",
      "RAD_id_counter=   90\t\tIt takes 8.46\n",
      "It took  00:00:09\n",
      "end time: 2018-10-06 02:02:06\n"
     ]
    }
   ],
   "source": [
    "print('version=%s' % version)\n",
    "start_time = time.time()\n",
    "print(time.strftime(\"start time: %Y-%m-%d %H:%M:%S\", time.localtime()))\n",
    "for RAD_id_counter, RAD_id in enumerate(RAD_id_submit_list):\n",
    "    if not os.path.exists(\"/home/hadoop/Documents/Neutrino/SRAD2018/SRAD2018_submit/%s/%s\" % (version, RAD_id)):\n",
    "        os.makedirs(\"/home/hadoop/Documents/Neutrino/SRAD2018/SRAD2018_submit/%s/%s\" % (version, RAD_id))\n",
    "    result_list = predict(RAD_id, path='/home/hadoop/Documents/Neutrino/SRAD2018/SRAD2018_Test_2')\n",
    "    for i in range(6):\n",
    "        result = result_list[i]\n",
    "        result = result.astype(np.uint8)\n",
    "        result = np.where(result==0, 255, result)\n",
    "        result = PIL.Image.fromarray(result)\n",
    "        result.save(\"/home/hadoop/Documents/Neutrino/SRAD2018/SRAD2018_submit/%s/%s/%s_f%03d.png\" % (version, RAD_id, RAD_id, i + 1))\n",
    "    if RAD_id_counter % 10 == 0:\n",
    "        print('RAD_id_counter=%5d\\t\\tIt takes %.2f' % (RAD_id_counter, time.time() - start_time))\n",
    "print(time.strftime('It took  %H:%M:%S', time.gmtime(time.time() - start_time)))\n",
    "print(time.strftime(\"end time: %Y-%m-%d %H:%M:%S\", time.localtime()))"
   ]
  },
  {
   "cell_type": "markdown",
   "metadata": {},
   "source": [
    "# Reference\n",
    "- https://opencv-python-tutroals.readthedocs.io/en/latest/py_tutorials/py_video/py_lucas_kanade/py_lucas_kanade.html\n",
    "- https://blog.csdn.net/on2way/article/details/46801063"
   ]
  },
  {
   "cell_type": "code",
   "execution_count": null,
   "metadata": {},
   "outputs": [],
   "source": []
  }
 ],
 "metadata": {
  "kernelspec": {
   "display_name": "Python 3",
   "language": "python",
   "name": "python3"
  },
  "language_info": {
   "codemirror_mode": {
    "name": "ipython",
    "version": 3
   },
   "file_extension": ".py",
   "mimetype": "text/x-python",
   "name": "python",
   "nbconvert_exporter": "python",
   "pygments_lexer": "ipython3",
   "version": "3.5.2"
  }
 },
 "nbformat": 4,
 "nbformat_minor": 2
}
