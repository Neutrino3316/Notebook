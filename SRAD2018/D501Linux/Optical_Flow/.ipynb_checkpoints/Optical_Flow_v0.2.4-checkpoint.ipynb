{
 "cells": [
  {
   "cell_type": "code",
   "execution_count": 1,
   "metadata": {},
   "outputs": [
    {
     "data": {
      "text/plain": [
       "2"
      ]
     },
     "execution_count": 1,
     "metadata": {},
     "output_type": "execute_result"
    }
   ],
   "source": [
    "1+1"
   ]
  },
  {
   "cell_type": "code",
   "execution_count": 1,
   "metadata": {},
   "outputs": [],
   "source": [
    "import os\n",
    "import numpy as np\n",
    "import pandas as pd\n",
    "from six.moves import cPickle\n",
    "import PIL\n",
    "import matplotlib.pyplot as plt\n",
    "from matplotlib import cm\n",
    "import time\n",
    "import multiprocessing\n",
    "import random\n",
    "import sklearn\n",
    "from sklearn import metrics\n",
    "import seaborn as sns\n",
    "import cv2\n",
    "import skimage\n",
    "from skimage import restoration\n",
    "import copy\n",
    "import seaborn as sns"
   ]
  },
  {
   "cell_type": "code",
   "execution_count": 2,
   "metadata": {},
   "outputs": [
    {
     "name": "stdout",
     "output_type": "stream",
     "text": [
      "15000\n"
     ]
    }
   ],
   "source": [
    "raw_RAD_id_list = os.listdir('/home/hadoop/Documents/Neutrino/SRAD2018/SRAD2018_train/')\n",
    "print(len(raw_RAD_id_list))\n",
    "RAD_id_list = raw_RAD_id_list"
   ]
  },
  {
   "cell_type": "code",
   "execution_count": 3,
   "metadata": {},
   "outputs": [
    {
     "name": "stdout",
     "output_type": "stream",
     "text": [
      "8000\n"
     ]
    }
   ],
   "source": [
    "RAD_id_submit_list = os.listdir(\"/home/hadoop/Documents/Neutrino/SRAD2018/SRAD2018_Test_2/\")\n",
    "print(len(RAD_id_submit_list))"
   ]
  },
  {
   "cell_type": "code",
   "execution_count": 4,
   "metadata": {},
   "outputs": [],
   "source": [
    "image_size = 64\n",
    "nt = 4 # number of timesteps used for sequences in training\n",
    "image_scalar = 80\n",
    "vmin = -1\n",
    "vmax = 0.6 * image_scalar\n",
    "step_size = 5"
   ]
  },
  {
   "cell_type": "code",
   "execution_count": 5,
   "metadata": {},
   "outputs": [],
   "source": [
    "# params for ShiTomasi corner detection\n",
    "feature_params = dict( maxCorners = 100,\n",
    "                       qualityLevel = 0.3,\n",
    "                       minDistance = 7,\n",
    "                       blockSize = 7 )\n",
    "\n",
    "# Parameters for lucas kanade optical flow\n",
    "lk_params = dict( winSize  = (15,15),\n",
    "                  maxLevel = 2,\n",
    "                  criteria = (cv2.TERM_CRITERIA_EPS | cv2.TERM_CRITERIA_COUNT, 10, 0.03))\n",
    "\n",
    "color = [255, 255, 255]"
   ]
  },
  {
   "cell_type": "code",
   "execution_count": 7,
   "metadata": {},
   "outputs": [
    {
     "name": "stdout",
     "output_type": "stream",
     "text": [
      "RAD_436482474222544\n",
      "RAD_326482464239548\n",
      "RAD_426382464232542\n",
      "RAD_256582464212538\n",
      "RAD_416382474232536\n",
      "RAD_446482464229537\n",
      "RAD_206582464222546\n",
      "RAD_466382464212541\n",
      "RAD_496482474232542\n",
      "RAD_336482464232533\n",
      "RAD_466582464222547\n",
      "RAD_336582474229546\n",
      "RAD_496382464219531\n",
      "RAD_486382464212548\n",
      "RAD_256482474239552\n",
      "RAD_376382464222540\n",
      "RAD_296482464232543\n",
      "RAD_296582474222537\n",
      "RAD_346482464229534\n",
      "RAD_446382464219545\n",
      "RAD_386582474222532\n",
      "RAD_236482464222542\n",
      "RAD_306382464229539\n",
      "RAD_236482464229542\n",
      "RAD_426582474222545\n",
      "RAD_426582474222551\n",
      "RAD_356582464229531\n",
      "RAD_486582464229549\n",
      "RAD_266482464229547\n",
      "RAD_476482474229534\n",
      "RAD_486382464229548\n",
      "RAD_436382474232551\n"
     ]
    },
    {
     "name": "stderr",
     "output_type": "stream",
     "text": [
      "/home/hadoop/.local/lib/python3.5/site-packages/ipykernel_launcher.py:29: RuntimeWarning: Mean of empty slice.\n",
      "/home/hadoop/.local/lib/python3.5/site-packages/numpy/core/_methods.py:73: RuntimeWarning: invalid value encountered in true_divide\n",
      "  ret, rcount, out=ret, casting='unsafe', subok=False)\n"
     ]
    },
    {
     "ename": "error",
     "evalue": "OpenCV(3.4.2) /io/opencv/modules/video/src/lkpyramid.cpp:1244: error: (-215:Assertion failed) (npoints = prevPtsMat.checkVector(2, 5, true)) >= 0 in function 'calc'\n",
     "output_type": "error",
     "traceback": [
      "\u001b[0;31m---------------------------------------------------------------------------\u001b[0m",
      "\u001b[0;31merror\u001b[0m                                     Traceback (most recent call last)",
      "\u001b[0;32m<ipython-input-7-506fb0452d8e>\u001b[0m in \u001b[0;36m<module>\u001b[0;34m()\u001b[0m\n\u001b[1;32m     21\u001b[0m \u001b[0;34m\u001b[0m\u001b[0m\n\u001b[1;32m     22\u001b[0m         \u001b[0;31m# calculate optical flow\u001b[0m\u001b[0;34m\u001b[0m\u001b[0;34m\u001b[0m\u001b[0m\n\u001b[0;32m---> 23\u001b[0;31m         \u001b[0mp1\u001b[0m\u001b[0;34m,\u001b[0m \u001b[0mst\u001b[0m\u001b[0;34m,\u001b[0m \u001b[0merr\u001b[0m \u001b[0;34m=\u001b[0m \u001b[0mcv2\u001b[0m\u001b[0;34m.\u001b[0m\u001b[0mcalcOpticalFlowPyrLK\u001b[0m\u001b[0;34m(\u001b[0m\u001b[0mtemp_matrix_old\u001b[0m\u001b[0;34m,\u001b[0m \u001b[0mtemp_matrix_new\u001b[0m\u001b[0;34m,\u001b[0m \u001b[0mp0\u001b[0m\u001b[0;34m,\u001b[0m \u001b[0;32mNone\u001b[0m\u001b[0;34m,\u001b[0m \u001b[0;34m**\u001b[0m\u001b[0mlk_params\u001b[0m\u001b[0;34m)\u001b[0m\u001b[0;34m\u001b[0m\u001b[0m\n\u001b[0m\u001b[1;32m     24\u001b[0m \u001b[0;34m\u001b[0m\u001b[0m\n\u001b[1;32m     25\u001b[0m         \u001b[0;31m# Select good points\u001b[0m\u001b[0;34m\u001b[0m\u001b[0;34m\u001b[0m\u001b[0m\n",
      "\u001b[0;31merror\u001b[0m: OpenCV(3.4.2) /io/opencv/modules/video/src/lkpyramid.cpp:1244: error: (-215:Assertion failed) (npoints = prevPtsMat.checkVector(2, 5, true)) >= 0 in function 'calc'\n"
     ]
    }
   ],
   "source": [
    "for counter, RAD_id in enumerate(RAD_id_list[:50]):\n",
    "    move_list = []\n",
    "    temp_matrix_list = []\n",
    "    print(RAD_id)\n",
    "    for i in range(52, 55, 1):\n",
    "#     for i in range(0, 60, 5):\n",
    "#     for i in range(0, 5, 5):\n",
    "        temp_matrix_old = np.array(PIL.Image.open(\"/home/hadoop/Documents/Neutrino/SRAD2018/SRAD2018_train/%s/%s_%03d.png\" % (RAD_id, RAD_id, i + 0))).astype(np.uint8)\n",
    "        temp_matrix_new = np.array(PIL.Image.open(\"/home/hadoop/Documents/Neutrino/SRAD2018/SRAD2018_train/%s/%s_%03d.png\" % (RAD_id, RAD_id, i + step_size))).astype(np.uint8)\n",
    "        temp_matrix_old = np.where(temp_matrix_old==255, 0, temp_matrix_old)\n",
    "        temp_matrix_new = np.where(temp_matrix_new==255, 0, temp_matrix_new)\n",
    "        temp_matrix_list.append(temp_matrix_new)\n",
    "#         plt.imshow(temp_matrix_old, cmap=cm.gist_ncar_r, vmin=vmin, vmax=vmax)\n",
    "#         plt.show()\n",
    "#         plt.imshow(temp_matrix_new, cmap=cm.gist_ncar_r, vmin=vmin, vmax=vmax)\n",
    "#         plt.show()\n",
    "        \n",
    "        p0 = cv2.goodFeaturesToTrack(temp_matrix_old, mask = None, **feature_params)\n",
    "        # Create a mask image for drawing purposes\n",
    "        mask = np.zeros_like(temp_matrix_old)\n",
    "\n",
    "        # calculate optical flow\n",
    "        p1, st, err = cv2.calcOpticalFlowPyrLK(temp_matrix_old, temp_matrix_new, p0, None, **lk_params)\n",
    "\n",
    "        # Select good points\n",
    "        good_new = p1[st==1]\n",
    "        good_old = p0[st==1]\n",
    "        \n",
    "        move = (good_new - good_old).mean(axis=0)\n",
    "        move_list.append(move)\n",
    "        \n",
    "        # draw the tracks\n",
    "        for j,(new,old) in enumerate(zip(good_new,good_old)):\n",
    "            a,b = new.ravel()\n",
    "            c,d = old.ravel()\n",
    "            mask = cv2.line(mask, (a,b),(c,d), color, 2)\n",
    "            img = copy.deepcopy(temp_matrix_new)\n",
    "            img = cv2.circle(img,(a,b),3,color,-1)\n",
    "        img = cv2.add(img,mask)\n",
    "        \n",
    "#         print(i, i+5)\n",
    "#         print(move)\n",
    "#         plt.imshow(img, cmap=cm.gist_ncar_r, vmin=vmin, vmax=vmax)\n",
    "#         plt.show()\n",
    "        \n",
    "#         H = np.float32([[1,0,move[0]], [0,1,move[1]]])\n",
    "#         res = cv2.warpAffine(img, H, (501, 501))\n",
    "#         plt.imshow(res, cmap=cm.gist_ncar_r, vmin=vmin, vmax=vmax)\n",
    "#         plt.show()\n",
    "    move_list = np.array(move_list)\n",
    "    move = move_list.mean(axis=0)\n",
    "    for i in range(len(temp_matrix_list)):\n",
    "        k = (len(temp_matrix_list) - 1 - i)\n",
    "        H = np.float32([[1,0,k*move[0]], [0,1,k*move[1]]])\n",
    "        temp_matrix_list[i] = cv2.warpAffine(temp_matrix_list[i], H, (501, 501))\n",
    "        \n",
    "    temp_matrix_list = np.array(temp_matrix_list)\n",
    "    temp_matrix = temp_matrix_list.mean(axis=0)\n",
    "    H = np.float32([[1,0,move[0]], [0,1,move[1]]])\n",
    "    res = cv2.warpAffine(temp_matrix, H, (501, 501))\n",
    "#     plt.imshow(res, cmap=cm.gist_ncar_r, vmin=vmin, vmax=vmax)\n",
    "#     plt.show()\n",
    "#     plt.imshow(temp_matrix_new, cmap=cm.gist_ncar_r, vmin=vmin, vmax=vmax)\n",
    "#     plt.show()"
   ]
  },
  {
   "cell_type": "code",
   "execution_count": null,
   "metadata": {},
   "outputs": [],
   "source": [
    "p0 = [None]"
   ]
  },
  {
   "cell_type": "code",
   "execution_count": null,
   "metadata": {},
   "outputs": [],
   "source": [
    "try:\n",
    "    len(p0)\n",
    "except:\n",
    "    print('e')"
   ]
  },
  {
   "cell_type": "code",
   "execution_count": null,
   "metadata": {},
   "outputs": [],
   "source": [
    "p0"
   ]
  },
  {
   "cell_type": "code",
   "execution_count": 160,
   "metadata": {},
   "outputs": [],
   "source": [
    "def predict(RAD_id, path='/home/hadoop/Documents/Neutrino/SRAD2018/SRAD2018_train'):\n",
    "    last = np.array(PIL.Image.open(\"%s/%s/%s_%03d.png\" % (path, RAD_id, RAD_id, 30))).astype(np.uint8)\n",
    "#     last = last + 1\n",
    "#     last = last.astype(np.uint8)\n",
    "    mean_list = []\n",
    "    for i in range(31):\n",
    "        temp = np.array(PIL.Image.open('%s/%s/%s_%03d.png' % (path, RAD_id, RAD_id, i))).astype(np.uint8)\n",
    "        temp = np.where(temp==255, 0, temp)\n",
    "        mean_list.append(temp.ravel().mean())\n",
    "    mean_list = np.array(mean_list)\n",
    "    if mean_list.mean() < 0.5:\n",
    "        return [last] * 6\n",
    "    \n",
    "    move_list = []\n",
    "    temp_matrix_list = []\n",
    "#     print(RAD_id)\n",
    "    for i in range(20, 26, 1):\n",
    "#     for i in range(20, 26, 1):\n",
    "#     for i in range(0, 60, 5):\n",
    "#     for i in range(0, 5, 5):\n",
    "        temp_matrix_old = np.array(PIL.Image.open(\"%s/%s/%s_%03d.png\" % (path, RAD_id, RAD_id, i + 0))).astype(np.uint8)\n",
    "        temp_matrix_new = np.array(PIL.Image.open(\"%s/%s/%s_%03d.png\" % (path, RAD_id, RAD_id, i + step_size))).astype(np.uint8)\n",
    "        temp_matrix_old = np.where(temp_matrix_old==255, 0, temp_matrix_old)\n",
    "#         temp_matrix_old = temp_matrix_old + 1\n",
    "#         temp_matrix_old = temp_matrix_old.astype(np.uint8)\n",
    "        temp_matrix_new = np.where(temp_matrix_new==255, 0, temp_matrix_new)\n",
    "#         temp_matrix_new = temp_matrix_new + 1\n",
    "#         temp_matrix_new = temp_matrix_new.astype(np.uint8)\n",
    "        temp_matrix_list.append(temp_matrix_new)\n",
    "#         plt.imshow(temp_matrix_old, cmap=cm.gist_ncar_r, vmin=vmin, vmax=vmax)\n",
    "#         plt.show()\n",
    "#         plt.imshow(temp_matrix_new, cmap=cm.gist_ncar_r, vmin=vmin, vmax=vmax)\n",
    "#         plt.show()\n",
    "        \n",
    "        p0 = cv2.goodFeaturesToTrack(temp_matrix_old, mask = None, **feature_params)\n",
    "        \n",
    "        try:\n",
    "            len(p0)\n",
    "        except:\n",
    "            return [last] * 6\n",
    "        \n",
    "        # Create a mask image for drawing purposes\n",
    "        mask = np.zeros_like(temp_matrix_old)\n",
    "\n",
    "        # calculate optical flow\n",
    "        p1, st, err = cv2.calcOpticalFlowPyrLK(temp_matrix_old, temp_matrix_new, p0, None, **lk_params)\n",
    "\n",
    "        # Select good points\n",
    "        good_new = p1[st==1]\n",
    "        good_old = p0[st==1]\n",
    "        \n",
    "        move = (good_new - good_old).mean(axis=0)\n",
    "        move_list.append(move)\n",
    "        \n",
    "#         # draw the tracks\n",
    "#         for j,(new,old) in enumerate(zip(good_new,good_old)):\n",
    "#             a,b = new.ravel()\n",
    "#             c,d = old.ravel()\n",
    "#             mask = cv2.line(mask, (a,b),(c,d), color, 2)\n",
    "#             img = copy.deepcopy(temp_matrix_new)\n",
    "#             img = cv2.circle(img,(a,b),3,color,-1)\n",
    "#         img = cv2.add(img,mask)\n",
    "        \n",
    "#         print(i, i+step_size)\n",
    "#         print(move)\n",
    "#         plt.imshow(img, cmap=cm.gist_ncar_r, vmin=vmin, vmax=vmax)\n",
    "#         plt.show()\n",
    "        \n",
    "#         H = np.float32([[1,0,move[0]], [0,1,move[1]]])\n",
    "#         res = cv2.warpAffine(img, H, (501, 501))\n",
    "#         plt.imshow(res, cmap=cm.gist_ncar_r, vmin=vmin, vmax=vmax)\n",
    "#         plt.show()\n",
    "    move_list = np.array(move_list)\n",
    "    move = move_list.mean(axis=0)\n",
    "    for i in range(len(temp_matrix_list)):\n",
    "        k = (len(temp_matrix_list) - 1 - i)\n",
    "        H = np.float32([[1,0,k*move[0]], [0,1,k*move[1]]])\n",
    "        temp_matrix_list[i] = cv2.warpAffine(temp_matrix_list[i], H, (501, 501))\n",
    "        \n",
    "    temp_matrix_list = np.array(temp_matrix_list)\n",
    "    temp_matrix = temp_matrix_list.mean(axis=0)\n",
    "    H = np.float32([[1,0,move[0]], [0,1,move[1]]])\n",
    "    res = cv2.warpAffine(temp_matrix, H, (501, 501))\n",
    "#     plt.imshow(res, cmap=cm.gist_ncar_r, vmin=vmin, vmax=vmax)\n",
    "#     plt.show()\n",
    "#     plt.imshow(last, cmap=cm.gist_ncar_r, vmin=vmin, vmax=vmax)\n",
    "#     plt.show()\n",
    "    \n",
    "    ans_list = []\n",
    "    last = np.where(last==255, 0, last)\n",
    "    for i in range(1, 7):\n",
    "        k = i * 1\n",
    "        H = np.float32([[1,0,k*move[0]], [0,1,k*move[1]]])\n",
    "        res = cv2.warpAffine(last, H, (501, 501))\n",
    "        res = np.where(res==0, 255, res)\n",
    "        ans_list.append(res)\n",
    "    return ans_list"
   ]
  },
  {
   "cell_type": "code",
   "execution_count": 161,
   "metadata": {
    "scrolled": true
   },
   "outputs": [
    {
     "name": "stdout",
     "output_type": "stream",
     "text": [
      "start time: 2018-10-09 22:06:22\n",
      "RAD_id_counter=    0\t\tIt takes 0.12\n",
      "RAD_id_counter=   10\t\tIt takes 0.68\n",
      "RAD_id_counter=   20\t\tIt takes 1.38\n",
      "RAD_id_counter=   30\t\tIt takes 2.18\n",
      "RAD_id_counter=   40\t\tIt takes 2.88\n",
      "RAD_id_counter=   50\t\tIt takes 3.58\n",
      "RAD_id_counter=   60\t\tIt takes 4.25\n",
      "RAD_id_counter=   70\t\tIt takes 5.13\n",
      "RAD_id_counter=   80\t\tIt takes 5.78\n",
      "RAD_id_counter=   90\t\tIt takes 6.69\n",
      "     model_abs_loss=1.8744206\n",
      "last_frame_abs_loss=1.9779436\n",
      "     model_sqr_loss=38.1972909\n",
      "last_frame_sqr_loss=40.9361165\n",
      "It took  00:00:07\n",
      "end time: 2018-10-09 22:06:29\n"
     ]
    }
   ],
   "source": [
    "start_time = time.time()\n",
    "print(time.strftime(\"start time: %Y-%m-%d %H:%M:%S\", time.localtime()))\n",
    "model_abs_loss = []\n",
    "model_sqr_loss = []\n",
    "last_frame_abs_loss = []\n",
    "last_frame_sqr_loss = []\n",
    "for RAD_id_counter, RAD_id in enumerate(RAD_id_list[:100]):\n",
    "    x_last = np.array(PIL.Image.open(\"/home/hadoop/Documents/Neutrino/SRAD2018/SRAD2018_train/%s/%s_%03d.png\" % (RAD_id, RAD_id, 30))).astype(np.uint8)\n",
    "#     x_last = np.where(x_last==255, -1, x_last)\n",
    "#     x_last = x_last + 1\n",
    "#     x_last = x_last.astype(np.uint8)\n",
    "    y_true_last = np.array(PIL.Image.open(\"/home/hadoop/Documents/Neutrino/SRAD2018/SRAD2018_train/%s/%s_%03d.png\" % (RAD_id, RAD_id, 60))).astype(np.uint8)\n",
    "#     y_true_last = np.where(y_true_last==255, -1, y_true_last)\n",
    "#     y_true_last = y_true_last + 1\n",
    "#     y_true_last = y_true_last.astype(np.uint8)\n",
    "    y_pred_last = predict(RAD_id)[-1]\n",
    "#     plt.imshow(x_last, cmap=cm.gist_ncar_r, vmin=vmin, vmax=vmax)\n",
    "#     plt.show()\n",
    "#     plt.imshow(y_pred_last, cmap=cm.gist_ncar_r, vmin=vmin, vmax=vmax)\n",
    "#     plt.show()\n",
    "    x_last = np.where(x_last==255, 0, x_last)\n",
    "    y_true_last = np.where(y_true_last==255, 0, y_true_last)\n",
    "    y_pred_last = np.where(y_pred_last==255, 0, y_pred_last)\n",
    "    last_frame_abs_loss.append(sklearn.metrics.mean_absolute_error(y_true_last.astype(np.int), x_last.astype(np.int)))\n",
    "    model_abs_loss.append(sklearn.metrics.mean_absolute_error(y_true_last.astype(np.int), y_pred_last.astype(np.int)))\n",
    "    last_frame_sqr_loss.append(sklearn.metrics.mean_squared_error(y_true_last.astype(np.int), x_last.astype(np.int)))\n",
    "    model_sqr_loss.append(sklearn.metrics.mean_squared_error(y_true_last.astype(np.int), y_pred_last.astype(np.int)))\n",
    "    if RAD_id_counter % 10 == 0:\n",
    "        print('RAD_id_counter=%5d\\t\\tIt takes %.2f' % (RAD_id_counter, time.time() - start_time))\n",
    "model_abs_loss = np.array(model_abs_loss)\n",
    "last_frame_abs_loss = np.array(last_frame_abs_loss)\n",
    "model_sqr_loss = np.array(model_sqr_loss)\n",
    "last_frame_sqr_loss = np.array(last_frame_sqr_loss)\n",
    "print('     model_abs_loss=%.7f' % model_abs_loss.mean())\n",
    "print('last_frame_abs_loss=%.7f' % last_frame_abs_loss.mean())\n",
    "print('     model_sqr_loss=%.7f' % model_sqr_loss.mean())\n",
    "print('last_frame_sqr_loss=%.7f' % last_frame_sqr_loss.mean())\n",
    "print(time.strftime('It took  %H:%M:%S', time.gmtime(time.time() - start_time)))\n",
    "print(time.strftime(\"end time: %Y-%m-%d %H:%M:%S\", time.localtime()))"
   ]
  },
  {
   "cell_type": "code",
   "execution_count": 134,
   "metadata": {},
   "outputs": [
    {
     "data": {
      "text/plain": [
       "array([[0, 0, 0, ..., 0, 0, 0],\n",
       "       [0, 0, 0, ..., 0, 0, 0],\n",
       "       [0, 0, 0, ..., 0, 0, 0],\n",
       "       ...,\n",
       "       [0, 0, 0, ..., 0, 0, 0],\n",
       "       [0, 0, 0, ..., 0, 0, 0],\n",
       "       [0, 0, 0, ..., 0, 0, 0]], dtype=uint8)"
      ]
     },
     "execution_count": 134,
     "metadata": {},
     "output_type": "execute_result"
    }
   ],
   "source": [
    "y_true_last#.astype(np.int)"
   ]
  },
  {
   "cell_type": "code",
   "execution_count": 135,
   "metadata": {},
   "outputs": [
    {
     "data": {
      "text/plain": [
       "array([[0, 0, 0, ..., 0, 0, 0],\n",
       "       [0, 0, 0, ..., 0, 0, 0],\n",
       "       [0, 0, 0, ..., 0, 0, 0],\n",
       "       ...,\n",
       "       [0, 0, 0, ..., 0, 0, 0],\n",
       "       [0, 0, 0, ..., 0, 0, 0],\n",
       "       [0, 0, 0, ..., 0, 0, 0]], dtype=uint8)"
      ]
     },
     "execution_count": 135,
     "metadata": {},
     "output_type": "execute_result"
    }
   ],
   "source": [
    "y_pred_last#.astype(np.int)"
   ]
  },
  {
   "cell_type": "code",
   "execution_count": 138,
   "metadata": {},
   "outputs": [
    {
     "name": "stdout",
     "output_type": "stream",
     "text": [
      "     model_abs_loss=1.8744206\n",
      "last_frame_abs_loss=1.9779436\n",
      "     model_sqr_loss=38.1972909\n",
      "last_frame_sqr_loss=40.9361165\n"
     ]
    },
    {
     "data": {
      "image/png": "[encoded data removed]",
      "text/plain": [
       "<Figure size 432x288 with 1 Axes>"
      ]
     },
     "metadata": {},
     "output_type": "display_data"
    },
    {
     "data": {
      "image/png": "[encoded data removed]",
      "text/plain": [
       "<Figure size 432x288 with 1 Axes>"
      ]
     },
     "metadata": {},
     "output_type": "display_data"
    },
    {
     "data": {
      "image/png": "[encoded data removed]",
      "text/plain": [
       "<Figure size 432x288 with 1 Axes>"
      ]
     },
     "metadata": {},
     "output_type": "display_data"
    }
   ],
   "source": [
    "print('     model_abs_loss=%.7f' % model_abs_loss.mean())\n",
    "print('last_frame_abs_loss=%.7f' % last_frame_abs_loss.mean())\n",
    "print('     model_sqr_loss=%.7f' % model_sqr_loss.mean())\n",
    "print('last_frame_sqr_loss=%.7f' % last_frame_sqr_loss.mean())\n",
    "\n",
    "plt.imshow(x_last, cmap=cm.gist_ncar_r, vmin=vmin, vmax=vmax)\n",
    "plt.show()\n",
    "\n",
    "plt.imshow(y_pred_last, cmap=cm.gist_ncar_r, vmin=vmin, vmax=vmax)\n",
    "plt.show()\n",
    "\n",
    "plt.imshow(y_true_last, cmap=cm.gist_ncar_r, vmin=vmin, vmax=vmax)\n",
    "plt.show()"
   ]
  },
  {
   "cell_type": "code",
   "execution_count": 184,
   "metadata": {},
   "outputs": [],
   "source": [
    "version = 'SRAD2018_Neutrino_Optical_Flow_v0.2.4.1_18.10.09.22.06'"
   ]
  },
  {
   "cell_type": "code",
   "execution_count": 186,
   "metadata": {
    "scrolled": true
   },
   "outputs": [
    {
     "name": "stdout",
     "output_type": "stream",
     "text": [
      "version=SRAD2018_Neutrino_Optical_Flow_v0.2.4.1_18.10.09.22.06\n",
      "start time: 2018-10-09 22:10:26\n",
      "RAD_id_counter=    0\t\tIt takes 0.04\n",
      "RAD_id_counter=   10\t\tIt takes 0.74\n",
      "RAD_id_counter=   20\t\tIt takes 2.08\n",
      "RAD_id_counter=   30\t\tIt takes 3.01\n",
      "RAD_id_counter=   40\t\tIt takes 3.81\n",
      "RAD_id_counter=   50\t\tIt takes 4.50\n",
      "RAD_id_counter=   60\t\tIt takes 5.51\n",
      "RAD_id_counter=   70\t\tIt takes 6.44\n",
      "RAD_id_counter=   80\t\tIt takes 7.11\n",
      "RAD_id_counter=   90\t\tIt takes 7.80\n",
      "RAD_id_counter=  100\t\tIt takes 8.54\n",
      "RAD_id_counter=  110\t\tIt takes 9.34\n",
      "RAD_id_counter=  120\t\tIt takes 10.29\n",
      "RAD_id_counter=  130\t\tIt takes 11.00\n",
      "RAD_id_counter=  140\t\tIt takes 12.12\n",
      "RAD_id_counter=  150\t\tIt takes 12.89\n",
      "RAD_id_counter=  160\t\tIt takes 14.18\n",
      "RAD_id_counter=  170\t\tIt takes 15.06\n",
      "RAD_id_counter=  180\t\tIt takes 16.01\n",
      "RAD_id_counter=  190\t\tIt takes 17.02\n",
      "RAD_id_counter=  200\t\tIt takes 17.91\n",
      "RAD_id_counter=  210\t\tIt takes 18.72\n",
      "RAD_id_counter=  220\t\tIt takes 19.55\n",
      "RAD_id_counter=  230\t\tIt takes 20.34\n",
      "RAD_id_counter=  240\t\tIt takes 21.08\n",
      "RAD_id_counter=  250\t\tIt takes 22.02\n",
      "RAD_id_counter=  260\t\tIt takes 22.99\n",
      "RAD_id_counter=  270\t\tIt takes 23.92\n",
      "RAD_id_counter=  280\t\tIt takes 24.97\n",
      "RAD_id_counter=  290\t\tIt takes 25.76\n",
      "RAD_id_counter=  300\t\tIt takes 26.61\n",
      "RAD_id_counter=  310\t\tIt takes 27.18\n",
      "RAD_id_counter=  320\t\tIt takes 28.04\n",
      "RAD_id_counter=  330\t\tIt takes 29.03\n",
      "RAD_id_counter=  340\t\tIt takes 29.88\n",
      "RAD_id_counter=  350\t\tIt takes 30.98\n",
      "RAD_id_counter=  360\t\tIt takes 32.00\n",
      "RAD_id_counter=  370\t\tIt takes 32.74\n",
      "RAD_id_counter=  380\t\tIt takes 33.54\n",
      "RAD_id_counter=  390\t\tIt takes 34.35\n",
      "RAD_id_counter=  400\t\tIt takes 35.18\n",
      "RAD_id_counter=  410\t\tIt takes 36.25\n",
      "RAD_id_counter=  420\t\tIt takes 37.30\n",
      "RAD_id_counter=  430\t\tIt takes 38.21\n",
      "RAD_id_counter=  440\t\tIt takes 39.14\n",
      "RAD_id_counter=  450\t\tIt takes 40.34\n",
      "RAD_id_counter=  460\t\tIt takes 41.34\n",
      "RAD_id_counter=  470\t\tIt takes 42.19\n",
      "RAD_id_counter=  480\t\tIt takes 43.48\n",
      "RAD_id_counter=  490\t\tIt takes 44.40\n",
      "RAD_id_counter=  500\t\tIt takes 45.42\n",
      "RAD_id_counter=  510\t\tIt takes 46.57\n",
      "RAD_id_counter=  520\t\tIt takes 47.64\n",
      "RAD_id_counter=  530\t\tIt takes 48.90\n",
      "RAD_id_counter=  540\t\tIt takes 49.91\n",
      "RAD_id_counter=  550\t\tIt takes 50.84\n",
      "RAD_id_counter=  560\t\tIt takes 51.47\n",
      "RAD_id_counter=  570\t\tIt takes 52.70\n",
      "RAD_id_counter=  580\t\tIt takes 53.69\n",
      "RAD_id_counter=  590\t\tIt takes 54.41\n",
      "RAD_id_counter=  600\t\tIt takes 55.40\n",
      "RAD_id_counter=  610\t\tIt takes 56.31\n",
      "RAD_id_counter=  620\t\tIt takes 57.18\n",
      "RAD_id_counter=  630\t\tIt takes 58.10\n",
      "RAD_id_counter=  640\t\tIt takes 59.10\n",
      "RAD_id_counter=  650\t\tIt takes 59.92\n",
      "RAD_id_counter=  660\t\tIt takes 60.59\n",
      "RAD_id_counter=  670\t\tIt takes 61.66\n",
      "RAD_id_counter=  680\t\tIt takes 62.70\n",
      "RAD_id_counter=  690\t\tIt takes 63.56\n",
      "RAD_id_counter=  700\t\tIt takes 64.44\n",
      "RAD_id_counter=  710\t\tIt takes 65.37\n",
      "RAD_id_counter=  720\t\tIt takes 66.37\n",
      "RAD_id_counter=  730\t\tIt takes 67.84\n",
      "RAD_id_counter=  740\t\tIt takes 68.70\n",
      "RAD_id_counter=  750\t\tIt takes 69.99\n",
      "RAD_id_counter=  760\t\tIt takes 71.04\n",
      "RAD_id_counter=  770\t\tIt takes 72.02\n",
      "RAD_id_counter=  780\t\tIt takes 72.76\n",
      "RAD_id_counter=  790\t\tIt takes 73.67\n",
      "RAD_id_counter=  800\t\tIt takes 74.78\n",
      "RAD_id_counter=  810\t\tIt takes 75.67\n",
      "RAD_id_counter=  820\t\tIt takes 76.67\n",
      "RAD_id_counter=  830\t\tIt takes 77.69\n",
      "RAD_id_counter=  840\t\tIt takes 78.60\n",
      "RAD_id_counter=  850\t\tIt takes 79.33\n",
      "RAD_id_counter=  860\t\tIt takes 80.47\n",
      "RAD_id_counter=  870\t\tIt takes 81.46\n",
      "RAD_id_counter=  880\t\tIt takes 82.50\n",
      "RAD_id_counter=  890\t\tIt takes 83.42\n",
      "RAD_id_counter=  900\t\tIt takes 84.44\n",
      "RAD_id_counter=  910\t\tIt takes 85.43\n",
      "RAD_id_counter=  920\t\tIt takes 86.18\n",
      "RAD_id_counter=  930\t\tIt takes 86.92\n",
      "RAD_id_counter=  940\t\tIt takes 87.70\n",
      "RAD_id_counter=  950\t\tIt takes 88.77\n",
      "RAD_id_counter=  960\t\tIt takes 89.49\n",
      "RAD_id_counter=  970\t\tIt takes 90.63\n",
      "RAD_id_counter=  980\t\tIt takes 91.38\n",
      "RAD_id_counter=  990\t\tIt takes 92.35\n",
      "RAD_id_counter= 1000\t\tIt takes 93.32\n",
      "RAD_id_counter= 1010\t\tIt takes 94.18\n",
      "RAD_id_counter= 1020\t\tIt takes 95.29\n",
      "RAD_id_counter= 1030\t\tIt takes 96.08\n",
      "RAD_id_counter= 1040\t\tIt takes 96.95\n",
      "RAD_id_counter= 1050\t\tIt takes 97.73\n",
      "RAD_id_counter= 1060\t\tIt takes 98.43\n",
      "RAD_id_counter= 1070\t\tIt takes 99.18\n",
      "RAD_id_counter= 1080\t\tIt takes 99.92\n",
      "RAD_id_counter= 1090\t\tIt takes 101.02\n",
      "RAD_id_counter= 1100\t\tIt takes 102.01\n",
      "RAD_id_counter= 1110\t\tIt takes 102.76\n",
      "RAD_id_counter= 1120\t\tIt takes 103.69\n",
      "RAD_id_counter= 1130\t\tIt takes 104.58\n",
      "RAD_id_counter= 1140\t\tIt takes 105.49\n",
      "RAD_id_counter= 1150\t\tIt takes 106.78\n",
      "RAD_id_counter= 1160\t\tIt takes 107.69\n",
      "RAD_id_counter= 1170\t\tIt takes 108.45\n",
      "RAD_id_counter= 1180\t\tIt takes 109.24\n",
      "RAD_id_counter= 1190\t\tIt takes 109.80\n",
      "RAD_id_counter= 1200\t\tIt takes 110.55\n",
      "RAD_id_counter= 1210\t\tIt takes 111.38\n",
      "RAD_id_counter= 1220\t\tIt takes 112.55\n",
      "RAD_id_counter= 1230\t\tIt takes 113.37\n",
      "RAD_id_counter= 1240\t\tIt takes 114.18\n",
      "RAD_id_counter= 1250\t\tIt takes 114.99\n",
      "RAD_id_counter= 1260\t\tIt takes 115.98\n",
      "RAD_id_counter= 1270\t\tIt takes 116.53\n",
      "RAD_id_counter= 1280\t\tIt takes 117.46\n",
      "RAD_id_counter= 1290\t\tIt takes 118.53\n",
      "RAD_id_counter= 1300\t\tIt takes 119.42\n",
      "RAD_id_counter= 1310\t\tIt takes 120.47\n",
      "RAD_id_counter= 1320\t\tIt takes 121.18\n",
      "RAD_id_counter= 1330\t\tIt takes 122.00\n",
      "RAD_id_counter= 1340\t\tIt takes 122.77\n",
      "RAD_id_counter= 1350\t\tIt takes 123.80\n",
      "RAD_id_counter= 1360\t\tIt takes 124.94\n",
      "RAD_id_counter= 1370\t\tIt takes 125.66\n",
      "RAD_id_counter= 1380\t\tIt takes 126.64\n",
      "RAD_id_counter= 1390\t\tIt takes 127.70\n",
      "RAD_id_counter= 1400\t\tIt takes 128.62\n",
      "RAD_id_counter= 1410\t\tIt takes 129.46\n",
      "RAD_id_counter= 1420\t\tIt takes 130.06\n",
      "RAD_id_counter= 1430\t\tIt takes 131.11\n",
      "RAD_id_counter= 1440\t\tIt takes 132.13\n",
      "RAD_id_counter= 1450\t\tIt takes 132.80\n",
      "RAD_id_counter= 1460\t\tIt takes 133.77\n",
      "RAD_id_counter= 1470\t\tIt takes 134.59\n",
      "RAD_id_counter= 1480\t\tIt takes 135.41\n",
      "RAD_id_counter= 1490\t\tIt takes 136.38\n",
      "RAD_id_counter= 1500\t\tIt takes 137.24\n",
      "RAD_id_counter= 1510\t\tIt takes 137.98\n",
      "RAD_id_counter= 1520\t\tIt takes 138.75\n",
      "RAD_id_counter= 1530\t\tIt takes 139.51\n",
      "RAD_id_counter= 1540\t\tIt takes 140.48\n",
      "RAD_id_counter= 1550\t\tIt takes 141.25\n",
      "RAD_id_counter= 1560\t\tIt takes 142.15\n",
      "RAD_id_counter= 1570\t\tIt takes 143.05\n",
      "RAD_id_counter= 1580\t\tIt takes 144.08\n",
      "RAD_id_counter= 1590\t\tIt takes 144.96\n",
      "RAD_id_counter= 1600\t\tIt takes 145.81\n",
      "RAD_id_counter= 1610\t\tIt takes 146.80\n",
      "RAD_id_counter= 1620\t\tIt takes 147.81\n",
      "RAD_id_counter= 1630\t\tIt takes 148.90\n",
      "RAD_id_counter= 1640\t\tIt takes 149.84\n",
      "RAD_id_counter= 1650\t\tIt takes 151.02\n",
      "RAD_id_counter= 1660\t\tIt takes 152.14\n",
      "RAD_id_counter= 1670\t\tIt takes 152.82\n",
      "RAD_id_counter= 1680\t\tIt takes 153.76\n",
      "RAD_id_counter= 1690\t\tIt takes 154.50\n",
      "RAD_id_counter= 1700\t\tIt takes 155.23\n",
      "RAD_id_counter= 1710\t\tIt takes 156.49\n",
      "RAD_id_counter= 1720\t\tIt takes 157.52\n",
      "RAD_id_counter= 1730\t\tIt takes 158.57\n",
      "RAD_id_counter= 1740\t\tIt takes 159.46\n",
      "RAD_id_counter= 1750\t\tIt takes 160.60\n",
      "RAD_id_counter= 1760\t\tIt takes 161.42\n",
      "RAD_id_counter= 1770\t\tIt takes 162.39\n"
     ]
    },
    {
     "name": "stderr",
     "output_type": "stream",
     "text": [
      "/home/hadoop/.local/lib/python3.5/site-packages/ipykernel_launcher.py:52: RuntimeWarning: Mean of empty slice.\n",
      "/home/hadoop/.local/lib/python3.5/site-packages/numpy/core/_methods.py:73: RuntimeWarning: invalid value encountered in true_divide\n",
      "  ret, rcount, out=ret, casting='unsafe', subok=False)\n"
     ]
    },
    {
     "name": "stdout",
     "output_type": "stream",
     "text": [
      "RAD_id_counter= 1780\t\tIt takes 163.06\n",
      "RAD_id_counter= 1790\t\tIt takes 164.17\n",
      "RAD_id_counter= 1800\t\tIt takes 165.08\n",
      "RAD_id_counter= 1810\t\tIt takes 166.11\n",
      "RAD_id_counter= 1820\t\tIt takes 166.95\n",
      "RAD_id_counter= 1830\t\tIt takes 168.15\n",
      "RAD_id_counter= 1840\t\tIt takes 169.03\n",
      "RAD_id_counter= 1850\t\tIt takes 169.92\n",
      "RAD_id_counter= 1860\t\tIt takes 170.74\n",
      "RAD_id_counter= 1870\t\tIt takes 171.74\n",
      "RAD_id_counter= 1880\t\tIt takes 172.75\n",
      "RAD_id_counter= 1890\t\tIt takes 173.50\n",
      "RAD_id_counter= 1900\t\tIt takes 174.55\n",
      "RAD_id_counter= 1910\t\tIt takes 175.31\n",
      "RAD_id_counter= 1920\t\tIt takes 176.26\n",
      "RAD_id_counter= 1930\t\tIt takes 177.18\n",
      "RAD_id_counter= 1940\t\tIt takes 177.85\n",
      "RAD_id_counter= 1950\t\tIt takes 178.57\n",
      "RAD_id_counter= 1960\t\tIt takes 179.67\n",
      "RAD_id_counter= 1970\t\tIt takes 180.67\n",
      "RAD_id_counter= 1980\t\tIt takes 181.61\n",
      "RAD_id_counter= 1990\t\tIt takes 182.48\n",
      "RAD_id_counter= 2000\t\tIt takes 183.30\n",
      "RAD_id_counter= 2010\t\tIt takes 184.06\n",
      "RAD_id_counter= 2020\t\tIt takes 185.00\n",
      "RAD_id_counter= 2030\t\tIt takes 185.92\n",
      "RAD_id_counter= 2040\t\tIt takes 186.60\n",
      "RAD_id_counter= 2050\t\tIt takes 187.56\n",
      "RAD_id_counter= 2060\t\tIt takes 188.59\n",
      "RAD_id_counter= 2070\t\tIt takes 189.61\n",
      "RAD_id_counter= 2080\t\tIt takes 190.58\n",
      "RAD_id_counter= 2090\t\tIt takes 191.38\n",
      "RAD_id_counter= 2100\t\tIt takes 192.02\n",
      "RAD_id_counter= 2110\t\tIt takes 192.91\n",
      "RAD_id_counter= 2120\t\tIt takes 194.01\n",
      "RAD_id_counter= 2130\t\tIt takes 194.99\n",
      "RAD_id_counter= 2140\t\tIt takes 195.86\n",
      "RAD_id_counter= 2150\t\tIt takes 196.66\n",
      "RAD_id_counter= 2160\t\tIt takes 197.69\n",
      "RAD_id_counter= 2170\t\tIt takes 198.31\n",
      "RAD_id_counter= 2180\t\tIt takes 199.10\n",
      "RAD_id_counter= 2190\t\tIt takes 199.86\n",
      "RAD_id_counter= 2200\t\tIt takes 200.99\n",
      "RAD_id_counter= 2210\t\tIt takes 201.72\n",
      "RAD_id_counter= 2220\t\tIt takes 202.30\n",
      "RAD_id_counter= 2230\t\tIt takes 203.02\n",
      "RAD_id_counter= 2240\t\tIt takes 203.70\n",
      "RAD_id_counter= 2250\t\tIt takes 204.25\n",
      "RAD_id_counter= 2260\t\tIt takes 204.95\n",
      "RAD_id_counter= 2270\t\tIt takes 205.87\n",
      "RAD_id_counter= 2280\t\tIt takes 206.84\n",
      "RAD_id_counter= 2290\t\tIt takes 207.86\n",
      "RAD_id_counter= 2300\t\tIt takes 208.79\n",
      "RAD_id_counter= 2310\t\tIt takes 209.96\n",
      "RAD_id_counter= 2320\t\tIt takes 210.88\n",
      "RAD_id_counter= 2330\t\tIt takes 211.69\n",
      "RAD_id_counter= 2340\t\tIt takes 212.35\n",
      "RAD_id_counter= 2350\t\tIt takes 213.38\n",
      "RAD_id_counter= 2360\t\tIt takes 214.49\n",
      "RAD_id_counter= 2370\t\tIt takes 215.40\n",
      "RAD_id_counter= 2380\t\tIt takes 216.20\n",
      "RAD_id_counter= 2390\t\tIt takes 216.85\n",
      "RAD_id_counter= 2400\t\tIt takes 217.79\n",
      "RAD_id_counter= 2410\t\tIt takes 218.75\n",
      "RAD_id_counter= 2420\t\tIt takes 219.60\n",
      "RAD_id_counter= 2430\t\tIt takes 220.77\n",
      "RAD_id_counter= 2440\t\tIt takes 221.68\n",
      "RAD_id_counter= 2450\t\tIt takes 222.74\n",
      "RAD_id_counter= 2460\t\tIt takes 223.76\n",
      "RAD_id_counter= 2470\t\tIt takes 224.90\n",
      "RAD_id_counter= 2480\t\tIt takes 225.68\n",
      "RAD_id_counter= 2490\t\tIt takes 226.58\n",
      "RAD_id_counter= 2500\t\tIt takes 227.38\n",
      "RAD_id_counter= 2510\t\tIt takes 228.33\n",
      "RAD_id_counter= 2520\t\tIt takes 229.09\n",
      "RAD_id_counter= 2530\t\tIt takes 230.02\n",
      "RAD_id_counter= 2540\t\tIt takes 230.87\n",
      "RAD_id_counter= 2550\t\tIt takes 231.74\n",
      "RAD_id_counter= 2560\t\tIt takes 232.44\n",
      "RAD_id_counter= 2570\t\tIt takes 233.48\n",
      "RAD_id_counter= 2580\t\tIt takes 234.64\n",
      "RAD_id_counter= 2590\t\tIt takes 235.42\n",
      "RAD_id_counter= 2600\t\tIt takes 236.40\n",
      "RAD_id_counter= 2610\t\tIt takes 237.19\n",
      "RAD_id_counter= 2620\t\tIt takes 238.08\n",
      "RAD_id_counter= 2630\t\tIt takes 238.88\n",
      "RAD_id_counter= 2640\t\tIt takes 239.72\n",
      "RAD_id_counter= 2650\t\tIt takes 240.79\n",
      "RAD_id_counter= 2660\t\tIt takes 241.48\n",
      "RAD_id_counter= 2670\t\tIt takes 242.47\n",
      "RAD_id_counter= 2680\t\tIt takes 243.22\n",
      "RAD_id_counter= 2690\t\tIt takes 244.16\n",
      "RAD_id_counter= 2700\t\tIt takes 244.91\n",
      "RAD_id_counter= 2710\t\tIt takes 245.59\n",
      "RAD_id_counter= 2720\t\tIt takes 246.51\n",
      "RAD_id_counter= 2730\t\tIt takes 247.30\n",
      "RAD_id_counter= 2740\t\tIt takes 248.07\n",
      "RAD_id_counter= 2750\t\tIt takes 248.79\n",
      "RAD_id_counter= 2760\t\tIt takes 249.44\n",
      "RAD_id_counter= 2770\t\tIt takes 250.39\n",
      "RAD_id_counter= 2780\t\tIt takes 251.33\n",
      "RAD_id_counter= 2790\t\tIt takes 252.39\n",
      "RAD_id_counter= 2800\t\tIt takes 253.32\n",
      "RAD_id_counter= 2810\t\tIt takes 254.20\n",
      "RAD_id_counter= 2820\t\tIt takes 255.22\n",
      "RAD_id_counter= 2830\t\tIt takes 256.08\n",
      "RAD_id_counter= 2840\t\tIt takes 256.92\n",
      "RAD_id_counter= 2850\t\tIt takes 257.70\n",
      "RAD_id_counter= 2860\t\tIt takes 258.80\n",
      "RAD_id_counter= 2870\t\tIt takes 259.71\n",
      "RAD_id_counter= 2880\t\tIt takes 260.62\n",
      "RAD_id_counter= 2890\t\tIt takes 261.59\n",
      "RAD_id_counter= 2900\t\tIt takes 262.41\n",
      "RAD_id_counter= 2910\t\tIt takes 262.96\n",
      "RAD_id_counter= 2920\t\tIt takes 264.04\n",
      "RAD_id_counter= 2930\t\tIt takes 264.79\n",
      "RAD_id_counter= 2940\t\tIt takes 265.97\n",
      "RAD_id_counter= 2950\t\tIt takes 266.80\n",
      "RAD_id_counter= 2960\t\tIt takes 267.92\n",
      "RAD_id_counter= 2970\t\tIt takes 268.55\n",
      "RAD_id_counter= 2980\t\tIt takes 269.35\n",
      "RAD_id_counter= 2990\t\tIt takes 270.15\n",
      "RAD_id_counter= 3000\t\tIt takes 271.16\n",
      "RAD_id_counter= 3010\t\tIt takes 272.21\n",
      "RAD_id_counter= 3020\t\tIt takes 273.13\n",
      "RAD_id_counter= 3030\t\tIt takes 273.93\n",
      "RAD_id_counter= 3040\t\tIt takes 274.72\n",
      "RAD_id_counter= 3050\t\tIt takes 275.32\n",
      "RAD_id_counter= 3060\t\tIt takes 276.44\n",
      "RAD_id_counter= 3070\t\tIt takes 277.43\n",
      "RAD_id_counter= 3080\t\tIt takes 278.26\n",
      "RAD_id_counter= 3090\t\tIt takes 279.00\n",
      "RAD_id_counter= 3100\t\tIt takes 280.02\n",
      "RAD_id_counter= 3110\t\tIt takes 281.00\n",
      "RAD_id_counter= 3120\t\tIt takes 281.75\n",
      "RAD_id_counter= 3130\t\tIt takes 282.69\n",
      "RAD_id_counter= 3140\t\tIt takes 283.54\n",
      "RAD_id_counter= 3150\t\tIt takes 284.65\n",
      "RAD_id_counter= 3160\t\tIt takes 285.58\n",
      "RAD_id_counter= 3170\t\tIt takes 286.63\n",
      "RAD_id_counter= 3180\t\tIt takes 287.35\n",
      "RAD_id_counter= 3190\t\tIt takes 288.24\n",
      "RAD_id_counter= 3200\t\tIt takes 289.20\n",
      "RAD_id_counter= 3210\t\tIt takes 289.95\n",
      "RAD_id_counter= 3220\t\tIt takes 291.01\n",
      "RAD_id_counter= 3230\t\tIt takes 292.16\n",
      "RAD_id_counter= 3240\t\tIt takes 293.27\n",
      "RAD_id_counter= 3250\t\tIt takes 293.98\n",
      "RAD_id_counter= 3260\t\tIt takes 294.85\n",
      "RAD_id_counter= 3270\t\tIt takes 295.43\n",
      "RAD_id_counter= 3280\t\tIt takes 296.29\n",
      "RAD_id_counter= 3290\t\tIt takes 296.97\n",
      "RAD_id_counter= 3300\t\tIt takes 297.84\n",
      "RAD_id_counter= 3310\t\tIt takes 298.72\n",
      "RAD_id_counter= 3320\t\tIt takes 299.67\n",
      "RAD_id_counter= 3330\t\tIt takes 300.53\n",
      "RAD_id_counter= 3340\t\tIt takes 301.45\n",
      "RAD_id_counter= 3350\t\tIt takes 302.44\n",
      "RAD_id_counter= 3360\t\tIt takes 303.41\n",
      "RAD_id_counter= 3370\t\tIt takes 304.27\n",
      "RAD_id_counter= 3380\t\tIt takes 305.16\n",
      "RAD_id_counter= 3390\t\tIt takes 306.16\n",
      "RAD_id_counter= 3400\t\tIt takes 307.17\n",
      "RAD_id_counter= 3410\t\tIt takes 308.24\n",
      "RAD_id_counter= 3420\t\tIt takes 309.04\n",
      "RAD_id_counter= 3430\t\tIt takes 310.09\n",
      "RAD_id_counter= 3440\t\tIt takes 310.80\n",
      "RAD_id_counter= 3450\t\tIt takes 311.92\n",
      "RAD_id_counter= 3460\t\tIt takes 312.63\n",
      "RAD_id_counter= 3470\t\tIt takes 313.32\n",
      "RAD_id_counter= 3480\t\tIt takes 314.24\n",
      "RAD_id_counter= 3490\t\tIt takes 315.41\n",
      "RAD_id_counter= 3500\t\tIt takes 316.43\n",
      "RAD_id_counter= 3510\t\tIt takes 317.47\n",
      "RAD_id_counter= 3520\t\tIt takes 318.36\n",
      "RAD_id_counter= 3530\t\tIt takes 319.17\n",
      "RAD_id_counter= 3540\t\tIt takes 320.24\n",
      "RAD_id_counter= 3550\t\tIt takes 321.38\n",
      "RAD_id_counter= 3560\t\tIt takes 322.51\n",
      "RAD_id_counter= 3570\t\tIt takes 323.37\n",
      "RAD_id_counter= 3580\t\tIt takes 324.29\n",
      "RAD_id_counter= 3590\t\tIt takes 325.19\n",
      "RAD_id_counter= 3600\t\tIt takes 325.96\n",
      "RAD_id_counter= 3610\t\tIt takes 326.92\n",
      "RAD_id_counter= 3620\t\tIt takes 328.12\n",
      "RAD_id_counter= 3630\t\tIt takes 329.24\n",
      "RAD_id_counter= 3640\t\tIt takes 330.40\n",
      "RAD_id_counter= 3650\t\tIt takes 331.37\n",
      "RAD_id_counter= 3660\t\tIt takes 331.91\n",
      "RAD_id_counter= 3670\t\tIt takes 332.93\n",
      "RAD_id_counter= 3680\t\tIt takes 333.83\n",
      "RAD_id_counter= 3690\t\tIt takes 334.98\n",
      "RAD_id_counter= 3700\t\tIt takes 335.67\n",
      "RAD_id_counter= 3710\t\tIt takes 336.58\n",
      "RAD_id_counter= 3720\t\tIt takes 337.38\n",
      "RAD_id_counter= 3730\t\tIt takes 338.61\n",
      "RAD_id_counter= 3740\t\tIt takes 339.66\n",
      "RAD_id_counter= 3750\t\tIt takes 340.46\n",
      "RAD_id_counter= 3760\t\tIt takes 341.62\n",
      "RAD_id_counter= 3770\t\tIt takes 342.65\n",
      "RAD_id_counter= 3780\t\tIt takes 343.29\n",
      "RAD_id_counter= 3790\t\tIt takes 344.21\n",
      "RAD_id_counter= 3800\t\tIt takes 344.78\n",
      "RAD_id_counter= 3810\t\tIt takes 345.76\n",
      "RAD_id_counter= 3820\t\tIt takes 346.59\n",
      "RAD_id_counter= 3830\t\tIt takes 347.48\n",
      "RAD_id_counter= 3840\t\tIt takes 348.42\n",
      "RAD_id_counter= 3850\t\tIt takes 349.18\n",
      "RAD_id_counter= 3860\t\tIt takes 350.01\n",
      "RAD_id_counter= 3870\t\tIt takes 351.00\n",
      "RAD_id_counter= 3880\t\tIt takes 352.01\n",
      "RAD_id_counter= 3890\t\tIt takes 353.15\n",
      "RAD_id_counter= 3900\t\tIt takes 354.20\n",
      "RAD_id_counter= 3910\t\tIt takes 355.39\n",
      "RAD_id_counter= 3920\t\tIt takes 356.30\n",
      "RAD_id_counter= 3930\t\tIt takes 357.27\n"
     ]
    },
    {
     "name": "stdout",
     "output_type": "stream",
     "text": [
      "RAD_id_counter= 3940\t\tIt takes 358.14\n",
      "RAD_id_counter= 3950\t\tIt takes 359.05\n",
      "RAD_id_counter= 3960\t\tIt takes 360.25\n",
      "RAD_id_counter= 3970\t\tIt takes 361.09\n",
      "RAD_id_counter= 3980\t\tIt takes 362.00\n",
      "RAD_id_counter= 3990\t\tIt takes 363.14\n",
      "RAD_id_counter= 4000\t\tIt takes 364.01\n",
      "RAD_id_counter= 4010\t\tIt takes 364.97\n",
      "RAD_id_counter= 4020\t\tIt takes 365.74\n",
      "RAD_id_counter= 4030\t\tIt takes 366.58\n",
      "RAD_id_counter= 4040\t\tIt takes 367.39\n",
      "RAD_id_counter= 4050\t\tIt takes 368.29\n",
      "RAD_id_counter= 4060\t\tIt takes 369.10\n",
      "RAD_id_counter= 4070\t\tIt takes 370.03\n",
      "RAD_id_counter= 4080\t\tIt takes 371.00\n",
      "RAD_id_counter= 4090\t\tIt takes 371.91\n",
      "RAD_id_counter= 4100\t\tIt takes 372.72\n",
      "RAD_id_counter= 4110\t\tIt takes 373.57\n",
      "RAD_id_counter= 4120\t\tIt takes 374.47\n",
      "RAD_id_counter= 4130\t\tIt takes 375.77\n",
      "RAD_id_counter= 4140\t\tIt takes 376.74\n",
      "RAD_id_counter= 4150\t\tIt takes 377.94\n",
      "RAD_id_counter= 4160\t\tIt takes 378.65\n",
      "RAD_id_counter= 4170\t\tIt takes 379.72\n",
      "RAD_id_counter= 4180\t\tIt takes 380.27\n",
      "RAD_id_counter= 4190\t\tIt takes 381.21\n",
      "RAD_id_counter= 4200\t\tIt takes 382.27\n",
      "RAD_id_counter= 4210\t\tIt takes 383.33\n",
      "RAD_id_counter= 4220\t\tIt takes 384.21\n",
      "RAD_id_counter= 4230\t\tIt takes 385.26\n",
      "RAD_id_counter= 4240\t\tIt takes 386.18\n",
      "RAD_id_counter= 4250\t\tIt takes 386.91\n",
      "RAD_id_counter= 4260\t\tIt takes 387.67\n",
      "RAD_id_counter= 4270\t\tIt takes 388.76\n",
      "RAD_id_counter= 4280\t\tIt takes 389.29\n",
      "RAD_id_counter= 4290\t\tIt takes 389.95\n",
      "RAD_id_counter= 4300\t\tIt takes 391.05\n",
      "RAD_id_counter= 4310\t\tIt takes 392.10\n",
      "RAD_id_counter= 4320\t\tIt takes 392.91\n",
      "RAD_id_counter= 4330\t\tIt takes 394.13\n",
      "RAD_id_counter= 4340\t\tIt takes 395.32\n",
      "RAD_id_counter= 4350\t\tIt takes 396.29\n",
      "RAD_id_counter= 4360\t\tIt takes 397.31\n",
      "RAD_id_counter= 4370\t\tIt takes 398.36\n",
      "RAD_id_counter= 4380\t\tIt takes 399.08\n",
      "RAD_id_counter= 4390\t\tIt takes 400.18\n",
      "RAD_id_counter= 4400\t\tIt takes 401.12\n",
      "RAD_id_counter= 4410\t\tIt takes 401.99\n",
      "RAD_id_counter= 4420\t\tIt takes 402.96\n",
      "RAD_id_counter= 4430\t\tIt takes 403.86\n",
      "RAD_id_counter= 4440\t\tIt takes 404.80\n",
      "RAD_id_counter= 4450\t\tIt takes 405.95\n",
      "RAD_id_counter= 4460\t\tIt takes 406.76\n",
      "RAD_id_counter= 4470\t\tIt takes 407.78\n",
      "RAD_id_counter= 4480\t\tIt takes 408.61\n",
      "RAD_id_counter= 4490\t\tIt takes 409.52\n",
      "RAD_id_counter= 4500\t\tIt takes 410.25\n",
      "RAD_id_counter= 4510\t\tIt takes 410.95\n",
      "RAD_id_counter= 4520\t\tIt takes 411.76\n",
      "RAD_id_counter= 4530\t\tIt takes 412.63\n",
      "RAD_id_counter= 4540\t\tIt takes 413.58\n",
      "RAD_id_counter= 4550\t\tIt takes 414.61\n",
      "RAD_id_counter= 4560\t\tIt takes 415.38\n",
      "RAD_id_counter= 4570\t\tIt takes 416.32\n",
      "RAD_id_counter= 4580\t\tIt takes 417.36\n",
      "RAD_id_counter= 4590\t\tIt takes 418.40\n",
      "RAD_id_counter= 4600\t\tIt takes 418.94\n",
      "RAD_id_counter= 4610\t\tIt takes 419.79\n",
      "RAD_id_counter= 4620\t\tIt takes 420.70\n",
      "RAD_id_counter= 4630\t\tIt takes 421.96\n",
      "RAD_id_counter= 4640\t\tIt takes 422.95\n",
      "RAD_id_counter= 4650\t\tIt takes 423.83\n",
      "RAD_id_counter= 4660\t\tIt takes 424.46\n",
      "RAD_id_counter= 4670\t\tIt takes 425.58\n",
      "RAD_id_counter= 4680\t\tIt takes 426.79\n",
      "RAD_id_counter= 4690\t\tIt takes 427.57\n",
      "RAD_id_counter= 4700\t\tIt takes 428.65\n",
      "RAD_id_counter= 4710\t\tIt takes 429.58\n",
      "RAD_id_counter= 4720\t\tIt takes 430.77\n",
      "RAD_id_counter= 4730\t\tIt takes 431.79\n",
      "RAD_id_counter= 4740\t\tIt takes 432.60\n",
      "RAD_id_counter= 4750\t\tIt takes 433.45\n",
      "RAD_id_counter= 4760\t\tIt takes 434.56\n",
      "RAD_id_counter= 4770\t\tIt takes 435.55\n",
      "RAD_id_counter= 4780\t\tIt takes 436.10\n",
      "RAD_id_counter= 4790\t\tIt takes 437.14\n",
      "RAD_id_counter= 4800\t\tIt takes 437.99\n",
      "RAD_id_counter= 4810\t\tIt takes 439.15\n",
      "RAD_id_counter= 4820\t\tIt takes 440.28\n",
      "RAD_id_counter= 4830\t\tIt takes 440.94\n",
      "RAD_id_counter= 4840\t\tIt takes 441.76\n",
      "RAD_id_counter= 4850\t\tIt takes 443.11\n",
      "RAD_id_counter= 4860\t\tIt takes 444.10\n",
      "RAD_id_counter= 4870\t\tIt takes 444.71\n",
      "RAD_id_counter= 4880\t\tIt takes 445.71\n",
      "RAD_id_counter= 4890\t\tIt takes 446.91\n",
      "RAD_id_counter= 4900\t\tIt takes 447.76\n",
      "RAD_id_counter= 4910\t\tIt takes 448.86\n",
      "RAD_id_counter= 4920\t\tIt takes 449.89\n",
      "RAD_id_counter= 4930\t\tIt takes 450.72\n",
      "RAD_id_counter= 4940\t\tIt takes 451.41\n",
      "RAD_id_counter= 4950\t\tIt takes 452.25\n",
      "RAD_id_counter= 4960\t\tIt takes 453.11\n",
      "RAD_id_counter= 4970\t\tIt takes 453.85\n",
      "RAD_id_counter= 4980\t\tIt takes 454.92\n",
      "RAD_id_counter= 4990\t\tIt takes 455.81\n",
      "RAD_id_counter= 5000\t\tIt takes 456.74\n",
      "RAD_id_counter= 5010\t\tIt takes 457.44\n",
      "RAD_id_counter= 5020\t\tIt takes 458.33\n",
      "RAD_id_counter= 5030\t\tIt takes 459.45\n",
      "RAD_id_counter= 5040\t\tIt takes 460.38\n",
      "RAD_id_counter= 5050\t\tIt takes 461.17\n",
      "RAD_id_counter= 5060\t\tIt takes 461.94\n",
      "RAD_id_counter= 5070\t\tIt takes 462.98\n",
      "RAD_id_counter= 5080\t\tIt takes 464.11\n",
      "RAD_id_counter= 5090\t\tIt takes 464.98\n",
      "RAD_id_counter= 5100\t\tIt takes 466.15\n",
      "RAD_id_counter= 5110\t\tIt takes 467.13\n",
      "RAD_id_counter= 5120\t\tIt takes 468.04\n",
      "RAD_id_counter= 5130\t\tIt takes 468.85\n",
      "RAD_id_counter= 5140\t\tIt takes 469.56\n",
      "RAD_id_counter= 5150\t\tIt takes 470.50\n",
      "RAD_id_counter= 5160\t\tIt takes 471.40\n",
      "RAD_id_counter= 5170\t\tIt takes 472.42\n",
      "RAD_id_counter= 5180\t\tIt takes 473.08\n",
      "RAD_id_counter= 5190\t\tIt takes 473.90\n",
      "RAD_id_counter= 5200\t\tIt takes 474.92\n",
      "RAD_id_counter= 5210\t\tIt takes 475.79\n",
      "RAD_id_counter= 5220\t\tIt takes 476.96\n",
      "RAD_id_counter= 5230\t\tIt takes 477.86\n",
      "RAD_id_counter= 5240\t\tIt takes 478.81\n",
      "RAD_id_counter= 5250\t\tIt takes 479.90\n",
      "RAD_id_counter= 5260\t\tIt takes 480.93\n",
      "RAD_id_counter= 5270\t\tIt takes 481.80\n",
      "RAD_id_counter= 5280\t\tIt takes 482.90\n",
      "RAD_id_counter= 5290\t\tIt takes 483.61\n",
      "RAD_id_counter= 5300\t\tIt takes 484.46\n",
      "RAD_id_counter= 5310\t\tIt takes 485.63\n",
      "RAD_id_counter= 5320\t\tIt takes 486.38\n",
      "RAD_id_counter= 5330\t\tIt takes 487.22\n",
      "RAD_id_counter= 5340\t\tIt takes 488.25\n",
      "RAD_id_counter= 5350\t\tIt takes 489.23\n",
      "RAD_id_counter= 5360\t\tIt takes 489.95\n",
      "RAD_id_counter= 5370\t\tIt takes 490.85\n",
      "RAD_id_counter= 5380\t\tIt takes 491.83\n",
      "RAD_id_counter= 5390\t\tIt takes 492.65\n",
      "RAD_id_counter= 5400\t\tIt takes 493.48\n",
      "RAD_id_counter= 5410\t\tIt takes 494.34\n",
      "RAD_id_counter= 5420\t\tIt takes 495.46\n",
      "RAD_id_counter= 5430\t\tIt takes 496.54\n",
      "RAD_id_counter= 5440\t\tIt takes 497.41\n",
      "RAD_id_counter= 5450\t\tIt takes 498.31\n",
      "RAD_id_counter= 5460\t\tIt takes 499.21\n",
      "RAD_id_counter= 5470\t\tIt takes 500.05\n",
      "RAD_id_counter= 5480\t\tIt takes 500.86\n",
      "RAD_id_counter= 5490\t\tIt takes 502.08\n",
      "RAD_id_counter= 5500\t\tIt takes 503.10\n",
      "RAD_id_counter= 5510\t\tIt takes 504.15\n",
      "RAD_id_counter= 5520\t\tIt takes 505.21\n",
      "RAD_id_counter= 5530\t\tIt takes 505.85\n",
      "RAD_id_counter= 5540\t\tIt takes 506.80\n",
      "RAD_id_counter= 5550\t\tIt takes 507.86\n",
      "RAD_id_counter= 5560\t\tIt takes 508.58\n",
      "RAD_id_counter= 5570\t\tIt takes 509.26\n",
      "RAD_id_counter= 5580\t\tIt takes 510.11\n",
      "RAD_id_counter= 5590\t\tIt takes 511.04\n",
      "RAD_id_counter= 5600\t\tIt takes 511.87\n",
      "RAD_id_counter= 5610\t\tIt takes 512.88\n",
      "RAD_id_counter= 5620\t\tIt takes 513.88\n",
      "RAD_id_counter= 5630\t\tIt takes 514.81\n",
      "RAD_id_counter= 5640\t\tIt takes 515.60\n",
      "RAD_id_counter= 5650\t\tIt takes 516.42\n",
      "RAD_id_counter= 5660\t\tIt takes 517.25\n",
      "RAD_id_counter= 5670\t\tIt takes 517.89\n",
      "RAD_id_counter= 5680\t\tIt takes 518.83\n",
      "RAD_id_counter= 5690\t\tIt takes 519.48\n",
      "RAD_id_counter= 5700\t\tIt takes 520.52\n",
      "RAD_id_counter= 5710\t\tIt takes 521.58\n",
      "RAD_id_counter= 5720\t\tIt takes 522.79\n",
      "RAD_id_counter= 5730\t\tIt takes 523.59\n",
      "RAD_id_counter= 5740\t\tIt takes 524.47\n",
      "RAD_id_counter= 5750\t\tIt takes 525.06\n",
      "RAD_id_counter= 5760\t\tIt takes 526.06\n",
      "RAD_id_counter= 5770\t\tIt takes 527.09\n",
      "RAD_id_counter= 5780\t\tIt takes 527.86\n",
      "RAD_id_counter= 5790\t\tIt takes 528.82\n",
      "RAD_id_counter= 5800\t\tIt takes 529.81\n",
      "RAD_id_counter= 5810\t\tIt takes 530.72\n",
      "RAD_id_counter= 5820\t\tIt takes 531.84\n",
      "RAD_id_counter= 5830\t\tIt takes 532.80\n",
      "RAD_id_counter= 5840\t\tIt takes 533.60\n",
      "RAD_id_counter= 5850\t\tIt takes 534.54\n",
      "RAD_id_counter= 5860\t\tIt takes 535.43\n",
      "RAD_id_counter= 5870\t\tIt takes 536.33\n",
      "RAD_id_counter= 5880\t\tIt takes 537.01\n",
      "RAD_id_counter= 5890\t\tIt takes 538.06\n",
      "RAD_id_counter= 5900\t\tIt takes 539.07\n",
      "RAD_id_counter= 5910\t\tIt takes 539.98\n",
      "RAD_id_counter= 5920\t\tIt takes 540.99\n",
      "RAD_id_counter= 5930\t\tIt takes 541.77\n",
      "RAD_id_counter= 5940\t\tIt takes 542.63\n",
      "RAD_id_counter= 5950\t\tIt takes 543.74\n",
      "RAD_id_counter= 5960\t\tIt takes 544.69\n",
      "RAD_id_counter= 5970\t\tIt takes 545.56\n",
      "RAD_id_counter= 5980\t\tIt takes 546.55\n",
      "RAD_id_counter= 5990\t\tIt takes 547.32\n",
      "RAD_id_counter= 6000\t\tIt takes 548.29\n",
      "RAD_id_counter= 6010\t\tIt takes 549.45\n",
      "RAD_id_counter= 6020\t\tIt takes 550.41\n",
      "RAD_id_counter= 6030\t\tIt takes 551.47\n",
      "RAD_id_counter= 6040\t\tIt takes 552.33\n",
      "RAD_id_counter= 6050\t\tIt takes 553.42\n",
      "RAD_id_counter= 6060\t\tIt takes 554.28\n",
      "RAD_id_counter= 6070\t\tIt takes 555.48\n",
      "RAD_id_counter= 6080\t\tIt takes 556.30\n",
      "RAD_id_counter= 6090\t\tIt takes 557.30\n"
     ]
    },
    {
     "name": "stdout",
     "output_type": "stream",
     "text": [
      "RAD_id_counter= 6100\t\tIt takes 558.09\n",
      "RAD_id_counter= 6110\t\tIt takes 558.87\n",
      "RAD_id_counter= 6120\t\tIt takes 560.08\n",
      "RAD_id_counter= 6130\t\tIt takes 560.96\n",
      "RAD_id_counter= 6140\t\tIt takes 561.96\n",
      "RAD_id_counter= 6150\t\tIt takes 563.03\n",
      "RAD_id_counter= 6160\t\tIt takes 563.71\n",
      "RAD_id_counter= 6170\t\tIt takes 564.35\n",
      "RAD_id_counter= 6180\t\tIt takes 565.30\n",
      "RAD_id_counter= 6190\t\tIt takes 566.34\n",
      "RAD_id_counter= 6200\t\tIt takes 567.20\n",
      "RAD_id_counter= 6210\t\tIt takes 568.04\n",
      "RAD_id_counter= 6220\t\tIt takes 569.08\n",
      "RAD_id_counter= 6230\t\tIt takes 569.86\n",
      "RAD_id_counter= 6240\t\tIt takes 570.93\n",
      "RAD_id_counter= 6250\t\tIt takes 572.02\n",
      "RAD_id_counter= 6260\t\tIt takes 573.00\n",
      "RAD_id_counter= 6270\t\tIt takes 573.86\n",
      "RAD_id_counter= 6280\t\tIt takes 574.76\n",
      "RAD_id_counter= 6290\t\tIt takes 575.56\n",
      "RAD_id_counter= 6300\t\tIt takes 576.55\n",
      "RAD_id_counter= 6310\t\tIt takes 577.55\n",
      "RAD_id_counter= 6320\t\tIt takes 578.20\n",
      "RAD_id_counter= 6330\t\tIt takes 579.09\n",
      "RAD_id_counter= 6340\t\tIt takes 580.11\n",
      "RAD_id_counter= 6350\t\tIt takes 580.78\n",
      "RAD_id_counter= 6360\t\tIt takes 581.69\n",
      "RAD_id_counter= 6370\t\tIt takes 582.56\n",
      "RAD_id_counter= 6380\t\tIt takes 583.52\n",
      "RAD_id_counter= 6390\t\tIt takes 584.50\n",
      "RAD_id_counter= 6400\t\tIt takes 585.54\n",
      "RAD_id_counter= 6410\t\tIt takes 586.60\n",
      "RAD_id_counter= 6420\t\tIt takes 587.33\n",
      "RAD_id_counter= 6430\t\tIt takes 588.26\n",
      "RAD_id_counter= 6440\t\tIt takes 589.22\n",
      "RAD_id_counter= 6450\t\tIt takes 589.97\n",
      "RAD_id_counter= 6460\t\tIt takes 591.11\n",
      "RAD_id_counter= 6470\t\tIt takes 592.10\n",
      "RAD_id_counter= 6480\t\tIt takes 593.05\n",
      "RAD_id_counter= 6490\t\tIt takes 593.77\n",
      "RAD_id_counter= 6500\t\tIt takes 594.65\n",
      "RAD_id_counter= 6510\t\tIt takes 595.38\n",
      "RAD_id_counter= 6520\t\tIt takes 596.18\n",
      "RAD_id_counter= 6530\t\tIt takes 596.99\n",
      "RAD_id_counter= 6540\t\tIt takes 598.09\n",
      "RAD_id_counter= 6550\t\tIt takes 598.92\n",
      "RAD_id_counter= 6560\t\tIt takes 600.08\n",
      "RAD_id_counter= 6570\t\tIt takes 600.84\n",
      "RAD_id_counter= 6580\t\tIt takes 601.45\n",
      "RAD_id_counter= 6590\t\tIt takes 602.31\n",
      "RAD_id_counter= 6600\t\tIt takes 603.60\n",
      "RAD_id_counter= 6610\t\tIt takes 604.69\n",
      "RAD_id_counter= 6620\t\tIt takes 605.64\n",
      "RAD_id_counter= 6630\t\tIt takes 606.40\n",
      "RAD_id_counter= 6640\t\tIt takes 607.17\n",
      "RAD_id_counter= 6650\t\tIt takes 608.28\n",
      "RAD_id_counter= 6660\t\tIt takes 609.06\n",
      "RAD_id_counter= 6670\t\tIt takes 610.09\n",
      "RAD_id_counter= 6680\t\tIt takes 610.99\n",
      "RAD_id_counter= 6690\t\tIt takes 612.16\n",
      "RAD_id_counter= 6700\t\tIt takes 612.96\n",
      "RAD_id_counter= 6710\t\tIt takes 614.37\n",
      "RAD_id_counter= 6720\t\tIt takes 615.50\n",
      "RAD_id_counter= 6730\t\tIt takes 616.46\n",
      "RAD_id_counter= 6740\t\tIt takes 617.27\n",
      "RAD_id_counter= 6750\t\tIt takes 618.33\n",
      "RAD_id_counter= 6760\t\tIt takes 619.44\n",
      "RAD_id_counter= 6770\t\tIt takes 620.29\n",
      "RAD_id_counter= 6780\t\tIt takes 621.14\n",
      "RAD_id_counter= 6790\t\tIt takes 622.12\n",
      "RAD_id_counter= 6800\t\tIt takes 622.90\n",
      "RAD_id_counter= 6810\t\tIt takes 623.68\n",
      "RAD_id_counter= 6820\t\tIt takes 624.61\n",
      "RAD_id_counter= 6830\t\tIt takes 625.35\n",
      "RAD_id_counter= 6840\t\tIt takes 626.02\n",
      "RAD_id_counter= 6850\t\tIt takes 626.78\n",
      "RAD_id_counter= 6860\t\tIt takes 627.56\n",
      "RAD_id_counter= 6870\t\tIt takes 628.28\n",
      "RAD_id_counter= 6880\t\tIt takes 629.21\n",
      "RAD_id_counter= 6890\t\tIt takes 630.20\n",
      "RAD_id_counter= 6900\t\tIt takes 631.25\n",
      "RAD_id_counter= 6910\t\tIt takes 632.21\n",
      "RAD_id_counter= 6920\t\tIt takes 632.84\n",
      "RAD_id_counter= 6930\t\tIt takes 633.52\n",
      "RAD_id_counter= 6940\t\tIt takes 634.23\n",
      "RAD_id_counter= 6950\t\tIt takes 634.88\n",
      "RAD_id_counter= 6960\t\tIt takes 636.05\n",
      "RAD_id_counter= 6970\t\tIt takes 636.98\n",
      "RAD_id_counter= 6980\t\tIt takes 637.78\n",
      "RAD_id_counter= 6990\t\tIt takes 639.05\n",
      "RAD_id_counter= 7000\t\tIt takes 640.14\n",
      "RAD_id_counter= 7010\t\tIt takes 641.12\n",
      "RAD_id_counter= 7020\t\tIt takes 642.13\n",
      "RAD_id_counter= 7030\t\tIt takes 642.82\n",
      "RAD_id_counter= 7040\t\tIt takes 643.64\n",
      "RAD_id_counter= 7050\t\tIt takes 644.67\n",
      "RAD_id_counter= 7060\t\tIt takes 645.78\n",
      "RAD_id_counter= 7070\t\tIt takes 646.61\n",
      "RAD_id_counter= 7080\t\tIt takes 647.74\n",
      "RAD_id_counter= 7090\t\tIt takes 648.58\n",
      "RAD_id_counter= 7100\t\tIt takes 649.51\n",
      "RAD_id_counter= 7110\t\tIt takes 650.46\n",
      "RAD_id_counter= 7120\t\tIt takes 651.18\n",
      "RAD_id_counter= 7130\t\tIt takes 652.11\n",
      "RAD_id_counter= 7140\t\tIt takes 652.90\n",
      "RAD_id_counter= 7150\t\tIt takes 653.90\n",
      "RAD_id_counter= 7160\t\tIt takes 654.78\n",
      "RAD_id_counter= 7170\t\tIt takes 655.47\n",
      "RAD_id_counter= 7180\t\tIt takes 656.21\n",
      "RAD_id_counter= 7190\t\tIt takes 656.97\n",
      "RAD_id_counter= 7200\t\tIt takes 657.79\n",
      "RAD_id_counter= 7210\t\tIt takes 658.67\n",
      "RAD_id_counter= 7220\t\tIt takes 659.28\n",
      "RAD_id_counter= 7230\t\tIt takes 660.28\n",
      "RAD_id_counter= 7240\t\tIt takes 661.16\n",
      "RAD_id_counter= 7250\t\tIt takes 662.26\n",
      "RAD_id_counter= 7260\t\tIt takes 663.19\n",
      "RAD_id_counter= 7270\t\tIt takes 664.14\n",
      "RAD_id_counter= 7280\t\tIt takes 665.17\n",
      "RAD_id_counter= 7290\t\tIt takes 666.00\n",
      "RAD_id_counter= 7300\t\tIt takes 666.86\n",
      "RAD_id_counter= 7310\t\tIt takes 667.96\n",
      "RAD_id_counter= 7320\t\tIt takes 668.81\n",
      "RAD_id_counter= 7330\t\tIt takes 669.97\n",
      "RAD_id_counter= 7340\t\tIt takes 671.14\n",
      "RAD_id_counter= 7350\t\tIt takes 672.12\n",
      "RAD_id_counter= 7360\t\tIt takes 673.21\n",
      "RAD_id_counter= 7370\t\tIt takes 674.12\n",
      "RAD_id_counter= 7380\t\tIt takes 674.94\n",
      "RAD_id_counter= 7390\t\tIt takes 675.99\n",
      "RAD_id_counter= 7400\t\tIt takes 676.96\n",
      "RAD_id_counter= 7410\t\tIt takes 677.80\n",
      "RAD_id_counter= 7420\t\tIt takes 678.78\n",
      "RAD_id_counter= 7430\t\tIt takes 679.47\n",
      "RAD_id_counter= 7440\t\tIt takes 680.46\n",
      "RAD_id_counter= 7450\t\tIt takes 681.04\n",
      "RAD_id_counter= 7460\t\tIt takes 681.88\n",
      "RAD_id_counter= 7470\t\tIt takes 682.58\n",
      "RAD_id_counter= 7480\t\tIt takes 683.56\n",
      "RAD_id_counter= 7490\t\tIt takes 684.41\n",
      "RAD_id_counter= 7500\t\tIt takes 685.21\n",
      "RAD_id_counter= 7510\t\tIt takes 686.42\n",
      "RAD_id_counter= 7520\t\tIt takes 687.24\n",
      "RAD_id_counter= 7530\t\tIt takes 688.15\n",
      "RAD_id_counter= 7540\t\tIt takes 689.19\n",
      "RAD_id_counter= 7550\t\tIt takes 689.95\n",
      "RAD_id_counter= 7560\t\tIt takes 690.77\n",
      "RAD_id_counter= 7570\t\tIt takes 691.36\n",
      "RAD_id_counter= 7580\t\tIt takes 692.19\n",
      "RAD_id_counter= 7590\t\tIt takes 693.15\n",
      "RAD_id_counter= 7600\t\tIt takes 693.96\n",
      "RAD_id_counter= 7610\t\tIt takes 695.19\n",
      "RAD_id_counter= 7620\t\tIt takes 696.18\n",
      "RAD_id_counter= 7630\t\tIt takes 697.15\n",
      "RAD_id_counter= 7640\t\tIt takes 698.24\n",
      "RAD_id_counter= 7650\t\tIt takes 699.31\n",
      "RAD_id_counter= 7660\t\tIt takes 700.42\n",
      "RAD_id_counter= 7670\t\tIt takes 701.17\n",
      "RAD_id_counter= 7680\t\tIt takes 701.92\n",
      "RAD_id_counter= 7690\t\tIt takes 702.88\n",
      "RAD_id_counter= 7700\t\tIt takes 703.62\n",
      "RAD_id_counter= 7710\t\tIt takes 704.40\n",
      "RAD_id_counter= 7720\t\tIt takes 705.08\n",
      "RAD_id_counter= 7730\t\tIt takes 705.98\n",
      "RAD_id_counter= 7740\t\tIt takes 706.84\n",
      "RAD_id_counter= 7750\t\tIt takes 707.69\n",
      "RAD_id_counter= 7760\t\tIt takes 708.52\n",
      "RAD_id_counter= 7770\t\tIt takes 709.62\n",
      "RAD_id_counter= 7780\t\tIt takes 710.41\n",
      "RAD_id_counter= 7790\t\tIt takes 711.45\n",
      "RAD_id_counter= 7800\t\tIt takes 712.48\n",
      "RAD_id_counter= 7810\t\tIt takes 713.52\n",
      "RAD_id_counter= 7820\t\tIt takes 714.34\n",
      "RAD_id_counter= 7830\t\tIt takes 715.04\n",
      "RAD_id_counter= 7840\t\tIt takes 716.10\n",
      "RAD_id_counter= 7850\t\tIt takes 717.11\n",
      "RAD_id_counter= 7860\t\tIt takes 717.98\n",
      "RAD_id_counter= 7870\t\tIt takes 718.88\n",
      "RAD_id_counter= 7880\t\tIt takes 719.67\n",
      "RAD_id_counter= 7890\t\tIt takes 720.58\n",
      "RAD_id_counter= 7900\t\tIt takes 721.54\n",
      "RAD_id_counter= 7910\t\tIt takes 722.56\n",
      "RAD_id_counter= 7920\t\tIt takes 723.37\n",
      "RAD_id_counter= 7930\t\tIt takes 724.54\n",
      "RAD_id_counter= 7940\t\tIt takes 725.66\n",
      "RAD_id_counter= 7950\t\tIt takes 726.60\n",
      "RAD_id_counter= 7960\t\tIt takes 727.27\n",
      "RAD_id_counter= 7970\t\tIt takes 728.12\n",
      "RAD_id_counter= 7980\t\tIt takes 729.09\n",
      "RAD_id_counter= 7990\t\tIt takes 729.93\n",
      "It took  00:12:10\n",
      "end time: 2018-10-09 22:22:37\n"
     ]
    }
   ],
   "source": [
    "print('version=%s' % version)\n",
    "start_time = time.time()\n",
    "print(time.strftime(\"start time: %Y-%m-%d %H:%M:%S\", time.localtime()))\n",
    "for RAD_id_counter, RAD_id in enumerate(RAD_id_submit_list):\n",
    "    if not os.path.exists(\"/home/hadoop/Documents/Neutrino/SRAD2018/SRAD2018_submit/%s/%s\" % (version, RAD_id)):\n",
    "        os.makedirs(\"/home/hadoop/Documents/Neutrino/SRAD2018/SRAD2018_submit/%s/%s\" % (version, RAD_id))\n",
    "    result_list = predict(RAD_id, path='/home/hadoop/Documents/Neutrino/SRAD2018/SRAD2018_Test_2')\n",
    "    for i in range(6):\n",
    "        result = result_list[i]\n",
    "        result = result.astype(np.uint8)\n",
    "        result = np.where(result==0, 255, result)\n",
    "        result = PIL.Image.fromarray(result)\n",
    "        result.save(\"/home/hadoop/Documents/Neutrino/SRAD2018/SRAD2018_submit/%s/%s/%s_f%03d.png\" % (version, RAD_id, RAD_id, i + 1))\n",
    "    if RAD_id_counter % 10 == 0:\n",
    "        print('RAD_id_counter=%5d\\t\\tIt takes %.2f' % (RAD_id_counter, time.time() - start_time))\n",
    "print(time.strftime('It took  %H:%M:%S', time.gmtime(time.time() - start_time)))\n",
    "print(time.strftime(\"end time: %Y-%m-%d %H:%M:%S\", time.localtime()))"
   ]
  },
  {
   "cell_type": "code",
   "execution_count": 171,
   "metadata": {},
   "outputs": [
    {
     "data": {
      "text/plain": [
       "array([[255, 255, 255, ..., 255, 255, 255],\n",
       "       [255, 255, 255, ..., 255, 255, 255],\n",
       "       [255, 255, 255, ..., 255, 255, 255],\n",
       "       ...,\n",
       "       [255, 255, 255, ..., 255, 255, 255],\n",
       "       [255, 255, 255, ..., 255, 255, 255],\n",
       "       [255, 255, 255, ..., 255, 255,   0]], dtype=uint8)"
      ]
     },
     "execution_count": 171,
     "metadata": {},
     "output_type": "execute_result"
    }
   ],
   "source": [
    "result_list[i]"
   ]
  },
  {
   "cell_type": "code",
   "execution_count": 172,
   "metadata": {},
   "outputs": [
    {
     "data": {
      "text/plain": [
       "array([[  0,   0,   0,   0,   0,   0,   0,   0,   0,   0],\n",
       "       [  0,   0,   0,   0,   0,   0,   0,   0,   0,   0],\n",
       "       [  0,   0,   0,   0,   0,   0,   0,   0,   0,   0],\n",
       "       [  0,   0,   0,   0,   0,   0,   0,   0,   0,   0],\n",
       "       [  0,   0,   0,   0,   2,   0,   0,   0,   0,   0],\n",
       "       [  0,   0,   0,   2,   0,   0,   0,   0,   0,   0],\n",
       "       [  0,   0,   0,   0,   0,   0,   0,   0,   0,   0],\n",
       "       [  0,   0,   0,   0,   0,   0,   0,   0,   0, 255],\n",
       "       [  0,   0,   0,   0,   0,   0,   0,   0,   0,   0],\n",
       "       [  0,   0,   0, 255,   0,   0,   0,   0,   0,   0]], dtype=uint8)"
      ]
     },
     "execution_count": 172,
     "metadata": {},
     "output_type": "execute_result"
    }
   ],
   "source": [
    "result_list[i][160:170,230:240]"
   ]
  },
  {
   "cell_type": "code",
   "execution_count": 173,
   "metadata": {},
   "outputs": [
    {
     "data": {
      "image/png": "[encoded data removed]",
      "text/plain": [
       "<Figure size 432x288 with 1 Axes>"
      ]
     },
     "metadata": {},
     "output_type": "display_data"
    }
   ],
   "source": [
    "\n",
    "plt.imshow(result_list[i], cmap=cm.gist_ncar_r, vmin=-1, vmax=255)\n",
    "plt.show()"
   ]
  },
  {
   "cell_type": "code",
   "execution_count": 174,
   "metadata": {},
   "outputs": [
    {
     "data": {
      "image/png": "[encoded data removed]",
      "text/plain": [
       "<PIL.Image.Image image mode=L size=501x501 at 0x7FF77C198F98>"
      ]
     },
     "execution_count": 174,
     "metadata": {},
     "output_type": "execute_result"
    }
   ],
   "source": [
    "result"
   ]
  },
  {
   "cell_type": "code",
   "execution_count": null,
   "metadata": {},
   "outputs": [],
   "source": [
    "for RAD_id_counter, RAD_id in enumerate(RAD_id_submit_list[1775:1777]):\n",
    "    result_list = predict(RAD_id, path='/home/hadoop/Documents/Neutrino/SRAD2018/SRAD2018_Test_2')\n",
    "    print(RAD_id)\n",
    "    plt.imshow(result_list[-1], cmap=cm.gist_ncar_r, vmin=vmin, vmax=vmax)\n",
    "    plt.show()"
   ]
  },
  {
   "cell_type": "markdown",
   "metadata": {},
   "source": [
    "```bash\n",
    "zip -r \"SRAD2018_Neutrino_Optical_Flow_v0.2.4.1_18.10.09.22.06.zip\" \"SRAD2018_Neutrino_Optical_Flow_v0.2.4.1_18.10.09.22.06\"\n",
    "ls | wc -l\n",
    "scp -P 50000 hadoop@222.200.177.32:~/Documents/Neutrino/SRAD2018/SRAD2018_submit/SRAD2018_Neutrino_Optical_Flow_v0.2.4.1_18.10.09.22.06.zip C:/SRAD2018/\n",
    "```"
   ]
  },
  {
   "cell_type": "markdown",
   "metadata": {},
   "source": [
    "# Reference\n",
    "- https://opencv-python-tutroals.readthedocs.io/en/latest/py_tutorials/py_video/py_lucas_kanade/py_lucas_kanade.html\n",
    "- https://blog.csdn.net/on2way/article/details/46801063"
   ]
  },
  {
   "cell_type": "code",
   "execution_count": 145,
   "metadata": {},
   "outputs": [],
   "source": [
    "old_version = 'SRAD2018_Neutrino_Optical_Flow_v0.2.3.1_18.10.09.00.47'"
   ]
  },
  {
   "cell_type": "code",
   "execution_count": 176,
   "metadata": {},
   "outputs": [],
   "source": [
    "counter = 1\n",
    "a = np.array(PIL.Image.open(\"/home/hadoop/Documents/Neutrino/SRAD2018/SRAD2018_Test_2/%s/%s_%03d.png\" % (RAD_id_submit_list[counter], RAD_id_submit_list[counter], 30))).astype(np.float)\n",
    "b = np.array(PIL.Image.open(\"/home/hadoop/Documents/Neutrino/SRAD2018/SRAD2018_submit/%s/%s/%s_f%03d.png\" % (version, RAD_id_submit_list[counter], RAD_id_submit_list[counter], 1))).astype(np.float)"
   ]
  },
  {
   "cell_type": "code",
   "execution_count": 177,
   "metadata": {},
   "outputs": [
    {
     "data": {
      "text/plain": [
       "58430.04051776684"
      ]
     },
     "execution_count": 177,
     "metadata": {},
     "output_type": "execute_result"
    }
   ],
   "source": [
    "sklearn.metrics.mean_squared_error(a, b)"
   ]
  },
  {
   "cell_type": "code",
   "execution_count": 178,
   "metadata": {},
   "outputs": [
    {
     "data": {
      "text/plain": [
       "229.13741379516415"
      ]
     },
     "execution_count": 178,
     "metadata": {},
     "output_type": "execute_result"
    }
   ],
   "source": [
    "sklearn.metrics.mean_absolute_error(a, b)"
   ]
  },
  {
   "cell_type": "code",
   "execution_count": 179,
   "metadata": {},
   "outputs": [
    {
     "data": {
      "text/plain": [
       "array([[255., 255., 255., ..., 255., 255., 255.],\n",
       "       [255., 255., 255., ..., 255., 255., 255.],\n",
       "       [255., 255., 255., ..., 255., 255., 255.],\n",
       "       ...,\n",
       "       [255., 255., 255., ..., 255., 255., 255.],\n",
       "       [255., 255., 255., ..., 255., 255., 255.],\n",
       "       [255., 255., 255., ..., 255., 255.,   0.]])"
      ]
     },
     "execution_count": 179,
     "metadata": {},
     "output_type": "execute_result"
    }
   ],
   "source": [
    "a"
   ]
  },
  {
   "cell_type": "code",
   "execution_count": 180,
   "metadata": {},
   "outputs": [
    {
     "data": {
      "text/plain": [
       "array([[255., 255., 255., ..., 255., 255., 255.],\n",
       "       [255., 255., 255., ..., 255., 255., 255.],\n",
       "       [255., 255., 255., ..., 255., 255., 255.],\n",
       "       ...,\n",
       "       [255., 255., 255., ..., 255., 255., 255.],\n",
       "       [255., 255., 255., ..., 255., 255., 255.],\n",
       "       [255., 255., 255., ..., 255., 255., 255.]])"
      ]
     },
     "execution_count": 180,
     "metadata": {},
     "output_type": "execute_result"
    }
   ],
   "source": [
    "b"
   ]
  },
  {
   "cell_type": "code",
   "execution_count": 181,
   "metadata": {},
   "outputs": [
    {
     "data": {
      "text/plain": [
       "array([[  0.,   0.,   0.,   0.,   0.,   0.,   0.,   0.,   0.,   0.],\n",
       "       [  0.,   0.,   0.,   0.,   0.,   0.,   0.,   0.,   0.,   0.],\n",
       "       [  0.,   0.,   0.,   0.,   0.,   0.,   0.,   0.,   0.,   0.],\n",
       "       [  0.,   0.,   0.,   0.,   0.,   0.,   0.,   0.,   0.,   0.],\n",
       "       [  0.,   0.,   0.,   0.,   2.,   0.,   0.,   0.,   0.,   0.],\n",
       "       [  0.,   0.,   0.,   2.,   0.,   0.,   0.,   0.,   0.,   0.],\n",
       "       [  0.,   0.,   0.,   0.,   0.,   0.,   0.,   0.,   0.,   0.],\n",
       "       [  0.,   0.,   0.,   0.,   0.,   0.,   0.,   0.,   0., 255.],\n",
       "       [  0.,   0.,   0.,   0.,   0.,   0.,   0.,   0.,   0.,   0.],\n",
       "       [  0.,   0.,   0., 255.,   0.,   0.,   0.,   0.,   0.,   0.]])"
      ]
     },
     "execution_count": 181,
     "metadata": {},
     "output_type": "execute_result"
    }
   ],
   "source": [
    "a[160:170,230:240]"
   ]
  },
  {
   "cell_type": "code",
   "execution_count": 182,
   "metadata": {},
   "outputs": [
    {
     "data": {
      "text/plain": [
       "array([[255., 255., 255., 255., 255., 255., 255., 255., 255., 255.],\n",
       "       [255., 255., 255., 255., 255., 255., 255., 255., 255., 255.],\n",
       "       [255., 255., 255., 255., 255., 255., 255., 255., 255., 255.],\n",
       "       [255., 255., 255., 255., 255., 255., 255., 255., 255., 255.],\n",
       "       [255., 255., 255., 255.,   2., 255., 255., 255., 255., 255.],\n",
       "       [255., 255., 255.,   2., 255., 255., 255., 255., 255., 255.],\n",
       "       [255., 255., 255., 255., 255., 255., 255., 255., 255., 255.],\n",
       "       [255., 255., 255., 255., 255., 255., 255., 255., 255., 255.],\n",
       "       [255., 255., 255., 255., 255., 255., 255., 255., 255., 255.],\n",
       "       [255., 255., 255., 255., 255., 255., 255., 255., 255., 255.]])"
      ]
     },
     "execution_count": 182,
     "metadata": {},
     "output_type": "execute_result"
    }
   ],
   "source": [
    "b[160:170,230:240]"
   ]
  },
  {
   "cell_type": "code",
   "execution_count": 183,
   "metadata": {},
   "outputs": [
    {
     "data": {
      "image/png": "[encoded data removed]",
      "text/plain": [
       "<Figure size 432x288 with 1 Axes>"
      ]
     },
     "metadata": {},
     "output_type": "display_data"
    },
    {
     "data": {
      "image/png": "[encoded data removed]",
      "text/plain": [
       "<Figure size 432x288 with 1 Axes>"
      ]
     },
     "metadata": {},
     "output_type": "display_data"
    }
   ],
   "source": [
    "plt.imshow(a, cmap=cm.gist_ncar_r, vmin=-1, vmax=255)\n",
    "plt.show()\n",
    "plt.imshow(b, cmap=cm.gist_ncar_r, vmin=-1, vmax=255)\n",
    "plt.show()"
   ]
  },
  {
   "cell_type": "code",
   "execution_count": 154,
   "metadata": {},
   "outputs": [],
   "source": [
    "c = np.array(PIL.Image.open(\"/home/hadoop/Documents/Neutrino/SRAD2018/SRAD2018_Test_2/%s/%s_%03d.png\" % (RAD_id_submit_list[counter], RAD_id_submit_list[counter], 30))).astype(np.uint8)"
   ]
  },
  {
   "cell_type": "code",
   "execution_count": 86,
   "metadata": {},
   "outputs": [
    {
     "data": {
      "text/plain": [
       "array([[255, 255, 255, ..., 255, 255, 255],\n",
       "       [255, 255, 255, ..., 255, 255, 255],\n",
       "       [255, 255, 255, ..., 255, 255, 255],\n",
       "       ...,\n",
       "       [255, 255, 255, ..., 255, 255, 255],\n",
       "       [255, 255, 255, ..., 255, 255, 255],\n",
       "       [255, 255, 255, ..., 255, 255,   0]], dtype=uint8)"
      ]
     },
     "execution_count": 86,
     "metadata": {},
     "output_type": "execute_result"
    }
   ],
   "source": [
    "c"
   ]
  },
  {
   "cell_type": "code",
   "execution_count": 87,
   "metadata": {},
   "outputs": [],
   "source": [
    "c = np.where(c==255,-1,c)"
   ]
  },
  {
   "cell_type": "code",
   "execution_count": 88,
   "metadata": {},
   "outputs": [
    {
     "data": {
      "text/plain": [
       "array([[-1, -1, -1, ..., -1, -1, -1],\n",
       "       [-1, -1, -1, ..., -1, -1, -1],\n",
       "       [-1, -1, -1, ..., -1, -1, -1],\n",
       "       ...,\n",
       "       [-1, -1, -1, ..., -1, -1, -1],\n",
       "       [-1, -1, -1, ..., -1, -1, -1],\n",
       "       [-1, -1, -1, ..., -1, -1,  0]], dtype=int16)"
      ]
     },
     "execution_count": 88,
     "metadata": {},
     "output_type": "execute_result"
    }
   ],
   "source": [
    "c"
   ]
  },
  {
   "cell_type": "code",
   "execution_count": null,
   "metadata": {},
   "outputs": [],
   "source": []
  }
 ],
 "metadata": {
  "kernelspec": {
   "display_name": "Python 3",
   "language": "python",
   "name": "python3"
  },
  "language_info": {
   "codemirror_mode": {
    "name": "ipython",
    "version": 3
   },
   "file_extension": ".py",
   "mimetype": "text/x-python",
   "name": "python",
   "nbconvert_exporter": "python",
   "pygments_lexer": "ipython3",
   "version": "3.5.2"
  }
 },
 "nbformat": 4,
 "nbformat_minor": 2
}
