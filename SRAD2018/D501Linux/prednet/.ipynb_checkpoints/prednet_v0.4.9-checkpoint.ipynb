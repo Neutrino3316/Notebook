{
 "cells": [
  {
   "cell_type": "code",
   "execution_count": 1,
   "metadata": {},
   "outputs": [
    {
     "name": "stderr",
     "output_type": "stream",
     "text": [
      "Using TensorFlow backend.\n"
     ]
    }
   ],
   "source": [
    "import os\n",
    "import numpy as np\n",
    "np.random.seed(123)\n",
    "from six.moves import cPickle\n",
    "\n",
    "import keras\n",
    "import tensorflow as tf\n",
    "\n",
    "from keras import backend as K\n",
    "# from keras.models import Model\n",
    "from keras.layers import Input, Dense, Flatten\n",
    "from keras.layers import LSTM\n",
    "from keras.layers import TimeDistributed\n",
    "from keras.callbacks import LearningRateScheduler, ModelCheckpoint\n",
    "from keras.optimizers import Adam\n",
    "\n",
    "# from prednet import PredNet\n",
    "# # from data_utils import SequenceGenerator\n",
    "# from kitti_settings import *\n",
    "\n",
    "import os\n",
    "import numpy as np\n",
    "import PIL\n",
    "import matplotlib.pyplot as plt\n",
    "from matplotlib import cm\n",
    "import time\n",
    "import multiprocessing\n",
    "import random\n",
    "import sklearn\n",
    "from sklearn import metrics\n",
    "import seaborn as sns\n",
    "import cv2\n",
    "import skimage\n",
    "from skimage import restoration\n",
    "import copy"
   ]
  },
  {
   "cell_type": "code",
   "execution_count": 2,
   "metadata": {},
   "outputs": [
    {
     "name": "stdout",
     "output_type": "stream",
     "text": [
      "build time: 2018-10-04 16:15:06\n"
     ]
    }
   ],
   "source": [
    "from keras import backend as K\n",
    "from keras import activations\n",
    "from keras.layers import Recurrent\n",
    "from keras.layers import Conv2D, UpSampling2D, MaxPooling2D\n",
    "from keras.engine import InputSpec\n",
    "# from keras_utils import legacy_prednet_support\n",
    "\n",
    "class PredNet(Recurrent):\n",
    "    '''PredNet architecture - Lotter 2016.\n",
    "        Stacked convolutional LSTM inspired by predictive coding principles.\n",
    "\n",
    "    # Arguments\n",
    "        stack_sizes: number of channels in targets (A) and predictions (Ahat) in each layer of the architecture.\n",
    "            Length is the number of layers in the architecture.\n",
    "            First element is the number of channels in the input.\n",
    "            Ex. (3, 16, 32) would correspond to a 3 layer architecture that takes in RGB images and has 16 and 32\n",
    "                channels in the second and third layers, respectively.\n",
    "        R_stack_sizes: number of channels in the representation (R) modules.\n",
    "            Length must equal length of stack_sizes, but the number of channels per layer can be different.\n",
    "        A_filt_sizes: filter sizes for the target (A) modules.\n",
    "            Has length of 1 - len(stack_sizes).\n",
    "            Ex. (3, 3) would mean that targets for layers 2 and 3 are computed by a 3x3 convolution of the errors (E)\n",
    "                from the layer below (followed by max-pooling)\n",
    "        Ahat_filt_sizes: filter sizes for the prediction (Ahat) modules.\n",
    "            Has length equal to length of stack_sizes.\n",
    "            Ex. (3, 3, 3) would mean that the predictions for each layer are computed by a 3x3 convolution of the\n",
    "                representation (R) modules at each layer.\n",
    "        R_filt_sizes: filter sizes for the representation (R) modules.\n",
    "            Has length equal to length of stack_sizes.\n",
    "            Corresponds to the filter sizes for all convolutions in the LSTM.\n",
    "        pixel_max: the maximum pixel value.\n",
    "            Used to clip the pixel-layer prediction.\n",
    "        error_activation: activation function for the error (E) units.\n",
    "        A_activation: activation function for the target (A) and prediction (A_hat) units.\n",
    "        LSTM_activation: activation function for the cell and hidden states of the LSTM.\n",
    "        LSTM_inner_activation: activation function for the gates in the LSTM.\n",
    "        output_mode: either 'error', 'prediction', 'all' or layer specification (ex. R2, see below).\n",
    "            Controls what is outputted by the PredNet.\n",
    "            If 'error', the mean response of the error (E) units of each layer will be outputted.\n",
    "                That is, the output shape will be (batch_size, nb_layers).\n",
    "            If 'prediction', the frame prediction will be outputted.\n",
    "            If 'all', the output will be the frame prediction concatenated with the mean layer errors.\n",
    "                The frame prediction is flattened before concatenation.\n",
    "                Nomenclature of 'all' is kept for backwards compatibility, but should not be confused with returning all of the layers of the model\n",
    "            For returning the features of a particular layer, output_mode should be of the form unit_type + layer_number.\n",
    "                For instance, to return the features of the LSTM \"representational\" units in the lowest layer, output_mode should be specificied as 'R0'.\n",
    "                The possible unit types are 'R', 'Ahat', 'A', and 'E' corresponding to the 'representation', 'prediction', 'target', and 'error' units respectively.\n",
    "        extrap_start_time: time step for which model will start extrapolating.\n",
    "            Starting at this time step, the prediction from the previous time step will be treated as the \"actual\"\n",
    "        data_format: 'channels_first' or 'channels_last'.\n",
    "            It defaults to the `image_data_format` value found in your\n",
    "            Keras config file at `~/.keras/keras.json`.\n",
    "\n",
    "    # References\n",
    "        - [Deep predictive coding networks for video prediction and unsupervised learning](https://arxiv.org/abs/1605.08104)\n",
    "        - [Long short-term memory](http://deeplearning.cs.cmu.edu/pdfs/Hochreiter97_lstm.pdf)\n",
    "        - [Convolutional LSTM network: a machine learning approach for precipitation nowcasting](http://arxiv.org/abs/1506.04214)\n",
    "        - [Predictive coding in the visual cortex: a functional interpretation of some extra-classical receptive-field effects](http://www.nature.com/neuro/journal/v2/n1/pdf/nn0199_79.pdf)\n",
    "    '''\n",
    "#     @legacy_prednet_support\n",
    "    def __init__(self, stack_sizes, R_stack_sizes,\n",
    "                 A_filt_sizes, Ahat_filt_sizes, R_filt_sizes,\n",
    "                 pixel_max=1., error_activation='relu', A_activation='relu',\n",
    "                 LSTM_activation='tanh', LSTM_inner_activation='hard_sigmoid',\n",
    "                 conv_dropout=0.8,\n",
    "                 output_mode='error', extrap_start_time=None,\n",
    "                 data_format=K.image_data_format(), **kwargs):\n",
    "        self.stack_sizes = stack_sizes\n",
    "        self.nb_layers = len(stack_sizes)\n",
    "        assert len(R_stack_sizes) == self.nb_layers, 'len(R_stack_sizes) must equal len(stack_sizes)'\n",
    "        self.R_stack_sizes = R_stack_sizes\n",
    "        assert len(A_filt_sizes) == (self.nb_layers - 1), 'len(A_filt_sizes) must equal len(stack_sizes) - 1'\n",
    "        self.A_filt_sizes = A_filt_sizes\n",
    "        assert len(Ahat_filt_sizes) == self.nb_layers, 'len(Ahat_filt_sizes) must equal len(stack_sizes)'\n",
    "        self.Ahat_filt_sizes = Ahat_filt_sizes\n",
    "        assert len(R_filt_sizes) == (self.nb_layers), 'len(R_filt_sizes) must equal len(stack_sizes)'\n",
    "        self.R_filt_sizes = R_filt_sizes\n",
    "\n",
    "        self.pixel_max = pixel_max\n",
    "        self.error_activation = activations.get(error_activation)\n",
    "        self.A_activation = activations.get(A_activation)\n",
    "        self.LSTM_activation = activations.get(LSTM_activation)\n",
    "        self.LSTM_inner_activation = activations.get(LSTM_inner_activation)\n",
    "        self.conv_dropout = conv_dropout\n",
    "\n",
    "        default_output_modes = ['prediction', 'error', 'all']\n",
    "        layer_output_modes = [layer + str(n) for n in range(self.nb_layers) for layer in ['R', 'E', 'A', 'Ahat']]\n",
    "        assert output_mode in default_output_modes + layer_output_modes, 'Invalid output_mode: ' + str(output_mode)\n",
    "        self.output_mode = output_mode\n",
    "        if self.output_mode in layer_output_modes:\n",
    "            self.output_layer_type = self.output_mode[:-1]\n",
    "            self.output_layer_num = int(self.output_mode[-1])\n",
    "        else:\n",
    "            self.output_layer_type = None\n",
    "            self.output_layer_num = None\n",
    "        self.extrap_start_time = extrap_start_time\n",
    "\n",
    "        assert data_format in {'channels_last', 'channels_first'}, 'data_format must be in {channels_last, channels_first}'\n",
    "        self.data_format = data_format\n",
    "        self.channel_axis = -3 if data_format == 'channels_first' else -1\n",
    "        self.row_axis = -2 if data_format == 'channels_first' else -3\n",
    "        self.column_axis = -1 if data_format == 'channels_first' else -2\n",
    "        super(PredNet, self).__init__(**kwargs)\n",
    "        self.input_spec = [InputSpec(ndim=5)]\n",
    "\n",
    "    def compute_output_shape(self, input_shape):\n",
    "        if self.output_mode == 'prediction':\n",
    "            out_shape = input_shape[2:]\n",
    "        elif self.output_mode == 'error':\n",
    "            out_shape = (self.nb_layers,)\n",
    "        elif self.output_mode == 'all':\n",
    "            out_shape = (np.prod(input_shape[2:]) + self.nb_layers,)\n",
    "        else:\n",
    "            stack_str = 'R_stack_sizes' if self.output_layer_type == 'R' else 'stack_sizes'\n",
    "            stack_mult = 2 if self.output_layer_type == 'E' else 1\n",
    "            out_stack_size = stack_mult * getattr(self, stack_str)[self.output_layer_num]\n",
    "            out_nb_row = input_shape[self.row_axis] / 2**self.output_layer_num\n",
    "            out_nb_col = input_shape[self.column_axis] / 2**self.output_layer_num\n",
    "            if self.data_format == 'channels_first':\n",
    "                out_shape = (out_stack_size, out_nb_row, out_nb_col)\n",
    "            else:\n",
    "                out_shape = (out_nb_row, out_nb_col, out_stack_size)\n",
    "\n",
    "        if self.return_sequences:\n",
    "            return (input_shape[0], input_shape[1]) + out_shape\n",
    "        else:\n",
    "            return (input_shape[0],) + out_shape\n",
    "\n",
    "    def get_initial_state(self, x):\n",
    "        input_shape = self.input_spec[0].shape\n",
    "        init_nb_row = input_shape[self.row_axis]\n",
    "        init_nb_col = input_shape[self.column_axis]\n",
    "\n",
    "        base_initial_state = K.zeros_like(x)  # (samples, timesteps) + image_shape\n",
    "        non_channel_axis = -1 if self.data_format == 'channels_first' else -2\n",
    "        for _ in range(2):\n",
    "            base_initial_state = K.sum(base_initial_state, axis=non_channel_axis)\n",
    "        base_initial_state = K.sum(base_initial_state, axis=1)  # (samples, nb_channels)\n",
    "\n",
    "        initial_states = []\n",
    "        states_to_pass = ['r', 'c', 'e']\n",
    "        nlayers_to_pass = {u: self.nb_layers for u in states_to_pass}\n",
    "        if self.extrap_start_time is not None:\n",
    "            states_to_pass.append('ahat')  # pass prediction in states so can use as actual for t+1 when extrapolating\n",
    "            nlayers_to_pass['ahat'] = 1\n",
    "        for u in states_to_pass:\n",
    "            for l in range(nlayers_to_pass[u]):\n",
    "                ds_factor = 2 ** l\n",
    "                nb_row = init_nb_row // ds_factor\n",
    "                nb_col = init_nb_col // ds_factor\n",
    "                if u in ['r', 'c']:\n",
    "                    stack_size = self.R_stack_sizes[l]\n",
    "                elif u == 'e':\n",
    "                    stack_size = 2 * self.stack_sizes[l]\n",
    "                elif u == 'ahat':\n",
    "                    stack_size = self.stack_sizes[l]\n",
    "                output_size = stack_size * nb_row * nb_col  # flattened size\n",
    "\n",
    "                reducer = K.zeros((input_shape[self.channel_axis], output_size)) # (nb_channels, output_size)\n",
    "                initial_state = K.dot(base_initial_state, reducer) # (samples, output_size)\n",
    "                if self.data_format == 'channels_first':\n",
    "                    output_shp = (-1, stack_size, nb_row, nb_col)\n",
    "                else:\n",
    "                    output_shp = (-1, nb_row, nb_col, stack_size)\n",
    "                initial_state = K.reshape(initial_state, output_shp)\n",
    "                initial_states += [initial_state]\n",
    "\n",
    "        if K._BACKEND == 'theano':\n",
    "            from theano import tensor as T\n",
    "            # There is a known issue in the Theano scan op when dealing with inputs whose shape is 1 along a dimension.\n",
    "            # In our case, this is a problem when training on grayscale images, and the below line fixes it.\n",
    "            initial_states = [T.unbroadcast(init_state, 0, 1) for init_state in initial_states]\n",
    "\n",
    "        if self.extrap_start_time is not None:\n",
    "            initial_states += [K.variable(0, int if K.backend() != 'tensorflow' else 'int32')]  # the last state will correspond to the current timestep\n",
    "        return initial_states\n",
    "\n",
    "    def build(self, input_shape):\n",
    "        self.input_spec = [InputSpec(shape=input_shape)]\n",
    "        self.conv_layers = {c: [] for c in ['i', 'f', 'c', 'o', 'a', 'ahat']}\n",
    "\n",
    "        for l in range(self.nb_layers):\n",
    "            for c in ['i', 'f', 'c', 'o']:\n",
    "                act = self.LSTM_activation if c == 'c' else self.LSTM_inner_activation\n",
    "                self.conv_layers[c].append(Conv2D(self.R_stack_sizes[l], self.R_filt_sizes[l], bias_initializer='zero', padding='same', activation=act, data_format=self.data_format))\n",
    "#                 self.conv_layers[c].append(keras.layers.Dropout(self.conv_dropout))\n",
    "\n",
    "            act = 'relu' if l == 0 else self.A_activation\n",
    "            self.conv_layers['ahat'].append(Conv2D(self.stack_sizes[l], self.Ahat_filt_sizes[l], bias_initializer='zero', padding='same', activation=act, data_format=self.data_format))\n",
    "\n",
    "            if l < self.nb_layers - 1:\n",
    "                self.conv_layers['a'].append(Conv2D(self.stack_sizes[l+1], self.A_filt_sizes[l], bias_initializer='zero', padding='same', activation=self.A_activation, data_format=self.data_format))\n",
    "\n",
    "        self.upsample = UpSampling2D(data_format=self.data_format)\n",
    "        self.pool = MaxPooling2D(data_format=self.data_format)\n",
    "\n",
    "        self.trainable_weights = []\n",
    "        nb_row, nb_col = (input_shape[-2], input_shape[-1]) if self.data_format == 'channels_first' else (input_shape[-3], input_shape[-2])\n",
    "        for c in sorted(self.conv_layers.keys()):\n",
    "            for l in range(len(self.conv_layers[c])):\n",
    "                ds_factor = 2 ** l\n",
    "                if c == 'ahat':\n",
    "                    nb_channels = self.R_stack_sizes[l]\n",
    "                elif c == 'a':\n",
    "                    nb_channels = 2 * self.R_stack_sizes[l]\n",
    "                else:\n",
    "                    nb_channels = self.stack_sizes[l] * 2 + self.R_stack_sizes[l]\n",
    "                    if l < self.nb_layers - 1:\n",
    "                        nb_channels += self.R_stack_sizes[l+1]\n",
    "                in_shape = (input_shape[0], nb_channels, nb_row // ds_factor, nb_col // ds_factor)\n",
    "                if self.data_format == 'channels_last': in_shape = (in_shape[0], in_shape[2], in_shape[3], in_shape[1])\n",
    "                with K.name_scope('layer_' + c + '_' + str(l)):\n",
    "                    self.conv_layers[c][l].build(in_shape)\n",
    "                self.trainable_weights += self.conv_layers[c][l].trainable_weights\n",
    "\n",
    "        self.states = [None] * self.nb_layers*3\n",
    "\n",
    "        if self.extrap_start_time is not None:\n",
    "            self.t_extrap = K.variable(self.extrap_start_time, int if K.backend() != 'tensorflow' else 'int32')\n",
    "            self.states += [None] * 2  # [previous frame prediction, timestep]\n",
    "\n",
    "    def step(self, a, states):\n",
    "        r_tm1 = states[:self.nb_layers]\n",
    "        c_tm1 = states[self.nb_layers:2*self.nb_layers]\n",
    "        e_tm1 = states[2*self.nb_layers:3*self.nb_layers]\n",
    "\n",
    "        if self.extrap_start_time is not None:\n",
    "            t = states[-1]\n",
    "            a = K.switch(t >= self.t_extrap, states[-2], a)  # if past self.extrap_start_time, the previous prediction will be treated as the actual\n",
    "\n",
    "        c = []\n",
    "        r = []\n",
    "        e = []\n",
    "\n",
    "        # Update R units starting from the top\n",
    "        for l in reversed(range(self.nb_layers)):\n",
    "            inputs = [r_tm1[l], e_tm1[l]]\n",
    "            if l < self.nb_layers - 1:\n",
    "                inputs.append(r_up)\n",
    "\n",
    "            inputs = K.concatenate(inputs, axis=self.channel_axis)\n",
    "            i = self.conv_layers['i'][l].call(inputs)\n",
    "            f = self.conv_layers['f'][l].call(inputs)\n",
    "            o = self.conv_layers['o'][l].call(inputs)\n",
    "            _c = f * c_tm1[l] + i * self.conv_layers['c'][l].call(inputs)\n",
    "            _r = o * self.LSTM_activation(_c)\n",
    "            c.insert(0, _c)\n",
    "            r.insert(0, _r)\n",
    "\n",
    "            if l > 0:\n",
    "                r_up = self.upsample.call(_r)\n",
    "\n",
    "        # Update feedforward path starting from the bottom\n",
    "        for l in range(self.nb_layers):\n",
    "            ahat = self.conv_layers['ahat'][l].call(r[l])\n",
    "            if l == 0:\n",
    "                ahat = K.minimum(ahat, self.pixel_max)\n",
    "                frame_prediction = ahat\n",
    "\n",
    "            # compute errors\n",
    "            e_up = self.error_activation(ahat - a)\n",
    "            e_down = self.error_activation(a - ahat)\n",
    "\n",
    "            e.append(K.concatenate((e_up, e_down), axis=self.channel_axis))\n",
    "\n",
    "            if self.output_layer_num == l:\n",
    "                if self.output_layer_type == 'A':\n",
    "                    output = a\n",
    "                elif self.output_layer_type == 'Ahat':\n",
    "                    output = ahat\n",
    "                elif self.output_layer_type == 'R':\n",
    "                    output = r[l]\n",
    "                elif self.output_layer_type == 'E':\n",
    "                    output = e[l]\n",
    "\n",
    "            if l < self.nb_layers - 1:\n",
    "                a = self.conv_layers['a'][l].call(e[l])\n",
    "                a = self.pool.call(a)  # target for next layer\n",
    "\n",
    "        if self.output_layer_type is None:\n",
    "            if self.output_mode == 'prediction':\n",
    "                output = frame_prediction\n",
    "            else:\n",
    "                for l in range(self.nb_layers):\n",
    "                    layer_error = K.mean(K.batch_flatten(e[l]), axis=-1, keepdims=True)\n",
    "                    all_error = layer_error if l == 0 else K.concatenate((all_error, layer_error), axis=-1)\n",
    "                if self.output_mode == 'error':\n",
    "                    output = all_error\n",
    "                else:\n",
    "                    output = K.concatenate((K.batch_flatten(frame_prediction), all_error), axis=-1)\n",
    "\n",
    "        states = r + c + e\n",
    "        if self.extrap_start_time is not None:\n",
    "            states += [frame_prediction, t + 1]\n",
    "        return output, states\n",
    "\n",
    "    def get_config(self):\n",
    "        config = {'stack_sizes': self.stack_sizes,\n",
    "                  'R_stack_sizes': self.R_stack_sizes,\n",
    "                  'A_filt_sizes': self.A_filt_sizes,\n",
    "                  'Ahat_filt_sizes': self.Ahat_filt_sizes,\n",
    "                  'R_filt_sizes': self.R_filt_sizes,\n",
    "                  'pixel_max': self.pixel_max,\n",
    "                  'error_activation': self.error_activation.__name__,\n",
    "                  'A_activation': self.A_activation.__name__,\n",
    "                  'LSTM_activation': self.LSTM_activation.__name__,\n",
    "                  'LSTM_inner_activation': self.LSTM_inner_activation.__name__,\n",
    "                  'data_format': self.data_format,\n",
    "                  'extrap_start_time': self.extrap_start_time,\n",
    "                  'output_mode': self.output_mode}\n",
    "        base_config = super(PredNet, self).get_config()\n",
    "        return dict(list(base_config.items()) + list(config.items()))\n",
    "print(time.strftime('build time: %Y-%m-%d %H:%M:%S', time.localtime()))"
   ]
  },
  {
   "cell_type": "code",
   "execution_count": 3,
   "metadata": {},
   "outputs": [
    {
     "name": "stdout",
     "output_type": "stream",
     "text": [
      "15000\n"
     ]
    }
   ],
   "source": [
    "raw_RAD_id_list = os.listdir('/home/hadoop/Documents/Neutrino/SRAD2018/SRAD2018_train/')\n",
    "print(len(raw_RAD_id_list))\n",
    "RAD_id_list = raw_RAD_id_list"
   ]
  },
  {
   "cell_type": "code",
   "execution_count": 4,
   "metadata": {},
   "outputs": [
    {
     "name": "stdout",
     "output_type": "stream",
     "text": [
      "8000\n"
     ]
    }
   ],
   "source": [
    "RAD_id_submit_list = os.listdir(\"/home/hadoop/Documents/Neutrino/SRAD2018/SRAD2018_Test_2/\")\n",
    "print(len(RAD_id_submit_list))"
   ]
  },
  {
   "cell_type": "code",
   "execution_count": null,
   "metadata": {},
   "outputs": [],
   "source": [
    "def check_RAD_id(RAD_id):\n",
    "#     return RAD_id\n",
    "    mean_list = []\n",
    "    for k in range(61):\n",
    "        mean_list.append(np.array(PIL.Image.open('/home/hadoop/Documents/Neutrino/SRAD2018/SRAD2018_train/%s/%s_%03d.png'\n",
    "                         % (RAD_id, RAD_id,\n",
    "                        k))).astype(np.int8).ravel().mean())\n",
    "    mean_list = np.array(mean_list)\n",
    "    if mean_list.mean() < -0.5:\n",
    "        return None\n",
    "    for k in range(59):\n",
    "        if abs(mean_list[k] + mean_list[k + 2] - 2 * mean_list[k + 1]) > 2:\n",
    "            return None\n",
    "    return RAD_id"
   ]
  },
  {
   "cell_type": "code",
   "execution_count": null,
   "metadata": {
    "scrolled": true
   },
   "outputs": [],
   "source": [
    "pool = multiprocessing.Pool()\n",
    "start_time = time.time()\n",
    "print(time.strftime('start time: %Y-%m-%d %H:%M:%S', time.localtime()))\n",
    "# map(check_RAD_id, raw_RAD_id_list[:100])\n",
    "# print(time.strftime('start time: %Y-%m-%d %H:%M:%S', time.localtime()))\n",
    "RAD_id_list = list(pool.map(check_RAD_id, raw_RAD_id_list))\n",
    "RAD_id_list = [x for x in RAD_id_list if x is not None]\n",
    "print(time.strftime('end time: %Y-%m-%d %H:%M:%S', time.localtime()))\n",
    "print(time.strftime('%H:%M:%S', time.gmtime(time.time() - start_time)))\n",
    "print(len(RAD_id_list))"
   ]
  },
  {
   "cell_type": "code",
   "execution_count": 132,
   "metadata": {},
   "outputs": [
    {
     "name": "stdout",
     "output_type": "stream",
     "text": [
      "build time: 2018-10-04 19:40:59\n"
     ]
    }
   ],
   "source": [
    "step_size = 5\n",
    "\n",
    "class trainGenerator(keras.utils.Sequence):\n",
    "    'Generates data for Keras'\n",
    "    def __init__(self, list_IDs, nt, image_size, image_scalar, batch_size=32, shuffle=True):\n",
    "        'Initialization'\n",
    "        self.batch_size = batch_size\n",
    "        self.list_IDs = list_IDs\n",
    "        self.shuffle = shuffle\n",
    "        self.nt = nt\n",
    "        self.image_size = image_size\n",
    "        self.image_scalar = image_scalar\n",
    "        self.on_epoch_end()\n",
    "\n",
    "    def __len__(self):\n",
    "        'Denotes the number of batches per epoch'\n",
    "        return int(np.floor(len(self.list_IDs) / self.batch_size))\n",
    "\n",
    "    def __getitem__(self, index):\n",
    "        'Generate one batch of data'\n",
    "        # Generate indexes of the batch\n",
    "        indexes = self.indexes[index*self.batch_size:(index+1)*self.batch_size]\n",
    "        # Find list of IDs\n",
    "        list_IDs_temp = [self.list_IDs[k] for k in indexes]\n",
    "        # Generate data\n",
    "        X, y = self.__data_generation(list_IDs_temp)\n",
    "        return X, y\n",
    "\n",
    "    def on_epoch_end(self):\n",
    "        'Updates indexes after each epoch'\n",
    "        self.indexes = np.arange(len(self.list_IDs))\n",
    "        if self.shuffle == True:\n",
    "            np.random.shuffle(self.indexes)\n",
    "\n",
    "    def __data_generation(self, list_IDs_temp):\n",
    "#         'Generates data containing batch_size samples' # X : (n_samples, *dim, n_channels)\n",
    "#         X = np.empty((self.batch_size, self.nt, self.image_size, self.image_size, 3))\n",
    "# #         y = np.empty((self.batch_size, self.image_size, self.image_size, 1))\n",
    "#         for i, RAD_id in enumerate(list_IDs_temp):\n",
    "#             offset = random.randint(0, 61 - self.nt * step_size)\n",
    "#             offset = random.randint(2, 59 - self.nt * step_size)\n",
    "#             for j in range(self.nt):\n",
    "# #                 X[i][j] = (np.array(PIL.Image.open(\"/home/hadoop/Documents/Neutrino/SRAD2018/SRAD2018_train/%s/%s_%03d.png\" % (RAD_id, RAD_id, j * step_size + offset)).resize((self.image_size, self.image_size))).astype(np.int8).reshape((self.image_size, self.image_size, 1)) / self.image_scalar + \n",
    "# #                     np.array(PIL.Image.open(\"/home/hadoop/Documents/Neutrino/SRAD2018/SRAD2018_train/%s/%s_%03d.png\" % (RAD_id, RAD_id, j * step_size + offset + 1)).resize((self.image_size, self.image_size))).astype(np.int8).reshape((self.image_size, self.image_size, 1)) / self.image_scalar + \n",
    "# #                     np.array(PIL.Image.open(\"/home/hadoop/Documents/Neutrino/SRAD2018/SRAD2018_train/%s/%s_%03d.png\" % (RAD_id, RAD_id, j * step_size + offset - 1)).resize((self.image_size, self.image_size))).astype(np.int8).reshape((self.image_size, self.image_size, 1)) / self.image_scalar) / 3\n",
    "#                 temp_matrix = np.empty((3, self.image_size, self.image_size))\n",
    "#                 temp_matrix[0] = np.array(PIL.Image.open(\"/home/hadoop/Documents/Neutrino/SRAD2018/SRAD2018_train/%s/%s_%03d.png\" % (RAD_id, RAD_id, j * step_size + offset - 1)).resize((self.image_size, self.image_size))).astype(np.int8) / self.image_scalar + \\\n",
    "#                                  np.array(PIL.Image.open(\"/home/hadoop/Documents/Neutrino/SRAD2018/SRAD2018_train/%s/%s_%03d.png\" % (RAD_id, RAD_id, j * step_size + offset - 2)).resize((self.image_size, self.image_size))).astype(np.int8) / self.image_scalar\n",
    "#                 temp_matrix[1] = np.array(PIL.Image.open(\"/home/hadoop/Documents/Neutrino/SRAD2018/SRAD2018_train/%s/%s_%03d.png\" % (RAD_id, RAD_id, j * step_size + offset)).resize((self.image_size, self.image_size))).astype(np.int8) / self.image_scalar * 2\n",
    "#                 temp_matrix[2] = np.array(PIL.Image.open(\"/home/hadoop/Documents/Neutrino/SRAD2018/SRAD2018_train/%s/%s_%03d.png\" % (RAD_id, RAD_id, j * step_size + offset + 1)).resize((self.image_size, self.image_size))).astype(np.int8) / self.image_scalar + \\\n",
    "#                                  np.array(PIL.Image.open(\"/home/hadoop/Documents/Neutrino/SRAD2018/SRAD2018_train/%s/%s_%03d.png\" % (RAD_id, RAD_id, j * step_size + offset + 2)).resize((self.image_size, self.image_size))).astype(np.int8) / self.image_scalar\n",
    "# #                 temp_matrix[2] = temp_matrix[2] - temp_matrix[1]\n",
    "# #                 temp_matrix[0] = temp_matrix[1] - temp_matrix[0]\n",
    "#                 temp_matrix[0] = cv2.GaussianBlur(temp_matrix[1], (5, 5), 0)\n",
    "#                 temp_matrix[1] = cv2.GaussianBlur(temp_matrix[1], (9, 9), 0)\n",
    "#                 temp_matrix[2] = cv2.GaussianBlur(temp_matrix[1], (13, 13), 0)\n",
    "#                 temp_matrix = np.rollaxis(temp_matrix, 0, 3)\n",
    "#                 X[i][j] = temp_matrix\n",
    "# #             y[i] = np.array(PIL.Image.open(\"/home/hadoop/Documents/Neutrino/SRAD2018/SRAD2018_train/%s/%s_%03d.png\" % (RAD_id, RAD_id, (self.nt) * 1)).resize((self.image_size, self.image_size))).astype(np.int8).reshape((self.image_size, self.image_size, 1)) / self.image_scalar\n",
    "        X, y = data_generation(list_IDs_temp, batch_size=self.batch_size, image_size=self.image_size, nt=self.nt, step_size=step_size, image_scalar=self.image_scalar)\n",
    "        y = np.zeros(self.batch_size, np.float32)\n",
    "        return X, y\n",
    "print(time.strftime('build time: %Y-%m-%d %H:%M:%S', time.localtime()))"
   ]
  },
  {
   "cell_type": "code",
   "execution_count": 131,
   "metadata": {},
   "outputs": [],
   "source": [
    "n_channels = 1\n",
    "def data_generation(list_IDs_temp, batch_size, image_size, nt, step_size, image_scalar, offset=None, path='/home/hadoop/Documents/Neutrino/SRAD2018/SRAD2018_train'):\n",
    "    '''\n",
    "    nt * step_size + offset = 60\n",
    "    '''\n",
    "    X = np.empty((batch_size, nt, image_size, image_size, n_channels))\n",
    "    y = np.empty((batch_size, image_size, image_size, n_channels))\n",
    "    for i, RAD_id in enumerate(list_IDs_temp):\n",
    "        if offset == None:\n",
    "            offset = random.randint(0, 30 - nt * step_size)\n",
    "#             offset = random.randint(0, 61 - nt * step_size)\n",
    "        for j in range(nt):\n",
    "            temp_matrix = np.empty((n_channels, image_size, image_size))\n",
    "#             temp_matrix[0] = np.array(PIL.Image.open(\"/home/hadoop/Documents/Neutrino/SRAD2018/SRAD2018_train/%s/%s_%03d.png\" % (RAD_id, RAD_id, j * step_size + offset - 1)).resize((image_size, image_size))).astype(np.int8) / image_scalar + \\\n",
    "#                              np.array(PIL.Image.open(\"/home/hadoop/Documents/Neutrino/SRAD2018/SRAD2018_train/%s/%s_%03d.png\" % (RAD_id, RAD_id, j * step_size + offset - 2)).resize((image_size, image_size))).astype(np.int8) / image_scalar\n",
    "            temp_matrix[0] = np.array(PIL.Image.open(\"%s/%s/%s_%03d.png\" % (path, RAD_id, RAD_id, j * step_size + offset)).resize((image_size, image_size))).astype(np.int8) / image_scalar\n",
    "#             temp_matrix[2] = np.array(PIL.Image.open(\"/home/hadoop/Documents/Neutrino/SRAD2018/SRAD2018_train/%s/%s_%03d.png\" % (RAD_id, RAD_id, j * step_size + offset + 1)).resize((image_size, image_size))).astype(np.int8) / image_scalar + \\\n",
    "#                              np.array(PIL.Image.open(\"/home/hadoop/Documents/Neutrino/SRAD2018/SRAD2018_train/%s/%s_%03d.png\" % (RAD_id, RAD_id, j * step_size + offset + 2)).resize((image_size, image_size))).astype(np.int8) / image_scalar\n",
    "#             temp_matrix[1] = cv2.GaussianBlur(temp_matrix[0], (5, 5), 0)\n",
    "#             temp_matrix[2] = cv2.GaussianBlur(temp_matrix[0], (9, 9), 0)\n",
    "#             temp_matrix[0] = cv2.GaussianBlur(temp_matrix[0], (13, 13), 0)\n",
    "            temp_matrix = np.rollaxis(temp_matrix, 0, 3)\n",
    "            X[i][j] = temp_matrix\n",
    "        temp_matrix = np.empty((n_channels, image_size, image_size))\n",
    "        temp_matrix[0] = np.array(PIL.Image.open(\"%s/%s/%s_%03d.png\" % (path, RAD_id, RAD_id, nt * step_size + offset)).resize((image_size, image_size))).astype(np.int8) / image_scalar\n",
    "#         temp_matrix[1] = cv2.GaussianBlur(temp_matrix[0], (5, 5), 0)\n",
    "#         temp_matrix[2] = cv2.GaussianBlur(temp_matrix[0], (9, 9), 0)\n",
    "        temp_matrix[0] = cv2.GaussianBlur(temp_matrix[0], (13, 13), 0)\n",
    "        temp_matrix = np.rollaxis(temp_matrix, 0, 3)\n",
    "        y[i] = temp_matrix\n",
    "    return X, y"
   ]
  },
  {
   "cell_type": "code",
   "execution_count": 133,
   "metadata": {},
   "outputs": [
    {
     "name": "stdout",
     "output_type": "stream",
     "text": [
      "build time: 2018-10-04 19:41:08\n"
     ]
    }
   ],
   "source": [
    "# Model parameters\n",
    "image_size = 64\n",
    "nt = 4 # number of timesteps used for sequences in training\n",
    "image_scalar = 80\n",
    "vmin = -1\n",
    "vmax = 0.6 * image_scalar\n",
    "n_channels, im_height, im_width = (n_channels, image_size, image_size)\n",
    "input_shape = (n_channels, im_height, im_width) if K.image_data_format() == 'channels_first' else (im_height, im_width, n_channels)\n",
    "stack_sizes = (n_channels, 96, 192)  # 48, 96, 192\n",
    "R_stack_sizes = stack_sizes\n",
    "A_filt_sizes = (3, 3)\n",
    "Ahat_filt_sizes = (3, 3, 3)\n",
    "R_filt_sizes = (3, 3, 3)\n",
    "layer_loss_weights = np.array([1., 0, 0])  # weighting for each layer in final loss; \"L_0\" model:  [1, 0, 0, 0], \"L_all\": [1, 0.1, 0.1, 0.1]\n",
    "layer_loss_weights = np.expand_dims(layer_loss_weights, 1)\n",
    "time_loss_weights = 1./ (nt - 1) * np.ones((nt,1))  # equally weight all timesteps except the first\n",
    "time_loss_weights[0] = 0\n",
    "\n",
    "\n",
    "prednet = PredNet(stack_sizes, R_stack_sizes,\n",
    "                  A_filt_sizes, Ahat_filt_sizes, R_filt_sizes,\n",
    "                  A_activation=tf.nn.elu, error_activation=tf.nn.elu,\n",
    "                  LSTM_inner_activation=tf.nn.sigmoid, extrap_start_time=2,\n",
    "                  conv_dropout=0.5,\n",
    "                  output_mode='error', return_sequences=True)\n",
    "\n",
    "inputs = Input(shape=(nt,) + input_shape)\n",
    "errors = prednet(inputs)  # errors will be (batch_size, nt, nb_layers)\n",
    "errors_by_time = TimeDistributed(Dense(1, trainable=False), weights=[layer_loss_weights, np.zeros(1)], trainable=False)(errors)  # calculate weighted error by layer\n",
    "errors_by_time = Flatten()(errors_by_time)  # will be (batch_size, nt)\n",
    "final_errors = Dense(1, weights=[time_loss_weights, np.zeros(1)], trainable=False)(errors_by_time)  # weight errors by time\n",
    "outputs = final_errors\n",
    "# outputs = np.empty(shape=(nt,) + input_shape)\n",
    "# for i in range(nt):\n",
    "#     temp_outputs = prednet(inputs)\n",
    "#     outputs[i] = temp_outputs\n",
    "#     for j in range(nt - 1):\n",
    "#         inputs[j] = inputs[j + 1]\n",
    "#     inputs[-1] = temp_outputs\n",
    "\n",
    "def my_loss(y_true, y_pred):\n",
    "#     w = tf.add(y_true, tf.constant(0.5))\n",
    "#     w = tf.add(y_pred, w)\n",
    "#     loss = tf.losses.mean_squared_error(y_true, y_pred, weights=w)\n",
    "#     loss = tf.losses.mean_squared_error(y_true, y_pred)\n",
    "    y_true = tf.multiply(y_true, tf.constant(1.0*image_scalar))\n",
    "    y_pred = tf.multiply(y_pred, tf.constant(1.0*image_scalar))\n",
    "    loss = tf.losses.absolute_difference(y_true, y_pred)\n",
    "#     loss = tf.losses.log_loss(y_true, y_pred)\n",
    "#     loss = tf.multiply(loss, tf.constant(1000000000.0))\n",
    "    return loss\n",
    "\n",
    "model = keras.models.Model(inputs=inputs, outputs=outputs)\n",
    "model.compile(loss=my_loss, optimizer=keras.optimizers.Adam())\n",
    "print(time.strftime('build time: %Y-%m-%d %H:%M:%S', time.localtime()))"
   ]
  },
  {
   "cell_type": "code",
   "execution_count": 134,
   "metadata": {},
   "outputs": [
    {
     "name": "stdout",
     "output_type": "stream",
     "text": [
      "_________________________________________________________________\n",
      "Layer (type)                 Output Shape              Param #   \n",
      "=================================================================\n",
      "input_19 (InputLayer)        (None, 4, 64, 64, 1)      0         \n",
      "_________________________________________________________________\n",
      "pred_net_11 (PredNet)        (None, 4, 3)              6393722   \n",
      "_________________________________________________________________\n",
      "time_distributed_11 (TimeDis (None, 4, 1)              4         \n",
      "_________________________________________________________________\n",
      "flatten_11 (Flatten)         (None, 4)                 0         \n",
      "_________________________________________________________________\n",
      "dense_22 (Dense)             (None, 1)                 5         \n",
      "=================================================================\n",
      "Total params: 6,393,731\n",
      "Trainable params: 6,393,722\n",
      "Non-trainable params: 9\n",
      "_________________________________________________________________\n"
     ]
    }
   ],
   "source": [
    "model.summary()"
   ]
  },
  {
   "cell_type": "markdown",
   "metadata": {},
   "source": [
    "how to use tensorboard\n",
    "\n",
    "```bash\n",
    "jupyter notebook --ip=192.168.2.101\n",
    "python3 /usr/local/lib/python3.5/dist-packages/tensorboard/main.py --logdir='/home/hadoop/Documents/Neutrino/tensorboard_logs' --host=192.168.2.101 --port=8900\n",
    "rm -rf /home/hadoop/Documents/Neutrino/tensorboard_logs\n",
    "scp \"C:/Users/Administrator/Downloads/SRAD2018_Test_1.zip\" hadoop@192.168.1.115:~/Documents/Neutrino/SRAD2018/SRAD2018_test\n",
    "mv -v ~/Documents/Neutrino/SRAD2018/SRAD2018_test/SRAD2018_Test_1* ~/Documents/Neutrino/SRAD2018/SRAD2018_test\n",
    "lsof /dev/nvidia0\n",
    "lsof -n -i4TCP:8888\n",
    "kill -9 -[PID]\n",
    "```\n",
    "\n",
    "`http://222.200.177.32:8900/#scalars&run=.&_smoothingWeight=0.8`\n",
    "\n",
    "`http://222.200.177.32:8888`"
   ]
  },
  {
   "cell_type": "code",
   "execution_count": 135,
   "metadata": {},
   "outputs": [],
   "source": [
    "lr_schedule = lambda epoch: 0.001 if epoch < 10 else 0.0003    # start with lr of 0.001 and then drop to 0.0001 after 75 epochs\n",
    "tb_callback = keras.callbacks.TensorBoard(log_dir='/home/hadoop/Documents/Neutrino/tensorboard_logs', histogram_freq=0, write_graph=False)\n",
    "callbacks = [LearningRateScheduler(lr_schedule), tb_callback]"
   ]
  },
  {
   "cell_type": "code",
   "execution_count": 136,
   "metadata": {
    "scrolled": true
   },
   "outputs": [
    {
     "name": "stdout",
     "output_type": "stream",
     "text": [
      "start time: 2018-10-04 19:41:13\n",
      "Epoch 1/20\n",
      "Epoch 1/20\n",
      "30/30 [==============================] - 7s 224ms/step - loss: 0.0281 - val_loss: 0.0130\n",
      "Epoch 2/20\n",
      "Epoch 1/20\n",
      "30/30 [==============================] - 4s 143ms/step - loss: 0.0202 - val_loss: 0.0138\n",
      "Epoch 3/20\n",
      "30/30 [==============================] - 4s 144ms/step - loss: 0.0176 - val_loss: 0.0140\n",
      "Epoch 4/20\n",
      "30/30 [==============================] - 4s 146ms/step - loss: 0.0147 - val_loss: 0.0140\n",
      "Epoch 5/20\n",
      "30/30 [==============================] - 4s 140ms/step - loss: 0.0119 - val_loss: 0.0172\n",
      "Epoch 6/20\n",
      "30/30 [==============================] - 4s 144ms/step - loss: 0.0107 - val_loss: 0.0133\n",
      "Epoch 7/20\n",
      "30/30 [==============================] - 4s 146ms/step - loss: 0.0092 - val_loss: 0.0133\n",
      "Epoch 8/20\n",
      "30/30 [==============================] - 4s 146ms/step - loss: 0.0081 - val_loss: 0.0142\n",
      "Epoch 9/20\n",
      "30/30 [==============================] - 4s 146ms/step - loss: 0.0074 - val_loss: 0.0138\n",
      "Epoch 10/20\n",
      "30/30 [==============================] - 4s 145ms/step - loss: 0.0064 - val_loss: 0.0138\n",
      "Epoch 11/20\n",
      "30/30 [==============================] - 4s 144ms/step - loss: 0.0060 - val_loss: 0.0135\n",
      "Epoch 12/20\n",
      "30/30 [==============================] - 4s 146ms/step - loss: 0.0055 - val_loss: 0.0136\n",
      "Epoch 13/20\n",
      "30/30 [==============================] - 4s 147ms/step - loss: 0.0051 - val_loss: 0.0134\n",
      "Epoch 14/20\n",
      "30/30 [==============================] - 4s 148ms/step - loss: 0.0047 - val_loss: 0.0136\n",
      "Epoch 15/20\n",
      "30/30 [==============================] - 4s 144ms/step - loss: 0.0048 - val_loss: 0.0142\n",
      "Epoch 16/20\n",
      "30/30 [==============================] - 4s 146ms/step - loss: 0.0045 - val_loss: 0.0143\n",
      "Epoch 17/20\n",
      "30/30 [==============================] - 4s 145ms/step - loss: 0.0044 - val_loss: 0.0152\n",
      "Epoch 18/20\n",
      "30/30 [==============================] - 4s 145ms/step - loss: 0.0043 - val_loss: 0.0159\n",
      "Epoch 19/20\n",
      "30/30 [==============================] - 4s 146ms/step - loss: 0.0043 - val_loss: 0.0140\n",
      "Epoch 20/20\n",
      "30/30 [==============================] - 4s 144ms/step - loss: 0.0042 - val_loss: 0.0146\n",
      "end time: 2018-10-04 19:42:46\n",
      "It took  00:01:32\n"
     ]
    }
   ],
   "source": [
    "start_time = time.time()\n",
    "print(time.strftime('start time: %Y-%m-%d %H:%M:%S', time.localtime()))\n",
    "train_generator = trainGenerator(list_IDs=RAD_id_list[:1], nt=nt, image_size=image_size, image_scalar=image_scalar, batch_size=1)\n",
    "valid_generator = trainGenerator(list_IDs=RAD_id_list[:12], nt=nt, image_size=image_size, image_scalar=image_scalar, batch_size=1, shuffle=False)\n",
    "history = model.fit_generator(train_generator, steps_per_epoch=30, epochs=20, validation_data=valid_generator, validation_steps=12, use_multiprocessing=True, max_queue_size=20, callbacks=callbacks)\n",
    "print(time.strftime('end time: %Y-%m-%d %H:%M:%S', time.localtime()))\n",
    "print(time.strftime('It took  %H:%M:%S', time.gmtime(time.time() - start_time)))"
   ]
  },
  {
   "cell_type": "code",
   "execution_count": null,
   "metadata": {},
   "outputs": [],
   "source": [
    "lr_schedule = lambda epoch: 0.0003 if epoch < 10 else 0.00003    # start with lr of 0.001 and then drop to 0.0001 after 75 epochs\n",
    "tb_callback = keras.callbacks.TensorBoard(log_dir='/home/hadoop/Documents/Neutrino/tensorboard_logs', histogram_freq=0, write_graph=False)\n",
    "callbacks = [LearningRateScheduler(lr_schedule), tb_callback]"
   ]
  },
  {
   "cell_type": "code",
   "execution_count": null,
   "metadata": {
    "scrolled": true
   },
   "outputs": [],
   "source": [
    "print(time.strftime('start time: %Y-%m-%d %H:%M:%S', time.localtime()))\n",
    "start_time = time.time()\n",
    "train_generator = trainGenerator(list_IDs=RAD_id_list[:6000], nt=nt, image_size=image_size, image_scalar=image_scalar, batch_size=1)\n",
    "valid_generator = trainGenerator(list_IDs=RAD_id_list[-20:], nt=nt, image_size=image_size, image_scalar=image_scalar, batch_size=1)\n",
    "history = model.fit_generator(train_generator, steps_per_epoch=100, epochs=20, validation_data=valid_generator, validation_steps=20, callbacks=callbacks)\n",
    "print(time.strftime('end time: %Y-%m-%d %H:%M:%S', time.localtime()))\n",
    "print(time.strftime('It took  %H:%M:%S', time.gmtime(time.time() - start_time)))"
   ]
  },
  {
   "cell_type": "code",
   "execution_count": null,
   "metadata": {},
   "outputs": [],
   "source": [
    "lr_schedule = lambda epoch: 0.0003 if epoch < 20 else 0.00003    # start with lr of 0.001 and then drop to 0.0001 after 75 epochs\n",
    "tb_callback = keras.callbacks.TensorBoard(log_dir='/home/hadoop/Documents/Neutrino/tensorboard_logs', histogram_freq=0, write_graph=False)\n",
    "callbacks = [LearningRateScheduler(lr_schedule), tb_callback]"
   ]
  },
  {
   "cell_type": "code",
   "execution_count": null,
   "metadata": {
    "scrolled": true
   },
   "outputs": [],
   "source": [
    "print(time.strftime('start time: %Y-%m-%d %H:%M:%S', time.localtime()))\n",
    "start_time = time.time()\n",
    "train_generator = trainGenerator(list_IDs=RAD_id_list[:6000], nt=nt, image_size=image_size, image_scalar=image_scalar, batch_size=1)\n",
    "valid_generator = trainGenerator(list_IDs=RAD_id_list[-20:], nt=nt, image_size=image_size, image_scalar=image_scalar, batch_size=1)\n",
    "history = model.fit_generator(train_generator, steps_per_epoch=20, epochs=40, validation_data=valid_generator, validation_steps=20, callbacks=callbacks)\n",
    "print(time.strftime('end time: %Y-%m-%d %H:%M:%S', time.localtime()))\n",
    "print(time.strftime('It took  %H:%M:%S', time.gmtime(time.time() - start_time)))"
   ]
  },
  {
   "cell_type": "code",
   "execution_count": null,
   "metadata": {
    "scrolled": true
   },
   "outputs": [],
   "source": [
    "print(time.strftime('start time: %Y-%m-%d %H:%M:%S', time.localtime()))\n",
    "start_time = time.time()\n",
    "train_generator = trainGenerator(list_IDs=RAD_id_list[:6000], nt=nt, image_size=image_size, image_scalar=image_scalar, batch_size=1)\n",
    "valid_generator = trainGenerator(list_IDs=RAD_id_list[-20:], nt=nt, image_size=image_size, image_scalar=image_scalar, batch_size=1)\n",
    "history = model.fit_generator(train_generator, steps_per_epoch=20, epochs=100, validation_data=valid_generator, validation_steps=20, callbacks=callbacks)\n",
    "print(time.strftime('end time: %Y-%m-%d %H:%M:%S', time.localtime()))\n",
    "print(time.strftime('It took  %H:%M:%S', time.gmtime(time.time() - start_time)))"
   ]
  },
  {
   "cell_type": "markdown",
   "metadata": {},
   "source": [
    "## 保存模型"
   ]
  },
  {
   "cell_type": "code",
   "execution_count": null,
   "metadata": {},
   "outputs": [],
   "source": [
    "# version = 'SRAD2018_Neutrino_PredNet_v0.4.8.1_18.09.27.00.32'\n",
    "version = 'SRAD2018_Neutrino_PredNet_v0.4.8.2_18.09.28.00.14'"
   ]
  },
  {
   "cell_type": "code",
   "execution_count": null,
   "metadata": {},
   "outputs": [],
   "source": [
    "model.save('/home/hadoop/Documents/Neutrino/prednet/%s.hdf5' % version)\n",
    "model.save_weights('/home/hadoop/Documents/Neutrino/prednet/%s_weights.hdf5' % version)"
   ]
  },
  {
   "cell_type": "code",
   "execution_count": null,
   "metadata": {},
   "outputs": [],
   "source": [
    "model.load_weights('/home/hadoop/Documents/Neutrino/prednet/%s_weights.hdf5' % version)"
   ]
  },
  {
   "cell_type": "markdown",
   "metadata": {},
   "source": [
    "## `return_sequences=False`"
   ]
  },
  {
   "cell_type": "code",
   "execution_count": 137,
   "metadata": {},
   "outputs": [],
   "source": [
    "train_model = model\n",
    "layer_config = train_model.layers[1].get_config()\n",
    "layer_config['output_mode'] = 'prediction'\n",
    "layer_config['return_sequences'] = False\n",
    "data_format = layer_config['data_format'] if 'data_format' in layer_config else layer_config['dim_ordering']\n",
    "test_prednet = PredNet(weights=train_model.layers[1].get_weights(), **layer_config)"
   ]
  },
  {
   "cell_type": "code",
   "execution_count": 138,
   "metadata": {},
   "outputs": [
    {
     "name": "stdout",
     "output_type": "stream",
     "text": [
      "build time: 2018-10-04 19:44:11\n"
     ]
    }
   ],
   "source": [
    "test_inputs = Input(shape=(nt,) + input_shape)\n",
    "test_outputs = test_prednet(test_inputs)\n",
    "\n",
    "test_model = keras.models.Model(inputs=test_inputs, outputs=test_outputs)\n",
    "test_model.compile(loss=my_loss, optimizer=keras.optimizers.Adam())\n",
    "print(time.strftime('build time: %Y-%m-%d %H:%M:%S', time.localtime()))"
   ]
  },
  {
   "cell_type": "code",
   "execution_count": 139,
   "metadata": {},
   "outputs": [
    {
     "name": "stdout",
     "output_type": "stream",
     "text": [
      "build time: 2018-10-04 19:44:11\n"
     ]
    }
   ],
   "source": [
    "class testGenerator(keras.utils.Sequence):\n",
    "    'Generates data for Keras'\n",
    "    def __init__(self, list_IDs, nt, image_size, image_scalar, batch_size=32, shuffle=True):\n",
    "        'Initialization'\n",
    "        self.batch_size = batch_size\n",
    "        self.list_IDs = list_IDs\n",
    "        self.shuffle = shuffle\n",
    "        self.nt = nt\n",
    "        self.image_size = image_size\n",
    "        self.image_scalar = image_scalar\n",
    "        self.on_epoch_end()\n",
    "\n",
    "    def __len__(self):\n",
    "        'Denotes the number of batches per epoch'\n",
    "        return int(np.floor(len(self.list_IDs) / self.batch_size))\n",
    "\n",
    "    def __getitem__(self, index):\n",
    "        'Generate one batch of data'\n",
    "        # Generate indexes of the batch\n",
    "        indexes = self.indexes[index*self.batch_size:(index+1)*self.batch_size]\n",
    "        # Find list of IDs\n",
    "        list_IDs_temp = [self.list_IDs[k] for k in indexes]\n",
    "        # Generate data\n",
    "        X, y = self.__data_generation(list_IDs_temp)\n",
    "        return X, y\n",
    "\n",
    "    def on_epoch_end(self):\n",
    "        'Updates indexes after each epoch'\n",
    "        self.indexes = np.arange(len(self.list_IDs))\n",
    "        if self.shuffle == True:\n",
    "            np.random.shuffle(self.indexes)\n",
    "\n",
    "    def __data_generation(self, list_IDs_temp):\n",
    "        X, y = data_generation(list_IDs_temp, batch_size=self.batch_size, image_size=self.image_size, nt=self.nt, step_size=step_size, image_scalar=self.image_scalar)\n",
    "        y = np.zeros(self.batch_size, np.float32)\n",
    "        return X, y\n",
    "print(time.strftime('build time: %Y-%m-%d %H:%M:%S', time.localtime()))"
   ]
  },
  {
   "cell_type": "code",
   "execution_count": 140,
   "metadata": {},
   "outputs": [
    {
     "name": "stdout",
     "output_type": "stream",
     "text": [
      "start time: 2018-10-04 19:44:11\n"
     ]
    }
   ],
   "source": [
    "print(time.strftime('start time: %Y-%m-%d %H:%M:%S', time.localtime()))\n",
    "train_generator = testGenerator(list_IDs=RAD_id_list[:1], nt=nt, image_size=image_size, image_scalar=image_scalar, batch_size=1)\n",
    "valid_generator = testGenerator(list_IDs=RAD_id_list[-1:], nt=nt, image_size=image_size, image_scalar=image_scalar, batch_size=1)"
   ]
  },
  {
   "cell_type": "code",
   "execution_count": 141,
   "metadata": {
    "scrolled": true
   },
   "outputs": [
    {
     "data": {
      "image/png": "[encoded data removed]",
      "text/plain": [
       "<Figure size 432x288 with 1 Axes>"
      ]
     },
     "metadata": {},
     "output_type": "display_data"
    }
   ],
   "source": [
    "for data in [train_generator, valid_generator][0]:\n",
    "    x, y_ = data\n",
    "    break\n",
    "c = 0\n",
    "# for i in range(6):\n",
    "#     plt.imshow(np.rollaxis(x[0][i], 2, 0)[c] * image_scalar, cmap=cm.gist_ncar_r, vmin=vmin, vmax=vmax)\n",
    "#     plt.show()\n",
    "for c in range(n_channels):\n",
    "    plt.imshow(np.rollaxis(x[0][-1], 2, 0)[c] * image_scalar, cmap=cm.gist_ncar_r, vmin=vmin, vmax=vmax)\n",
    "    plt.show()"
   ]
  },
  {
   "cell_type": "code",
   "execution_count": 142,
   "metadata": {
    "scrolled": true
   },
   "outputs": [
    {
     "name": "stdout",
     "output_type": "stream",
     "text": [
      "0 0\n"
     ]
    },
    {
     "data": {
      "image/png": "[encoded data removed]",
      "text/plain": [
       "<Figure size 432x288 with 1 Axes>"
      ]
     },
     "metadata": {},
     "output_type": "display_data"
    },
    {
     "name": "stdout",
     "output_type": "stream",
     "text": [
      "1 0\n"
     ]
    },
    {
     "data": {
      "image/png": "[encoded data removed]",
      "text/plain": [
       "<Figure size 432x288 with 1 Axes>"
      ]
     },
     "metadata": {},
     "output_type": "display_data"
    },
    {
     "name": "stdout",
     "output_type": "stream",
     "text": [
      "2 0\n"
     ]
    },
    {
     "data": {
      "image/png": "[encoded data removed]",
      "text/plain": [
       "<Figure size 432x288 with 1 Axes>"
      ]
     },
     "metadata": {},
     "output_type": "display_data"
    },
    {
     "name": "stdout",
     "output_type": "stream",
     "text": [
      "3 0\n"
     ]
    },
    {
     "data": {
      "image/png": "[encoded data removed]",
      "text/plain": [
       "<Figure size 432x288 with 1 Axes>"
      ]
     },
     "metadata": {},
     "output_type": "display_data"
    },
    {
     "name": "stdout",
     "output_type": "stream",
     "text": [
      "4 0\n"
     ]
    },
    {
     "data": {
      "image/png": "[encoded data removed]",
      "text/plain": [
       "<Figure size 432x288 with 1 Axes>"
      ]
     },
     "metadata": {},
     "output_type": "display_data"
    },
    {
     "name": "stdout",
     "output_type": "stream",
     "text": [
      "5 0\n"
     ]
    },
    {
     "data": {
      "image/png": "[encoded data removed]",
      "text/plain": [
       "<Figure size 432x288 with 1 Axes>"
      ]
     },
     "metadata": {},
     "output_type": "display_data"
    }
   ],
   "source": [
    "# train_generator.on_epoch_end()\n",
    "# valid_generator.on_epoch_end()\n",
    "for data in [train_generator, valid_generator][0]:\n",
    "    x, y_ = data\n",
    "    break\n",
    "for i in range(30 // step_size):\n",
    "    y = test_model.predict(x)\n",
    "#     temp_matrix = np.rollaxis(y[0], 2, 0)\n",
    "#     for k in range(3):\n",
    "#         psf_size = 15\n",
    "#         psf = np.ones((psf_size, psf_size)) / psf_size ** 2\n",
    "#         temp_matrix[k] = restoration.wiener(temp_matrix[k], psf, 5)\n",
    "#     y[0] = np.rollaxis(temp_matrix, 0, 3)\n",
    "    y = np.where(y<0.03, -0.01, y)\n",
    "#     y = np.where(y>0.6, 0.6, y)\n",
    "    for j in range(nt - 1):\n",
    "        x[0][j] = x[0][j + 1]\n",
    "    x[0][-1] = y[0]\n",
    "    for k in range(n_channels):\n",
    "        print(i, k)\n",
    "        plt.imshow(np.rollaxis(y[0], 2, 0)[k] * image_scalar, cmap=cm.gist_ncar_r, vmin=vmin, vmax=vmax)\n",
    "        plt.show()"
   ]
  },
  {
   "cell_type": "code",
   "execution_count": null,
   "metadata": {},
   "outputs": [],
   "source": [
    "def rescale(true, pred, split=0):\n",
    "#     true, pred = x_last.reshape(image_size, image_size), y_pred_last.reshape(image_size, image_size)\n",
    "    true_index = np.argsort(true, axis=None)\n",
    "    # print(true_index)\n",
    "    true_r = true.ravel()\n",
    "    pred_r = pred.ravel()\n",
    "    split = pred_r.max() * split\n",
    "    true_r = np.delete(true_r, np.where(true_r<0))\n",
    "    true_r.sort()\n",
    "    # print(true_r)\n",
    "    pred_index = np.argsort(pred, axis=None)\n",
    "    pred_new = np.empty(pred.shape).ravel()\n",
    "    if pred_r.max() <= split:\n",
    "        return pred\n",
    "    distribution_scalar = (len(true_r) - 1) / len(np.delete(pred_r, np.where(pred_r<split)))\n",
    "    position_offset = len(pred_r) - len(np.delete(pred_r, np.where(pred_r<split)))\n",
    "    for i in range(len(pred_new)):\n",
    "        position = (np.where(pred_index==i)[0][0] - position_offset) * distribution_scalar\n",
    "        if pred_r[i] < split:\n",
    "            pred_new[i] = -1\n",
    "        else:\n",
    "            pred_new[i] = true_r[int(position)] * (1+int(position)-position) + true_r[int(position+1)] * (position-int(position))\n",
    "    ans = pred_new.reshape(pred.shape)\n",
    "    return ans"
   ]
  },
  {
   "cell_type": "code",
   "execution_count": null,
   "metadata": {},
   "outputs": [],
   "source": [
    "%time\n",
    "true, pred = x_last.reshape(image_size, image_size), y_pred_last.reshape(image_size, image_size)\n",
    "true_index = np.argsort(true, axis=None)\n",
    "# print(true_index)\n",
    "true_r = true.ravel()\n",
    "pred_r = pred.ravel()\n",
    "true_r = np.delete(true_r, np.where(true_r<0))\n",
    "true_r.sort()\n",
    "# print(true_r)\n",
    "pred_index = np.argsort(pred, axis=None)\n",
    "pred_new = np.empty(pred.shape).ravel()\n",
    "distribution_scalar = (len(true_r) - 1) / len(np.delete(pred_r, np.where(pred_r<0)))\n",
    "position_offset = len(pred_r) - len(np.delete(pred_r, np.where(pred_r<0)))\n",
    "for i in range(len(pred_new)):\n",
    "    position = (np.where(pred_index==i)[0][0] - position_offset) * distribution_scalar\n",
    "    if pred_r[i] < 0:\n",
    "        pred_new[i] = -1\n",
    "    else:\n",
    "        pred_new[i] = true_r[int(position)] * (1+int(position)-position) + true_r[int(position+1)] * (position-int(position))\n",
    "ans = pred_new.reshape(pred.shape)"
   ]
  },
  {
   "cell_type": "code",
   "execution_count": null,
   "metadata": {},
   "outputs": [],
   "source": [
    "ans = rescale(x_last, y_pred_last, split=0.25)"
   ]
  },
  {
   "cell_type": "code",
   "execution_count": null,
   "metadata": {},
   "outputs": [],
   "source": [
    "arr = x_last.ravel()\n",
    "d1 = np.delete(arr, np.where(arr<0))\n",
    "sns.distplot(d1)\n",
    "plt.show\n",
    "arr = ans.ravel()\n",
    "# arr = arr * 2\n",
    "d2 = np.delete(arr, np.where(arr<0))\n",
    "sns.distplot(d2)\n",
    "plt.show()"
   ]
  },
  {
   "cell_type": "code",
   "execution_count": null,
   "metadata": {},
   "outputs": [],
   "source": [
    "plt.imshow(y_true_last, cmap=cm.gist_ncar_r, vmin=vmin, vmax=vmax)\n",
    "plt.show()\n",
    "plt.imshow(ans, cmap=cm.gist_ncar_r, vmin=vmin, vmax=vmax)\n",
    "plt.show()"
   ]
  },
  {
   "cell_type": "code",
   "execution_count": 149,
   "metadata": {},
   "outputs": [
    {
     "ename": "IndentationError",
     "evalue": "unexpected indent (<ipython-input-149-272becaa5c89>, line 14)",
     "output_type": "error",
     "traceback": [
      "\u001b[0;36m  File \u001b[0;32m\"<ipython-input-149-272becaa5c89>\"\u001b[0;36m, line \u001b[0;32m14\u001b[0m\n\u001b[0;31m    y = test_model.predict(x)\u001b[0m\n\u001b[0m    ^\u001b[0m\n\u001b[0;31mIndentationError\u001b[0m\u001b[0;31m:\u001b[0m unexpected indent\n"
     ]
    }
   ],
   "source": [
    "start_time = time.time()\n",
    "print(time.strftime(\"start time: %Y-%m-%d %H:%M:%S\", time.localtime()))\n",
    "model_abs_loss = []\n",
    "model_sqr_loss = []\n",
    "last_frame_abs_loss = []\n",
    "last_frame_sqr_loss = []\n",
    "for RAD_id_counter, RAD_id in enumerate(RAD_id_list[:1]):\n",
    "    x, y = data_generation([RAD_id], batch_size=1, image_size=image_size, image_scalar=image_scalar, nt=nt, step_size=step_size, offset=0, path='/home/hadoop/Documents/Neutrino/SRAD2018/SRAD2018_train')\n",
    "    x_last = np.array(PIL.Image.open(\"/home/hadoop/Documents/Neutrino/SRAD2018/SRAD2018_train/%s/%s_%03d.png\" % (RAD_id, RAD_id, (nt - 1) * step_size)).resize((image_size, image_size))).astype(np.int8).reshape((image_size, image_size))\n",
    "    y_true_last = np.array(PIL.Image.open(\"/home/hadoop/Documents/Neutrino/SRAD2018/SRAD2018_train/%s/%s_%03d.png\" % (RAD_id, RAD_id, 30)).resize((image_size, image_size))).astype(np.int8).reshape((image_size, image_size))\n",
    "#     for i in range(1):\n",
    "#     for i in range(30 // step_size - nt + 1):\n",
    "#     for i in range(30):\n",
    "        y = test_model.predict(x)\n",
    "        temp_matrix = np.rollaxis(y[0], 2, 0)\n",
    "#         for k in range(n_channels):\n",
    "#             temp_matrix[k] = rescale(x_last, temp_matrix[k], split=0.25)\n",
    "        y[0] = np.rollaxis(temp_matrix, 0, 3)\n",
    "        y = np.where(y<0.03, -0.01, y)\n",
    "    #     y = np.where(y>0.6, 0.6, y)\n",
    "        for j in range(nt - 1):\n",
    "            x[0][j] = x[0][j + 1]\n",
    "        x[0][-1] = y[0]\n",
    "    x, y = x[0], y[0]\n",
    "    y_pred_last = np.rollaxis(y, 2, 0)[0] * image_scalar \n",
    "#     y_pred_last = np.rollaxis(y, 2, 0)[0] * image_scalar + np.rollaxis(y, 2, 0)[1] * image_scalar + np.rollaxis(y, 2, 0)[2] * image_scalar# + np.rollaxis(y, 2, 0)[3] * image_scalar\n",
    "#     y_pred_last = y_pred_last / 3\n",
    "#     y_pred_last = rescale(x_last, y_pred_last, split=0.25)\n",
    "    last_frame_abs_loss.append(sklearn.metrics.mean_absolute_error(y_true_last.astype(np.int), x_last.astype(np.int)))\n",
    "    model_abs_loss.append(sklearn.metrics.mean_absolute_error(y_true_last.astype(np.int), y_pred_last.astype(np.int)))\n",
    "    last_frame_sqr_loss.append(sklearn.metrics.mean_squared_error(y_true_last.astype(np.int), x_last.astype(np.int)))\n",
    "    model_sqr_loss.append(sklearn.metrics.mean_squared_error(y_true_last.astype(np.int), y_pred_last.astype(np.int)))\n",
    "    if RAD_id_counter % 10 == 0:\n",
    "        print('RAD_id_counter=%5d\\t\\tIt takes %.2f' % (RAD_id_counter, time.time() - start_time))\n",
    "model_abs_loss = np.array(model_abs_loss)\n",
    "last_frame_abs_loss = np.array(last_frame_abs_loss)\n",
    "model_sqr_loss = np.array(model_sqr_loss)\n",
    "last_frame_sqr_loss = np.array(last_frame_sqr_loss)\n",
    "print('     model_abs_loss=%.7f' % model_abs_loss.mean())\n",
    "print('last_frame_abs_loss=%.7f' % last_frame_abs_loss.mean())\n",
    "print('     model_sqr_loss=%.7f' % model_sqr_loss.mean())\n",
    "print('last_frame_sqr_loss=%.7f' % last_frame_sqr_loss.mean())\n",
    "print(time.strftime('It took  %H:%M:%S', time.gmtime(time.time() - start_time)))\n",
    "print(time.strftime(\"end time: %Y-%m-%d %H:%M:%S\", time.localtime()))"
   ]
  },
  {
   "cell_type": "code",
   "execution_count": 148,
   "metadata": {},
   "outputs": [
    {
     "data": {
      "image/png": "[encoded data removed]",
      "text/plain": [
       "<Figure size 432x288 with 1 Axes>"
      ]
     },
     "metadata": {},
     "output_type": "display_data"
    },
    {
     "data": {
      "image/png": "[encoded data removed]",
      "text/plain": [
       "<Figure size 432x288 with 1 Axes>"
      ]
     },
     "metadata": {},
     "output_type": "display_data"
    },
    {
     "data": {
      "image/png": "[encoded data removed]",
      "text/plain": [
       "<Figure size 432x288 with 1 Axes>"
      ]
     },
     "metadata": {},
     "output_type": "display_data"
    }
   ],
   "source": [
    "x_last = x_last.reshape(image_size, image_size)\n",
    "plt.imshow(x_last, cmap=cm.gist_ncar_r, vmin=vmin, vmax=vmax)\n",
    "plt.show()\n",
    "y_true_last = y_true_last.reshape(image_size, image_size)\n",
    "plt.imshow(y_true_last, cmap=cm.gist_ncar_r, vmin=vmin, vmax=vmax)\n",
    "plt.show()\n",
    "y_pred_last = y_pred_last.reshape(image_size, image_size)\n",
    "plt.imshow(y_pred_last, cmap=cm.gist_ncar_r, vmin=vmin, vmax=vmax)\n",
    "plt.show()"
   ]
  },
  {
   "cell_type": "code",
   "execution_count": null,
   "metadata": {
    "scrolled": true
   },
   "outputs": [
    {
     "name": "stdout",
     "output_type": "stream",
     "text": [
      "start time: 2018-10-04 19:46:26\n",
      "RAD_id_counter=    0\t\tIt takes 0.12\n",
      "RAD_id_counter=   10\t\tIt takes 1.25\n",
      "RAD_id_counter=   20\t\tIt takes 2.40\n",
      "RAD_id_counter=   30\t\tIt takes 3.54\n"
     ]
    }
   ],
   "source": [
    "start_time = time.time()\n",
    "print(time.strftime(\"start time: %Y-%m-%d %H:%M:%S\", time.localtime()))\n",
    "model_abs_loss = []\n",
    "model_sqr_loss = []\n",
    "last_frame_abs_loss = []\n",
    "last_frame_sqr_loss = []\n",
    "for RAD_id_counter, RAD_id in enumerate(RAD_id_list[:50]):\n",
    "    x, y = data_generation([RAD_id], batch_size=1, image_size=image_size, image_scalar=image_scalar, nt=nt, step_size=step_size, offset=30-nt*step_size)\n",
    "    x_last = np.array(PIL.Image.open(\"/home/hadoop/Documents/Neutrino/SRAD2018/SRAD2018_train/%s/%s_%03d.png\" % (RAD_id, RAD_id, 30 - step_size)).resize((image_size, image_size))).astype(np.int8).reshape((image_size, image_size))\n",
    "    y_true_last = np.array(PIL.Image.open(\"/home/hadoop/Documents/Neutrino/SRAD2018/SRAD2018_train/%s/%s_%03d.png\" % (RAD_id, RAD_id, 60)).resize((image_size, image_size))).astype(np.int8).reshape((image_size, image_size))\n",
    "#     for i in range(1):\n",
    "    for i in range(30 // step_size + 1):\n",
    "#     for i in range(10):\n",
    "        y = test_model.predict(x)\n",
    "        temp_matrix = np.rollaxis(y[0], 2, 0)\n",
    "#         for k in range(n_channels):\n",
    "#             temp_matrix[k] = rescale(x_last, temp_matrix[k], split=0.25)\n",
    "        y[0] = np.rollaxis(temp_matrix, 0, 3)\n",
    "        y = np.where(y<0.03, -0.01, y)\n",
    "    #     y = np.where(y>0.6, 0.6, y)\n",
    "        for j in range(nt - 1):\n",
    "            x[0][j] = x[0][j + 1]\n",
    "        x[0][-1] = y[0]\n",
    "    x, y = x[0], y[0]\n",
    "    y_pred_last = np.rollaxis(y, 2, 0)[0] * image_scalar \n",
    "#     y_pred_last = np.rollaxis(y, 2, 0)[0] * image_scalar + np.rollaxis(y, 2, 0)[1] * image_scalar + np.rollaxis(y, 2, 0)[2] * image_scalar# + np.rollaxis(y, 2, 0)[3] * image_scalar\n",
    "#     y_pred_last = y_pred_last / 3\n",
    "#     y_pred_last = rescale(x_last, y_pred_last, split=0.25)\n",
    "    last_frame_abs_loss.append(sklearn.metrics.mean_absolute_error(y_true_last.astype(np.int), x_last.astype(np.int)))\n",
    "    model_abs_loss.append(sklearn.metrics.mean_absolute_error(y_true_last.astype(np.int), y_pred_last.astype(np.int)))\n",
    "    last_frame_sqr_loss.append(sklearn.metrics.mean_squared_error(y_true_last.astype(np.int), x_last.astype(np.int)))\n",
    "    model_sqr_loss.append(sklearn.metrics.mean_squared_error(y_true_last.astype(np.int), y_pred_last.astype(np.int)))\n",
    "    if RAD_id_counter % 10 == 0:\n",
    "        print('RAD_id_counter=%5d\\t\\tIt takes %.2f' % (RAD_id_counter, time.time() - start_time))\n",
    "model_abs_loss = np.array(model_abs_loss)\n",
    "last_frame_abs_loss = np.array(last_frame_abs_loss)\n",
    "model_sqr_loss = np.array(model_sqr_loss)\n",
    "last_frame_sqr_loss = np.array(last_frame_sqr_loss)\n",
    "print('     model_abs_loss=%.7f' % model_abs_loss.mean())\n",
    "print('last_frame_abs_loss=%.7f' % last_frame_abs_loss.mean())\n",
    "print('     model_sqr_loss=%.7f' % model_sqr_loss.mean())\n",
    "print('last_frame_sqr_loss=%.7f' % last_frame_sqr_loss.mean())\n",
    "print(time.strftime('It took  %H:%M:%S', time.gmtime(time.time() - start_time)))\n",
    "print(time.strftime(\"end time: %Y-%m-%d %H:%M:%S\", time.localtime()))"
   ]
  },
  {
   "cell_type": "code",
   "execution_count": 153,
   "metadata": {},
   "outputs": [
    {
     "data": {
      "image/png": "[encoded data removed]",
      "text/plain": [
       "<Figure size 432x288 with 1 Axes>"
      ]
     },
     "metadata": {},
     "output_type": "display_data"
    },
    {
     "data": {
      "image/png": "[encoded data removed]",
      "text/plain": [
       "<Figure size 432x288 with 1 Axes>"
      ]
     },
     "metadata": {},
     "output_type": "display_data"
    },
    {
     "data": {
      "image/png": "[encoded data removed]",
      "text/plain": [
       "<Figure size 432x288 with 1 Axes>"
      ]
     },
     "metadata": {},
     "output_type": "display_data"
    }
   ],
   "source": [
    "x_last = x_last.reshape(image_size, image_size)\n",
    "plt.imshow(x_last, cmap=cm.gist_ncar_r, vmin=vmin, vmax=vmax)\n",
    "plt.show()\n",
    "y_true_last = y_true_last.reshape(image_size, image_size)\n",
    "plt.imshow(y_true_last, cmap=cm.gist_ncar_r, vmin=vmin, vmax=vmax)\n",
    "plt.show()\n",
    "y_pred_last = y_pred_last.reshape(image_size, image_size)\n",
    "plt.imshow(y_pred_last, cmap=cm.gist_ncar_r, vmin=vmin, vmax=vmax)\n",
    "plt.show()"
   ]
  },
  {
   "cell_type": "code",
   "execution_count": null,
   "metadata": {},
   "outputs": [],
   "source": [
    "start_time = time.time()\n",
    "print(time.strftime(\"start time: %Y-%m-%d %H:%M:%S\", time.localtime()))\n",
    "model_abs_loss = []\n",
    "model_sqr_loss = []\n",
    "last_frame_abs_loss = []\n",
    "last_frame_sqr_loss = []\n",
    "for RAD_id_counter, RAD_id in enumerate(RAD_id_submit_list[-50:]):\n",
    "    x, y = data_generation([RAD_id], batch_size=1, image_size=image_size, image_scalar=image_scalar, nt=nt, step_size=step_size, offset=0, path='/home/hadoop/Documents/Neutrino/SRAD2018/SRAD2018_Test_2')\n",
    "    x_last = np.array(PIL.Image.open(\"/home/hadoop/Documents/Neutrino/SRAD2018/SRAD2018_Test_2/%s/%s_%03d.png\" % (RAD_id, RAD_id, (nt - 1) * step_size)).resize((image_size, image_size))).astype(np.int8).reshape((image_size, image_size))\n",
    "    y_true_last = np.array(PIL.Image.open(\"/home/hadoop/Documents/Neutrino/SRAD2018/SRAD2018_Test_2/%s/%s_%03d.png\" % (RAD_id, RAD_id, 30)).resize((image_size, image_size))).astype(np.int8).reshape((image_size, image_size))\n",
    "    for i in range(30 // step_size - nt + 1):\n",
    "        y = test_model.predict(x)\n",
    "        temp_matrix = np.rollaxis(y[0], 2, 0)\n",
    "#         for k in range(n_channels):\n",
    "#             temp_matrix[k] = rescale(x_last, temp_matrix[k], split=0.25)\n",
    "        y[0] = np.rollaxis(temp_matrix, 0, 3)\n",
    "        y = np.where(y<0.03, -0.01, y)\n",
    "    #     y = np.where(y>0.6, 0.6, y)\n",
    "        for j in range(nt - 1):\n",
    "            x[0][j] = x[0][j + 1]\n",
    "        x[0][-1] = y[0]\n",
    "    x, y = x[0], y[0]\n",
    "    y_pred_last = np.rollaxis(y, 2, 0)[0] * image_scalar \n",
    "#     y_pred_last = np.rollaxis(y, 2, 0)[0] * image_scalar + np.rollaxis(y, 2, 0)[1] * image_scalar + np.rollaxis(y, 2, 0)[2] * image_scalar# + np.rollaxis(y, 2, 0)[3] * image_scalar\n",
    "#     y_pred_last = y_pred_last / 3\n",
    "#     y_pred_last = rescale(x_last, y_pred_last, split=0.25)\n",
    "    last_frame_abs_loss.append(sklearn.metrics.mean_absolute_error(y_true_last.astype(np.int), x_last.astype(np.int)))\n",
    "    model_abs_loss.append(sklearn.metrics.mean_absolute_error(y_true_last.astype(np.int), y_pred_last.astype(np.int)))\n",
    "    last_frame_sqr_loss.append(sklearn.metrics.mean_squared_error(y_true_last.astype(np.int), x_last.astype(np.int)))\n",
    "    model_sqr_loss.append(sklearn.metrics.mean_squared_error(y_true_last.astype(np.int), y_pred_last.astype(np.int)))\n",
    "    if RAD_id_counter % 10 == 0:\n",
    "        print('RAD_id_counter=%5d\\t\\tIt takes %.2f' % (RAD_id_counter, time.time() - start_time))\n",
    "model_abs_loss = np.array(model_abs_loss)\n",
    "last_frame_abs_loss = np.array(last_frame_abs_loss)\n",
    "model_sqr_loss = np.array(model_sqr_loss)\n",
    "last_frame_sqr_loss = np.array(last_frame_sqr_loss)\n",
    "print('     model_abs_loss=%.7f' % model_abs_loss.mean())\n",
    "print('last_frame_abs_loss=%.7f' % last_frame_abs_loss.mean())\n",
    "print('     model_sqr_loss=%.7f' % model_sqr_loss.mean())\n",
    "print('last_frame_sqr_loss=%.7f' % last_frame_sqr_loss.mean())\n",
    "print(time.strftime('It took  %H:%M:%S', time.gmtime(time.time() - start_time)))\n",
    "print(time.strftime(\"end time: %Y-%m-%d %H:%M:%S\", time.localtime()))"
   ]
  },
  {
   "cell_type": "code",
   "execution_count": null,
   "metadata": {},
   "outputs": [],
   "source": [
    "x_last = x_last.reshape(image_size, image_size)\n",
    "plt.imshow(x_last, cmap=cm.gist_ncar_r, vmin=vmin, vmax=vmax)\n",
    "plt.show()\n",
    "y_true_last = y_true_last.reshape(image_size, image_size)\n",
    "plt.imshow(y_true_last, cmap=cm.gist_ncar_r, vmin=vmin, vmax=vmax)\n",
    "plt.show()\n",
    "y_pred_last = y_pred_last.reshape(image_size, image_size)\n",
    "plt.imshow(y_pred_last, cmap=cm.gist_ncar_r, vmin=vmin, vmax=vmax)\n",
    "plt.show()"
   ]
  },
  {
   "cell_type": "code",
   "execution_count": null,
   "metadata": {},
   "outputs": [],
   "source": [
    "model_abs_loss = np.array(model_abs_loss)\n",
    "last_frame_abs_loss = np.array(last_frame_abs_loss)\n",
    "model_sqr_loss = np.array(model_sqr_loss)\n",
    "last_frame_sqr_loss = np.array(last_frame_sqr_loss)\n",
    "print('     model_abs_loss=%.7f' % model_abs_loss.mean())\n",
    "print('last_frame_abs_loss=%.7f' % last_frame_abs_loss.mean())\n",
    "print('     model_sqr_loss=%.7f' % model_sqr_loss.mean())\n",
    "print('last_frame_sqr_loss=%.7f' % last_frame_sqr_loss.mean())"
   ]
  },
  {
   "cell_type": "markdown",
   "metadata": {},
   "source": [
    "3, 24, 72\n",
    "start time: 2018-09-27 00:28:02\n",
    "RAD_id_counter=    0\t\tIt takes 6.11\n",
    "RAD_id_counter=   10\t\tIt takes 44.23\n",
    "RAD_id_counter=   20\t\tIt takes 84.08\n",
    "RAD_id_counter=   30\t\tIt takes 123.28\n",
    "RAD_id_counter=   40\t\tIt takes 162.36\n",
    "     model_abs_loss=2.1793079\n",
    "last_frame_abs_loss=3.0182784\n",
    "     model_sqr_loss=18.8742713\n",
    "last_frame_sqr_loss=62.5443438\n",
    "It took  00:03:17\n",
    "end time: 2018-09-27 00:31:20\n",
    "\n",
    "3, 24, 48\n",
    "start time: 2018-09-26 22:07:54\n",
    "RAD_id_counter=    0\t\tIt takes 3.92\n",
    "RAD_id_counter=   10\t\tIt takes 34.94\n",
    "RAD_id_counter=   20\t\tIt takes 66.52\n",
    "RAD_id_counter=   30\t\tIt takes 99.01\n",
    "RAD_id_counter=   40\t\tIt takes 131.29\n",
    "     model_abs_loss=2.9955373\n",
    "last_frame_abs_loss=3.0182784\n",
    "     model_sqr_loss=47.5634027\n",
    "last_frame_sqr_loss=62.5443438\n",
    "It took  00:02:40\n",
    "end time: 2018-09-26 22:10:34\n",
    "\n",
    "4个channel\n",
    "start time: 2018-09-26 21:49:50\n",
    "RAD_id_counter=    0\t\tIt takes 8.36\n",
    "RAD_id_counter=   10\t\tIt takes 84.19\n",
    "RAD_id_counter=   20\t\tIt takes 161.02\n",
    "RAD_id_counter=   30\t\tIt takes 237.86\n",
    "RAD_id_counter=   40\t\tIt takes 314.59\n",
    "     model_abs_loss=2.9955373\n",
    "last_frame_abs_loss=3.0182784\n",
    "     model_sqr_loss=47.5634027\n",
    "last_frame_sqr_loss=62.5443438\n",
    "It took  00:06:23\n",
    "end time: 2018-09-26 21:56:14\n",
    "\n",
    "1个channel kernel_size = 3, 48 92\n",
    "start time: 2018-09-26 21:39:07\n",
    "RAD_id_counter=    0\t\tIt takes 6.55\n",
    "RAD_id_counter=   10\t\tIt takes 68.46\n",
    "RAD_id_counter=   20\t\tIt takes 133.23\n",
    "RAD_id_counter=   30\t\tIt takes 197.87\n",
    "RAD_id_counter=   40\t\tIt takes 262.69\n",
    "     model_abs_loss=2.2452565\n",
    "last_frame_abs_loss=3.0182784\n",
    "     model_sqr_loss=21.0494370\n",
    "last_frame_sqr_loss=62.5443438\n",
    "It took  00:05:20\n",
    "end time: 2018-09-26 21:44:28\n",
    "\n",
    "step_size=5\n",
    "     model_abs_loss=2.1902388\n",
    "last_frame_abs_loss=3.0182784\n",
    "     model_sqr_loss=18.3227458\n",
    "last_frame_sqr_loss=62.5443438\n",
    "\n",
    "step_size=3\n",
    "     model_abs_loss=2.4531817\n",
    "last_frame_abs_loss=3.0182784\n",
    "     model_sqr_loss=25.8047671\n",
    "last_frame_sqr_loss=62.5443438\n",
    "\n",
    "step_size=1\n",
    "     model_abs_loss=2.1902388\n",
    "last_frame_abs_loss=3.0182784\n",
    "     model_sqr_loss=18.3227458\n",
    "last_frame_sqr_loss=62.5443438\n",
    "\n",
    "step_size=1"
   ]
  },
  {
   "cell_type": "code",
   "execution_count": null,
   "metadata": {},
   "outputs": [],
   "source": [
    "y.shape"
   ]
  },
  {
   "cell_type": "code",
   "execution_count": null,
   "metadata": {
    "scrolled": true
   },
   "outputs": [],
   "source": [
    "x_last = x_last.reshape(image_size, image_size)\n",
    "plt.imshow(x_last, cmap=cm.gist_ncar_r, vmin=vmin, vmax=vmax)\n",
    "plt.show()\n",
    "y_true_last = y_true_last.reshape(image_size, image_size)\n",
    "plt.imshow(y_true_last, cmap=cm.gist_ncar_r, vmin=vmin, vmax=vmax)\n",
    "plt.show()\n",
    "y_pred_last = y_pred_last.reshape(image_size, image_size)\n",
    "plt.imshow(y_pred_last, cmap=cm.gist_ncar_r, vmin=vmin, vmax=vmax)\n",
    "plt.show()\n",
    "plt.imshow(rescale(x_last, y_pred_last), cmap=cm.gist_ncar_r, vmin=vmin, vmax=vmax)\n",
    "plt.show()"
   ]
  },
  {
   "cell_type": "markdown",
   "metadata": {},
   "source": [
    "# 用模型预测数据"
   ]
  },
  {
   "cell_type": "code",
   "execution_count": null,
   "metadata": {},
   "outputs": [],
   "source": [
    "RAD_id = RAD_id_submit_list[12]"
   ]
  },
  {
   "cell_type": "code",
   "execution_count": null,
   "metadata": {
    "scrolled": true
   },
   "outputs": [],
   "source": [
    "x, y = data_generation([RAD_id], batch_size=1, image_size=image_size, image_scalar=image_scalar, nt=nt, step_size=step_size, offset=29 - (nt - 1) * step_size, path='/home/hadoop/Documents/Neutrino/SRAD2018/SRAD2018_Test_2')\n",
    "\n",
    "for i in range(30 // step_size):\n",
    "    y = test_model.predict(x)\n",
    "#     temp_matrix = np.rollaxis(y[0], 2, 0)\n",
    "#     for k in range(3):\n",
    "#         psf_size = 15\n",
    "#         psf = np.ones((psf_size, psf_size)) / psf_size ** 2\n",
    "#         temp_matrix[k] = restoration.wiener(temp_matrix[k], psf, 5)\n",
    "#     y[0] = np.rollaxis(temp_matrix, 0, 3)\n",
    "    y = np.where(y<0.03, -0.01, y)\n",
    "#     y = np.where(y>0.6, 0.6, y)\n",
    "    for j in range(nt - 1):\n",
    "        x[0][j] = x[0][j + 1]\n",
    "    x[0][-1] = y[0]\n",
    "    for k in range(1):  # n_channels\n",
    "        print(i, k)\n",
    "        plt.imshow(np.rollaxis(y[0], 2, 0)[k] * image_scalar, cmap=cm.gist_ncar_r, vmin=vmin, vmax=vmax)\n",
    "        plt.show()"
   ]
  },
  {
   "cell_type": "code",
   "execution_count": null,
   "metadata": {},
   "outputs": [],
   "source": [
    "np.rollaxis(y[0], 2, 0)[k].shape"
   ]
  },
  {
   "cell_type": "code",
   "execution_count": null,
   "metadata": {},
   "outputs": [],
   "source": []
  },
  {
   "cell_type": "code",
   "execution_count": null,
   "metadata": {},
   "outputs": [],
   "source": [
    "4//5"
   ]
  },
  {
   "cell_type": "code",
   "execution_count": null,
   "metadata": {
    "scrolled": true
   },
   "outputs": [],
   "source": [
    "assert step_size == 1\n",
    "print('version=%s' % version)\n",
    "start_time = time.time()\n",
    "print(time.strftime(\"start time: %Y-%m-%d %H:%M:%S\", time.localtime()))\n",
    "for RAD_id_counter, RAD_id in enumerate(RAD_id_submit_list[2270+4990:]):\n",
    "    x, y = data_generation([RAD_id], batch_size=1, image_size=image_size, image_scalar=image_scalar, nt=nt, step_size=step_size, offset=29 - (nt - 1) * step_size, path='/home/hadoop/Documents/Neutrino/SRAD2018/SRAD2018_Test_2')\n",
    "    if not os.path.exists(\"/home/hadoop/Documents/Neutrino/SRAD2018/SRAD2018_submit/%s/%s\" % (version, RAD_id)):\n",
    "        os.makedirs(\"/home/hadoop/Documents/Neutrino/SRAD2018/SRAD2018_submit/%s/%s\" % (version, RAD_id))\n",
    "    for i in range(30):\n",
    "        y = test_model.predict(x)\n",
    "        y = np.where(y<0.03, -0.01, y)\n",
    "        for j in range(nt - 1):\n",
    "            x[0][j] = x[0][j + 1]\n",
    "        x[0][-1] = y[0]\n",
    "        if i % 5 == 4:\n",
    "            result = np.empty((image_size, image_size))\n",
    "            for k in range(n_channels):\n",
    "    #             print(i, k)\n",
    "                result = result + np.rollaxis(y[0], 2, 0)[k] * image_scalar\n",
    "    #             plt.imshow(np.rollaxis(y[0], 2, 0)[k] * image_scalar, cmap=cm.gist_ncar_r, vmin=vmin, vmax=vmax)\n",
    "    #             plt.show()\n",
    "            result = result / n_channels\n",
    "    #         print(i)\n",
    "    #         plt.imshow(result, cmap=cm.gist_ncar_r, vmin=vmin, vmax=vmax)\n",
    "    #         plt.show()\n",
    "            result = result.astype(np.uint8)\n",
    "            result = np.where(result==0, 255, result)\n",
    "            result = PIL.Image.fromarray(result)\n",
    "            result = result.resize((501, 501))\n",
    "    #         plt.imshow(result, cmap=cm.gist_ncar_r, vmin=vmin, vmax=vmax)\n",
    "    #         plt.show()\n",
    "            result.save(\"/home/hadoop/Documents/Neutrino/SRAD2018/SRAD2018_submit/%s/%s/%s_f%03d.png\" % (version, RAD_id, RAD_id, (i // 5) + 1))\n",
    "    if RAD_id_counter % 10 == 0:\n",
    "        print('RAD_id_counter=%5d\\t\\tIt takes %.2f' % (RAD_id_counter, time.time() - start_time))\n",
    "print(time.strftime('It took  %H:%M:%S', time.gmtime(time.time() - start_time)))\n",
    "print(time.strftime(\"end time: %Y-%m-%d %H:%M:%S\", time.localtime()))"
   ]
  },
  {
   "cell_type": "markdown",
   "metadata": {},
   "source": [
    "```bash\n",
    "zip -r \"SRAD2018_Neutrino_PredNet_v0.4.8.1_18.09.27.00.32.zip\" \"SRAD2018_Neutrino_PredNet_v0.4.8.1_18.09.27.00.32\"\n",
    "ls | wc -l\n",
    "```\n",
    "18.09.02 15.50"
   ]
  },
  {
   "cell_type": "code",
   "execution_count": null,
   "metadata": {},
   "outputs": [],
   "source": [
    "assert step_size == 5\n",
    "print('version=%s' % version)\n",
    "start_time = time.time()\n",
    "print(time.strftime(\"start time: %Y-%m-%d %H:%M:%S\", time.localtime()))\n",
    "for RAD_id_counter, RAD_id in enumerate(RAD_id_submit_list):\n",
    "    x, y = data_generation([RAD_id], batch_size=1, image_size=image_size, image_scalar=image_scalar, nt=nt, step_size=step_size, offset=30 - (nt - 1) * step-size, path='/home/hadoop/Documents/Neutrino/SRAD2018/SRAD2018_Test_2')\n",
    "    if not os.path.exists(\"/home/hadoop/Documents/Neutrino/SRAD2018/SRAD2018_submit/%s/%s\" % (version, RAD_id)):\n",
    "        os.makedirs(\"/home/hadoop/Documents/Neutrino/SRAD2018/SRAD2018_submit/%s/%s\" % (version, RAD_id))\n",
    "    for i in range(30 // step_size):\n",
    "        y = test_model.predict(x)\n",
    "    #     temp_matrix = np.rollaxis(y[0], 2, 0)\n",
    "    #     for k in range(3):\n",
    "    #         psf_size = 15\n",
    "    #         psf = np.ones((psf_size, psf_size)) / psf_size ** 2\n",
    "    #         temp_matrix[k] = restoration.wiener(temp_matrix[k], psf, 5)\n",
    "    #     y[0] = np.rollaxis(temp_matrix, 0, 3)\n",
    "        y = np.where(y<0.03, -0.01, y)\n",
    "        y = np.where(y>0.33, 0.33, y)\n",
    "        for j in range(nt - 1):\n",
    "            x[0][j] = x[0][j + 1]\n",
    "        x[0][-1] = y[0]\n",
    "        result = np.empty((image_size, image_size))\n",
    "        for k in range(n_channels):\n",
    "#             print(i, k)\n",
    "            result = result + np.rollaxis(y[0], 2, 0)[k] * image_scalar\n",
    "#             plt.imshow(np.rollaxis(y[0], 2, 0)[k] * image_scalar, cmap=cm.gist_ncar_r, vmin=vmin, vmax=vmax)\n",
    "#             plt.show()\n",
    "        result = result / 3\n",
    "#         print(i)\n",
    "#         plt.imshow(result, cmap=cm.gist_ncar_r, vmin=vmin, vmax=vmax)\n",
    "#         plt.show()\n",
    "        result = result.astype(np.uint8)\n",
    "        result = np.where(result==0, 255, result)\n",
    "        result = PIL.Image.fromarray(result)\n",
    "        result = result.resize((501, 501))\n",
    "#         plt.imshow(result, cmap=cm.gist_ncar_r, vmin=vmin, vmax=vmax)\n",
    "#         plt.show()\n",
    "        result.save(\"/home/hadoop/Documents/Neutrino/SRAD2018/SRAD2018_submit/%s/%s/%s_f%03d.png\" % (version, RAD_id, RAD_id, i + 1))\n",
    "    if RAD_id_counter % 10 == 0:\n",
    "        print('RAD_id_counter=%5d\\t\\tIt takes %.2f' % (RAD_id_counter, time.time() - start_time))\n",
    "print(time.strftime('It took  %H:%M:%S', time.gmtime(time.time() - start_time)))\n",
    "print(time.strftime(\"end time: %Y-%m-%d %H:%M:%S\", time.localtime()))"
   ]
  },
  {
   "cell_type": "code",
   "execution_count": null,
   "metadata": {},
   "outputs": [],
   "source": []
  }
 ],
 "metadata": {
  "kernelspec": {
   "display_name": "Python 3",
   "language": "python",
   "name": "python3"
  },
  "language_info": {
   "codemirror_mode": {
    "name": "ipython",
    "version": 3
   },
   "file_extension": ".py",
   "mimetype": "text/x-python",
   "name": "python",
   "nbconvert_exporter": "python",
   "pygments_lexer": "ipython3",
   "version": "3.5.2"
  }
 },
 "nbformat": 4,
 "nbformat_minor": 2
}
