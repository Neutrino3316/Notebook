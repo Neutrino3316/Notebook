{
 "cells": [
  {
   "cell_type": "code",
   "execution_count": 1,
   "metadata": {},
   "outputs": [
    {
     "name": "stderr",
     "output_type": "stream",
     "text": [
      "Using TensorFlow backend.\n"
     ]
    }
   ],
   "source": [
    "import os\n",
    "import numpy as np\n",
    "np.random.seed(123)\n",
    "from six.moves import cPickle\n",
    "\n",
    "import keras\n",
    "import tensorflow as tf\n",
    "\n",
    "from keras import backend as K\n",
    "# from keras.models import Model\n",
    "from keras.layers import Input, Dense, Flatten\n",
    "from keras.layers import LSTM\n",
    "from keras.layers import TimeDistributed\n",
    "from keras.callbacks import LearningRateScheduler, ModelCheckpoint\n",
    "from keras.optimizers import Adam\n",
    "\n",
    "from prednet import PredNet\n",
    "# from data_utils import SequenceGenerator\n",
    "from kitti_settings import *\n",
    "\n",
    "import os\n",
    "import numpy as np\n",
    "import PIL\n",
    "import matplotlib.pyplot as plt\n",
    "from matplotlib import cm\n",
    "import time"
   ]
  },
  {
   "cell_type": "code",
   "execution_count": 2,
   "metadata": {},
   "outputs": [
    {
     "name": "stdout",
     "output_type": "stream",
     "text": [
      "5000\n"
     ]
    }
   ],
   "source": [
    "raw_RAD_id_list = os.listdir('/home/hadoop/Documents/Neutrino/SRAD2018/SRAD2018_train/')\n",
    "print(len(raw_RAD_id_list))\n",
    "RAD_id_list = raw_RAD_id_list"
   ]
  },
  {
   "cell_type": "code",
   "execution_count": 3,
   "metadata": {},
   "outputs": [],
   "source": [
    "def check_RAD_id(RAD_id):\n",
    "    mean_list = []\n",
    "    for k in range(61):\n",
    "        mean_list.append(np.array(PIL.Image.open('/home/hadoop/Documents/Neutrino/SRAD2018/SRAD2018_train/%s/%s_%03d.png'\n",
    "                         % (RAD_id, RAD_id,\n",
    "                        k))).astype(np.int8).ravel().mean())\n",
    "    mean_list = np.array(mean_list)\n",
    "    if i % 100 == 0:\n",
    "        print(time.strftime('%H:%M:%S', time.gmtime(time.time() - start_time)))\n",
    "        print(i, mean_list[:6])\n",
    "    if mean_list.mean() < 0:\n",
    "        return False\n",
    "    for k in range(59):\n",
    "        if abs(mean_list[k] + mean_list[k + 2] - 2 * mean_list[k + 1]) > 2:\n",
    "            return False\n",
    "    return True"
   ]
  },
  {
   "cell_type": "code",
   "execution_count": 4,
   "metadata": {
    "scrolled": true
   },
   "outputs": [
    {
     "name": "stdout",
     "output_type": "stream",
     "text": [
      "start time: 2018-08-29 00:18:52\n",
      "00:00:00\n",
      "0 [-0.87143478 -0.88864586 -0.87570966 -0.87651842 -0.85615197 -0.85808025]\n",
      "00:00:04\n",
      "100 [0.93458592 0.94748228 0.91407206 0.97729093 0.9896096  0.95768941]\n",
      "00:00:08\n",
      "200 [0.63846758 0.81406847 0.84174963 1.11912702 1.17828216 1.40408206]\n",
      "00:00:13\n",
      "300 [-0.70275019 -0.60799758 -0.57519691 -0.53383054 -0.47055191 -0.42185489]\n",
      "00:00:17\n",
      "400 [3.6213282  3.81463022 3.72164653 3.65255517 3.61006928 3.63974646]\n",
      "00:00:21\n",
      "500 [-0.82312819 -0.84708427 -0.86941088 -0.86395672 -0.89204425 -0.87515588]\n",
      "00:00:25\n",
      "600 [-0.64371855 -0.6432564  -0.65860295 -0.65442369 -0.6496747  -0.67613276]\n",
      "00:00:30\n",
      "700 [7.77424791 0.75098904 0.68460683 0.60291393 0.59950757 0.56755551]\n",
      "00:00:34\n",
      "800 [-0.27642121 -0.20599918 -0.12073259 -0.05030657  0.04815519  0.06030653]\n",
      "00:00:38\n",
      "900 [-0.85298067 -0.84477751 -0.82603655 -0.79839523 -0.76492524 -0.77512042]\n",
      "00:00:43\n",
      "1000 [5.48567137 5.721778   5.83030745 5.96880889 6.05623882 6.2163099 ]\n",
      "00:00:47\n",
      "1100 [-0.58297377 -0.59010522 -0.59204943 -0.59812909 -0.59858327 -0.6052446 ]\n",
      "00:00:51\n",
      "1200 [0.42858793 0.48936458 0.41439277 0.3598392  0.45380297 0.40323345]\n",
      "00:00:56\n",
      "1300 [ 0.06405154  0.09507532  0.06442205  0.02217919 -0.0027211  -0.01908757]\n",
      "00:01:00\n",
      "1400 [-0.32966403 -0.35466393 -0.31747284 -0.34166796 -0.37782718 -0.42793455]\n",
      "00:01:04\n",
      "1500 [-0.96092047 -0.96500014 -0.96528301 -0.97731882 -0.98631878 -0.98718332]\n",
      "00:01:09\n",
      "1600 [-0.87486106 -0.84252652 -0.84663806 -0.85465397 -0.87227143 -0.87990884]\n",
      "00:01:13\n",
      "1700 [-0.97920327 -0.98887255 -0.98874905 -0.98923112 -0.98806778 -0.98720722]\n",
      "00:01:17\n",
      "1800 [8.39836495 8.46852801 8.67002123 8.73830383 8.69142752 9.0027968 ]\n",
      "00:01:22\n",
      "1900 [9.28255664 9.30374779 9.15307509 9.15582806 9.44860379 9.87953036]\n",
      "00:01:26\n",
      "2000 [2.37185908 2.32926164 2.1861148  1.99493628 1.85708423 1.76163043]\n",
      "00:01:30\n",
      "2100 [-0.6050693  -0.60800156 -0.63057916 -0.65034801 -0.59922072 -0.58346381]\n",
      "00:01:34\n",
      "2200 [1.02266126 0.92343457 1.17511086 1.25001494 1.41167565 1.49428488]\n",
      "00:01:38\n",
      "2300 [3.45725714 3.26094318 3.18685981 3.1327166  3.06002367 3.01368122]\n",
      "00:01:43\n",
      "2400 [1.80475377 1.72050311 1.68978211 1.71500114 1.71623221 1.62416883]\n",
      "00:01:47\n",
      "2500 [-0.99665738 -0.99291238 -0.96902403 -0.95223525 -0.93763371 -0.93333094]\n",
      "00:01:51\n",
      "2600 [-0.92111984 -0.9211039  -0.93453413 -0.94756595 -0.94448229 -0.95432289]\n",
      "00:01:55\n",
      "2700 [-0.9333668  -0.90306015 -0.85693284 -0.81372186 -0.79135541 -0.79403269]\n",
      "00:02:00\n",
      "2800 [0.77980566 0.7820686  0.71937164 0.6921088  0.72464253 0.72469831]\n",
      "00:02:04\n",
      "2900 [-0.72061067 -0.72677798 -0.7312441  -0.74291337 -0.7379612  -0.74380979]\n",
      "00:02:09\n",
      "3000 [0.66552324 0.71081789 0.64151936 0.63567077 0.54696196 0.52708157]\n",
      "00:02:13\n",
      "3100 [-0.98477695 -0.9811435  -0.98080087 -0.98307975 -0.98462954 -0.98310764]\n",
      "00:02:17\n",
      "3200 [-0.46704196 -0.48071123 -0.51794614 -0.534715   -0.54831654 -0.53630464]\n",
      "00:02:22\n",
      "3300 [-0.58501759 -0.61354736 -0.64145561 -0.67955905 -0.68113274 -0.72576603]\n",
      "00:02:26\n",
      "3400 [-0.21243342 -0.15978024 -0.12658515 -0.10064103 -0.04991215 -0.11142585]\n",
      "00:02:30\n",
      "3500 [-0.8639607  -0.8814945  -0.87833515 -0.89853427 -0.91809993 -0.93093255]\n",
      "00:02:35\n",
      "3600 [-0.94266158 -0.97183278 -0.94333489 -0.95773722 -0.97736662 -0.97465349]\n",
      "00:02:39\n",
      "3700 [1.43359588 1.42980705 1.38237696 1.37839291 1.40085896 1.45308983]\n",
      "00:02:43\n",
      "3800 [-0.12037004 -0.13444568 -0.20023825 -0.16200732 -0.24362851 -0.18511878]\n",
      "00:02:48\n",
      "3900 [-0.45425715 -0.45510576 -0.49094227 -0.50434062 -0.55810136 -0.52308955]\n",
      "00:02:52\n",
      "4000 [3.65832009 3.62530428 3.54214525 3.4125123  3.25208266 3.08153752]\n",
      "00:02:56\n",
      "4100 [0.85241493 0.86492484 0.85322768 0.93217557 0.79598886 0.81779754]\n",
      "00:03:00\n",
      "4200 [1.59465899 1.54518508 1.40510596 1.43759188 1.29453269 0.74052295]\n",
      "00:03:04\n",
      "4300 [-0.59453548 -0.6147346  -0.61390194 -0.63458313 -0.61271867 -0.61903737]\n",
      "00:03:09\n",
      "4400 [2.44722929 2.45256393 2.53084251 2.56603759 2.60199362 2.67280608]\n",
      "00:03:13\n",
      "4500 [-0.85701252 -0.87313596 -0.84759822 -0.86017187 -0.87541085 -0.86239895]\n",
      "00:03:18\n",
      "4600 [4.24455281 4.47076306 4.45807786 4.45191055 4.45616153 4.36108223]\n",
      "00:03:22\n",
      "4700 [ 0.00552189 -0.03015127 -0.09921076 -0.19921833 -0.19156099 -0.26742921]\n",
      "00:03:27\n",
      "4800 [0.88839487 0.94976912 0.96963359 0.99081677 0.96220732 0.92523137]\n",
      "00:03:31\n",
      "4900 [-0.99856973 -0.99517532 -0.99419923 -0.99698806 -0.99388847 -0.99717133]\n",
      "end time: 2018-08-29 00:22:28\n",
      "00:03:35\n",
      "1895\n"
     ]
    }
   ],
   "source": [
    "start_time = time.time()\n",
    "print(time.strftime('start time: %Y-%m-%d %H:%M:%S', time.localtime()))\n",
    "RAD_id_list = []\n",
    "for (i, RAD_id) in enumerate(raw_RAD_id_list):\n",
    "    if check_RAD_id(RAD_id):\n",
    "        RAD_id_list.append(RAD_id)\n",
    "print(time.strftime('end time: %Y-%m-%d %H:%M:%S', time.localtime()))\n",
    "print(time.strftime('%H:%M:%S', time.gmtime(time.time() - start_time)))\n",
    "print(len(RAD_id_list))"
   ]
  },
  {
   "cell_type": "code",
   "execution_count": 5,
   "metadata": {},
   "outputs": [],
   "source": [
    "class myGenerator(keras.utils.Sequence):\n",
    "    'Generates data for Keras'\n",
    "    def __init__(self, list_IDs, nt, image_size, image_scalar, batch_size=32, shuffle=True):\n",
    "        'Initialization'\n",
    "        self.batch_size = batch_size\n",
    "        self.list_IDs = list_IDs\n",
    "        self.shuffle = shuffle\n",
    "        self.nt = nt\n",
    "        self.image_size = image_size\n",
    "        self.image_scalar = image_scalar\n",
    "        self.on_epoch_end()\n",
    "\n",
    "    def __len__(self):\n",
    "        'Denotes the number of batches per epoch'\n",
    "        return int(np.floor(len(self.list_IDs) / self.batch_size))\n",
    "\n",
    "    def __getitem__(self, index):\n",
    "        'Generate one batch of data'\n",
    "        # Generate indexes of the batch\n",
    "        indexes = self.indexes[index*self.batch_size:(index+1)*self.batch_size]\n",
    "        # Find list of IDs\n",
    "        list_IDs_temp = [self.list_IDs[k] for k in indexes]\n",
    "        # Generate data\n",
    "        X, y = self.__data_generation(list_IDs_temp)\n",
    "        return X, y\n",
    "\n",
    "    def on_epoch_end(self):\n",
    "        'Updates indexes after each epoch'\n",
    "        self.indexes = np.arange(len(self.list_IDs))\n",
    "        if self.shuffle == True:\n",
    "            np.random.shuffle(self.indexes)\n",
    "\n",
    "    def __data_generation(self, list_IDs_temp):\n",
    "        'Generates data containing batch_size samples' # X : (n_samples, *dim, n_channels)\n",
    "        X = np.empty((self.batch_size, self.nt, self.image_size, self.image_size, 1))\n",
    "        y = np.empty((self.batch_size, self.image_size, self.image_size, 1))\n",
    "        # Generate data\n",
    "#         print(list_IDs_temp)\n",
    "        for i, RAD_id in enumerate(list_IDs_temp):\n",
    "            for j in range(self.nt):\n",
    "                X[i][j] = np.array(PIL.Image.open(\"/home/hadoop/Documents/Neutrino/SRAD2018/SRAD2018_train/%s/%s_%03d.png\" % (RAD_id, RAD_id, j * 5)).resize((self.image_size, self.image_size))).astype(np.int8).reshape((self.image_size, self.image_size, 1)) / self.image_scalar\n",
    "            y[i] = np.array(PIL.Image.open(\"/home/hadoop/Documents/Neutrino/SRAD2018/SRAD2018_train/%s/%s_%03d.png\" % (RAD_id, RAD_id, (self.nt) * 5)).resize((self.image_size, self.image_size))).astype(np.int8).reshape((self.image_size, self.image_size, 1)) / self.image_scalar\n",
    "        return X, y"
   ]
  },
  {
   "cell_type": "code",
   "execution_count": 38,
   "metadata": {},
   "outputs": [
    {
     "name": "stdout",
     "output_type": "stream",
     "text": [
      "build time: 2018-08-29 00:41:30\n"
     ]
    }
   ],
   "source": [
    "# tf.reset_default_graph()\n",
    "\n",
    "save_model = True  # if weights will be saved\n",
    "weights_file = os.path.join(WEIGHTS_DIR, 'prednet_kitti_weights.hdf5')  # where weights will be saved\n",
    "json_file = os.path.join(WEIGHTS_DIR, 'prednet_kitti_model.json')\n",
    "\n",
    "# # Data files\n",
    "# train_file = os.path.join(DATA_DIR, 'X_train.hkl')\n",
    "# train_sources = os.path.join(DATA_DIR, 'sources_train.hkl')\n",
    "# val_file = os.path.join(DATA_DIR, 'X_val.hkl')\n",
    "# val_sources = os.path.join(DATA_DIR, 'sources_val.hkl')\n",
    "\n",
    "# Training parameters\n",
    "nb_epoch = 15\n",
    "batch_size = 4\n",
    "samples_per_epoch = 50  # 500\n",
    "N_seq_val = None  # 100  number of sequences to use for validation\n",
    "\n",
    "# Model parameters\n",
    "image_size = 256\n",
    "nt = 5  # number of timesteps used for sequences in training\n",
    "image_scalar = 80\n",
    "n_channels, im_height, im_width = (1, image_size, image_size)  # (3, 128, 160)\n",
    "input_shape = (n_channels, im_height, im_width) if K.image_data_format() == 'channels_first' else (im_height, im_width, n_channels)\n",
    "stack_sizes = (n_channels, 48, 96)  # (n_channels, 48, 96, 192)\n",
    "R_stack_sizes = stack_sizes\n",
    "A_filt_sizes = (2, 2)\n",
    "Ahat_filt_sizes = (2, 2, 2)\n",
    "R_filt_sizes = (2, 2, 2)\n",
    "layer_loss_weights = np.array([1., 0., 0.])  # weighting for each layer in final loss; \"L_0\" model:  [1, 0, 0, 0], \"L_all\": [1, 0.1, 0.1, 0.1]\n",
    "layer_loss_weights = np.expand_dims(layer_loss_weights, 1)\n",
    "time_loss_weights = 1./ (nt - 1) * np.ones((nt,1))  # equally weight all timesteps except the first\n",
    "time_loss_weights[0] = 0\n",
    "\n",
    "\n",
    "# prednet = PredNet(stack_sizes, R_stack_sizes,\n",
    "#                   A_filt_sizes, Ahat_filt_sizes, R_filt_sizes, A_activation='elu', error_activation='elu',\n",
    "#                   output_mode='prediction', return_sequences=False)\n",
    "\n",
    "inputs = Input(shape=(nt,) + input_shape)\n",
    "net = inputs\n",
    "net = keras.layers.ConvLSTM2D(filters=128, kernel_size=(3, 3), input_shape=(nt,) + input_shape, padding='same', return_sequences=False, dropout=0.9, recurrent_dropout=0.9, activation='elu', recurrent_activation='tanh')(net)\n",
    "net = keras.layers.Conv2D(filters=1, kernel_size=(1, 1), padding='same', activation='tanh', input_shape=(nt,) + input_shape)(net)\n",
    "outputs = net\n",
    "# outputs = np.empty(shape=(nt,) + input_shape)\n",
    "# for i in range(nt):\n",
    "#     temp_outputs = prednet(inputs)\n",
    "#     outputs[i] = temp_outputs\n",
    "#     for j in range(nt - 1):\n",
    "#         inputs[j] = inputs[j + 1]\n",
    "#     inputs[-1] = temp_outputs\n",
    "\n",
    "def my_loss(y_true, y_pred):\n",
    "    w = tf.add(y_true, tf.constant(10.0))\n",
    "#     w = tf.add(y_pred, w)\n",
    "    loss = tf.losses.mean_squared_error(y_true, y_pred, weights=w)\n",
    "#     loss = tf.losses.mean_squared_error(y_true, y_pred)\n",
    "    loss = tf.multiply(loss, tf.constant(1000.0))\n",
    "    return loss\n",
    "\n",
    "# errors = prednet(inputs)  # errors will be (batch_size, nt, nb_layers)\n",
    "# errors_by_time = TimeDistributed(Dense(1, trainable=False), weights=[layer_loss_weights, np.zeros(1)], trainable=False)(errors)  # calculate weighted error by layer\n",
    "# errors_by_time = Flatten()(errors_by_time)  # will be (batch_size, nt)\n",
    "# final_errors = Dense(1, weights=[time_loss_weights, np.zeros(1)], trainable=False)(errors_by_time)  # weight errors by time\n",
    "model = keras.models.Model(inputs=inputs, outputs=outputs)\n",
    "model.compile(loss=my_loss, optimizer=keras.optimizers.Adam())\n",
    "print(time.strftime('build time: %Y-%m-%d %H:%M:%S', time.localtime()))"
   ]
  },
  {
   "cell_type": "code",
   "execution_count": 39,
   "metadata": {},
   "outputs": [
    {
     "name": "stdout",
     "output_type": "stream",
     "text": [
      "_________________________________________________________________\n",
      "Layer (type)                 Output Shape              Param #   \n",
      "=================================================================\n",
      "input_10 (InputLayer)        (None, 5, 256, 256, 1)    0         \n",
      "_________________________________________________________________\n",
      "conv_lst_m2d_13 (ConvLSTM2D) (None, 256, 256, 128)     594944    \n",
      "_________________________________________________________________\n",
      "conv2d_2 (Conv2D)            (None, 256, 256, 1)       129       \n",
      "=================================================================\n",
      "Total params: 595,073\n",
      "Trainable params: 595,073\n",
      "Non-trainable params: 0\n",
      "_________________________________________________________________\n"
     ]
    }
   ],
   "source": [
    "model.summary()"
   ]
  },
  {
   "cell_type": "markdown",
   "metadata": {},
   "source": [
    "how to use tensorboard\n",
    "```bash\n",
    "python3 /usr/local/lib/python3.5/dist-packages/tensorboard/main.py --logdir='/home/hadoop/Documents/Neutrino/tensorboard_logs' --host=192.168.1.115\n",
    "rm -rf /home/hadoop/Documents/Neutrino/tensorboard_logs\n",
    "```"
   ]
  },
  {
   "cell_type": "code",
   "execution_count": 40,
   "metadata": {},
   "outputs": [],
   "source": [
    "lr_schedule = lambda epoch: 0.003 if epoch < 75 else 0.001    # start with lr of 0.001 and then drop to 0.0001 after 75 epochs\n",
    "tb_callback = keras.callbacks.TensorBoard(log_dir='/home/hadoop/Documents/Neutrino/tensorboard_logs', histogram_freq=0)\n",
    "callbacks = [LearningRateScheduler(lr_schedule), tb_callback]"
   ]
  },
  {
   "cell_type": "code",
   "execution_count": null,
   "metadata": {
    "scrolled": true
   },
   "outputs": [
    {
     "name": "stdout",
     "output_type": "stream",
     "text": [
      "start time: 2018-08-29 00:41:40\n",
      "Epoch 1/5000\n",
      "30/30 [==============================] - 11s 378ms/step - loss: 101.6026 - val_loss: 65.7594\n",
      "Epoch 2/5000\n",
      "30/30 [==============================] - 10s 339ms/step - loss: 84.5993 - val_loss: 59.0827\n",
      "Epoch 3/5000\n",
      "30/30 [==============================] - 10s 346ms/step - loss: 78.6131 - val_loss: 55.2654\n",
      "Epoch 4/5000\n",
      "30/30 [==============================] - 10s 343ms/step - loss: 77.5756 - val_loss: 55.4875\n",
      "Epoch 5/5000\n",
      "30/30 [==============================] - 10s 342ms/step - loss: 77.0486 - val_loss: 57.7710\n",
      "Epoch 6/5000\n",
      "30/30 [==============================] - 10s 347ms/step - loss: 76.5791 - val_loss: 56.3619\n",
      "Epoch 7/5000\n",
      "30/30 [==============================] - 10s 345ms/step - loss: 76.2955 - val_loss: 57.9666\n",
      "Epoch 8/5000\n",
      "30/30 [==============================] - 10s 349ms/step - loss: 75.9639 - val_loss: 57.5504\n",
      "Epoch 9/5000\n",
      "30/30 [==============================] - 10s 350ms/step - loss: 75.9933 - val_loss: 59.2250\n",
      "Epoch 10/5000\n",
      "30/30 [==============================] - 11s 360ms/step - loss: 75.4060 - val_loss: 58.8155\n",
      "Epoch 11/5000\n",
      "30/30 [==============================] - 11s 356ms/step - loss: 75.4453 - val_loss: 57.9054\n",
      "Epoch 12/5000\n",
      "30/30 [==============================] - 11s 355ms/step - loss: 75.1120 - val_loss: 59.7975\n",
      "Epoch 13/5000\n",
      "30/30 [==============================] - 11s 356ms/step - loss: 75.1103 - val_loss: 58.6003\n",
      "Epoch 14/5000\n",
      "30/30 [==============================] - 11s 358ms/step - loss: 74.7421 - val_loss: 60.8396\n",
      "Epoch 15/5000\n",
      "30/30 [==============================] - 11s 358ms/step - loss: 74.6109 - val_loss: 61.3346\n",
      "Epoch 16/5000\n",
      "30/30 [==============================] - 11s 356ms/step - loss: 74.2663 - val_loss: 62.9671\n",
      "Epoch 17/5000\n",
      "30/30 [==============================] - 11s 357ms/step - loss: 74.4279 - val_loss: 62.9159\n",
      "Epoch 18/5000\n",
      "30/30 [==============================] - 11s 357ms/step - loss: 73.9460 - val_loss: 62.9213\n",
      "Epoch 19/5000\n",
      "30/30 [==============================] - 11s 358ms/step - loss: 74.1550 - val_loss: 63.2679\n",
      "Epoch 20/5000\n",
      "17/30 [================>.............] - ETA: 4s - loss: 74.7417"
     ]
    }
   ],
   "source": [
    "print(time.strftime('start time: %Y-%m-%d %H:%M:%S', time.localtime()))\n",
    "train_generator = myGenerator(list_IDs=RAD_id_list[:1], nt=nt, image_size=image_size, image_scalar=image_scalar, batch_size=1)\n",
    "valid_generator = myGenerator(list_IDs=RAD_id_list[-10:], nt=nt, image_size=image_size, image_scalar=image_scalar, batch_size=1, shuffle=False)\n",
    "history = model.fit_generator(train_generator, steps_per_epoch=30, epochs=5000, validation_data=valid_generator, validation_steps=2 ,use_multiprocessing=True, max_queue_size=20, callbacks=callbacks)"
   ]
  },
  {
   "cell_type": "code",
   "execution_count": null,
   "metadata": {
    "scrolled": true
   },
   "outputs": [],
   "source": [
    "train_generator = myGenerator(list_IDs=RAD_id_list[:1600], nt=nt, image_size=image_size, image_scalar=image_scalar, batch_size=10)\n",
    "valid_generator = myGenerator(list_IDs=RAD_id_list[1800:], nt=nt, image_size=image_size, image_scalar=image_scalar, batch_size=10)\n",
    "history = model.fit_generator(train_generator, steps_per_epoch=10, epochs=5000, validation_data=valid_generator, validation_steps=2 ,use_multiprocessing=True, max_queue_size=20, callbacks=callbacks)"
   ]
  },
  {
   "cell_type": "code",
   "execution_count": null,
   "metadata": {},
   "outputs": [],
   "source": [
    "train_generator = myGenerator(list_IDs=RAD_id_list[:1600], nt=nt, image_size=image_size, image_scalar=image_scalar, batch_size=10)\n",
    "valid_generator = myGenerator(list_IDs=RAD_id_list[1600:], nt=nt, image_size=image_size, image_scalar=image_scalar, batch_size=10)\n",
    "history = model.fit_generator(train_generator, steps_per_epoch=10, epochs=5000, validation_data=valid_generator, validation_steps=2, max_queue_size=5, callbacks=callbacks)"
   ]
  },
  {
   "cell_type": "code",
   "execution_count": 10,
   "metadata": {},
   "outputs": [],
   "source": [
    "train_generator.on_epoch_end()\n",
    "valid_generator.on_epoch_end()\n",
    "for data in [train_generator, valid_generator][0]:\n",
    "    x, y_ = data\n",
    "    break\n",
    "y = model.predict(x)"
   ]
  },
  {
   "cell_type": "code",
   "execution_count": 11,
   "metadata": {},
   "outputs": [
    {
     "data": {
      "image/png": "[encoded data removed]",
      "text/plain": [
       "<Figure size 432x288 with 1 Axes>"
      ]
     },
     "metadata": {},
     "output_type": "display_data"
    },
    {
     "name": "stdout",
     "output_type": "stream",
     "text": [
      "↓↓↓下面的是真实值，上面的是上一张↑↑↑\n"
     ]
    },
    {
     "data": {
      "image/png": "[encoded data removed]",
      "text/plain": [
       "<Figure size 432x288 with 1 Axes>"
      ]
     },
     "metadata": {},
     "output_type": "display_data"
    },
    {
     "name": "stdout",
     "output_type": "stream",
     "text": [
      "↓↓↓下面的是模型的输出，上面的是真实值↑↑↑\n"
     ]
    },
    {
     "data": {
      "image/png": "[encoded data removed]",
      "text/plain": [
       "<Figure size 432x288 with 1 Axes>"
      ]
     },
     "metadata": {},
     "output_type": "display_data"
    }
   ],
   "source": [
    "plt.imshow(x[0][-1].reshape((image_size, image_size)) * image_scalar, cmap=cm.gist_ncar_r)\n",
    "plt.show()\n",
    "print('↓↓↓下面的是真实值，上面的是上一张↑↑↑')\n",
    "plt.imshow(y_[0].reshape((image_size, image_size)) * image_scalar, cmap=cm.gist_ncar_r)\n",
    "plt.show()\n",
    "print('↓↓↓下面的是模型的输出，上面的是真实值↑↑↑')\n",
    "plt.imshow(y[0].reshape((image_size, image_size)) * image_scalar, cmap=cm.gist_ncar_r)\n",
    "plt.show()"
   ]
  },
  {
   "cell_type": "code",
   "execution_count": null,
   "metadata": {},
   "outputs": [],
   "source": [
    "y[0].shape"
   ]
  },
  {
   "cell_type": "code",
   "execution_count": null,
   "metadata": {},
   "outputs": [],
   "source": [
    "RAD_id = RAD_id_list[3]\n",
    "x_matrix = np.empty((nt, image_size, image_size, 1))\n",
    "for i in range(nt):\n",
    "    x_matrix[i] = np.array(PIL.Image.open(\"/home/hadoop/Documents/Neutrino/SRAD2018/SRAD2018_train/%s/%s_%03d.png\" % (RAD_id, RAD_id, i)).resize((image_size, image_size))).astype(np.int8).reshape((image_size, image_size, 1)) / SCALAR\n",
    "x_matrix = x_matrix.reshape((1, nt, image_size, image_size, 1))\n",
    "y_matrix = np.empty((nt, image_size, image_size, 1))\n",
    "for i in range(nt):\n",
    "    y_matrix[i] = np.array(PIL.Image.open(\"/home/hadoop/Documents/Neutrino/SRAD2018/SRAD2018_train/%s/%s_%03d.png\" % (RAD_id, RAD_id, i + 10)).resize((image_size, image_size))).astype(np.int8).reshape((image_size, image_size, 1)) / SCALAR\n",
    "y_matrix = y_matrix.reshape((1, nt, image_size, image_size, 1))"
   ]
  },
  {
   "cell_type": "code",
   "execution_count": null,
   "metadata": {},
   "outputs": [],
   "source": [
    "plt.imshow(a.reshape((image_size, image_size)) * SCALAR, cmap=cm.gist_ncar_r)\n",
    "plt.show()\n",
    "print('↓↓↓下面的是模型的%d输出，上面的是%d真实值↑↑↑' % (1, 1))\n",
    "plt.imshow(b.reshape((image_size, image_size)) * SCALAR, cmap=cm.gist_ncar_r)\n",
    "plt.show()"
   ]
  },
  {
   "cell_type": "code",
   "execution_count": null,
   "metadata": {},
   "outputs": [],
   "source": [
    "input_shape = list(model.layers[0].batch_input_shape[1:])\n",
    "input_shape[0] = nt\n",
    "inputs = Input(shape=tuple(input_shape))"
   ]
  },
  {
   "cell_type": "code",
   "execution_count": null,
   "metadata": {},
   "outputs": [],
   "source": [
    "print(x_matrix.shape)\n",
    "print(y_matrix.shape)\n",
    "print(a.shape)"
   ]
  },
  {
   "cell_type": "code",
   "execution_count": null,
   "metadata": {},
   "outputs": [],
   "source": [
    "print(model.get_input_shape_at(0))\n",
    "print(model.get_output_shape_at(0))"
   ]
  },
  {
   "cell_type": "code",
   "execution_count": null,
   "metadata": {},
   "outputs": [],
   "source": [
    "%lsmagic"
   ]
  },
  {
   "cell_type": "code",
   "execution_count": null,
   "metadata": {},
   "outputs": [],
   "source": [
    "%quickref"
   ]
  },
  {
   "cell_type": "code",
   "execution_count": null,
   "metadata": {},
   "outputs": [],
   "source": []
  }
 ],
 "metadata": {
  "kernelspec": {
   "display_name": "Python 3",
   "language": "python",
   "name": "python3"
  },
  "language_info": {
   "codemirror_mode": {
    "name": "ipython",
    "version": 3
   },
   "file_extension": ".py",
   "mimetype": "text/x-python",
   "name": "python",
   "nbconvert_exporter": "python",
   "pygments_lexer": "ipython3",
   "version": "3.5.2"
  }
 },
 "nbformat": 4,
 "nbformat_minor": 2
}
