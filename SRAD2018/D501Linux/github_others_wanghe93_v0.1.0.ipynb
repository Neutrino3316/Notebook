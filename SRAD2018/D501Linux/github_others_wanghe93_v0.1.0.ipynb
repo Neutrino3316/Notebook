{
 "cells": [
  {
   "cell_type": "markdown",
   "metadata": {},
   "source": [
    "https://github.com/wanghe93/Conv_LSTM/blob/master/stateful%20Conv_LSTM.py"
   ]
  },
  {
   "cell_type": "code",
   "execution_count": null,
   "metadata": {},
   "outputs": [],
   "source": []
  },
  {
   "cell_type": "code",
   "execution_count": 1,
   "metadata": {},
   "outputs": [
    {
     "name": "stderr",
     "output_type": "stream",
     "text": [
      "Using TensorFlow backend.\n"
     ]
    }
   ],
   "source": [
    "# -*- coding: utf-8 -*-\n",
    "\"\"\"\n",
    "Created on Thu Jun 28 21:38:29 2018\n",
    "@author: Administrator\n",
    "\"\"\"\n",
    "\n",
    "import cv2\n",
    "import os\n",
    "import numpy as np\n",
    "import itertools\n",
    "import time\n",
    "import sys\n",
    "import math\n",
    "from keras.layers import Conv2D, ConvLSTM2D, Lambda, Reshape\n",
    "from keras.layers import Input\n",
    "from keras.models import Model, Sequential, load_model\n",
    "from keras.layers.normalization import BatchNormalization\n",
    "from keras.layers import TimeDistributed\n",
    "from keras.optimizers import RMSprop\n",
    "from keras.callbacks import ReduceLROnPlateau, EarlyStopping"
   ]
  },
  {
   "cell_type": "code",
   "execution_count": null,
   "metadata": {
    "scrolled": true
   },
   "outputs": [
    {
     "name": "stdout",
     "output_type": "stream",
     "text": [
      "Loading existed model...\n",
      "Epoch 1 / 20\n",
      "RAD_206582464212549:[>>>>>>>>>>>>>>>>>>>>>>>>>>>>>>>>>>>>>>>>]100%\t60/60\n",
      "Train_loss:0.2671171\n",
      "Epoch 2 / 20\n",
      "RAD_206582464212551:[>>>>>>>>>>>>>>>>>>>>>>>>>>>>>>>>>>>>>>>>]100%\t60/60\n",
      "Train_loss:0.30743927\n",
      "Epoch 3 / 20\n",
      "RAD_206582464212552:[>>>>>>>>>>>>>>>>>>>>>>>>>>>>>>>>>>>>>>>>]100%\t60/60\n",
      "Train_loss:0.31776646\n",
      "\n",
      "*********************************************\n",
      "Test_loss:0.19686888\n",
      "*********************************************\n",
      "\n",
      "Epoch 4 / 20\n",
      "RAD_206582464212553:[>>>>>>>>>>>>>>>>>>>>>>>>>>>>>>>>>>>>>>>>]100%\t60/60\n",
      "Train_loss:0.325422\n",
      "Epoch 5 / 20\n",
      "RAD_206582464212554:[>>>>>>>>>>>>>>>>>>>>>>>>>>>>>>>>>>>>>>>>]100%\t60/60\n",
      "Train_loss:0.3319039\n",
      "Epoch 6 / 20\n",
      "RAD_206582464219530:[>>>>>>>>>>>>>>>>>>>>>>>>>>>>>>>>>>>>>>>>]100%\t60/60\n",
      "Train_loss:0.32150313\n",
      "\n",
      "*********************************************\n",
      "Test_loss:0.19279477\n",
      "*********************************************\n",
      "\n",
      "Epoch 7 / 20\n",
      "RAD_206582464219531:[>>>>>>>>>>>>>>>>>>>>>>>>>>>>>>>>>>>>>>>>]100%\t60/60\n",
      "Train_loss:0.18072115\n",
      "Epoch 8 / 20\n",
      "RAD_206582464219532:[>>>>>>>>>>>>>>>>>>>>>>>>>>>>>>>>>>>>>>>>]100%\t60/60\n",
      "Train_loss:0.19461529\n",
      "Epoch 9 / 20\n",
      "RAD_206582464219533:[>>>>>>>>>>>>>>>>>>>>>>>>>>>>>>>>>>>>>>>>]100%\t60/60\n",
      "Train_loss:0.21062796\n",
      "\n",
      "*********************************************\n",
      "Test_loss:0.1871856\n",
      "*********************************************\n",
      "\n",
      "Epoch 10 / 20\n",
      "RAD_206582464219534:[>>>>>>>>>>>>>>>>>>>>>>>>>>>>>>>>>>>>>>>>]100%\t60/60\n",
      "Train_loss:0.2298124\n",
      "Epoch 11 / 20\n",
      "RAD_206582464219535:[>>>>>>>>>>>>>>>>>>>>>>>>>>>>>>>>>>>>>>>>]100%\t60/60\n",
      "Train_loss:0.25151756\n",
      "Epoch 12 / 20\n",
      "RAD_206582464219536:[>>>>>>>>>>>>>>>>>>>>>>>>>>>>>>>>>>>>>>>>]100%\t60/60\n",
      "Train_loss:0.27190408\n",
      "\n",
      "*********************************************\n",
      "Test_loss:0.1828291\n",
      "*********************************************\n",
      "\n",
      "Epoch 13 / 20\n",
      "RAD_206582464219537:[>>>>>>>>>>>>>>>>>>>>>>>>>>>>>>>>>>>>>>>>]100%\t60/60\n",
      "Train_loss:0.29110625\n",
      "Epoch 14 / 20\n",
      "RAD_206582464219538:[>>>>>>>>>>>>>>>>>>>>>>>>>>>>>>>>>>>>>>>>]100%\t60/60\n",
      "Train_loss:0.30606982\n",
      "Epoch 15 / 20\n",
      "RAD_206582464219539:[>>>>>>>>>>>>>>>>>>>>>>>>>>>>>>>>>>>>>>>>]100%\t60/60\n",
      "Train_loss:0.31383896\n",
      "\n",
      "*********************************************\n",
      "Test_loss:0.17976046\n",
      "*********************************************\n",
      "\n",
      "Epoch 16 / 20\n",
      "RAD_206582464219540:[>>>>>>>>>>>>>>>>>>>>>>>>>>>>>>>>>>>>>>>>]100%\t60/60\n",
      "Train_loss:0.25664172\n",
      "Epoch 17 / 20\n",
      "RAD_206582464219541:[>>>>>>>>>>>>>>>>>>>>>>>>>>>>>>>>>>>>>>>>]100%\t60/60\n",
      "Train_loss:0.31973886\n",
      "Epoch 18 / 20\n",
      "RAD_206582464219542:[>>>>>>>>>>>>>>>>>>>>>>>>>>>>>>>>>>>>>>>>]100%\t60/60\n",
      "Train_loss:0.32446632\n"
     ]
    }
   ],
   "source": [
    "def Data_generator(file_path='.', scope=(1,1), img_size=(501,501), batch_size = 1):\n",
    "    \n",
    "    def key(path):\n",
    "        return int(os.path.splitext(path)[0][-3:])\n",
    "    \n",
    "    pre, post = scope\n",
    "    height,width = img_size\n",
    "    \n",
    "    Data = np.zeros((batch_size, 60, height, width, 1))\n",
    "    Target = np.zeros((batch_size, 60, height, width, 1))\n",
    "    \n",
    "    listdirs = sorted(os.listdir(file_path))[pre:post]\n",
    "    \n",
    "    cs = itertools.cycle(listdirs) # 注意字符串也是序列的一种\n",
    "    while 1:\n",
    "        dirs = []\n",
    "        for i in range(batch_size):\n",
    "            dirs.append(next(cs))\n",
    "        for i,dire in enumerate(dirs):\n",
    "            #print('-'*9 + dire + '-'*9)\n",
    "            for j,img_path in enumerate(sorted(os.listdir(os.path.join(file_path, dire)), key = key)):\n",
    "                #print(img_path)\n",
    "                Img = cv2.imread(os.path.join(file_path, dire, img_path), 0)\n",
    "                if(Img.shape[0] != height or Img.shape[1] != width):\n",
    "                    #print('resized')\n",
    "                    Img = cv2.resize(Img,(width, height), interpolation = cv2.INTER_CUBIC)\n",
    "                Img = Img/255\n",
    "                if j >= 0 and j <= 59:                \n",
    "                    Data[i, j, :, :, 0] = Img\n",
    "                if j >= 1 and j <= 60:\n",
    "                    Target[i, j - 1, :, :, 0] = Img\n",
    "        yield (dirs, Data, Target)\n",
    " \n",
    "       \n",
    "def Get_Model(kernel = 21, height = 501, width = 501, batch_size = 1, times = 1):\n",
    "    model = Sequential()\n",
    "    model.add(ConvLSTM2D(filters=3, batch_input_shape = (batch_size, times, height, width, 1), kernel_size=(kernel, kernel), padding='same', \n",
    "                    return_sequences=True, stateful=True))\n",
    "    model.add(ConvLSTM2D(filters=6, batch_input_shape = (batch_size, times, height, width, 1), kernel_size=(kernel, kernel), padding='same', \n",
    "                    return_sequences=True, stateful=True))\n",
    "    model.add(ConvLSTM2D(filters=6, batch_input_shape = (batch_size, times, height, width, 1), kernel_size=(kernel, kernel), padding='same', \n",
    "                    return_sequences=True, stateful=True))\n",
    "    model.add(TimeDistributed(Conv2D(filters = 1, kernel_size = (9,9), padding = 'same')))\n",
    "    optimizer = RMSprop(lr=0.00001, rho=0.9, epsilon=1e-08, decay=0.0)\n",
    "    model.compile(loss='mae', optimizer=optimizer)\n",
    "    return model\n",
    "\n",
    "\n",
    "def view_bar(message, num, total):\n",
    "    rate = num / total\n",
    "    rate_num = int(rate * 40)\n",
    "    rate_nums = math.ceil(rate * 100)\n",
    "    r = '\\r%s:[%s%s]%d%%\\t%d/%d' % (message, \">\" * rate_num, \".\" * (40 - rate_num), rate_nums, num, total)\n",
    "    sys.stdout.write(r)\n",
    "    sys.stdout.flush()\n",
    "    \n",
    "kernel = 11\n",
    "height = 501\n",
    "width = 501\n",
    "\n",
    "\n",
    "if os.path.exists('my_model.h5'):\n",
    "    print('Loading existed model...')\n",
    "    model = load_model('my_model.h5')\n",
    "else:\n",
    "    print('Creating a new model...')\n",
    "    model = Get_Model(kernel = kernel, height = height, width = width)\n",
    "\n",
    "optimizer = RMSprop(lr=0.000001, rho=0.9, epsilon=1e-08, decay=0.0)\n",
    "model.compile(loss='mae', optimizer=optimizer)  \n",
    "    \n",
    "train_gen = Data_generator(file_path=r'/home/hadoop/Documents/Neutrino/SRAD2018/SRAD2018_train/', scope=(115,135), img_size=(height,width), batch_size = 1)\n",
    "test_gen = Data_generator(file_path=r'/home/hadoop/Documents/Neutrino/SRAD2018/SRAD2018_train/', scope=(303,305), img_size=(height,width), batch_size = 1)\n",
    "epochs = 20     #训练样例个数\n",
    "test_nums = 2   #测试样例个数\n",
    "\n",
    "#for i in range(epochs):\n",
    "#    print('Epoch', i + 1, '/', epochs)\n",
    "#    data, target = next(data_generator)\n",
    "#    for j in range(60):\n",
    "#        x_batch = data[:,j,:,:,:]\n",
    "#        y_batch = target[:,j,:,:,:]\n",
    "#        x_batch = x_batch[:,np.newaxis,:,:,:]\n",
    "#        y_batch = y_batch[:,np.newaxis,:,:,:]\n",
    "#        loss = model.train_on_batch(x_batch, y_batch)\n",
    "#        \n",
    "#        view_bar('train_loss:'+str(loss), j + 1, 60)\n",
    "#    model.reset_states()\n",
    "#    print()\n",
    "    \n",
    "t1 = time.time()   \n",
    "for epoch in range(epochs):\n",
    "    print('Epoch', epoch + 1, '/', epochs)\n",
    "    \n",
    "    dir_name, data, target = next(train_gen)\n",
    "    train_loss = []\n",
    "    for j in range(60):\n",
    "        x_batch = data[:,j,:,:,:]\n",
    "        y_batch = target[:,j,:,:,:]\n",
    "        assert x_batch.shape == (1, 501, 501, 1)\n",
    "        x_batch = x_batch[:,np.newaxis,:,:,:]\n",
    "        y_batch = y_batch[:,np.newaxis,:,:,:]\n",
    "        assert x_batch.shape == (1, 1, 501, 501, 1)\n",
    "        loss = model.train_on_batch(x_batch, y_batch)\n",
    "        train_loss.append(loss)\n",
    "        view_bar(dir_name[0], j + 1, 60)\n",
    "    model.reset_states()\n",
    "    print()\n",
    "    print('Train_loss:%s' % (str(np.mean(train_loss))))\n",
    "          \n",
    "          \n",
    "    if (epoch+1)%3 == 0:\n",
    "        test_loss = []\n",
    "        for i in range(test_nums):\n",
    "            _, test_data, test_target = next(test_gen)\n",
    "            for j in range(60):\n",
    "                loss = model.test_on_batch(test_data[0, j, :, :, :][np.newaxis, np.newaxis, :, :, :], test_target[0, j, :, :, :][np.newaxis, np.newaxis, :, :, :])    \n",
    "                test_loss.append(loss)\n",
    "            model.reset_states()\n",
    "        model.reset_states()\n",
    "        print()\n",
    "        print('*********************************************')\n",
    "        print('Test_loss:%s' % (str(np.mean(test_loss))))\n",
    "        print('*********************************************')\n",
    "        print()\n",
    "    \n",
    "       \n",
    "model.save('my_model.h5') \n",
    "t2 = time.time()\n",
    "print(t2-t1)"
   ]
  },
  {
   "cell_type": "code",
   "execution_count": 12,
   "metadata": {},
   "outputs": [
    {
     "data": {
      "text/plain": [
       "(1, 501, 501, 1)"
      ]
     },
     "execution_count": 12,
     "metadata": {},
     "output_type": "execute_result"
    }
   ],
   "source": [
    "x_batch.shape"
   ]
  },
  {
   "cell_type": "code",
   "execution_count": 8,
   "metadata": {},
   "outputs": [
    {
     "data": {
      "text/plain": [
       "(1, 60, 501, 501, 1)"
      ]
     },
     "execution_count": 8,
     "metadata": {},
     "output_type": "execute_result"
    }
   ],
   "source": [
    "data.shape"
   ]
  },
  {
   "cell_type": "code",
   "execution_count": 10,
   "metadata": {},
   "outputs": [
    {
     "name": "stdout",
     "output_type": "stream",
     "text": [
      "None\n"
     ]
    }
   ],
   "source": [
    "print(np.newaxis)"
   ]
  },
  {
   "cell_type": "code",
   "execution_count": 14,
   "metadata": {},
   "outputs": [],
   "source": [
    "assert x_batch.shape == (1, 501, 501, 1)"
   ]
  },
  {
   "cell_type": "code",
   "execution_count": 15,
   "metadata": {},
   "outputs": [
    {
     "ename": "AssertionError",
     "evalue": "",
     "output_type": "error",
     "traceback": [
      "\u001b[0;31m---------------------------------------------------------------------------\u001b[0m",
      "\u001b[0;31mAssertionError\u001b[0m                            Traceback (most recent call last)",
      "\u001b[0;32m<ipython-input-15-d1bf237cb283>\u001b[0m in \u001b[0;36m<module>\u001b[0;34m()\u001b[0m\n\u001b[0;32m----> 1\u001b[0;31m \u001b[0;32massert\u001b[0m \u001b[0mx_batch\u001b[0m\u001b[0;34m.\u001b[0m\u001b[0mshape\u001b[0m \u001b[0;34m==\u001b[0m \u001b[0;34m(\u001b[0m\u001b[0;36m1\u001b[0m\u001b[0;34m,\u001b[0m \u001b[0;36m501\u001b[0m\u001b[0;34m,\u001b[0m \u001b[0;36m1\u001b[0m\u001b[0;34m,\u001b[0m \u001b[0;36m1\u001b[0m\u001b[0;34m)\u001b[0m\u001b[0;34m\u001b[0m\u001b[0m\n\u001b[0m",
      "\u001b[0;31mAssertionError\u001b[0m: "
     ]
    }
   ],
   "source": [
    "assert x_batch.shape == (1, 501, 1, 1)"
   ]
  },
  {
   "cell_type": "code",
   "execution_count": 23,
   "metadata": {},
   "outputs": [
    {
     "name": "stdout",
     "output_type": "stream",
     "text": [
      "(1, 1, 501, 501, 1)\n",
      "(1, 1, 501, 501, 1)\n"
     ]
    }
   ],
   "source": [
    "a = model.predict(test_data[0, j, :, :, :][np.newaxis, np.newaxis, :, :, :])\n",
    "print(a.shape)\n",
    "b = test_target[0, j, :, :, :][np.newaxis, np.newaxis, :, :, :]\n",
    "print(b.shape)"
   ]
  },
  {
   "cell_type": "code",
   "execution_count": 27,
   "metadata": {},
   "outputs": [],
   "source": [
    "import matplotlib.pyplot as plt\n",
    "from matplotlib import cm"
   ]
  },
  {
   "cell_type": "code",
   "execution_count": 36,
   "metadata": {},
   "outputs": [
    {
     "data": {
      "image/png": "[encoded data removed]",
      "text/plain": [
       "<Figure size 432x288 with 1 Axes>"
      ]
     },
     "metadata": {},
     "output_type": "display_data"
    },
    {
     "data": {
      "image/png": "[encoded data removed]",
      "text/plain": [
       "<Figure size 432x288 with 1 Axes>"
      ]
     },
     "metadata": {},
     "output_type": "display_data"
    }
   ],
   "source": [
    "plt.imshow(a.reshape((501,501)), cmap=cm.gist_ncar_r, vmax=0.1, vmin=0)\n",
    "plt.show()\n",
    "plt.imshow(b.reshape((501,501)), cmap=cm.gist_ncar_r, vmax=0.1, vmin=0)\n",
    "plt.show()"
   ]
  },
  {
   "cell_type": "code",
   "execution_count": 32,
   "metadata": {},
   "outputs": [
    {
     "data": {
      "text/plain": [
       "array([[ 0.01587326,  0.0151029 ,  0.02007051,  0.02130461,  0.02070602,\n",
       "         0.01934494,  0.01635647,  0.01667022,  0.01364222,  0.01205553,\n",
       "         0.00787362,  0.00578618,  0.00646968,  0.00368492,  0.00692066,\n",
       "         0.00196292,  0.00405085,  0.00443208,  0.00577274,  0.00746507],\n",
       "       [ 0.01920251,  0.0134911 ,  0.01127442,  0.02265094,  0.02568116,\n",
       "         0.0236587 ,  0.01950955,  0.0182237 ,  0.01160979,  0.00867435,\n",
       "         0.00550162,  0.00953129,  0.00961515,  0.00918301,  0.00249549,\n",
       "         0.00478906,  0.00247669,  0.00484068,  0.00545944,  0.00570942],\n",
       "       [ 0.01963914,  0.01961828,  0.02715833,  0.03167562,  0.02828255,\n",
       "         0.02651581,  0.01660477,  0.01323141,  0.01323699,  0.01247859,\n",
       "         0.00759364,  0.00975246,  0.00790457,  0.00775496,  0.00744703,\n",
       "         0.00288776,  0.00176179,  0.00272321,  0.00304234,  0.00416783],\n",
       "       [ 0.02657102,  0.02542292,  0.02473552,  0.02358644,  0.02217652,\n",
       "         0.02061976,  0.02024467,  0.0231284 ,  0.01903341,  0.01528836,\n",
       "         0.01325993,  0.01023565,  0.01116918,  0.00926604,  0.00596498,\n",
       "         0.00302582,  0.00475139,  0.00384201,  0.005777  ,  0.00235205],\n",
       "       [ 0.02454943,  0.02588395,  0.02030273,  0.01780874,  0.01992287,\n",
       "         0.02599831,  0.02451758,  0.02604681,  0.01518206,  0.01627849,\n",
       "         0.0119635 ,  0.01077533,  0.00824198,  0.00656769,  0.00652324,\n",
       "         0.00537749,  0.00505055,  0.00346588,  0.00332992,  0.00264194],\n",
       "       [ 0.02140637,  0.02047748,  0.02013206,  0.01926752,  0.02383503,\n",
       "         0.02628354,  0.02463991,  0.02304659,  0.01235114,  0.01466621,\n",
       "         0.00812306,  0.01024353,  0.00937527,  0.00770404,  0.0051404 ,\n",
       "         0.00400226,  0.00409378,  0.00275412,  0.00405854,  0.00445751],\n",
       "       [ 0.0187404 ,  0.02134985,  0.02357835,  0.02472133,  0.02503853,\n",
       "         0.02624673,  0.02299607,  0.01990049,  0.01262486,  0.0115175 ,\n",
       "         0.0125837 ,  0.01154163,  0.01020137,  0.00432555,  0.00433708,\n",
       "         0.00084251,  0.00191787, -0.00014768,  0.00322034,  0.00392322],\n",
       "       [ 0.02356867,  0.02542296,  0.02746822,  0.02500502,  0.02575174,\n",
       "         0.01701592,  0.01773837,  0.01851307,  0.01611664,  0.0151733 ,\n",
       "         0.01251695,  0.01482143,  0.00828624,  0.00833262,  0.00361425,\n",
       "         0.00555852,  0.00485994,  0.00406991,  0.00467633,  0.00355811],\n",
       "       [ 0.01950211,  0.02237595,  0.01993523,  0.02176618,  0.01562586,\n",
       "         0.02069893,  0.01798582,  0.01232892,  0.01585586,  0.01447837,\n",
       "         0.0099948 ,  0.01150464,  0.00808994,  0.01115892,  0.00803651,\n",
       "         0.0063105 ,  0.00731739,  0.00585598,  0.00556511,  0.00486263],\n",
       "       [ 0.02196786,  0.0238699 ,  0.01858478,  0.02073191,  0.01577023,\n",
       "         0.01411802,  0.01388037,  0.01092113,  0.01006947,  0.00786987,\n",
       "         0.01140752,  0.00904474,  0.00897779,  0.01129727,  0.00946611,\n",
       "         0.00866393,  0.00837859,  0.01008552,  0.00690293,  0.00658077],\n",
       "       [ 0.01935869,  0.0196094 ,  0.01589452,  0.0173282 ,  0.01576612,\n",
       "         0.01197562,  0.00903075,  0.00530553,  0.00733535,  0.01000498,\n",
       "         0.01305825,  0.00939076,  0.0073349 ,  0.01423596,  0.00846208,\n",
       "         0.00738165,  0.00658072,  0.00911401,  0.00697441,  0.00299009],\n",
       "       [ 0.01569929,  0.0209624 ,  0.01437111,  0.01530117,  0.01288219,\n",
       "         0.00738938,  0.00466051,  0.00555833,  0.00611647,  0.0104005 ,\n",
       "         0.01374672,  0.01063749,  0.00994191,  0.00884508,  0.00498181,\n",
       "         0.00939668,  0.00629373,  0.01030782,  0.0104437 ,  0.00618438],\n",
       "       [ 0.01488871,  0.01572722,  0.01240243,  0.01178834,  0.01033225,\n",
       "         0.01120498,  0.00469202,  0.00631905,  0.01156919,  0.01801781,\n",
       "         0.01744692,  0.0152727 ,  0.01038027,  0.0135249 ,  0.01173115,\n",
       "         0.00998826,  0.01140032,  0.01126331,  0.0126996 ,  0.01025203],\n",
       "       [ 0.01970668,  0.01802002,  0.0134559 ,  0.01810858,  0.01683593,\n",
       "         0.01337654,  0.0078756 ,  0.00782228,  0.00792941,  0.00963149,\n",
       "         0.01392389,  0.01027682,  0.00977292,  0.01227678,  0.0170503 ,\n",
       "         0.01976722,  0.01399014,  0.00814498,  0.0034374 ,  0.00355897],\n",
       "       [ 0.01554248,  0.01592038,  0.01857586,  0.01629537,  0.00960905,\n",
       "         0.01396652,  0.00356381,  0.00135882,  0.00144189,  0.00698547,\n",
       "         0.00762826,  0.01117303,  0.01264244,  0.01386186,  0.01531497,\n",
       "         0.01597608,  0.00517385,  0.00687722,  0.00470085,  0.00449016],\n",
       "       [ 0.01804483,  0.02199765,  0.02489222,  0.02433115,  0.01136072,\n",
       "         0.01318541,  0.00024882, -0.00033443,  0.00395778,  0.00500469,\n",
       "         0.00603771,  0.01020153,  0.01386541,  0.01643313,  0.01123131,\n",
       "         0.01012372,  0.01339879,  0.01289998,  0.00965192,  0.00627089],\n",
       "       [ 0.02223019,  0.02065859,  0.0237035 ,  0.02056913,  0.01202232,\n",
       "         0.00624335,  0.00787098,  0.00948549,  0.00367829,  0.00724256,\n",
       "         0.01318659,  0.0169127 ,  0.01668749,  0.01916464,  0.00982112,\n",
       "         0.00893884,  0.01563514,  0.01702864,  0.01488634,  0.01243577],\n",
       "       [ 0.03049154,  0.02616362,  0.024587  ,  0.0227653 ,  0.0240473 ,\n",
       "         0.01612793,  0.00855912,  0.00854274,  0.00914539,  0.01760951,\n",
       "         0.01364445,  0.01251123,  0.01003183,  0.01327659,  0.01091738,\n",
       "         0.01448382,  0.01270948,  0.01442404,  0.02019349,  0.01321902],\n",
       "       [ 0.03262933,  0.02587039,  0.0236486 ,  0.02221436,  0.01777875,\n",
       "         0.01046162,  0.00364663,  0.01098222,  0.00966776,  0.01350959,\n",
       "         0.01178665,  0.00919182,  0.01270935,  0.01382489,  0.01984116,\n",
       "         0.01938344,  0.01463704,  0.01615344,  0.02456914,  0.02609381],\n",
       "       [ 0.03099165,  0.02982433,  0.02469514,  0.02292985,  0.01496892,\n",
       "         0.01201612,  0.01104661,  0.01356227,  0.01568005,  0.0142893 ,\n",
       "         0.00963465,  0.01166322,  0.01045447,  0.01627002,  0.02425301,\n",
       "         0.02550993,  0.01600154,  0.01875325,  0.02309673,  0.02986441]],\n",
       "      dtype=float32)"
      ]
     },
     "execution_count": 32,
     "metadata": {},
     "output_type": "execute_result"
    }
   ],
   "source": [
    "a.reshape((501,501))[100:120,100:120]"
   ]
  },
  {
   "cell_type": "code",
   "execution_count": null,
   "metadata": {},
   "outputs": [],
   "source": []
  }
 ],
 "metadata": {
  "kernelspec": {
   "display_name": "Python 3",
   "language": "python",
   "name": "python3"
  },
  "language_info": {
   "codemirror_mode": {
    "name": "ipython",
    "version": 3
   },
   "file_extension": ".py",
   "mimetype": "text/x-python",
   "name": "python",
   "nbconvert_exporter": "python",
   "pygments_lexer": "ipython3",
   "version": "3.5.2"
  }
 },
 "nbformat": 4,
 "nbformat_minor": 2
}
