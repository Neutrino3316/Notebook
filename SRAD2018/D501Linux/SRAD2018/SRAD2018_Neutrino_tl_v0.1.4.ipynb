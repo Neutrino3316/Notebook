{
 "cells": [
  {
   "cell_type": "code",
   "execution_count": 5,
   "metadata": {},
   "outputs": [],
   "source": [
    "import tensorflow as tf\n",
    "import tensorlayer as tl\n",
    "\n",
    "tf.logging.set_verbosity(tf.logging.DEBUG)\n",
    "tl.logging.set_verbosity(tl.logging.DEBUG)"
   ]
  },
  {
   "cell_type": "code",
   "execution_count": 14,
   "metadata": {},
   "outputs": [],
   "source": [
    "tf.reset_default_graph()"
   ]
  },
  {
   "cell_type": "code",
   "execution_count": 15,
   "metadata": {},
   "outputs": [
    {
     "name": "stdout",
     "output_type": "stream",
     "text": [
      "[TL] Load or Download MNIST > data/mnist\n",
      "[TL] data/mnist/train-images-idx3-ubyte.gz\n",
      "[TL] data/mnist/t10k-images-idx3-ubyte.gz\n",
      "[TL] InputLayer  input: (?, 784)\n",
      "[TL] DropoutLayer drop1: keep: 0.800000 is_fix: False\n",
      "[TL] DenseLayer  relu1: 800 relu\n",
      "[TL] DropoutLayer drop2: keep: 0.500000 is_fix: False\n",
      "[TL] DenseLayer  relu2: 800 relu\n",
      "[TL] DropoutLayer drop3: keep: 0.500000 is_fix: False\n",
      "[TL] DenseLayer  output: 10 No Activation\n",
      "[TL]   param   0: relu1/W:0            (784, 800)         float32_ref (mean: -1.6607247744104825e-05, median: -0.0001256358518730849, std: 0.0880342349410057)   \n",
      "[TL]   param   1: relu1/b:0            (800,)             float32_ref (mean: 0.0               , median: 0.0               , std: 0.0               )   \n",
      "[TL]   param   2: relu2/W:0            (800, 800)         float32_ref (mean: 8.036911458475515e-05, median: 0.0002151105145458132, std: 0.08790813386440277)   \n",
      "[TL]   param   3: relu2/b:0            (800,)             float32_ref (mean: 0.0               , median: 0.0               , std: 0.0               )   \n",
      "[TL]   param   4: output/W:0           (800, 10)          float32_ref (mean: -0.0004603163688443601, median: -0.0007581868558190763, std: 0.0888197124004364)   \n",
      "[TL]   param   5: output/b:0           (10,)              float32_ref (mean: 0.0               , median: 0.0               , std: 0.0               )   \n",
      "[TL]   num of params: 1276810\n",
      "[TL]   layer   0: x:0                  (?, 784)           float32\n",
      "[TL]   layer   1: drop1/mul:0          (?, 784)           float32\n",
      "[TL]   layer   2: relu1/Relu:0         (?, 800)           float32\n",
      "[TL]   layer   3: drop2/mul:0          (?, 800)           float32\n",
      "[TL]   layer   4: relu2/Relu:0         (?, 800)           float32\n",
      "[TL]   layer   5: drop3/mul:0          (?, 800)           float32\n",
      "[TL]   layer   6: output/bias_add:0    (?, 10)            float32\n",
      "[TL] Start training the network ...\n",
      "[TL] Epoch 1 of 50 took 0.430731s\n",
      "[TL]    val loss: 0.537030\n",
      "[TL]    val acc: 0.827100\n",
      "[TL] Epoch 5 of 50 took 0.396194s\n",
      "[TL]    val loss: 0.281241\n",
      "[TL]    val acc: 0.919000\n",
      "[TL] Epoch 10 of 50 took 0.393314s\n",
      "[TL]    val loss: 0.220828\n",
      "[TL]    val acc: 0.937900\n",
      "[TL] Epoch 15 of 50 took 0.393606s\n",
      "[TL]    val loss: 0.185428\n",
      "[TL]    val acc: 0.949700\n",
      "[TL] Epoch 20 of 50 took 0.413076s\n",
      "[TL]    val loss: 0.162108\n",
      "[TL]    val acc: 0.956500\n",
      "[TL] Epoch 25 of 50 took 0.389013s\n",
      "[TL]    val loss: 0.144384\n",
      "[TL]    val acc: 0.961900\n",
      "[TL] Epoch 30 of 50 took 0.388857s\n",
      "[TL]    val loss: 0.129477\n",
      "[TL]    val acc: 0.964800\n",
      "[TL] Epoch 35 of 50 took 0.387574s\n",
      "[TL]    val loss: 0.119189\n",
      "[TL]    val acc: 0.967900\n",
      "[TL] Epoch 40 of 50 took 0.390001s\n",
      "[TL]    val loss: 0.110011\n",
      "[TL]    val acc: 0.969600\n",
      "[TL] Epoch 45 of 50 took 0.394509s\n",
      "[TL]    val loss: 0.103896\n",
      "[TL]    val acc: 0.971300\n",
      "[TL] Epoch 50 of 50 took 0.392212s\n",
      "[TL]    val loss: 0.097818\n",
      "[TL]    val acc: 0.973700\n",
      "[TL] Total training time: 20.451221s\n",
      "[TL] Start testing the network ...\n",
      "[TL]    test loss: 0.098320\n",
      "[TL]    test acc: 0.971500\n"
     ]
    }
   ],
   "source": [
    "sess = tf.InteractiveSession()\n",
    "\n",
    "# prepare data\n",
    "X_train, y_train, X_val, y_val, X_test, y_test = tl.files.load_mnist_dataset(shape=(-1, 784))\n",
    "# define placeholder\n",
    "x = tf.placeholder(tf.float32, shape=[None, 784], name='x')\n",
    "y_ = tf.placeholder(tf.int64, shape=[None], name='y_')\n",
    "\n",
    "# define the network\n",
    "network = tl.layers.InputLayer(x, name='input')\n",
    "network = tl.layers.DropoutLayer(network, keep=0.8, name='drop1')\n",
    "network = tl.layers.DenseLayer(network, 800, tf.nn.relu, name='relu1')\n",
    "network = tl.layers.DropoutLayer(network, keep=0.5, name='drop2')\n",
    "network = tl.layers.DenseLayer(network, 800, tf.nn.relu, name='relu2')\n",
    "network = tl.layers.DropoutLayer(network, keep=0.5, name='drop3')\n",
    "# the softmax is implemented internally in tl.cost.cross_entropy(y, y_) to\n",
    "# speed up computation, so we use identity here.\n",
    "# see tf.nn.sparse_softmax_cross_entropy_with_logits()\n",
    "network = tl.layers.DenseLayer(network, n_units=10, act=None, name='output')\n",
    "\n",
    "# define cost function and metric.\n",
    "y = network.outputs\n",
    "cost = tl.cost.cross_entropy(y, y_, name='cost')\n",
    "correct_prediction = tf.equal(tf.argmax(y, 1), y_)\n",
    "acc = tf.reduce_mean(tf.cast(correct_prediction, tf.float32))\n",
    "y_op = tf.argmax(tf.nn.softmax(y), 1)\n",
    "\n",
    "# define the optimizer\n",
    "train_params = network.all_params\n",
    "train_op = tf.train.AdamOptimizer(learning_rate=0.0001).minimize(cost, var_list=train_params)\n",
    "\n",
    "# initialize all variables in the session\n",
    "tl.layers.initialize_global_variables(sess)\n",
    "\n",
    "# print network information\n",
    "network.print_params()\n",
    "network.print_layers()\n",
    "\n",
    "# train the network\n",
    "tl.utils.fit(sess, network, train_op, cost, X_train, y_train, x, y_, acc=acc, batch_size=500, \\\n",
    "    n_epoch=50, print_freq=5, X_val=X_val, y_val=y_val, eval_train=False)\n",
    "\n",
    "# evaluation\n",
    "tl.utils.test(sess, network, acc, X_test, y_test, x, y_, batch_size=None, cost=cost)\n",
    "\n",
    "# save the network to .npz file\n",
    "# tl.files.save_npz(network.all_params, name='model.npz')"
   ]
  },
  {
   "cell_type": "code",
   "execution_count": null,
   "metadata": {},
   "outputs": [],
   "source": [
    "tl.utils.fit()"
   ]
  },
  {
   "cell_type": "code",
   "execution_count": 16,
   "metadata": {},
   "outputs": [
    {
     "name": "stdout",
     "output_type": "stream",
     "text": [
      "[TL]   param   0: relu1/W:0            (784, 800)         float32_ref (mean: -0.004262140486389399, median: -0.004270689561963081, std: 0.08819250762462616)   \n",
      "[TL]   param   1: relu1/b:0            (800,)             float32_ref (mean: -0.010709851048886776, median: -0.010877817869186401, std: 0.01581108197569847)   \n",
      "[TL]   param   2: relu2/W:0            (800, 800)         float32_ref (mean: -0.005490759387612343, median: -0.005541500169783831, std: 0.08763084560632706)   \n",
      "[TL]   param   3: relu2/b:0            (800,)             float32_ref (mean: -0.01612836867570877, median: -0.016801461577415466, std: 0.019056975841522217)   \n",
      "[TL]   param   4: output/W:0           (800, 10)          float32_ref (mean: -0.0011973264627158642, median: 0.0010191171895712614, std: 0.0809592604637146)   \n",
      "[TL]   param   5: output/b:0           (10,)              float32_ref (mean: -0.0021968409419059753, median: -0.01207673642784357, std: 0.029742857441306114)   \n",
      "[TL]   num of params: 1276810\n"
     ]
    }
   ],
   "source": [
    "network.print_params()"
   ]
  },
  {
   "cell_type": "code",
   "execution_count": 10,
   "metadata": {},
   "outputs": [],
   "source": [
    "sess.close()"
   ]
  },
  {
   "cell_type": "code",
   "execution_count": null,
   "metadata": {},
   "outputs": [],
   "source": []
  }
 ],
 "metadata": {
  "kernelspec": {
   "display_name": "Python 3",
   "language": "python",
   "name": "python3"
  },
  "language_info": {
   "codemirror_mode": {
    "name": "ipython",
    "version": 3
   },
   "file_extension": ".py",
   "mimetype": "text/x-python",
   "name": "python",
   "nbconvert_exporter": "python",
   "pygments_lexer": "ipython3",
   "version": "3.5.2"
  }
 },
 "nbformat": 4,
 "nbformat_minor": 2
}
