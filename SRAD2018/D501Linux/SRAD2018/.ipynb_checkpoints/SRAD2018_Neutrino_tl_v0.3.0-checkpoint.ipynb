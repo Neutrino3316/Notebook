{
 "cells": [
  {
   "cell_type": "markdown",
   "metadata": {},
   "source": [
    "# 读取包和设好环境"
   ]
  },
  {
   "cell_type": "code",
   "execution_count": 1,
   "metadata": {},
   "outputs": [],
   "source": [
    "from IPython.display import display\n",
    "from IPython.display import clear_output\n",
    "import PIL\n",
    "import numpy as np\n",
    "import time\n",
    "import os\n",
    "from matplotlib.pyplot import imshow\n",
    "%matplotlib inline\n",
    "import matplotlib.pyplot as plt\n",
    "import gc\n",
    "import sys\n",
    "from matplotlib import cm\n",
    "import seaborn as sns\n",
    "import tensorflow as tf\n",
    "import tensorlayer as tl"
   ]
  },
  {
   "cell_type": "code",
   "execution_count": 2,
   "metadata": {},
   "outputs": [],
   "source": [
    "tf.reset_default_graph()"
   ]
  },
  {
   "cell_type": "code",
   "execution_count": 3,
   "metadata": {},
   "outputs": [],
   "source": [
    "tf.logging.set_verbosity(tf.logging.DEBUG)\n",
    "tl.logging.set_verbosity(tl.logging.DEBUG)"
   ]
  },
  {
   "cell_type": "code",
   "execution_count": 4,
   "metadata": {},
   "outputs": [],
   "source": [
    "sess = tf.InteractiveSession()"
   ]
  },
  {
   "cell_type": "code",
   "execution_count": null,
   "metadata": {},
   "outputs": [],
   "source": [
    "start_time = time.time()\n",
    "print(time.strftime('start time: %Y-%m-%d %H:%M:%S', time.localtime()))\n",
    "\n",
    "tf.reset_default_graph()\n",
    "sess = tf.InteractiveSession()\n",
    "# prepare data\n",
    "# X_train, y_train, X_val, y_val, X_test, y_test = tl.files.load_mnist_dataset(shape=(-1, 784))\n",
    "\n",
    "# define placeholder\n",
    "x = tf.placeholder(tf.float32, shape=[None, 31, 501, 501, 1], name='x')\n",
    "y_ = tf.placeholder(tf.float32, shape=[None, 30, 501, 501, 1], name='y_')\n",
    "\n",
    "# define the network\n",
    "network = tl.layers.InputLayer(x, name='input')\n",
    "# network = tl.layers.ConvLSTMLayer(network, filter_size=(3, 3), n_steps=30, initial_state=tf.zeros((None, 501, 501, 2), dtype=tf.float32))\n",
    "network = tl.layers.ConvLSTMLayer(network, filter_size=(3, 3), n_steps=30, initial_state=None, cell_shape=(501, 501))"
   ]
  },
  {
   "cell_type": "markdown",
   "metadata": {},
   "source": [
    "# 数据读取"
   ]
  },
  {
   "cell_type": "code",
   "execution_count": 5,
   "metadata": {},
   "outputs": [
    {
     "name": "stdout",
     "output_type": "stream",
     "text": [
      "5000\n"
     ]
    }
   ],
   "source": [
    "raw_RAD_id_list = os.listdir('/home/hadoop/Documents/Neutrino/SRAD2018/SRAD2018_train/')\n",
    "print(len(raw_RAD_id_list))"
   ]
  },
  {
   "cell_type": "code",
   "execution_count": 6,
   "metadata": {},
   "outputs": [],
   "source": [
    "def check_RAD_id(RAD_id):\n",
    "    sum_list = []\n",
    "    for k in range(61):\n",
    "        sum_list.append(np.array(PIL.Image.open('/home/hadoop/Documents/Neutrino/SRAD2018/SRAD2018_train/%s/%s_%03d.png'\n",
    "                         % (RAD_id, RAD_id,\n",
    "                        k))).astype(np.int8).ravel().sum())\n",
    "    sum_list = np.array(sum_list)\n",
    "    if i % 100 == 0:\n",
    "        print(time.strftime('%H:%M:%S', time.gmtime(time.time() - start_time)))\n",
    "        print(i, sum_list[:7])\n",
    "    if sum_list.mean() < 251001 * 0:\n",
    "        return False\n",
    "    for k in range(59):\n",
    "        if abs(sum_list[k] + sum_list[k + 2] - 2 * sum_list[k + 1]) > 251001 * 2:\n",
    "            return False\n",
    "    return True"
   ]
  },
  {
   "cell_type": "code",
   "execution_count": 7,
   "metadata": {
    "scrolled": true
   },
   "outputs": [
    {
     "name": "stdout",
     "output_type": "stream",
     "text": [
      "start time: 2018-08-12 16:48:37\n",
      "00:00:00\n",
      "0 [-218731 -223051 -219804 -220007 -214895 -215379 -215980]\n",
      "00:00:04\n",
      "100 [234582 237819 229433 245301 248393 240381 223353]\n",
      "00:00:09\n",
      "200 [160256 204332 211280 280902 295750 352426 358017]\n",
      "00:00:13\n",
      "300 [-176391 -152608 -144375 -133992 -118109 -105886 -106325]\n",
      "00:00:17\n",
      "400 [908957 957476 934137 916795 906131 913580 938224]\n",
      "00:00:22\n",
      "500 [-206606 -212619 -218223 -216854 -223904 -219665 -226577]\n",
      "00:00:26\n",
      "600 [-161574 -161458 -165310 -164261 -163069 -169710 -168272]\n",
      "00:00:30\n",
      "700 [1951344  188499  171837  151332  150477  142457  124003]\n",
      "00:00:35\n",
      "800 [-69382 -51706 -30304 -12627  12087  15137  41947]\n",
      "00:00:39\n",
      "900 [-214099 -212040 -207336 -200398 -191997 -194556 -193007]\n",
      "00:00:44\n",
      "1000 [1376909 1436172 1463413 1498177 1520122 1560300 1615684]\n",
      "00:00:48\n",
      "1100 [-146327 -148117 -148605 -150131 -150245 -151917 -154946]\n",
      "00:00:52\n",
      "1200 [107576 122831 104013  90320 113905 101212 101117]\n",
      "00:00:57\n",
      "1300 [ 16077  23864  16170   5567   -683  -4791 -22141]\n",
      "00:01:01\n",
      "1400 [ -82746  -89021  -79686  -85759  -94835 -107412  -85497]\n",
      "00:01:06\n",
      "1500 [-241192 -242216 -242287 -245308 -247567 -247784 -248793]\n",
      "00:01:10\n",
      "1600 [-219591 -211475 -212507 -214519 -218941 -220858 -221099]\n",
      "00:01:15\n",
      "1700 [-245781 -248208 -248177 -248298 -248006 -247790 -248378]\n",
      "00:01:19\n",
      "1800 [2107998 2125609 2176184 2193323 2181557 2259711 2207223]\n",
      "00:01:24\n",
      "1900 [2329931 2335250 2297431 2298122 2371609 2479772 2453921]\n",
      "00:01:28\n",
      "2000 [595339 584647 548717 500731 466130 442171 435104]\n",
      "00:01:33\n",
      "2100 [-151873 -152609 -158276 -163238 -150405 -146450 -152788]\n",
      "00:01:37\n",
      "2200 [256689 231783 294954 313755 354332 375067 401172]\n",
      "00:01:41\n",
      "2300 [867775 818500 799905 786315 768069 756437 738030]\n",
      "00:01:46\n",
      "2400 [452995 431848 424137 430467 430776 407668 424604]\n",
      "00:01:50\n",
      "2500 [-250162 -249222 -243226 -239012 -235347 -234267 -233011]\n",
      "00:01:55\n",
      "2600 [-231202 -231198 -234569 -237840 -237066 -239536 -240472]\n",
      "00:01:59\n",
      "2700 [-234276 -226669 -215091 -204245 -198631 -199303 -196487]\n",
      "00:02:03\n",
      "2800 [195732 196300 180563 173720 181886 181900 198431]\n",
      "00:02:08\n",
      "2900 [-180874 -182422 -183543 -186472 -185229 -186697 -190915]\n",
      "00:02:12\n",
      "3000 [167047 178416 161022 159554 137288 132298 141888]\n",
      "00:02:16\n",
      "3100 [-247180 -246268 -246182 -246754 -247143 -246761 -246991]\n",
      "00:02:21\n",
      "3200 [-117228 -120659 -130005 -134214 -137628 -134613 -147353]\n",
      "00:02:25\n",
      "3300 [-146840 -154001 -161006 -170570 -170965 -182168 -181839]\n",
      "00:02:30\n",
      "3400 [-53321 -40105 -31773 -25261 -12528 -27968 -37558]\n",
      "00:02:34\n",
      "3500 [-216855 -221256 -220463 -225533 -230444 -233665 -232571]\n",
      "00:02:38\n",
      "3600 [-236609 -243931 -236778 -240393 -245320 -244639 -245015]\n",
      "00:02:42\n",
      "3700 [359834 358883 346978 345978 351617 364727 347854]\n",
      "00:02:47\n",
      "3800 [-30213 -33746 -50260 -40664 -61151 -46465 -73190]\n",
      "00:02:51\n",
      "3900 [-114019 -114232 -123227 -126590 -140084 -131296 -135671]\n",
      "00:02:56\n",
      "4000 [918242 909955 889082 856544 816276 773469 697418]\n",
      "00:03:00\n",
      "4100 [213957 217097 214161 233977 199794 205268 181337]\n",
      "00:03:04\n",
      "4200 [400261 387843 352683 360837 324929 185872 262827]\n",
      "00:03:08\n",
      "4300 [-149229 -154299 -154090 -159281 -153793 -155379 -155352]\n",
      "00:03:13\n",
      "4400 [614257 615596 635244 644078 653103 670877 666195]\n",
      "00:03:17\n",
      "4500 [-215111 -219158 -212748 -215904 -219729 -216463 -221831]\n",
      "00:03:22\n",
      "4600 [1065387 1122166 1118982 1117434 1118501 1094636 1090844]\n",
      "00:03:26\n",
      "4700 [  1386  -7568 -24902 -50004 -48082 -67125 -68598]\n",
      "00:03:31\n",
      "4800 [222988 238393 243379 248696 241515 232234 223438]\n",
      "00:03:35\n",
      "4900 [-250642 -249790 -249545 -250245 -249467 -250291 -250734]\n",
      "end time: 2018-08-12 16:52:17\n",
      "00:03:40\n",
      "1895\n"
     ]
    }
   ],
   "source": [
    "start_time = time.time()\n",
    "print(time.strftime('start time: %Y-%m-%d %H:%M:%S', time.localtime()))\n",
    "RAD_id_list = []\n",
    "for (i, RAD_id) in enumerate(raw_RAD_id_list):\n",
    "    if check_RAD_id(RAD_id):\n",
    "        RAD_id_list.append(RAD_id)\n",
    "print(time.strftime('end time: %Y-%m-%d %H:%M:%S', time.localtime()))\n",
    "print(time.strftime('%H:%M:%S', time.gmtime(time.time() - start_time)))\n",
    "print(len(RAD_id_list))"
   ]
  },
  {
   "cell_type": "code",
   "execution_count": null,
   "metadata": {},
   "outputs": [],
   "source": [
    "a = np.array(sum_list)"
   ]
  },
  {
   "cell_type": "code",
   "execution_count": null,
   "metadata": {},
   "outputs": [],
   "source": [
    "a.mean()"
   ]
  },
  {
   "cell_type": "code",
   "execution_count": null,
   "metadata": {},
   "outputs": [],
   "source": [
    "a.var()"
   ]
  },
  {
   "cell_type": "code",
   "execution_count": null,
   "metadata": {},
   "outputs": [],
   "source": [
    "l = list(range(20))"
   ]
  },
  {
   "cell_type": "code",
   "execution_count": null,
   "metadata": {},
   "outputs": [],
   "source": [
    "l"
   ]
  },
  {
   "cell_type": "code",
   "execution_count": null,
   "metadata": {},
   "outputs": [],
   "source": [
    "for i, j in enumerate(l):\n",
    "    print(i, j)\n",
    "    del l[i]\n",
    "    continue"
   ]
  },
  {
   "cell_type": "code",
   "execution_count": null,
   "metadata": {},
   "outputs": [],
   "source": [
    "l"
   ]
  },
  {
   "cell_type": "code",
   "execution_count": null,
   "metadata": {},
   "outputs": [],
   "source": [
    "'/home/hadoop/Documents/Neutrino/SRAD2018/SRAD2018_train'"
   ]
  },
  {
   "cell_type": "code",
   "execution_count": null,
   "metadata": {},
   "outputs": [],
   "source": [
    "RAD_id = 'RAD_436582464219533'\n",
    "a = np.array(PIL.Image.open(\"/home/hadoop/Documents/Neutrino/SRAD2018/SRAD2018_train/%s/%s_%03d.png\" % (RAD_id, RAD_id, 10))).astype(np.int8)"
   ]
  },
  {
   "cell_type": "code",
   "execution_count": null,
   "metadata": {},
   "outputs": [],
   "source": [
    "a = a.reshape((501, 501, 1))"
   ]
  },
  {
   "cell_type": "code",
   "execution_count": null,
   "metadata": {},
   "outputs": [],
   "source": [
    "a.shape"
   ]
  },
  {
   "cell_type": "code",
   "execution_count": null,
   "metadata": {},
   "outputs": [],
   "source": [
    "b = np.empty((2, 501, 501, 1))"
   ]
  },
  {
   "cell_type": "code",
   "execution_count": null,
   "metadata": {},
   "outputs": [],
   "source": [
    "b[0] = a"
   ]
  },
  {
   "cell_type": "code",
   "execution_count": null,
   "metadata": {},
   "outputs": [],
   "source": []
  },
  {
   "cell_type": "code",
   "execution_count": null,
   "metadata": {},
   "outputs": [],
   "source": [
    "plt.imshow(a, cmap=cm.gist_ncar_r)"
   ]
  },
  {
   "cell_type": "code",
   "execution_count": 72,
   "metadata": {},
   "outputs": [],
   "source": [
    "def read_by_RAD_id(RAD_id, step_size):\n",
    "    x_matrix = np.empty((31, 501, 501, 1))\n",
    "    for i in range(31):\n",
    "        x_matrix[i] = np.array(PIL.Image.open(\"/home/hadoop/Documents/Neutrino/SRAD2018/SRAD2018_train/%s/%s_%03d.png\" % (RAD_id, RAD_id, i))).astype(np.int8).reshape((501, 501, 1))\n",
    "    y_matrix = np.empty((30, 501, 501, 1))\n",
    "    for i in range(30):\n",
    "        y_matrix[i] = np.array(PIL.Image.open(\"/home/hadoop/Documents/Neutrino/SRAD2018/SRAD2018_train/%s/%s_%03d.png\" % (RAD_id, RAD_id, i + 31))).astype(np.int8).reshape((501, 501, 1))\n",
    "    return ([x_matrix], [y_matrix])"
   ]
  },
  {
   "cell_type": "code",
   "execution_count": 85,
   "metadata": {
    "scrolled": true
   },
   "outputs": [
    {
     "name": "stdout",
     "output_type": "stream",
     "text": [
      "start time: 2018-08-12 19:38:45\n",
      "[TL] InputLayer  input: (?, 31, 501, 501, 1)\n",
      "[TL] ConvLSTMLayer conv_lstm_1: feature_map: 123, n_steps: 30, in_dim: 5 (?, 31, 501, 501, 1), cell_fn: BasicConvLSTMCell \n",
      "[TL]      non specified batch_size, uses a tensor instead.\n",
      "[TL]  n_params : 2\n"
     ]
    },
    {
     "ename": "ValueError",
     "evalue": "Shapes (?, 30, 501, 501, 1) and (1, 30, 501, 501, 123) are incompatible",
     "output_type": "error",
     "traceback": [
      "\u001b[0;31m---------------------------------------------------------------------------\u001b[0m",
      "\u001b[0;31mValueError\u001b[0m                                Traceback (most recent call last)",
      "\u001b[0;32m<ipython-input-85-168c8f01dbde>\u001b[0m in \u001b[0;36m<module>\u001b[0;34m()\u001b[0m\n\u001b[1;32m     21\u001b[0m \u001b[0my\u001b[0m \u001b[0;34m=\u001b[0m \u001b[0mnetwork\u001b[0m\u001b[0;34m.\u001b[0m\u001b[0moutputs\u001b[0m\u001b[0;34m\u001b[0m\u001b[0m\n\u001b[1;32m     22\u001b[0m \u001b[0;31m# cost = tf.losses.mean_squared_error(y, y_, weights=y_)\u001b[0m\u001b[0;34m\u001b[0m\u001b[0;34m\u001b[0m\u001b[0m\n\u001b[0;32m---> 23\u001b[0;31m \u001b[0mcost\u001b[0m \u001b[0;34m=\u001b[0m \u001b[0mtf\u001b[0m\u001b[0;34m.\u001b[0m\u001b[0mlosses\u001b[0m\u001b[0;34m.\u001b[0m\u001b[0mmean_squared_error\u001b[0m\u001b[0;34m(\u001b[0m\u001b[0my\u001b[0m\u001b[0;34m,\u001b[0m \u001b[0my_\u001b[0m\u001b[0;34m)\u001b[0m\u001b[0;34m\u001b[0m\u001b[0m\n\u001b[0m\u001b[1;32m     24\u001b[0m \u001b[0;34m\u001b[0m\u001b[0m\n\u001b[1;32m     25\u001b[0m \u001b[0;31m# define the optimizer\u001b[0m\u001b[0;34m\u001b[0m\u001b[0;34m\u001b[0m\u001b[0m\n",
      "\u001b[0;32m/usr/local/lib/python3.5/dist-packages/tensorflow/python/ops/losses/losses_impl.py\u001b[0m in \u001b[0;36mmean_squared_error\u001b[0;34m(labels, predictions, weights, scope, loss_collection, reduction)\u001b[0m\n\u001b[1;32m    610\u001b[0m     \u001b[0mpredictions\u001b[0m \u001b[0;34m=\u001b[0m \u001b[0mmath_ops\u001b[0m\u001b[0;34m.\u001b[0m\u001b[0mto_float\u001b[0m\u001b[0;34m(\u001b[0m\u001b[0mpredictions\u001b[0m\u001b[0;34m)\u001b[0m\u001b[0;34m\u001b[0m\u001b[0m\n\u001b[1;32m    611\u001b[0m     \u001b[0mlabels\u001b[0m \u001b[0;34m=\u001b[0m \u001b[0mmath_ops\u001b[0m\u001b[0;34m.\u001b[0m\u001b[0mto_float\u001b[0m\u001b[0;34m(\u001b[0m\u001b[0mlabels\u001b[0m\u001b[0;34m)\u001b[0m\u001b[0;34m\u001b[0m\u001b[0m\n\u001b[0;32m--> 612\u001b[0;31m     \u001b[0mpredictions\u001b[0m\u001b[0;34m.\u001b[0m\u001b[0mget_shape\u001b[0m\u001b[0;34m(\u001b[0m\u001b[0;34m)\u001b[0m\u001b[0;34m.\u001b[0m\u001b[0massert_is_compatible_with\u001b[0m\u001b[0;34m(\u001b[0m\u001b[0mlabels\u001b[0m\u001b[0;34m.\u001b[0m\u001b[0mget_shape\u001b[0m\u001b[0;34m(\u001b[0m\u001b[0;34m)\u001b[0m\u001b[0;34m)\u001b[0m\u001b[0;34m\u001b[0m\u001b[0m\n\u001b[0m\u001b[1;32m    613\u001b[0m     \u001b[0mlosses\u001b[0m \u001b[0;34m=\u001b[0m \u001b[0mmath_ops\u001b[0m\u001b[0;34m.\u001b[0m\u001b[0msquared_difference\u001b[0m\u001b[0;34m(\u001b[0m\u001b[0mpredictions\u001b[0m\u001b[0;34m,\u001b[0m \u001b[0mlabels\u001b[0m\u001b[0;34m)\u001b[0m\u001b[0;34m\u001b[0m\u001b[0m\n\u001b[1;32m    614\u001b[0m     return compute_weighted_loss(\n",
      "\u001b[0;32m/usr/local/lib/python3.5/dist-packages/tensorflow/python/framework/tensor_shape.py\u001b[0m in \u001b[0;36massert_is_compatible_with\u001b[0;34m(self, other)\u001b[0m\n\u001b[1;32m    754\u001b[0m     \"\"\"\n\u001b[1;32m    755\u001b[0m     \u001b[0;32mif\u001b[0m \u001b[0;32mnot\u001b[0m \u001b[0mself\u001b[0m\u001b[0;34m.\u001b[0m\u001b[0mis_compatible_with\u001b[0m\u001b[0;34m(\u001b[0m\u001b[0mother\u001b[0m\u001b[0;34m)\u001b[0m\u001b[0;34m:\u001b[0m\u001b[0;34m\u001b[0m\u001b[0m\n\u001b[0;32m--> 756\u001b[0;31m       \u001b[0;32mraise\u001b[0m \u001b[0mValueError\u001b[0m\u001b[0;34m(\u001b[0m\u001b[0;34m\"Shapes %s and %s are incompatible\"\u001b[0m \u001b[0;34m%\u001b[0m \u001b[0;34m(\u001b[0m\u001b[0mself\u001b[0m\u001b[0;34m,\u001b[0m \u001b[0mother\u001b[0m\u001b[0;34m)\u001b[0m\u001b[0;34m)\u001b[0m\u001b[0;34m\u001b[0m\u001b[0m\n\u001b[0m\u001b[1;32m    757\u001b[0m \u001b[0;34m\u001b[0m\u001b[0m\n\u001b[1;32m    758\u001b[0m   \u001b[0;32mdef\u001b[0m \u001b[0mmost_specific_compatible_shape\u001b[0m\u001b[0;34m(\u001b[0m\u001b[0mself\u001b[0m\u001b[0;34m,\u001b[0m \u001b[0mother\u001b[0m\u001b[0;34m)\u001b[0m\u001b[0;34m:\u001b[0m\u001b[0;34m\u001b[0m\u001b[0m\n",
      "\u001b[0;31mValueError\u001b[0m: Shapes (?, 30, 501, 501, 1) and (1, 30, 501, 501, 123) are incompatible"
     ]
    }
   ],
   "source": [
    "all_start_time = time.time()\n",
    "print(time.strftime('start time: %Y-%m-%d %H:%M:%S', time.localtime()))\n",
    "\n",
    "tf.reset_default_graph()\n",
    "sess = tf.InteractiveSession()\n",
    "# prepare data\n",
    "# X_train, y_train, X_val, y_val, X_test, y_test = tl.files.load_mnist_dataset(shape=(-1, 784))\n",
    "\n",
    "# define placeholder\n",
    "x = tf.placeholder(tf.float32, shape=[None, 31, 501, 501, 1], name='x')\n",
    "y_ = tf.placeholder(tf.float32, shape=[None, 30, 501, 501, 1], name='y_')\n",
    "\n",
    "# define the network\n",
    "network = tl.layers.InputLayer(x, name='input')\n",
    "# network = tl.layers.convolution.Conv3dLayer(network, shape=(1,2,2,1,4), strides=(1,1,1,1,1), act=tf.nn.tanh)\n",
    "# network = tl.layers.ConvLSTMLayer(network, filter_size=(2, 2), n_steps=30, cell_shape=(501, 501), feature_map=1, return_seq_2d=False, name='conv_lstm_2')\n",
    "# network = tl.layers.convolution.Conv3dLayer(network, shape=(1,2,2,4,1), strides=(1,1,1,1,1), act=tf.nn.tanh, name='cnn3d_layer_2')\n",
    "\n",
    "# define cost function and metric.\n",
    "y = network.outputs\n",
    "# cost = tf.losses.mean_squared_error(y, y_, weights=y_)\n",
    "cost = tf.losses.mean_squared_error(y, y_)\n",
    "\n",
    "# define the optimizer\n",
    "train_params = network.all_params\n",
    "train_op = tf.train.AdamOptimizer(learning_rate=0.001).minimize(cost, var_list=train_params)\n",
    "\n",
    "# initialize all variables in the session\n",
    "tl.layers.initialize_global_variables(sess)\n",
    "\n",
    "# print network information\n",
    "network.print_params()\n",
    "network.print_layers()\n",
    "\n",
    "n_epoch = 1000\n",
    "batch_size = 500\n",
    "print_freq = 5\n",
    "sum_cost = 0\n",
    "\n",
    "# for epoch in range(n_epoch):\n",
    "#     start_time = time.time()\n",
    "#     for i, RAD_id in enumerate(RAD_id_list[:1]):\n",
    "#         X_train, Y_train = read_by_RAD_id(RAD_id, 5)\n",
    "#         feed_dict = {x: X_train, y_: Y_train}\n",
    "#         feed_dict.update(network.all_drop)  # enable noise layers\n",
    "#         train_cost, _ = sess.run([cost, train_op], feed_dict=feed_dict)\n",
    "#         sum_cost += train_cost / (Y_train[0].sum() + 251001)\n",
    "#         if i % 100 == 0:\n",
    "#             print('%3d'%epoch, '%5d'%i, time.strftime('%H:%M:%S', time.gmtime(time.time() - start_time)), '%.20f'%(sum_cost))\n",
    "#             sum_cost = 0\n",
    "            \n",
    "X_train, Y_train = read_by_RAD_id(RAD_id_list[0], 5)\n",
    "for epoch in range(n_epoch):\n",
    "    feed_dict = {x: X_train, y_: Y_train}\n",
    "    feed_dict.update(network.all_drop)  # enable noise layers\n",
    "    train_cost, _ = sess.run([cost, train_op], feed_dict=feed_dict)\n",
    "    sum_cost += train_cost / (Y_train[0].sum() + 251001)\n",
    "    if epoch % 10 == 0:\n",
    "        print('%3d'%epoch, '%5d'%i, time.strftime('%H:%M:%S', time.gmtime(time.time() - all_start_time)), '%.20f'%(sum_cost))\n",
    "    sum_cost = 0\n",
    "            \n",
    "#     if epoch + 1 == 1 or (epoch + 1) % print_freq == 0:\n",
    "#         print(\"Epoch %d of %d took %fs\" % (epoch + 1, n_epoch, time.time() - start_time))\n",
    "#         train_loss, train_acc, n_batch = 0, 0, 0\n",
    "#         for X_train_a, y_train_a in tl.iterate.minibatches(X_train, y_train, batch_size, shuffle=True):\n",
    "#             dp_dict = tl.utils.dict_to_one(network.all_drop)  # disable noise layers\n",
    "#             feed_dict = {x: X_train_a, y_: y_train_a}\n",
    "#             feed_dict.update(dp_dict)\n",
    "#             err, ac = sess.run([cost, acc], feed_dict=feed_dict)\n",
    "#             train_loss += err\n",
    "#             train_acc += ac\n",
    "#             n_batch += 1\n",
    "#         print(\"   train loss: %f\" % (train_loss / n_batch))\n",
    "#         print(\"   train acc: %f\" % (train_acc / n_batch))\n",
    "#         val_loss, val_acc, n_batch = 0, 0, 0\n",
    "#         for X_val_a, y_val_a in tl.iterate.minibatches(X_val, y_val, batch_size, shuffle=True):\n",
    "#             dp_dict = tl.utils.dict_to_one(network.all_drop)  # disable noise layers\n",
    "#             feed_dict = {x: X_val_a, y_: y_val_a}\n",
    "#             feed_dict.update(dp_dict)\n",
    "#             err, ac = sess.run([cost, acc], feed_dict=feed_dict)\n",
    "#             val_loss += err\n",
    "#             val_acc += ac\n",
    "#             n_batch += 1\n",
    "#         print(\"   val loss: %f\" % (val_loss / n_batch))\n",
    "#         print(\"   val acc: %f\" % (val_acc / n_batch))\n",
    "\n",
    "# print('Evaluation')\n",
    "# test_loss, test_acc, n_batch = 0, 0, 0\n",
    "# for X_test_a, y_test_a in tl.iterate.minibatches(X_test, y_test, batch_size, shuffle=True):\n",
    "#     dp_dict = tl.utils.dict_to_one(network.all_drop)  # disable noise layers\n",
    "#     feed_dict = {x: X_test_a, y_: y_test_a}\n",
    "#     feed_dict.update(dp_dict)\n",
    "#     err, ac = sess.run([cost, acc], feed_dict=feed_dict)\n",
    "#     test_loss += err\n",
    "#     test_acc += ac\n",
    "#     n_batch += 1\n",
    "# print(\"   test loss: %f\" % (test_loss / n_batch))\n",
    "# print(\"   test acc: %f\" % (test_acc / n_batch))\n",
    "print(time.strftime('end time: %Y-%m-%d %H:%M:%S', time.localtime()))\n",
    "print(time.strftime('%H:%M:%S', time.gmtime(time.time() - all_start_time)))"
   ]
  },
  {
   "cell_type": "code",
   "execution_count": 61,
   "metadata": {},
   "outputs": [],
   "source": [
    "a = tf.zeros([1, 2], dtype=tf.float32)"
   ]
  },
  {
   "cell_type": "code",
   "execution_count": 19,
   "metadata": {},
   "outputs": [
    {
     "data": {
      "text/plain": [
       "array([[-1., -1., -1., ..., -1., -1., -1.],\n",
       "       [-1., -1., -1., ..., -1., -1., -1.],\n",
       "       [-1., -1., -1., ..., -1., -1., -1.],\n",
       "       ...,\n",
       "       [-1., -1., -1., ..., -1., -1., -1.],\n",
       "       [-1., -1., -1., ..., -1., -1., -1.],\n",
       "       [-1., -1., -1., ..., -1., -1., -1.]])"
      ]
     },
     "execution_count": 19,
     "metadata": {},
     "output_type": "execute_result"
    }
   ],
   "source": [
    "Y_train[0][0].reshape((501, 501))"
   ]
  },
  {
   "cell_type": "code",
   "execution_count": 20,
   "metadata": {},
   "outputs": [
    {
     "data": {
      "text/plain": [
       "<matplotlib.image.AxesImage at 0x7f79790f3940>"
      ]
     },
     "execution_count": 20,
     "metadata": {},
     "output_type": "execute_result"
    },
    {
     "data": {
      "image/png": "[encoded data removed]",
      "text/plain": [
       "<Figure size 432x288 with 1 Axes>"
      ]
     },
     "metadata": {},
     "output_type": "display_data"
    }
   ],
   "source": [
    "plt.imshow(Y_train[0][0].reshape((501, 501)), cmap=cm.gist_ncar_r)"
   ]
  },
  {
   "cell_type": "code",
   "execution_count": null,
   "metadata": {},
   "outputs": [],
   "source": [
    "tl.utils.predict(sess, network, x_train, x, y_op)"
   ]
  },
  {
   "cell_type": "code",
   "execution_count": 70,
   "metadata": {},
   "outputs": [
    {
     "data": {
      "image/png": "[encoded data removed]",
      "text/plain": [
       "<Figure size 432x288 with 1 Axes>"
      ]
     },
     "metadata": {},
     "output_type": "display_data"
    },
    {
     "name": "stdout",
     "output_type": "stream",
     "text": [
      "↓↓↓下面的是模型的0输出，上面的是0真实值↑↑↑\n"
     ]
    },
    {
     "data": {
      "image/png": "[encoded data removed]",
      "text/plain": [
       "<Figure size 432x288 with 1 Axes>"
      ]
     },
     "metadata": {},
     "output_type": "display_data"
    },
    {
     "name": "stdout",
     "output_type": "stream",
     "text": [
      "\n",
      "------------------------------------\n",
      "\n"
     ]
    }
   ],
   "source": [
    "y = network.outputs\n",
    "for i, RAD_id in enumerate(RAD_id_list[0:1]):\n",
    "    X_validation, Y_validation = read_by_RAD_id(RAD_id, 5)\n",
    "    Y = tl.utils.predict(sess, network, X_validation, x, y)\n",
    "    Y = Y[0]\n",
    "    Y_validation = Y_validation[0]\n",
    "    for j in range(0, 1, 6):\n",
    "        plt.imshow(Y_validation[j].reshape((501,501)), cmap=cm.gist_ncar_r)\n",
    "        plt.show()\n",
    "        print('↓↓↓下面的是模型的%d输出，上面的是%d真实值↑↑↑' % (j, j))\n",
    "        plt.imshow(Y[j].reshape((501,501)), cmap=cm.gist_ncar_r)\n",
    "        plt.show()\n",
    "        print('\\n------------------------------------\\n')"
   ]
  },
  {
   "cell_type": "code",
   "execution_count": null,
   "metadata": {},
   "outputs": [],
   "source": [
    "Y"
   ]
  },
  {
   "cell_type": "code",
   "execution_count": null,
   "metadata": {},
   "outputs": [],
   "source": [
    "plt.imshow(y_train[0].reshape((501,501)), cmap=cm.gist_ncar_r)"
   ]
  },
  {
   "cell_type": "code",
   "execution_count": null,
   "metadata": {},
   "outputs": [],
   "source": [
    "y_train[0]"
   ]
  },
  {
   "cell_type": "code",
   "execution_count": null,
   "metadata": {},
   "outputs": [],
   "source": []
  }
 ],
 "metadata": {
  "kernelspec": {
   "display_name": "Python 3",
   "language": "python",
   "name": "python3"
  },
  "language_info": {
   "codemirror_mode": {
    "name": "ipython",
    "version": 3
   },
   "file_extension": ".py",
   "mimetype": "text/x-python",
   "name": "python",
   "nbconvert_exporter": "python",
   "pygments_lexer": "ipython3",
   "version": "3.5.2"
  }
 },
 "nbformat": 4,
 "nbformat_minor": 2
}
