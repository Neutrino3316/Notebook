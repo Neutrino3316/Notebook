{
 "cells": [
  {
   "cell_type": "code",
   "execution_count": 1,
   "metadata": {},
   "outputs": [],
   "source": [
    "import time\n",
    "import tensorflow as tf\n",
    "import tensorlayer as tl"
   ]
  },
  {
   "cell_type": "code",
   "execution_count": 2,
   "metadata": {},
   "outputs": [
    {
     "name": "stdout",
     "output_type": "stream",
     "text": [
      "[TL] Load or Download MNIST > data/mnist\n",
      "[TL] data/mnist/train-images-idx3-ubyte.gz\n",
      "[TL] data/mnist/t10k-images-idx3-ubyte.gz\n"
     ]
    }
   ],
   "source": [
    "tf.logging.set_verbosity(tf.logging.DEBUG)\n",
    "tl.logging.set_verbosity(tl.logging.DEBUG)\n",
    "\n",
    "X_train, y_train, X_val, y_val, X_test, y_test = tl.files.load_mnist_dataset(shape=(-1, 28, 28, 1))\n",
    "# X_train, y_train, X_test, y_test = tl.files.load_cropped_svhn(include_extra=False)"
   ]
  },
  {
   "cell_type": "code",
   "execution_count": 3,
   "metadata": {},
   "outputs": [
    {
     "data": {
      "text/plain": [
       "(50000, 28, 28, 1)"
      ]
     },
     "execution_count": 3,
     "metadata": {},
     "output_type": "execute_result"
    }
   ],
   "source": [
    "X_train.shape"
   ]
  },
  {
   "cell_type": "code",
   "execution_count": 7,
   "metadata": {
    "scrolled": true
   },
   "outputs": [
    {
     "name": "stdout",
     "output_type": "stream",
     "text": [
      "start time: 2018-08-09 17:39:39\n",
      "[TL] InputLayer  binarynet/input: (128, 28, 28, 1)\n",
      "[TL] BinaryConv2d binarynet/bcnn1: n_filter: 32 filter_size: (5, 5) strides: (1, 1) pad: SAME act: No Activation\n",
      "[TL] MaxPool2d binarynet/pool1: filter_size: (2, 2) strides: (2, 2) padding: SAME\n",
      "[TL] BatchNormLayer binarynet/bn1: decay: 0.900000 epsilon: 0.000010 act: hard_tanh is_train: True\n",
      "[TL] SignLayer  binarynet/sign\n",
      "[TL] BinaryConv2d binarynet/bcnn2: n_filter: 64 filter_size: (5, 5) strides: (1, 1) pad: SAME act: No Activation\n",
      "[TL] MaxPool2d binarynet/pool2: filter_size: (2, 2) strides: (2, 2) padding: SAME\n",
      "[TL] BatchNormLayer binarynet/bn2: decay: 0.900000 epsilon: 0.000010 act: hard_tanh is_train: True\n",
      "[TL] FlattenLayer binarynet/flatten: 3136\n",
      "[TL] SignLayer  binarynet/sign\n",
      "[TL] BinaryDenseLayer  binarynet/dense: 256 No Activation\n",
      "[TL] BatchNormLayer binarynet/bn3: decay: 0.900000 epsilon: 0.000010 act: hard_tanh is_train: True\n",
      "[TL] SignLayer  binarynet/sign\n",
      "[TL] BinaryDenseLayer  binarynet/bout: 10 No Activation\n",
      "[TL] BatchNormLayer binarynet/bno: decay: 0.900000 epsilon: 0.000010 act: No Activation is_train: True\n",
      "[TL] InputLayer  binarynet/input: (128, 28, 28, 1)\n",
      "[TL] BinaryConv2d binarynet/bcnn1: n_filter: 32 filter_size: (5, 5) strides: (1, 1) pad: SAME act: No Activation\n",
      "[TL] MaxPool2d binarynet/pool1: filter_size: (2, 2) strides: (2, 2) padding: SAME\n",
      "[TL] BatchNormLayer binarynet/bn1: decay: 0.900000 epsilon: 0.000010 act: hard_tanh is_train: False\n",
      "[TL] SignLayer  binarynet/sign\n",
      "[TL] BinaryConv2d binarynet/bcnn2: n_filter: 64 filter_size: (5, 5) strides: (1, 1) pad: SAME act: No Activation\n",
      "[TL] MaxPool2d binarynet/pool2: filter_size: (2, 2) strides: (2, 2) padding: SAME\n",
      "[TL] BatchNormLayer binarynet/bn2: decay: 0.900000 epsilon: 0.000010 act: hard_tanh is_train: False\n",
      "[TL] FlattenLayer binarynet/flatten: 3136\n",
      "[TL] SignLayer  binarynet/sign\n",
      "[TL] BinaryDenseLayer  binarynet/dense: 256 No Activation\n",
      "[TL] BatchNormLayer binarynet/bn3: decay: 0.900000 epsilon: 0.000010 act: hard_tanh is_train: False\n",
      "[TL] SignLayer  binarynet/sign\n",
      "[TL] BinaryDenseLayer  binarynet/bout: 10 No Activation\n",
      "[TL] BatchNormLayer binarynet/bno: decay: 0.900000 epsilon: 0.000010 act: No Activation is_train: False\n",
      "[TL]   [*] geting variables with binarynet\n",
      "[TL]   got   0: binarynet/bcnn1/W_conv2d:0   (5, 5, 1, 32)\n",
      "[TL]   got   1: binarynet/bn1/beta:0   (32,)\n",
      "[TL]   got   2: binarynet/bn1/gamma:0   (32,)\n",
      "[TL]   got   3: binarynet/bcnn2/W_conv2d:0   (5, 5, 32, 64)\n",
      "[TL]   got   4: binarynet/bn2/beta:0   (64,)\n",
      "[TL]   got   5: binarynet/bn2/gamma:0   (64,)\n",
      "[TL]   got   6: binarynet/dense/W:0   (3136, 256)\n",
      "[TL]   got   7: binarynet/bn3/beta:0   (256,)\n",
      "[TL]   got   8: binarynet/bn3/gamma:0   (256,)\n",
      "[TL]   got   9: binarynet/bout/W:0   (256, 10)\n",
      "[TL]   got  10: binarynet/bno/beta:0   (10,)\n",
      "[TL]   got  11: binarynet/bno/gamma:0   (10,)\n",
      "[TL]   param   0: binarynet/bcnn1/Sign:0 (5, 5, 1, 32)      float32 (mean: -0.057500001043081284, median: -1.0              , std: 0.9983455538749695)   \n",
      "[TL]   param   1: binarynet/bn1/beta:0 (32,)              float32_ref (mean: 0.0               , median: 0.0               , std: 0.0               )   \n",
      "[TL]   param   2: binarynet/bn1/gamma:0 (32,)              float32_ref (mean: 0.9996170997619629, median: 0.999576985836029 , std: 0.0015790415927767754)   \n",
      "[TL]   param   3: binarynet/bn1/moving_mean:0 (32,)              float32_ref (mean: 0.0               , median: 0.0               , std: 0.0               )   \n",
      "[TL]   param   4: binarynet/bn1/moving_variance:0 (32,)              float32_ref (mean: 1.0               , median: 1.0               , std: 0.0               )   \n",
      "[TL]   param   5: binarynet/bcnn2/Sign:0 (5, 5, 32, 64)     float32 (mean: 0.0043750000186264515, median: 1.0               , std: 0.9999904632568359)   \n",
      "[TL]   param   6: binarynet/bn2/beta:0 (64,)              float32_ref (mean: 0.0               , median: 0.0               , std: 0.0               )   \n",
      "[TL]   param   7: binarynet/bn2/gamma:0 (64,)              float32_ref (mean: 1.0001204013824463, median: 1.0000369548797607, std: 0.0018897936679422855)   \n",
      "[TL]   param   8: binarynet/bn2/moving_mean:0 (64,)              float32_ref (mean: 0.0               , median: 0.0               , std: 0.0               )   \n",
      "[TL]   param   9: binarynet/bn2/moving_variance:0 (64,)              float32_ref (mean: 1.0               , median: 1.0               , std: 0.0               )   \n",
      "[TL]   param  10: binarynet/dense/Sign:0 (3136, 256)        float32 (mean: 0.00042849170858971775, median: 1.0               , std: 1.0               )   \n",
      "[TL]   param  11: binarynet/bn3/beta:0 (256,)             float32_ref (mean: 0.0               , median: 0.0               , std: 0.0               )   \n",
      "[TL]   param  12: binarynet/bn3/gamma:0 (256,)             float32_ref (mean: 1.0001254081726074, median: 1.0002431869506836, std: 0.0020593164954334497)   \n",
      "[TL]   param  13: binarynet/bn3/moving_mean:0 (256,)             float32_ref (mean: 0.0               , median: 0.0               , std: 0.0               )   \n",
      "[TL]   param  14: binarynet/bn3/moving_variance:0 (256,)             float32_ref (mean: 1.0               , median: 1.0               , std: 0.0               )   \n",
      "[TL]   param  15: binarynet/bout/Sign:0 (256, 10)          float32 (mean: 0.0007812500116415322, median: 1.0               , std: 0.9999997019767761)   \n",
      "[TL]   param  16: binarynet/bno/beta:0 (10,)              float32_ref (mean: 0.0               , median: 0.0               , std: 0.0               )   \n",
      "[TL]   param  17: binarynet/bno/gamma:0 (10,)              float32_ref (mean: 0.9991815686225891, median: 0.9988185167312622, std: 0.0020722816698253155)   \n",
      "[TL]   param  18: binarynet/bno/moving_mean:0 (10,)              float32_ref (mean: 0.0               , median: 0.0               , std: 0.0               )   \n",
      "[TL]   param  19: binarynet/bno/moving_variance:0 (10,)              float32_ref (mean: 1.0               , median: 1.0               , std: 0.0               )   \n",
      "[TL]   num of params: 858824\n",
      "``````````````````````````````````````````````\n",
      "[TL]   layer   0: Placeholder:0        (128, 28, 28, 1)    float32\n",
      "[TL]   layer   1: binarynet/bcnn1/Conv2D:0 (128, 28, 28, 32)    float32\n",
      "[TL]   layer   2: binarynet/pool1/MaxPool:0 (128, 14, 14, 32)    float32\n",
      "[TL]   layer   3: binarynet/bn1/htanh:0 (128, 14, 14, 32)    float32\n",
      "[TL]   layer   4: binarynet/sign/Sign:0 (128, 14, 14, 32)    float32\n",
      "[TL]   layer   5: binarynet/bcnn2/Conv2D:0 (128, 14, 14, 64)    float32\n",
      "[TL]   layer   6: binarynet/pool2/MaxPool:0 (128, 7, 7, 64)    float32\n",
      "[TL]   layer   7: binarynet/bn2/htanh:0 (128, 7, 7, 64)    float32\n",
      "[TL]   layer   8: binarynet/flatten:0  (128, 3136)        float32\n",
      "[TL]   layer   9: binarynet/sign_1/Sign:0 (128, 3136)        float32\n",
      "[TL]   layer  10: binarynet/dense/MatMul:0 (128, 256)         float32\n",
      "[TL]   layer  11: binarynet/bn3/htanh:0 (128, 256)         float32\n",
      "[TL]   layer  12: binarynet/sign_2/Sign:0 (128, 256)         float32\n",
      "[TL]   layer  13: binarynet/bout/MatMul:0 (128, 10)          float32\n",
      "[TL]   layer  14: binarynet/bno/batchnorm/add_1:0 (128, 10)          float32\n",
      "Epoch 1 of 20 took 3.057560s\n",
      "   train loss: 0.699743\n",
      "   train acc: 0.911939\n",
      "   val loss: 0.658655\n",
      "   val acc: 0.917768\n",
      "Epoch 5 of 20 took 2.894586s\n",
      "   train loss: 0.399595\n",
      "   train acc: 0.967849\n",
      "   val loss: 0.381873\n",
      "   val acc: 0.970853\n",
      "Epoch 10 of 20 took 2.951445s\n",
      "   train loss: 0.252492\n",
      "   train acc: 0.978906\n",
      "   val loss: 0.244762\n",
      "   val acc: 0.979467\n",
      "Epoch 15 of 20 took 3.100828s\n",
      "   train loss: 0.159585\n",
      "   train acc: 0.986478\n",
      "   val loss: 0.161107\n",
      "   val acc: 0.984776\n",
      "Epoch 20 of 20 took 2.938830s\n",
      "   train loss: 0.118529\n",
      "   train acc: 0.988682\n",
      "   val loss: 0.125593\n",
      "   val acc: 0.984675\n",
      "Evaluation\n",
      "   test loss: 0.125836\n",
      "   test acc: 0.984075\n",
      "end time: 2018-08-09 17:40:47\n",
      "00:01:07\n"
     ]
    }
   ],
   "source": [
    "total_start_time = time.time()\n",
    "print(time.strftime(\"start time: %Y-%m-%d %H:%M:%S\", time.localtime()))\n",
    "\n",
    "\n",
    "batch_size = 128\n",
    "\n",
    "x = tf.placeholder(tf.float32, shape=[batch_size, 28, 28, 1])\n",
    "y_ = tf.placeholder(tf.int64, shape=[batch_size])\n",
    "\n",
    "\n",
    "def model(x, is_train=True, reuse=False):\n",
    "    # In BNN, all the layers inputs are binary, with the exception of the first layer.\n",
    "    # ref: https://github.com/itayhubara/BinaryNet.tf/blob/master/models/BNN_cifar10.py\n",
    "    with tf.device('/gpu:0'):\n",
    "        with tf.variable_scope(\"binarynet\", reuse=reuse):\n",
    "            net = tl.layers.InputLayer(x, name='input')\n",
    "            net = tl.layers.BinaryConv2d(net, 32, (5, 5), (1, 1), padding='SAME', b_init=None, name='bcnn1')\n",
    "            net = tl.layers.MaxPool2d(net, (2, 2), (2, 2), padding='SAME', name='pool1')\n",
    "            net = tl.layers.BatchNormLayer(net, act=tl.act.htanh, is_train=is_train, name='bn1')\n",
    "\n",
    "            net = tl.layers.SignLayer(net)\n",
    "            net = tl.layers.BinaryConv2d(net, 64, (5, 5), (1, 1), padding='SAME', b_init=None, name='bcnn2')\n",
    "            net = tl.layers.MaxPool2d(net, (2, 2), (2, 2), padding='SAME', name='pool2')\n",
    "            net = tl.layers.BatchNormLayer(net, act=tl.act.htanh, is_train=is_train, name='bn2')\n",
    "\n",
    "            net = tl.layers.FlattenLayer(net)\n",
    "            # net = tl.layers.DropoutLayer(net, 0.8, True, is_train, name='drop1')\n",
    "            net = tl.layers.SignLayer(net)\n",
    "            net = tl.layers.BinaryDenseLayer(net, 256, b_init=None, name='dense')\n",
    "            net = tl.layers.BatchNormLayer(net, act=tl.act.htanh, is_train=is_train, name='bn3')\n",
    "\n",
    "            # net = tl.layers.DropoutLayer(net, 0.8, True, is_train, name='drop2')\n",
    "            net = tl.layers.SignLayer(net)\n",
    "            net = tl.layers.BinaryDenseLayer(net, 10, b_init=None, name='bout')\n",
    "            net = tl.layers.BatchNormLayer(net, is_train=is_train, name='bno')\n",
    "    return net\n",
    "\n",
    "\n",
    "# define inferences\n",
    "net_train = model(x, is_train=True, reuse=False)\n",
    "net_test = model(x, is_train=False, reuse=True)\n",
    "\n",
    "# cost for training\n",
    "y = net_train.outputs\n",
    "cost = tl.cost.cross_entropy(y, y_, name='xentropy')\n",
    "\n",
    "# cost and accuracy for evalution\n",
    "y2 = net_test.outputs\n",
    "cost_test = tl.cost.cross_entropy(y2, y_, name='xentropy2')\n",
    "correct_prediction = tf.equal(tf.argmax(y2, 1), y_)\n",
    "acc = tf.reduce_mean(tf.cast(correct_prediction, tf.float32))\n",
    "\n",
    "# define the optimizer\n",
    "train_params = tl.layers.get_variables_with_name('binarynet', True, True)\n",
    "train_op = tf.train.AdamOptimizer(learning_rate=0.0001).minimize(cost, var_list=train_params)\n",
    "\n",
    "sess = tf.InteractiveSession()\n",
    "# initialize all variables in the session\n",
    "tl.layers.initialize_global_variables(sess)\n",
    "\n",
    "net_train.print_params()\n",
    "print('``````````````````````````````````````````````')\n",
    "net_train.print_layers()\n",
    "\n",
    "n_epoch = 20\n",
    "print_freq = 5\n",
    "\n",
    "# print(sess.run(net_test.all_params)) # print real values of parameters\n",
    "\n",
    "for epoch in range(n_epoch):\n",
    "    start_time = time.time()\n",
    "    for X_train_a, y_train_a in tl.iterate.minibatches(X_train, y_train, batch_size, shuffle=True):\n",
    "        sess.run(train_op, feed_dict={x: X_train_a, y_: y_train_a})\n",
    "\n",
    "    if epoch + 1 == 1 or (epoch + 1) % print_freq == 0:\n",
    "        print(\"Epoch %d of %d took %fs\" % (epoch + 1, n_epoch, time.time() - start_time))\n",
    "        train_loss, train_acc, n_batch = 0, 0, 0\n",
    "        for X_train_a, y_train_a in tl.iterate.minibatches(X_train, y_train, batch_size, shuffle=True):\n",
    "            err, ac = sess.run([cost_test, acc], feed_dict={x: X_train_a, y_: y_train_a})\n",
    "            train_loss += err\n",
    "            train_acc += ac\n",
    "            n_batch += 1\n",
    "        print(\"   train loss: %f\" % (train_loss / n_batch))\n",
    "        print(\"   train acc: %f\" % (train_acc / n_batch))\n",
    "        val_loss, val_acc, n_batch = 0, 0, 0\n",
    "        for X_val_a, y_val_a in tl.iterate.minibatches(X_val, y_val, batch_size, shuffle=True):\n",
    "            err, ac = sess.run([cost_test, acc], feed_dict={x: X_val_a, y_: y_val_a})\n",
    "            val_loss += err\n",
    "            val_acc += ac\n",
    "            n_batch += 1\n",
    "        print(\"   val loss: %f\" % (val_loss / n_batch))\n",
    "        print(\"   val acc: %f\" % (val_acc / n_batch))\n",
    "\n",
    "print('Evaluation')\n",
    "test_loss, test_acc, n_batch = 0, 0, 0\n",
    "for X_test_a, y_test_a in tl.iterate.minibatches(X_test, y_test, batch_size, shuffle=True):\n",
    "    err, ac = sess.run([cost_test, acc], feed_dict={x: X_test_a, y_: y_test_a})\n",
    "    test_loss += err\n",
    "    test_acc += ac\n",
    "    n_batch += 1\n",
    "print(\"   test loss: %f\" % (test_loss / n_batch))\n",
    "print(\"   test acc: %f\" % (test_acc / n_batch))\n",
    "\n",
    "\n",
    "print(time.strftime(\"end time: %Y-%m-%d %H:%M:%S\", time.localtime()))\n",
    "print(time.strftime(\"%H:%M:%S\", time.gmtime(time.time() - total_start_time)))"
   ]
  },
  {
   "cell_type": "code",
   "execution_count": 6,
   "metadata": {},
   "outputs": [],
   "source": [
    "tf.reset_default_graph()"
   ]
  },
  {
   "cell_type": "code",
   "execution_count": 13,
   "metadata": {},
   "outputs": [
    {
     "data": {
      "text/plain": [
       "1533193506.7906582"
      ]
     },
     "execution_count": 13,
     "metadata": {},
     "output_type": "execute_result"
    }
   ],
   "source": [
    "start_time"
   ]
  },
  {
   "cell_type": "code",
   "execution_count": 46,
   "metadata": {},
   "outputs": [
    {
     "name": "stdout",
     "output_type": "stream",
     "text": [
      "1\n",
      "2\n"
     ]
    }
   ],
   "source": [
    "print(1)\n",
    "exit()\n",
    "print(2)"
   ]
  },
  {
   "cell_type": "code",
   "execution_count": null,
   "metadata": {},
   "outputs": [],
   "source": []
  }
 ],
 "metadata": {
  "kernelspec": {
   "display_name": "Python 3",
   "language": "python",
   "name": "python3"
  },
  "language_info": {
   "codemirror_mode": {
    "name": "ipython",
    "version": 3
   },
   "file_extension": ".py",
   "mimetype": "text/x-python",
   "name": "python",
   "nbconvert_exporter": "python",
   "pygments_lexer": "ipython3",
   "version": "3.5.2"
  }
 },
 "nbformat": 4,
 "nbformat_minor": 2
}
