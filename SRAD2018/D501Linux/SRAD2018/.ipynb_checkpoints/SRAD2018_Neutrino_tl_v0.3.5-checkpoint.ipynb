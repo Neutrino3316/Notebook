{
 "cells": [
  {
   "cell_type": "markdown",
   "metadata": {},
   "source": [
    "# 读取包和设好环境"
   ]
  },
  {
   "cell_type": "code",
   "execution_count": 2,
   "metadata": {},
   "outputs": [],
   "source": [
    "from IPython.display import display\n",
    "from IPython.display import clear_output\n",
    "import PIL\n",
    "import numpy as np\n",
    "import time\n",
    "import os\n",
    "from matplotlib.pyplot import imshow\n",
    "%matplotlib inline\n",
    "import matplotlib.pyplot as plt\n",
    "import gc\n",
    "import sys\n",
    "from matplotlib import cm\n",
    "import seaborn as sns\n",
    "import tensorflow as tf\n",
    "import tensorlayer as tl"
   ]
  },
  {
   "cell_type": "code",
   "execution_count": 3,
   "metadata": {},
   "outputs": [],
   "source": [
    "tf.reset_default_graph()"
   ]
  },
  {
   "cell_type": "code",
   "execution_count": 4,
   "metadata": {},
   "outputs": [],
   "source": [
    "tf.logging.set_verbosity(tf.logging.DEBUG)\n",
    "tl.logging.set_verbosity(tl.logging.DEBUG)"
   ]
  },
  {
   "cell_type": "code",
   "execution_count": 5,
   "metadata": {},
   "outputs": [],
   "source": [
    "sess = tf.InteractiveSession()"
   ]
  },
  {
   "cell_type": "code",
   "execution_count": 14,
   "metadata": {},
   "outputs": [],
   "source": [
    "SCALAR = 80"
   ]
  },
  {
   "cell_type": "markdown",
   "metadata": {},
   "source": [
    "# 数据读取"
   ]
  },
  {
   "cell_type": "code",
   "execution_count": 9,
   "metadata": {},
   "outputs": [
    {
     "name": "stdout",
     "output_type": "stream",
     "text": [
      "5000\n"
     ]
    }
   ],
   "source": [
    "raw_RAD_id_list = os.listdir('/home/hadoop/Documents/Neutrino/SRAD2018/SRAD2018_train/')\n",
    "print(len(raw_RAD_id_list))"
   ]
  },
  {
   "cell_type": "code",
   "execution_count": 10,
   "metadata": {},
   "outputs": [],
   "source": [
    "def check_RAD_id(RAD_id):\n",
    "    sum_list = []\n",
    "    for k in range(61):\n",
    "        sum_list.append(np.array(PIL.Image.open('/home/hadoop/Documents/Neutrino/SRAD2018/SRAD2018_train/%s/%s_%03d.png'\n",
    "                         % (RAD_id, RAD_id,\n",
    "                        k))).astype(np.int8).ravel().sum())\n",
    "    sum_list = np.array(sum_list)\n",
    "    if i % 100 == 0:\n",
    "        print(time.strftime('%H:%M:%S', time.gmtime(time.time() - start_time)))\n",
    "        print(i, sum_list[:7])\n",
    "    if sum_list.mean() < 251001 * 0:\n",
    "        return False\n",
    "    for k in range(59):\n",
    "        if abs(sum_list[k] + sum_list[k + 2] - 2 * sum_list[k + 1]) > 251001 * 2:\n",
    "            return False\n",
    "    return True"
   ]
  },
  {
   "cell_type": "code",
   "execution_count": 11,
   "metadata": {},
   "outputs": [],
   "source": [
    "RAD_id_list = raw_RAD_id_list"
   ]
  },
  {
   "cell_type": "code",
   "execution_count": null,
   "metadata": {
    "scrolled": true
   },
   "outputs": [],
   "source": [
    "start_time = time.time()\n",
    "print(time.strftime('start time: %Y-%m-%d %H:%M:%S', time.localtime()))\n",
    "RAD_id_list = []\n",
    "for (i, RAD_id) in enumerate(raw_RAD_id_list):\n",
    "    if check_RAD_id(RAD_id):\n",
    "        RAD_id_list.append(RAD_id)\n",
    "print(time.strftime('end time: %Y-%m-%d %H:%M:%S', time.localtime()))\n",
    "print(time.strftime('%H:%M:%S', time.gmtime(time.time() - start_time)))\n",
    "print(len(RAD_id_list))"
   ]
  },
  {
   "cell_type": "code",
   "execution_count": null,
   "metadata": {},
   "outputs": [],
   "source": [
    "'/home/hadoop/Documents/Neutrino/SRAD2018/SRAD2018_train'"
   ]
  },
  {
   "cell_type": "code",
   "execution_count": null,
   "metadata": {},
   "outputs": [],
   "source": [
    "RAD_id = 'RAD_436582464219533'\n",
    "a = np.array(PIL.Image.open(\"/home/hadoop/Documents/Neutrino/SRAD2018/SRAD2018_train/%s/%s_%03d.png\" % (RAD_id, RAD_id, 10))).astype(np.int8)"
   ]
  },
  {
   "cell_type": "code",
   "execution_count": null,
   "metadata": {},
   "outputs": [],
   "source": [
    "plt.imshow(a, cmap=cm.gist_ncar_r)"
   ]
  },
  {
   "cell_type": "code",
   "execution_count": 15,
   "metadata": {},
   "outputs": [],
   "source": [
    "def read_by_RAD_id(RAD_id, step_size):\n",
    "    x_matrix = np.empty((31, 501, 501, 1))\n",
    "    for i in range(31):\n",
    "        x_matrix[i] = np.array(PIL.Image.open(\"/home/hadoop/Documents/Neutrino/SRAD2018/SRAD2018_train/%s/%s_%03d.png\" % (RAD_id, RAD_id, i))).astype(np.int8).reshape((501, 501, 1)) / SCALAR\n",
    "    y_matrix = np.empty((30, 501, 501, 1))\n",
    "    for i in range(30):\n",
    "        y_matrix[i] = np.array(PIL.Image.open(\"/home/hadoop/Documents/Neutrino/SRAD2018/SRAD2018_train/%s/%s_%03d.png\" % (RAD_id, RAD_id, i + 31))).astype(np.int8).reshape((501, 501, 1)) / SCALAR\n",
    "    return ([x_matrix], [y_matrix])"
   ]
  },
  {
   "cell_type": "code",
   "execution_count": 27,
   "metadata": {},
   "outputs": [],
   "source": [
    "sess.close()"
   ]
  },
  {
   "cell_type": "code",
   "execution_count": 28,
   "metadata": {},
   "outputs": [],
   "source": [
    "tf.reset_default_graph()"
   ]
  },
  {
   "cell_type": "code",
   "execution_count": 29,
   "metadata": {},
   "outputs": [
    {
     "name": "stdout",
     "output_type": "stream",
     "text": [
      "[[22. 28.]\n",
      " [49. 64.]]\n"
     ]
    }
   ],
   "source": [
    "with tf.device(\"/cpu:0\"):\n",
    "    # Creates a graph.\n",
    "    a = tf.constant([1.0, 2.0, 3.0, 4.0, 5.0, 6.0], shape=[2, 3], name='a')\n",
    "    b = tf.constant([1.0, 2.0, 3.0, 4.0, 5.0, 6.0], shape=[3, 2], name='b')\n",
    "    c = tf.matmul(a, b)\n",
    "    # Creates a session with log_device_placement set to True.\n",
    "    sess = tf.Session(config=tf.ConfigProto(log_device_placement=True))\n",
    "    # Runs the op.\n",
    "    print(sess.run(c))"
   ]
  },
  {
   "cell_type": "code",
   "execution_count": 23,
   "metadata": {},
   "outputs": [
    {
     "data": {
      "text/plain": [
       "<tensorflow.python.client.session.Session at 0x7f314d1191d0>"
      ]
     },
     "execution_count": 23,
     "metadata": {},
     "output_type": "execute_result"
    }
   ],
   "source": [
    "sess"
   ]
  },
  {
   "cell_type": "code",
   "execution_count": 38,
   "metadata": {},
   "outputs": [
    {
     "ename": "ValueError",
     "evalue": "Unknown attribute: 'Tensor(\"a' in 'Tensor(\"a:0\", shape=(2, 3), dtype=float32)'",
     "output_type": "error",
     "traceback": [
      "\u001b[0;31m---------------------------------------------------------------------------\u001b[0m",
      "\u001b[0;31mValueError\u001b[0m                                Traceback (most recent call last)",
      "\u001b[0;32m<ipython-input-38-8bed910ef81a>\u001b[0m in \u001b[0;36m<module>\u001b[0;34m()\u001b[0m\n\u001b[0;32m----> 1\u001b[0;31m \u001b[0mtf\u001b[0m\u001b[0;34m.\u001b[0m\u001b[0mdelete_session_tensor\u001b[0m\u001b[0;34m(\u001b[0m\u001b[0ma\u001b[0m\u001b[0;34m)\u001b[0m\u001b[0;34m\u001b[0m\u001b[0m\n\u001b[0m",
      "\u001b[0;32m/usr/local/lib/python3.5/dist-packages/tensorflow/python/ops/session_ops.py\u001b[0m in \u001b[0;36mdelete_session_tensor\u001b[0;34m(handle, name)\u001b[0m\n\u001b[1;32m    244\u001b[0m     \u001b[0mtensor\u001b[0m \u001b[0mhandle\u001b[0m \u001b[0;32mand\u001b[0m \u001b[0mthe\u001b[0m \u001b[0msecond\u001b[0m \u001b[0;32mis\u001b[0m \u001b[0ma\u001b[0m \u001b[0mdeletion\u001b[0m \u001b[0moperation\u001b[0m\u001b[0;34m.\u001b[0m\u001b[0;34m\u001b[0m\u001b[0m\n\u001b[1;32m    245\u001b[0m   \"\"\"\n\u001b[0;32m--> 246\u001b[0;31m   \u001b[0mhandle_device\u001b[0m \u001b[0;34m=\u001b[0m \u001b[0mTensorHandle\u001b[0m\u001b[0;34m.\u001b[0m\u001b[0m_get_device_name\u001b[0m\u001b[0;34m(\u001b[0m\u001b[0mhandle\u001b[0m\u001b[0;34m)\u001b[0m\u001b[0;34m\u001b[0m\u001b[0m\n\u001b[0m\u001b[1;32m    247\u001b[0m   \u001b[0;32mwith\u001b[0m \u001b[0mops\u001b[0m\u001b[0;34m.\u001b[0m\u001b[0mdevice\u001b[0m\u001b[0;34m(\u001b[0m\u001b[0mhandle_device\u001b[0m\u001b[0;34m)\u001b[0m\u001b[0;34m:\u001b[0m\u001b[0;34m\u001b[0m\u001b[0m\n\u001b[1;32m    248\u001b[0m     \u001b[0mholder\u001b[0m \u001b[0;34m=\u001b[0m \u001b[0marray_ops\u001b[0m\u001b[0;34m.\u001b[0m\u001b[0mplaceholder\u001b[0m\u001b[0;34m(\u001b[0m\u001b[0mdtypes\u001b[0m\u001b[0;34m.\u001b[0m\u001b[0mstring\u001b[0m\u001b[0;34m)\u001b[0m\u001b[0;34m\u001b[0m\u001b[0m\n",
      "\u001b[0;32m/usr/local/lib/python3.5/dist-packages/tensorflow/python/ops/session_ops.py\u001b[0m in \u001b[0;36m_get_device_name\u001b[0;34m(handle)\u001b[0m\n\u001b[1;32m    129\u001b[0m     \u001b[0;34m\"\"\"The device name encoded in the handle.\"\"\"\u001b[0m\u001b[0;34m\u001b[0m\u001b[0m\n\u001b[1;32m    130\u001b[0m     \u001b[0mhandle_str\u001b[0m \u001b[0;34m=\u001b[0m \u001b[0mcompat\u001b[0m\u001b[0;34m.\u001b[0m\u001b[0mas_str_any\u001b[0m\u001b[0;34m(\u001b[0m\u001b[0mhandle\u001b[0m\u001b[0;34m)\u001b[0m\u001b[0;34m\u001b[0m\u001b[0m\n\u001b[0;32m--> 131\u001b[0;31m     \u001b[0;32mreturn\u001b[0m \u001b[0mpydev\u001b[0m\u001b[0;34m.\u001b[0m\u001b[0mcanonical_name\u001b[0m\u001b[0;34m(\u001b[0m\u001b[0mhandle_str\u001b[0m\u001b[0;34m.\u001b[0m\u001b[0msplit\u001b[0m\u001b[0;34m(\u001b[0m\u001b[0;34m\";\"\u001b[0m\u001b[0;34m)\u001b[0m\u001b[0;34m[\u001b[0m\u001b[0;34m-\u001b[0m\u001b[0;36m1\u001b[0m\u001b[0;34m]\u001b[0m\u001b[0;34m)\u001b[0m\u001b[0;34m\u001b[0m\u001b[0m\n\u001b[0m\u001b[1;32m    132\u001b[0m \u001b[0;34m\u001b[0m\u001b[0m\n\u001b[1;32m    133\u001b[0m   \u001b[0;34m@\u001b[0m\u001b[0mstaticmethod\u001b[0m\u001b[0;34m\u001b[0m\u001b[0m\n",
      "\u001b[0;32m/usr/local/lib/python3.5/dist-packages/tensorflow/python/framework/device.py\u001b[0m in \u001b[0;36mcanonical_name\u001b[0;34m(device)\u001b[0m\n\u001b[1;32m    251\u001b[0m     \u001b[0;32mreturn\u001b[0m \u001b[0mdevice\u001b[0m\u001b[0;34m.\u001b[0m\u001b[0mto_string\u001b[0m\u001b[0;34m(\u001b[0m\u001b[0;34m)\u001b[0m\u001b[0;34m\u001b[0m\u001b[0m\n\u001b[1;32m    252\u001b[0m   \u001b[0;32melse\u001b[0m\u001b[0;34m:\u001b[0m\u001b[0;34m\u001b[0m\u001b[0m\n\u001b[0;32m--> 253\u001b[0;31m     \u001b[0mdevice\u001b[0m \u001b[0;34m=\u001b[0m \u001b[0mDeviceSpec\u001b[0m\u001b[0;34m.\u001b[0m\u001b[0mfrom_string\u001b[0m\u001b[0;34m(\u001b[0m\u001b[0mdevice\u001b[0m\u001b[0;34m)\u001b[0m\u001b[0;34m\u001b[0m\u001b[0m\n\u001b[0m\u001b[1;32m    254\u001b[0m     \u001b[0;32mreturn\u001b[0m \u001b[0mdevice\u001b[0m\u001b[0;34m.\u001b[0m\u001b[0mto_string\u001b[0m\u001b[0;34m(\u001b[0m\u001b[0;34m)\u001b[0m\u001b[0;34m\u001b[0m\u001b[0m\n\u001b[1;32m    255\u001b[0m \u001b[0;34m\u001b[0m\u001b[0m\n",
      "\u001b[0;32m/usr/local/lib/python3.5/dist-packages/tensorflow/python/framework/device.py\u001b[0m in \u001b[0;36mfrom_string\u001b[0;34m(spec)\u001b[0m\n\u001b[1;32m    228\u001b[0m       \u001b[0mA\u001b[0m \u001b[0mDeviceSpec\u001b[0m\u001b[0;34m.\u001b[0m\u001b[0;34m\u001b[0m\u001b[0m\n\u001b[1;32m    229\u001b[0m     \"\"\"\n\u001b[0;32m--> 230\u001b[0;31m     \u001b[0;32mreturn\u001b[0m \u001b[0mDeviceSpec\u001b[0m\u001b[0;34m(\u001b[0m\u001b[0;34m)\u001b[0m\u001b[0;34m.\u001b[0m\u001b[0mparse_from_string\u001b[0m\u001b[0;34m(\u001b[0m\u001b[0mspec\u001b[0m\u001b[0;34m)\u001b[0m\u001b[0;34m\u001b[0m\u001b[0m\n\u001b[0m\u001b[1;32m    231\u001b[0m \u001b[0;34m\u001b[0m\u001b[0m\n\u001b[1;32m    232\u001b[0m \u001b[0;34m\u001b[0m\u001b[0m\n",
      "\u001b[0;32m/usr/local/lib/python3.5/dist-packages/tensorflow/python/framework/device.py\u001b[0m in \u001b[0;36mparse_from_string\u001b[0;34m(self, spec)\u001b[0m\n\u001b[1;32m    171\u001b[0m             \u001b[0mself\u001b[0m\u001b[0;34m.\u001b[0m\u001b[0mdevice_index\u001b[0m \u001b[0;34m=\u001b[0m \u001b[0mint\u001b[0m\u001b[0;34m(\u001b[0m\u001b[0my\u001b[0m\u001b[0;34m[\u001b[0m\u001b[0;36m2\u001b[0m\u001b[0;34m]\u001b[0m\u001b[0;34m)\u001b[0m\u001b[0;34m\u001b[0m\u001b[0m\n\u001b[1;32m    172\u001b[0m         \u001b[0;32melif\u001b[0m \u001b[0mly\u001b[0m \u001b[0;32mand\u001b[0m \u001b[0my\u001b[0m\u001b[0;34m[\u001b[0m\u001b[0;36m0\u001b[0m\u001b[0;34m]\u001b[0m \u001b[0;34m!=\u001b[0m \u001b[0;34m\"\"\u001b[0m\u001b[0;34m:\u001b[0m  \u001b[0;31m# pylint: disable=g-explicit-bool-comparison\u001b[0m\u001b[0;34m\u001b[0m\u001b[0m\n\u001b[0;32m--> 173\u001b[0;31m           \u001b[0;32mraise\u001b[0m \u001b[0mValueError\u001b[0m\u001b[0;34m(\u001b[0m\u001b[0;34m\"Unknown attribute: '%s' in '%s'\"\u001b[0m \u001b[0;34m%\u001b[0m \u001b[0;34m(\u001b[0m\u001b[0my\u001b[0m\u001b[0;34m[\u001b[0m\u001b[0;36m0\u001b[0m\u001b[0;34m]\u001b[0m\u001b[0;34m,\u001b[0m \u001b[0mspec\u001b[0m\u001b[0;34m)\u001b[0m\u001b[0;34m)\u001b[0m\u001b[0;34m\u001b[0m\u001b[0m\n\u001b[0m\u001b[1;32m    174\u001b[0m \u001b[0;34m\u001b[0m\u001b[0m\n\u001b[1;32m    175\u001b[0m     \u001b[0;32mreturn\u001b[0m \u001b[0mself\u001b[0m\u001b[0;34m\u001b[0m\u001b[0m\n",
      "\u001b[0;31mValueError\u001b[0m: Unknown attribute: 'Tensor(\"a' in 'Tensor(\"a:0\", shape=(2, 3), dtype=float32)'"
     ]
    }
   ],
   "source": [
    "tf.delete_session_tensor(a)"
   ]
  },
  {
   "cell_type": "code",
   "execution_count": 7,
   "metadata": {
    "scrolled": false
   },
   "outputs": [
    {
     "name": "stdout",
     "output_type": "stream",
     "text": [
      "start time: 2018-08-20 13:14:59\n"
     ]
    }
   ],
   "source": [
    "all_start_time = time.time()\n",
    "print(time.strftime('start time: %Y-%m-%d %H:%M:%S', time.localtime()))\n",
    "\n",
    "# sess.close()\n",
    "tf.reset_default_graph()\n",
    "\n",
    "config = tf.ConfigProto(device_count={\"CPU\": 2}, # limit to num_cpu_core CPU usage\n",
    "                inter_op_parallelism_threads = 1, \n",
    "                intra_op_parallelism_threads = 1,\n",
    "                log_device_placement=True)\n",
    "# with tf.InteractiveSession(config = config) as sess:\n",
    "    \n",
    "with tf.Session(config = config) as sess:\n",
    "    a = tf.constant([1.0, 2.0, 3.0, 4.0, 5.0, 6.0], shape=[2, 3], name='a')\n",
    "    b = tf.constant([1.0, 2.0, 3.0, 4.0, 5.0, 6.0], shape=[3, 2], name='b')\n",
    "    c = tf.matmul(a, b)\n",
    "#     # prepare data\n",
    "#     # X_train, y_train, X_val, y_val, X_test, y_test = tl.files.load_mnist_dataset(shape=(-1, 784))\n",
    "\n",
    "#     # define placeholder\n",
    "#     x = tf.placeholder(tf.float32, shape=[None, 31, 501, 501, 1], name='x')\n",
    "#     y_ = tf.placeholder(tf.float32, shape=[None, 30, 501, 501, 1], name='y_')\n",
    "\n",
    "#     # define the network\n",
    "#     # network = tl.layers.InputLayer(x, name='input')\n",
    "#     network = x\n",
    "#     network = tf.keras.layers.ConvLSTM2D(filters=16, kernel_size=(3, 3), input_shape=x.shape, padding='same', return_sequences=True)(network)\n",
    "#     network = tf.keras.layers.ConvLSTM2D(filters=8, kernel_size=(3, 3), input_shape=x.shape, padding='same', return_sequences=True)(network)\n",
    "#     # network = tf.keras.layers.ConvLSTM2D(filters=16, kernel_size=(3, 3), input_shape=x.shape, padding='same', return_sequences=True)(network)\n",
    "#     network = tf.keras.layers.Conv3D(filters=1, kernel_size=(2, 1, 1), input_shape=x.shape, padding='valid', data_format='channels_last')(network)\n",
    "#     # network = tl.layers.ConvLSTMLayer(network, filter_size=(5, 5), n_steps=30, cell_shape=(501, 501), feature_map=24, name='conv_lstm_1')\n",
    "#     # network = tl.layers.ConvLSTMLayer(network, filter_size=(2, 2), cell_shape=(501, 501), feature_map=1, name='conv_lstm_2', return_last=True)\n",
    "#     # network = tl.layers.convolution.Conv3dLayer(network, act=tf.nn.tanh, shape=(31, 1, 1, 1, 1), strides=(1,1,1,1,1), padding='VALID')\n",
    "#     # network = tl.layers.shape.ReshapeLayer(network, (None, 501, 501, 1))\n",
    "#     # network = tl.layers.convolution.Conv2dLayer(network, act=tf.nn.tanh, shape=(5, 5, 1, 1))\n",
    "#     # network = tl.layers.ConvLSTMLayer(network, filter_size=(2, 2), n_steps=5, cell_shape=(501, 501), cell_fn=A(2, [501, 501, 1], 5, [2, 2]), feature_map=1, name='conv_lstm_1')\n",
    "#     # network = tf.contrib.rnn.ConvLSTMCell(2, [501, 501, 1], 5, [2, 2])\n",
    "\n",
    "\n",
    "#     # define cost function and metric.\n",
    "#     # y = network.output\n",
    "#     y = network\n",
    "#     # cost = tf.losses.mean_squared_error(y, y_, weights=y_)\n",
    "#     cost = tf.losses.mean_squared_error(y, y_)\n",
    "\n",
    "#     # define the optimizer\n",
    "#     # train_params = network.all_params\n",
    "#     # train_op = tf.train.AdamOptimizer(learning_rate=0.01).minimize(cost, var_list=train_params)\n",
    "#     train_op = tf.train.AdamOptimizer(learning_rate=0.001).minimize(cost)\n",
    "\n",
    "#     # initialize all variables in the session\n",
    "#     tl.layers.initialize_global_variables(sess)\n",
    "\n",
    "#     # print network information\n",
    "#     # network.print_params()\n",
    "#     # network.print_layers()\n",
    "\n",
    "#     n_epoch = 100\n",
    "#     batch_size = 1\n",
    "#     print_freq = 5\n",
    "#     sum_cost = 0\n",
    "\n",
    "#     # for epoch in range(n_epoch):\n",
    "#     #     start_time = time.time()\n",
    "#     #     for i, RAD_id in enumerate(RAD_id_list[:1]):\n",
    "#     #         X_train, Y_train = read_by_RAD_id(RAD_id, 5)\n",
    "#     #         feed_dict = {x: X_train, y_: Y_train}\n",
    "#     #         feed_dict.update(network.all_drop)  # enable noise layers\n",
    "#     #         train_cost, _ = sess.run([cost, train_op], feed_dict=feed_dict)\n",
    "#     #         sum_cost += train_cost / (Y_train[0].sum() + 251001)\n",
    "#     #         if i % 100 == 0:\n",
    "#     #             print('%3d'%epoch, '%5d'%i, time.strftime('%H:%M:%S', time.gmtime(time.time() - start_time)), '%.20f'%(sum_cost))\n",
    "#     #             sum_cost = 0\n",
    "\n",
    "#     X_train, Y_train = read_by_RAD_id(RAD_id_list[0], 5)\n",
    "#     for epoch in range(n_epoch):\n",
    "#         feed_dict = {x: X_train, y_: Y_train}\n",
    "#     #     feed_dict.update(network.all_drop)  # enable noise layers\n",
    "#         train_cost, _ = sess.run([cost, train_op], feed_dict=feed_dict)\n",
    "#         sum_cost += train_cost / (Y_train[0].sum() + 251001)\n",
    "#         if epoch % print_freq == 0:\n",
    "#             print('%3d'%epoch, time.strftime('%H:%M:%S', time.gmtime(time.time() - all_start_time)), '%5.5f'%(sum_cost * 10 ** 10))\n",
    "#         sum_cost = 0\n",
    "\n",
    "#     #     if epoch + 1 == 1 or (epoch + 1) % print_freq == 0:\n",
    "#     #         print(\"Epoch %d of %d took %fs\" % (epoch + 1, n_epoch, time.time() - start_time))\n",
    "#     #         train_loss, train_acc, n_batch = 0, 0, 0\n",
    "#     #         for X_train_a, y_train_a in tl.iterate.minibatches(X_train, y_train, batch_size, shuffle=True):\n",
    "#     #             dp_dict = tl.utils.dict_to_one(network.all_drop)  # disable noise layers\n",
    "#     #             feed_dict = {x: X_train_a, y_: y_train_a}\n",
    "#     #             feed_dict.update(dp_dict)\n",
    "#     #             err, ac = sess.run([cost, acc], feed_dict=feed_dict)\n",
    "#     #             train_loss += err\n",
    "#     #             train_acc += ac\n",
    "#     #             n_batch += 1\n",
    "#     #         print(\"   train loss: %f\" % (train_loss / n_batch))\n",
    "#     #         print(\"   train acc: %f\" % (train_acc / n_batch))\n",
    "#     #         val_loss, val_acc, n_batch = 0, 0, 0\n",
    "#     #         for X_val_a, y_val_a in tl.iterate.minibatches(X_val, y_val, batch_size, shuffle=True):\n",
    "#     #             dp_dict = tl.utils.dict_to_one(network.all_drop)  # disable noise layers\n",
    "#     #             feed_dict = {x: X_val_a, y_: y_val_a}\n",
    "#     #             feed_dict.update(dp_dict)\n",
    "#     #             err, ac = sess.run([cost, acc], feed_dict=feed_dict)\n",
    "#     #             val_loss += err\n",
    "#     #             val_acc += ac\n",
    "#     #             n_batch += 1\n",
    "#     #         print(\"   val loss: %f\" % (val_loss / n_batch))\n",
    "#     #         print(\"   val acc: %f\" % (val_acc / n_batch))\n",
    "\n",
    "#     # print('Evaluation')\n",
    "#     # test_loss, test_acc, n_batch = 0, 0, 0\n",
    "#     # for X_test_a, y_test_a in tl.iterate.minibatches(X_test, y_test, batch_size, shuffle=True):\n",
    "#     #     dp_dict = tl.utils.dict_to_one(network.all_drop)  # disable noise layers\n",
    "#     #     feed_dict = {x: X_test_a, y_: y_test_a}\n",
    "#     #     feed_dict.update(dp_dict)\n",
    "#     #     err, ac = sess.run([cost, acc], feed_dict=feed_dict)\n",
    "#     #     test_loss += err\n",
    "#     #     test_acc += ac\n",
    "#     #     n_batch += 1\n",
    "#     # print(\"   test loss: %f\" % (test_loss / n_batch))\n",
    "#     # print(\"   test acc: %f\" % (test_acc / n_batch))\n",
    "#     print(time.strftime('end time: %Y-%m-%d %H:%M:%S', time.localtime()))\n",
    "#     print(time.strftime('%H:%M:%S', time.gmtime(time.time() - all_start_time)))"
   ]
  },
  {
   "cell_type": "code",
   "execution_count": 59,
   "metadata": {},
   "outputs": [
    {
     "name": "stdout",
     "output_type": "stream",
     "text": [
      "start time: 2018-08-19 20:51:04\n",
      "  0 00:00:04 92.99871\n",
      "  5 00:00:15 90.53892\n",
      " 10 00:00:26 89.11278\n",
      " 15 00:00:37 86.91731\n",
      " 20 00:00:48 85.03236\n",
      " 25 00:00:59 84.55475\n",
      " 30 00:01:10 83.84341\n",
      " 35 00:01:21 83.32387\n",
      " 40 00:01:32 83.14984\n",
      " 45 00:01:43 82.92938\n",
      " 50 00:01:54 82.95042\n",
      " 55 00:02:05 82.87269\n",
      " 60 00:02:16 82.80118\n",
      " 65 00:02:27 82.77077\n",
      " 70 00:02:38 82.71953\n",
      " 75 00:02:50 82.66601\n",
      " 80 00:03:01 82.61689\n",
      " 85 00:03:12 82.56648\n",
      " 90 00:03:23 82.51789\n",
      " 95 00:03:34 82.45919\n",
      "end time: 2018-08-19 20:54:47\n",
      "00:03:43\n"
     ]
    }
   ],
   "source": [
    "all_start_time = time.time()\n",
    "print(time.strftime('start time: %Y-%m-%d %H:%M:%S', time.localtime()))\n",
    "\n",
    "with tf.device(\"/gpu:0\"):\n",
    "    tf.reset_default_graph()\n",
    "    sess = tf.InteractiveSession()\n",
    "    # prepare data\n",
    "    # X_train, y_train, X_val, y_val, X_test, y_test = tl.files.load_mnist_dataset(shape=(-1, 784))\n",
    "\n",
    "    # define placeholder\n",
    "    x = tf.placeholder(tf.float32, shape=[None, 31, 501, 501, 1], name='x')\n",
    "    y_ = tf.placeholder(tf.float32, shape=[None, 30, 501, 501, 1], name='y_')\n",
    "\n",
    "    # define the network\n",
    "    # network = tl.layers.InputLayer(x, name='input')\n",
    "    network = x\n",
    "    network = tf.keras.layers.ConvLSTM2D(filters=8, kernel_size=(3, 3), input_shape=x.shape, padding='same', return_sequences=True)(network)\n",
    "    network = tf.keras.layers.ConvLSTM2D(filters=8, kernel_size=(3, 3), input_shape=x.shape, padding='same', return_sequences=True)(network)\n",
    "    # network = tf.keras.layers.ConvLSTM2D(filters=16, kernel_size=(3, 3), input_shape=x.shape, padding='same', return_sequences=True)(network)\n",
    "    network = tf.keras.layers.Conv3D(filters=1, kernel_size=(2, 1, 1), input_shape=x.shape, padding='valid', data_format='channels_last')(network)\n",
    "\n",
    "    y = network\n",
    "    # cost = tf.losses.mean_squared_error(y, y_, weights=y_)\n",
    "    cost = tf.losses.mean_squared_error(y, y_)\n",
    "\n",
    "    # define the optimizer\n",
    "    # train_params = network.all_params\n",
    "    # train_op = tf.train.AdamOptimizer(learning_rate=0.01).minimize(cost, var_list=train_params)\n",
    "    train_op = tf.train.AdamOptimizer(learning_rate=0.001).minimize(cost)\n",
    "\n",
    "    # initialize all variables in the session\n",
    "    tl.layers.initialize_global_variables(sess)\n",
    "\n",
    "    n_epoch = 100\n",
    "    batch_size = 1\n",
    "    print_freq = 5\n",
    "    sum_cost = 0\n",
    "\n",
    "    X_train, Y_train = read_by_RAD_id(RAD_id_list[0], 5)\n",
    "    for epoch in range(n_epoch):\n",
    "        feed_dict = {x: X_train, y_: Y_train}\n",
    "    #     feed_dict.update(network.all_drop)  # enable noise layers\n",
    "        train_cost, _ = sess.run([cost, train_op], feed_dict=feed_dict)\n",
    "        sum_cost += train_cost / (Y_train[0].sum() + 251001)\n",
    "        if epoch % print_freq == 0:\n",
    "            print('%3d'%epoch, time.strftime('%H:%M:%S', time.gmtime(time.time() - all_start_time)), '%5.5f'%(sum_cost * 10 ** 10))\n",
    "        sum_cost = 0\n",
    "    print(time.strftime('end time: %Y-%m-%d %H:%M:%S', time.localtime()))\n",
    "    print(time.strftime('%H:%M:%S', time.gmtime(time.time() - all_start_time)))"
   ]
  },
  {
   "cell_type": "code",
   "execution_count": 16,
   "metadata": {},
   "outputs": [
    {
     "name": "stdout",
     "output_type": "stream",
     "text": [
      "start time: 2018-08-20 14:01:48\n"
     ]
    },
    {
     "ename": "ResourceExhaustedError",
     "evalue": "OOM when allocating tensor with shape[1,8,31,501,501] and type float on /job:localhost/replica:0/task:0/device:GPU:0 by allocator GPU_0_bfc\n\t [[Node: conv3d/Conv3D = Conv3D[T=DT_FLOAT, data_format=\"NDHWC\", dilations=[1, 1, 1, 1, 1], padding=\"VALID\", strides=[1, 1, 1, 1, 1], _device=\"/job:localhost/replica:0/task:0/device:GPU:0\"](conv_lst_m2d_1/transpose_1, conv3d/kernel/read)]]\nHint: If you want to see a list of allocated tensors when OOM happens, add report_tensor_allocations_upon_oom to RunOptions for current allocation info.\n\n\t [[Node: mean_squared_error/value/_29 = _Recv[client_terminated=false, recv_device=\"/job:localhost/replica:0/task:0/device:CPU:0\", send_device=\"/job:localhost/replica:0/task:0/device:GPU:0\", send_device_incarnation=1, tensor_name=\"edge_4391_mean_squared_error/value\", tensor_type=DT_FLOAT, _device=\"/job:localhost/replica:0/task:0/device:CPU:0\"]()]]\nHint: If you want to see a list of allocated tensors when OOM happens, add report_tensor_allocations_upon_oom to RunOptions for current allocation info.\n\n\nCaused by op 'conv3d/Conv3D', defined at:\n  File \"/usr/lib/python3.5/runpy.py\", line 184, in _run_module_as_main\n    \"__main__\", mod_spec)\n  File \"/usr/lib/python3.5/runpy.py\", line 85, in _run_code\n    exec(code, run_globals)\n  File \"/home/hadoop/.local/lib/python3.5/site-packages/ipykernel_launcher.py\", line 16, in <module>\n    app.launch_new_instance()\n  File \"/home/hadoop/.local/lib/python3.5/site-packages/traitlets/config/application.py\", line 658, in launch_instance\n    app.start()\n  File \"/home/hadoop/.local/lib/python3.5/site-packages/ipykernel/kernelapp.py\", line 486, in start\n    self.io_loop.start()\n  File \"/home/hadoop/.local/lib/python3.5/site-packages/tornado/platform/asyncio.py\", line 132, in start\n    self.asyncio_loop.run_forever()\n  File \"/usr/lib/python3.5/asyncio/base_events.py\", line 345, in run_forever\n    self._run_once()\n  File \"/usr/lib/python3.5/asyncio/base_events.py\", line 1312, in _run_once\n    handle._run()\n  File \"/usr/lib/python3.5/asyncio/events.py\", line 125, in _run\n    self._callback(*self._args)\n  File \"/home/hadoop/.local/lib/python3.5/site-packages/tornado/platform/asyncio.py\", line 122, in _handle_events\n    handler_func(fileobj, events)\n  File \"/home/hadoop/.local/lib/python3.5/site-packages/tornado/stack_context.py\", line 300, in null_wrapper\n    return fn(*args, **kwargs)\n  File \"/home/hadoop/.local/lib/python3.5/site-packages/zmq/eventloop/zmqstream.py\", line 450, in _handle_events\n    self._handle_recv()\n  File \"/home/hadoop/.local/lib/python3.5/site-packages/zmq/eventloop/zmqstream.py\", line 480, in _handle_recv\n    self._run_callback(callback, msg)\n  File \"/home/hadoop/.local/lib/python3.5/site-packages/zmq/eventloop/zmqstream.py\", line 432, in _run_callback\n    callback(*args, **kwargs)\n  File \"/home/hadoop/.local/lib/python3.5/site-packages/tornado/stack_context.py\", line 300, in null_wrapper\n    return fn(*args, **kwargs)\n  File \"/home/hadoop/.local/lib/python3.5/site-packages/ipykernel/kernelbase.py\", line 283, in dispatcher\n    return self.dispatch_shell(stream, msg)\n  File \"/home/hadoop/.local/lib/python3.5/site-packages/ipykernel/kernelbase.py\", line 233, in dispatch_shell\n    handler(stream, idents, msg)\n  File \"/home/hadoop/.local/lib/python3.5/site-packages/ipykernel/kernelbase.py\", line 399, in execute_request\n    user_expressions, allow_stdin)\n  File \"/home/hadoop/.local/lib/python3.5/site-packages/ipykernel/ipkernel.py\", line 208, in do_execute\n    res = shell.run_cell(code, store_history=store_history, silent=silent)\n  File \"/home/hadoop/.local/lib/python3.5/site-packages/ipykernel/zmqshell.py\", line 537, in run_cell\n    return super(ZMQInteractiveShell, self).run_cell(*args, **kwargs)\n  File \"/home/hadoop/.local/lib/python3.5/site-packages/IPython/core/interactiveshell.py\", line 2662, in run_cell\n    raw_cell, store_history, silent, shell_futures)\n  File \"/home/hadoop/.local/lib/python3.5/site-packages/IPython/core/interactiveshell.py\", line 2785, in _run_cell\n    interactivity=interactivity, compiler=compiler, result=result)\n  File \"/home/hadoop/.local/lib/python3.5/site-packages/IPython/core/interactiveshell.py\", line 2903, in run_ast_nodes\n    if self.run_code(code, result):\n  File \"/home/hadoop/.local/lib/python3.5/site-packages/IPython/core/interactiveshell.py\", line 2963, in run_code\n    exec(code_obj, self.user_global_ns, self.user_ns)\n  File \"<ipython-input-16-295c20355339>\", line 20, in <module>\n    network = tf.keras.layers.Conv3D(filters=1, kernel_size=(2, 1, 1), input_shape=x.shape, padding='valid', data_format='channels_last')(network)\n  File \"/usr/local/lib/python3.5/dist-packages/tensorflow/python/keras/_impl/keras/engine/topology.py\", line 258, in __call__\n    output = super(Layer, self).__call__(inputs, **kwargs)\n  File \"/usr/local/lib/python3.5/dist-packages/tensorflow/python/layers/base.py\", line 696, in __call__\n    outputs = self.call(inputs, *args, **kwargs)\n  File \"/usr/local/lib/python3.5/dist-packages/tensorflow/python/layers/convolutional.py\", line 167, in call\n    outputs = self._convolution_op(inputs, self.kernel)\n  File \"/usr/local/lib/python3.5/dist-packages/tensorflow/python/ops/nn_ops.py\", line 869, in __call__\n    return self.conv_op(inp, filter)\n  File \"/usr/local/lib/python3.5/dist-packages/tensorflow/python/ops/nn_ops.py\", line 521, in __call__\n    return self.call(inp, filter)\n  File \"/usr/local/lib/python3.5/dist-packages/tensorflow/python/ops/nn_ops.py\", line 205, in __call__\n    name=self.name)\n  File \"/usr/local/lib/python3.5/dist-packages/tensorflow/python/ops/gen_nn_ops.py\", line 888, in conv3d\n    name=name)\n  File \"/usr/local/lib/python3.5/dist-packages/tensorflow/python/framework/op_def_library.py\", line 787, in _apply_op_helper\n    op_def=op_def)\n  File \"/usr/local/lib/python3.5/dist-packages/tensorflow/python/framework/ops.py\", line 3271, in create_op\n    op_def=op_def)\n  File \"/usr/local/lib/python3.5/dist-packages/tensorflow/python/framework/ops.py\", line 1650, in __init__\n    self._traceback = self._graph._extract_stack()  # pylint: disable=protected-access\n\nResourceExhaustedError (see above for traceback): OOM when allocating tensor with shape[1,8,31,501,501] and type float on /job:localhost/replica:0/task:0/device:GPU:0 by allocator GPU_0_bfc\n\t [[Node: conv3d/Conv3D = Conv3D[T=DT_FLOAT, data_format=\"NDHWC\", dilations=[1, 1, 1, 1, 1], padding=\"VALID\", strides=[1, 1, 1, 1, 1], _device=\"/job:localhost/replica:0/task:0/device:GPU:0\"](conv_lst_m2d_1/transpose_1, conv3d/kernel/read)]]\nHint: If you want to see a list of allocated tensors when OOM happens, add report_tensor_allocations_upon_oom to RunOptions for current allocation info.\n\n\t [[Node: mean_squared_error/value/_29 = _Recv[client_terminated=false, recv_device=\"/job:localhost/replica:0/task:0/device:CPU:0\", send_device=\"/job:localhost/replica:0/task:0/device:GPU:0\", send_device_incarnation=1, tensor_name=\"edge_4391_mean_squared_error/value\", tensor_type=DT_FLOAT, _device=\"/job:localhost/replica:0/task:0/device:CPU:0\"]()]]\nHint: If you want to see a list of allocated tensors when OOM happens, add report_tensor_allocations_upon_oom to RunOptions for current allocation info.\n\n",
     "output_type": "error",
     "traceback": [
      "\u001b[0;31m---------------------------------------------------------------------------\u001b[0m",
      "\u001b[0;31mResourceExhaustedError\u001b[0m                    Traceback (most recent call last)",
      "\u001b[0;32m/usr/local/lib/python3.5/dist-packages/tensorflow/python/client/session.py\u001b[0m in \u001b[0;36m_do_call\u001b[0;34m(self, fn, *args)\u001b[0m\n\u001b[1;32m   1360\u001b[0m     \u001b[0;32mtry\u001b[0m\u001b[0;34m:\u001b[0m\u001b[0;34m\u001b[0m\u001b[0m\n\u001b[0;32m-> 1361\u001b[0;31m       \u001b[0;32mreturn\u001b[0m \u001b[0mfn\u001b[0m\u001b[0;34m(\u001b[0m\u001b[0;34m*\u001b[0m\u001b[0margs\u001b[0m\u001b[0;34m)\u001b[0m\u001b[0;34m\u001b[0m\u001b[0m\n\u001b[0m\u001b[1;32m   1362\u001b[0m     \u001b[0;32mexcept\u001b[0m \u001b[0merrors\u001b[0m\u001b[0;34m.\u001b[0m\u001b[0mOpError\u001b[0m \u001b[0;32mas\u001b[0m \u001b[0me\u001b[0m\u001b[0;34m:\u001b[0m\u001b[0;34m\u001b[0m\u001b[0m\n",
      "\u001b[0;32m/usr/local/lib/python3.5/dist-packages/tensorflow/python/client/session.py\u001b[0m in \u001b[0;36m_run_fn\u001b[0;34m(session, feed_dict, fetch_list, target_list, options, run_metadata)\u001b[0m\n\u001b[1;32m   1339\u001b[0m           return tf_session.TF_Run(session, options, feed_dict, fetch_list,\n\u001b[0;32m-> 1340\u001b[0;31m                                    target_list, status, run_metadata)\n\u001b[0m\u001b[1;32m   1341\u001b[0m \u001b[0;34m\u001b[0m\u001b[0m\n",
      "\u001b[0;32m/usr/local/lib/python3.5/dist-packages/tensorflow/python/framework/errors_impl.py\u001b[0m in \u001b[0;36m__exit__\u001b[0;34m(self, type_arg, value_arg, traceback_arg)\u001b[0m\n\u001b[1;32m    515\u001b[0m             \u001b[0mcompat\u001b[0m\u001b[0;34m.\u001b[0m\u001b[0mas_text\u001b[0m\u001b[0;34m(\u001b[0m\u001b[0mc_api\u001b[0m\u001b[0;34m.\u001b[0m\u001b[0mTF_Message\u001b[0m\u001b[0;34m(\u001b[0m\u001b[0mself\u001b[0m\u001b[0;34m.\u001b[0m\u001b[0mstatus\u001b[0m\u001b[0;34m.\u001b[0m\u001b[0mstatus\u001b[0m\u001b[0;34m)\u001b[0m\u001b[0;34m)\u001b[0m\u001b[0;34m,\u001b[0m\u001b[0;34m\u001b[0m\u001b[0m\n\u001b[0;32m--> 516\u001b[0;31m             c_api.TF_GetCode(self.status.status))\n\u001b[0m\u001b[1;32m    517\u001b[0m     \u001b[0;31m# Delete the underlying status object from memory otherwise it stays alive\u001b[0m\u001b[0;34m\u001b[0m\u001b[0;34m\u001b[0m\u001b[0m\n",
      "\u001b[0;31mResourceExhaustedError\u001b[0m: OOM when allocating tensor with shape[1,8,31,501,501] and type float on /job:localhost/replica:0/task:0/device:GPU:0 by allocator GPU_0_bfc\n\t [[Node: conv3d/Conv3D = Conv3D[T=DT_FLOAT, data_format=\"NDHWC\", dilations=[1, 1, 1, 1, 1], padding=\"VALID\", strides=[1, 1, 1, 1, 1], _device=\"/job:localhost/replica:0/task:0/device:GPU:0\"](conv_lst_m2d_1/transpose_1, conv3d/kernel/read)]]\nHint: If you want to see a list of allocated tensors when OOM happens, add report_tensor_allocations_upon_oom to RunOptions for current allocation info.\n\n\t [[Node: mean_squared_error/value/_29 = _Recv[client_terminated=false, recv_device=\"/job:localhost/replica:0/task:0/device:CPU:0\", send_device=\"/job:localhost/replica:0/task:0/device:GPU:0\", send_device_incarnation=1, tensor_name=\"edge_4391_mean_squared_error/value\", tensor_type=DT_FLOAT, _device=\"/job:localhost/replica:0/task:0/device:CPU:0\"]()]]\nHint: If you want to see a list of allocated tensors when OOM happens, add report_tensor_allocations_upon_oom to RunOptions for current allocation info.\n",
      "\nDuring handling of the above exception, another exception occurred:\n",
      "\u001b[0;31mResourceExhaustedError\u001b[0m                    Traceback (most recent call last)",
      "\u001b[0;32m<ipython-input-16-295c20355339>\u001b[0m in \u001b[0;36m<module>\u001b[0;34m()\u001b[0m\n\u001b[1;32m     41\u001b[0m         \u001b[0mfeed_dict\u001b[0m \u001b[0;34m=\u001b[0m \u001b[0;34m{\u001b[0m\u001b[0mx\u001b[0m\u001b[0;34m:\u001b[0m \u001b[0mX_train\u001b[0m\u001b[0;34m,\u001b[0m \u001b[0my_\u001b[0m\u001b[0;34m:\u001b[0m \u001b[0mY_train\u001b[0m\u001b[0;34m}\u001b[0m\u001b[0;34m\u001b[0m\u001b[0m\n\u001b[1;32m     42\u001b[0m     \u001b[0;31m#     feed_dict.update(network.all_drop)  # enable noise layers\u001b[0m\u001b[0;34m\u001b[0m\u001b[0;34m\u001b[0m\u001b[0m\n\u001b[0;32m---> 43\u001b[0;31m         \u001b[0mtrain_cost\u001b[0m\u001b[0;34m,\u001b[0m \u001b[0m_\u001b[0m \u001b[0;34m=\u001b[0m \u001b[0msess\u001b[0m\u001b[0;34m.\u001b[0m\u001b[0mrun\u001b[0m\u001b[0;34m(\u001b[0m\u001b[0;34m[\u001b[0m\u001b[0mcost\u001b[0m\u001b[0;34m,\u001b[0m \u001b[0mtrain_op\u001b[0m\u001b[0;34m]\u001b[0m\u001b[0;34m,\u001b[0m \u001b[0mfeed_dict\u001b[0m\u001b[0;34m=\u001b[0m\u001b[0mfeed_dict\u001b[0m\u001b[0;34m)\u001b[0m\u001b[0;34m\u001b[0m\u001b[0m\n\u001b[0m\u001b[1;32m     44\u001b[0m         \u001b[0msum_cost\u001b[0m \u001b[0;34m+=\u001b[0m \u001b[0mtrain_cost\u001b[0m \u001b[0;34m/\u001b[0m \u001b[0;34m(\u001b[0m\u001b[0mY_train\u001b[0m\u001b[0;34m[\u001b[0m\u001b[0;36m0\u001b[0m\u001b[0;34m]\u001b[0m\u001b[0;34m.\u001b[0m\u001b[0msum\u001b[0m\u001b[0;34m(\u001b[0m\u001b[0;34m)\u001b[0m \u001b[0;34m+\u001b[0m \u001b[0;36m251001\u001b[0m\u001b[0;34m)\u001b[0m\u001b[0;34m\u001b[0m\u001b[0m\n\u001b[1;32m     45\u001b[0m         \u001b[0;32mif\u001b[0m \u001b[0mepoch\u001b[0m \u001b[0;34m%\u001b[0m \u001b[0mprint_freq\u001b[0m \u001b[0;34m==\u001b[0m \u001b[0;36m0\u001b[0m\u001b[0;34m:\u001b[0m\u001b[0;34m\u001b[0m\u001b[0m\n",
      "\u001b[0;32m/usr/local/lib/python3.5/dist-packages/tensorflow/python/client/session.py\u001b[0m in \u001b[0;36mrun\u001b[0;34m(self, fetches, feed_dict, options, run_metadata)\u001b[0m\n\u001b[1;32m    903\u001b[0m     \u001b[0;32mtry\u001b[0m\u001b[0;34m:\u001b[0m\u001b[0;34m\u001b[0m\u001b[0m\n\u001b[1;32m    904\u001b[0m       result = self._run(None, fetches, feed_dict, options_ptr,\n\u001b[0;32m--> 905\u001b[0;31m                          run_metadata_ptr)\n\u001b[0m\u001b[1;32m    906\u001b[0m       \u001b[0;32mif\u001b[0m \u001b[0mrun_metadata\u001b[0m\u001b[0;34m:\u001b[0m\u001b[0;34m\u001b[0m\u001b[0m\n\u001b[1;32m    907\u001b[0m         \u001b[0mproto_data\u001b[0m \u001b[0;34m=\u001b[0m \u001b[0mtf_session\u001b[0m\u001b[0;34m.\u001b[0m\u001b[0mTF_GetBuffer\u001b[0m\u001b[0;34m(\u001b[0m\u001b[0mrun_metadata_ptr\u001b[0m\u001b[0;34m)\u001b[0m\u001b[0;34m\u001b[0m\u001b[0m\n",
      "\u001b[0;32m/usr/local/lib/python3.5/dist-packages/tensorflow/python/client/session.py\u001b[0m in \u001b[0;36m_run\u001b[0;34m(self, handle, fetches, feed_dict, options, run_metadata)\u001b[0m\n\u001b[1;32m   1135\u001b[0m     \u001b[0;32mif\u001b[0m \u001b[0mfinal_fetches\u001b[0m \u001b[0;32mor\u001b[0m \u001b[0mfinal_targets\u001b[0m \u001b[0;32mor\u001b[0m \u001b[0;34m(\u001b[0m\u001b[0mhandle\u001b[0m \u001b[0;32mand\u001b[0m \u001b[0mfeed_dict_tensor\u001b[0m\u001b[0;34m)\u001b[0m\u001b[0;34m:\u001b[0m\u001b[0;34m\u001b[0m\u001b[0m\n\u001b[1;32m   1136\u001b[0m       results = self._do_run(handle, final_targets, final_fetches,\n\u001b[0;32m-> 1137\u001b[0;31m                              feed_dict_tensor, options, run_metadata)\n\u001b[0m\u001b[1;32m   1138\u001b[0m     \u001b[0;32melse\u001b[0m\u001b[0;34m:\u001b[0m\u001b[0;34m\u001b[0m\u001b[0m\n\u001b[1;32m   1139\u001b[0m       \u001b[0mresults\u001b[0m \u001b[0;34m=\u001b[0m \u001b[0;34m[\u001b[0m\u001b[0;34m]\u001b[0m\u001b[0;34m\u001b[0m\u001b[0m\n",
      "\u001b[0;32m/usr/local/lib/python3.5/dist-packages/tensorflow/python/client/session.py\u001b[0m in \u001b[0;36m_do_run\u001b[0;34m(self, handle, target_list, fetch_list, feed_dict, options, run_metadata)\u001b[0m\n\u001b[1;32m   1353\u001b[0m     \u001b[0;32mif\u001b[0m \u001b[0mhandle\u001b[0m \u001b[0;32mis\u001b[0m \u001b[0;32mNone\u001b[0m\u001b[0;34m:\u001b[0m\u001b[0;34m\u001b[0m\u001b[0m\n\u001b[1;32m   1354\u001b[0m       return self._do_call(_run_fn, self._session, feeds, fetches, targets,\n\u001b[0;32m-> 1355\u001b[0;31m                            options, run_metadata)\n\u001b[0m\u001b[1;32m   1356\u001b[0m     \u001b[0;32melse\u001b[0m\u001b[0;34m:\u001b[0m\u001b[0;34m\u001b[0m\u001b[0m\n\u001b[1;32m   1357\u001b[0m       \u001b[0;32mreturn\u001b[0m \u001b[0mself\u001b[0m\u001b[0;34m.\u001b[0m\u001b[0m_do_call\u001b[0m\u001b[0;34m(\u001b[0m\u001b[0m_prun_fn\u001b[0m\u001b[0;34m,\u001b[0m \u001b[0mself\u001b[0m\u001b[0;34m.\u001b[0m\u001b[0m_session\u001b[0m\u001b[0;34m,\u001b[0m \u001b[0mhandle\u001b[0m\u001b[0;34m,\u001b[0m \u001b[0mfeeds\u001b[0m\u001b[0;34m,\u001b[0m \u001b[0mfetches\u001b[0m\u001b[0;34m)\u001b[0m\u001b[0;34m\u001b[0m\u001b[0m\n",
      "\u001b[0;32m/usr/local/lib/python3.5/dist-packages/tensorflow/python/client/session.py\u001b[0m in \u001b[0;36m_do_call\u001b[0;34m(self, fn, *args)\u001b[0m\n\u001b[1;32m   1372\u001b[0m         \u001b[0;32mexcept\u001b[0m \u001b[0mKeyError\u001b[0m\u001b[0;34m:\u001b[0m\u001b[0;34m\u001b[0m\u001b[0m\n\u001b[1;32m   1373\u001b[0m           \u001b[0;32mpass\u001b[0m\u001b[0;34m\u001b[0m\u001b[0m\n\u001b[0;32m-> 1374\u001b[0;31m       \u001b[0;32mraise\u001b[0m \u001b[0mtype\u001b[0m\u001b[0;34m(\u001b[0m\u001b[0me\u001b[0m\u001b[0;34m)\u001b[0m\u001b[0;34m(\u001b[0m\u001b[0mnode_def\u001b[0m\u001b[0;34m,\u001b[0m \u001b[0mop\u001b[0m\u001b[0;34m,\u001b[0m \u001b[0mmessage\u001b[0m\u001b[0;34m)\u001b[0m\u001b[0;34m\u001b[0m\u001b[0m\n\u001b[0m\u001b[1;32m   1375\u001b[0m \u001b[0;34m\u001b[0m\u001b[0m\n\u001b[1;32m   1376\u001b[0m   \u001b[0;32mdef\u001b[0m \u001b[0m_extend_graph\u001b[0m\u001b[0;34m(\u001b[0m\u001b[0mself\u001b[0m\u001b[0;34m)\u001b[0m\u001b[0;34m:\u001b[0m\u001b[0;34m\u001b[0m\u001b[0m\n",
      "\u001b[0;31mResourceExhaustedError\u001b[0m: OOM when allocating tensor with shape[1,8,31,501,501] and type float on /job:localhost/replica:0/task:0/device:GPU:0 by allocator GPU_0_bfc\n\t [[Node: conv3d/Conv3D = Conv3D[T=DT_FLOAT, data_format=\"NDHWC\", dilations=[1, 1, 1, 1, 1], padding=\"VALID\", strides=[1, 1, 1, 1, 1], _device=\"/job:localhost/replica:0/task:0/device:GPU:0\"](conv_lst_m2d_1/transpose_1, conv3d/kernel/read)]]\nHint: If you want to see a list of allocated tensors when OOM happens, add report_tensor_allocations_upon_oom to RunOptions for current allocation info.\n\n\t [[Node: mean_squared_error/value/_29 = _Recv[client_terminated=false, recv_device=\"/job:localhost/replica:0/task:0/device:CPU:0\", send_device=\"/job:localhost/replica:0/task:0/device:GPU:0\", send_device_incarnation=1, tensor_name=\"edge_4391_mean_squared_error/value\", tensor_type=DT_FLOAT, _device=\"/job:localhost/replica:0/task:0/device:CPU:0\"]()]]\nHint: If you want to see a list of allocated tensors when OOM happens, add report_tensor_allocations_upon_oom to RunOptions for current allocation info.\n\n\nCaused by op 'conv3d/Conv3D', defined at:\n  File \"/usr/lib/python3.5/runpy.py\", line 184, in _run_module_as_main\n    \"__main__\", mod_spec)\n  File \"/usr/lib/python3.5/runpy.py\", line 85, in _run_code\n    exec(code, run_globals)\n  File \"/home/hadoop/.local/lib/python3.5/site-packages/ipykernel_launcher.py\", line 16, in <module>\n    app.launch_new_instance()\n  File \"/home/hadoop/.local/lib/python3.5/site-packages/traitlets/config/application.py\", line 658, in launch_instance\n    app.start()\n  File \"/home/hadoop/.local/lib/python3.5/site-packages/ipykernel/kernelapp.py\", line 486, in start\n    self.io_loop.start()\n  File \"/home/hadoop/.local/lib/python3.5/site-packages/tornado/platform/asyncio.py\", line 132, in start\n    self.asyncio_loop.run_forever()\n  File \"/usr/lib/python3.5/asyncio/base_events.py\", line 345, in run_forever\n    self._run_once()\n  File \"/usr/lib/python3.5/asyncio/base_events.py\", line 1312, in _run_once\n    handle._run()\n  File \"/usr/lib/python3.5/asyncio/events.py\", line 125, in _run\n    self._callback(*self._args)\n  File \"/home/hadoop/.local/lib/python3.5/site-packages/tornado/platform/asyncio.py\", line 122, in _handle_events\n    handler_func(fileobj, events)\n  File \"/home/hadoop/.local/lib/python3.5/site-packages/tornado/stack_context.py\", line 300, in null_wrapper\n    return fn(*args, **kwargs)\n  File \"/home/hadoop/.local/lib/python3.5/site-packages/zmq/eventloop/zmqstream.py\", line 450, in _handle_events\n    self._handle_recv()\n  File \"/home/hadoop/.local/lib/python3.5/site-packages/zmq/eventloop/zmqstream.py\", line 480, in _handle_recv\n    self._run_callback(callback, msg)\n  File \"/home/hadoop/.local/lib/python3.5/site-packages/zmq/eventloop/zmqstream.py\", line 432, in _run_callback\n    callback(*args, **kwargs)\n  File \"/home/hadoop/.local/lib/python3.5/site-packages/tornado/stack_context.py\", line 300, in null_wrapper\n    return fn(*args, **kwargs)\n  File \"/home/hadoop/.local/lib/python3.5/site-packages/ipykernel/kernelbase.py\", line 283, in dispatcher\n    return self.dispatch_shell(stream, msg)\n  File \"/home/hadoop/.local/lib/python3.5/site-packages/ipykernel/kernelbase.py\", line 233, in dispatch_shell\n    handler(stream, idents, msg)\n  File \"/home/hadoop/.local/lib/python3.5/site-packages/ipykernel/kernelbase.py\", line 399, in execute_request\n    user_expressions, allow_stdin)\n  File \"/home/hadoop/.local/lib/python3.5/site-packages/ipykernel/ipkernel.py\", line 208, in do_execute\n    res = shell.run_cell(code, store_history=store_history, silent=silent)\n  File \"/home/hadoop/.local/lib/python3.5/site-packages/ipykernel/zmqshell.py\", line 537, in run_cell\n    return super(ZMQInteractiveShell, self).run_cell(*args, **kwargs)\n  File \"/home/hadoop/.local/lib/python3.5/site-packages/IPython/core/interactiveshell.py\", line 2662, in run_cell\n    raw_cell, store_history, silent, shell_futures)\n  File \"/home/hadoop/.local/lib/python3.5/site-packages/IPython/core/interactiveshell.py\", line 2785, in _run_cell\n    interactivity=interactivity, compiler=compiler, result=result)\n  File \"/home/hadoop/.local/lib/python3.5/site-packages/IPython/core/interactiveshell.py\", line 2903, in run_ast_nodes\n    if self.run_code(code, result):\n  File \"/home/hadoop/.local/lib/python3.5/site-packages/IPython/core/interactiveshell.py\", line 2963, in run_code\n    exec(code_obj, self.user_global_ns, self.user_ns)\n  File \"<ipython-input-16-295c20355339>\", line 20, in <module>\n    network = tf.keras.layers.Conv3D(filters=1, kernel_size=(2, 1, 1), input_shape=x.shape, padding='valid', data_format='channels_last')(network)\n  File \"/usr/local/lib/python3.5/dist-packages/tensorflow/python/keras/_impl/keras/engine/topology.py\", line 258, in __call__\n    output = super(Layer, self).__call__(inputs, **kwargs)\n  File \"/usr/local/lib/python3.5/dist-packages/tensorflow/python/layers/base.py\", line 696, in __call__\n    outputs = self.call(inputs, *args, **kwargs)\n  File \"/usr/local/lib/python3.5/dist-packages/tensorflow/python/layers/convolutional.py\", line 167, in call\n    outputs = self._convolution_op(inputs, self.kernel)\n  File \"/usr/local/lib/python3.5/dist-packages/tensorflow/python/ops/nn_ops.py\", line 869, in __call__\n    return self.conv_op(inp, filter)\n  File \"/usr/local/lib/python3.5/dist-packages/tensorflow/python/ops/nn_ops.py\", line 521, in __call__\n    return self.call(inp, filter)\n  File \"/usr/local/lib/python3.5/dist-packages/tensorflow/python/ops/nn_ops.py\", line 205, in __call__\n    name=self.name)\n  File \"/usr/local/lib/python3.5/dist-packages/tensorflow/python/ops/gen_nn_ops.py\", line 888, in conv3d\n    name=name)\n  File \"/usr/local/lib/python3.5/dist-packages/tensorflow/python/framework/op_def_library.py\", line 787, in _apply_op_helper\n    op_def=op_def)\n  File \"/usr/local/lib/python3.5/dist-packages/tensorflow/python/framework/ops.py\", line 3271, in create_op\n    op_def=op_def)\n  File \"/usr/local/lib/python3.5/dist-packages/tensorflow/python/framework/ops.py\", line 1650, in __init__\n    self._traceback = self._graph._extract_stack()  # pylint: disable=protected-access\n\nResourceExhaustedError (see above for traceback): OOM when allocating tensor with shape[1,8,31,501,501] and type float on /job:localhost/replica:0/task:0/device:GPU:0 by allocator GPU_0_bfc\n\t [[Node: conv3d/Conv3D = Conv3D[T=DT_FLOAT, data_format=\"NDHWC\", dilations=[1, 1, 1, 1, 1], padding=\"VALID\", strides=[1, 1, 1, 1, 1], _device=\"/job:localhost/replica:0/task:0/device:GPU:0\"](conv_lst_m2d_1/transpose_1, conv3d/kernel/read)]]\nHint: If you want to see a list of allocated tensors when OOM happens, add report_tensor_allocations_upon_oom to RunOptions for current allocation info.\n\n\t [[Node: mean_squared_error/value/_29 = _Recv[client_terminated=false, recv_device=\"/job:localhost/replica:0/task:0/device:CPU:0\", send_device=\"/job:localhost/replica:0/task:0/device:GPU:0\", send_device_incarnation=1, tensor_name=\"edge_4391_mean_squared_error/value\", tensor_type=DT_FLOAT, _device=\"/job:localhost/replica:0/task:0/device:CPU:0\"]()]]\nHint: If you want to see a list of allocated tensors when OOM happens, add report_tensor_allocations_upon_oom to RunOptions for current allocation info.\n\n"
     ]
    }
   ],
   "source": [
    "all_start_time = time.time()\n",
    "print(time.strftime('start time: %Y-%m-%d %H:%M:%S', time.localtime()))\n",
    "\n",
    "with tf.device(\"/gpu:0\"):\n",
    "    tf.reset_default_graph()\n",
    "    sess = tf.InteractiveSession()\n",
    "    # prepare data\n",
    "    # X_train, y_train, X_val, y_val, X_test, y_test = tl.files.load_mnist_dataset(shape=(-1, 784))\n",
    "\n",
    "    # define placeholder\n",
    "    x = tf.placeholder(tf.float32, shape=[None, 31, 501, 501, 1], name='x')\n",
    "    y_ = tf.placeholder(tf.float32, shape=[None, 30, 501, 501, 1], name='y_')\n",
    "\n",
    "    # define the network\n",
    "    # network = tl.layers.InputLayer(x, name='input')\n",
    "    network = x\n",
    "    network = tf.keras.layers.ConvLSTM2D(filters=8, kernel_size=(3, 3), input_shape=x.shape, padding='same', return_sequences=True)(network)\n",
    "    network = tf.keras.layers.ConvLSTM2D(filters=8, kernel_size=(3, 3), input_shape=x.shape, padding='same', return_sequences=True)(network)\n",
    "    # network = tf.keras.layers.ConvLSTM2D(filters=16, kernel_size=(3, 3), input_shape=x.shape, padding='same', return_sequences=True)(network)\n",
    "    network = tf.keras.layers.Conv3D(filters=1, kernel_size=(2, 1, 1), input_shape=x.shape, padding='valid', data_format='channels_last')(network)\n",
    "\n",
    "    y = network\n",
    "    # cost = tf.losses.mean_squared_error(y, y_, weights=y_)\n",
    "    cost = tf.losses.mean_squared_error(y, y_)\n",
    "\n",
    "    # define the optimizer\n",
    "    # train_params = network.all_params\n",
    "    # train_op = tf.train.AdamOptimizer(learning_rate=0.01).minimize(cost, var_list=train_params)\n",
    "    train_op = tf.train.AdamOptimizer(learning_rate=0.001).minimize(cost)\n",
    "\n",
    "    # initialize all variables in the session\n",
    "    tl.layers.initialize_global_variables(sess)\n",
    "\n",
    "    n_epoch = 100\n",
    "    batch_size = 1\n",
    "    print_freq = 5\n",
    "    sum_cost = 0\n",
    "\n",
    "    X_train, Y_train = read_by_RAD_id(RAD_id_list[0], 5)\n",
    "    for epoch in range(n_epoch):\n",
    "        feed_dict = {x: X_train, y_: Y_train}\n",
    "    #     feed_dict.update(network.all_drop)  # enable noise layers\n",
    "        train_cost, _ = sess.run([cost, train_op], feed_dict=feed_dict)\n",
    "        sum_cost += train_cost / (Y_train[0].sum() + 251001)\n",
    "        if epoch % print_freq == 0:\n",
    "            print('%3d'%epoch, time.strftime('%H:%M:%S', time.gmtime(time.time() - all_start_time)), '%5.5f'%(sum_cost * 10 ** 10))\n",
    "        sum_cost = 0\n",
    "    print(time.strftime('end time: %Y-%m-%d %H:%M:%S', time.localtime()))\n",
    "    print(time.strftime('%H:%M:%S', time.gmtime(time.time() - all_start_time)))"
   ]
  },
  {
   "cell_type": "code",
   "execution_count": 45,
   "metadata": {},
   "outputs": [
    {
     "data": {
      "text/plain": [
       "92.8589450596"
      ]
     },
     "execution_count": 45,
     "metadata": {},
     "output_type": "execute_result"
    }
   ],
   "source": [
    "0.00000000928589450596 * 10 ** 10"
   ]
  },
  {
   "cell_type": "code",
   "execution_count": 37,
   "metadata": {},
   "outputs": [
    {
     "data": {
      "text/plain": [
       "[array([[[[-0.0125],\n",
       "          [-0.0125],\n",
       "          [-0.0125],\n",
       "          ...,\n",
       "          [-0.0125],\n",
       "          [-0.0125],\n",
       "          [-0.0125]],\n",
       " \n",
       "         [[-0.0125],\n",
       "          [-0.0125],\n",
       "          [-0.0125],\n",
       "          ...,\n",
       "          [-0.0125],\n",
       "          [-0.0125],\n",
       "          [-0.0125]],\n",
       " \n",
       "         [[-0.0125],\n",
       "          [-0.0125],\n",
       "          [-0.0125],\n",
       "          ...,\n",
       "          [-0.0125],\n",
       "          [-0.0125],\n",
       "          [-0.0125]],\n",
       " \n",
       "         ...,\n",
       " \n",
       "         [[-0.0125],\n",
       "          [-0.0125],\n",
       "          [-0.0125],\n",
       "          ...,\n",
       "          [-0.0125],\n",
       "          [-0.0125],\n",
       "          [-0.0125]],\n",
       " \n",
       "         [[-0.0125],\n",
       "          [-0.0125],\n",
       "          [-0.0125],\n",
       "          ...,\n",
       "          [-0.0125],\n",
       "          [-0.0125],\n",
       "          [-0.0125]],\n",
       " \n",
       "         [[-0.0125],\n",
       "          [-0.0125],\n",
       "          [-0.0125],\n",
       "          ...,\n",
       "          [-0.0125],\n",
       "          [-0.0125],\n",
       "          [-0.0125]]],\n",
       " \n",
       " \n",
       "        [[[-0.0125],\n",
       "          [-0.0125],\n",
       "          [-0.0125],\n",
       "          ...,\n",
       "          [-0.0125],\n",
       "          [-0.0125],\n",
       "          [-0.0125]],\n",
       " \n",
       "         [[-0.0125],\n",
       "          [-0.0125],\n",
       "          [-0.0125],\n",
       "          ...,\n",
       "          [-0.0125],\n",
       "          [-0.0125],\n",
       "          [-0.0125]],\n",
       " \n",
       "         [[-0.0125],\n",
       "          [-0.0125],\n",
       "          [-0.0125],\n",
       "          ...,\n",
       "          [-0.0125],\n",
       "          [-0.0125],\n",
       "          [-0.0125]],\n",
       " \n",
       "         ...,\n",
       " \n",
       "         [[-0.0125],\n",
       "          [-0.0125],\n",
       "          [-0.0125],\n",
       "          ...,\n",
       "          [-0.0125],\n",
       "          [-0.0125],\n",
       "          [-0.0125]],\n",
       " \n",
       "         [[-0.0125],\n",
       "          [-0.0125],\n",
       "          [-0.0125],\n",
       "          ...,\n",
       "          [-0.0125],\n",
       "          [-0.0125],\n",
       "          [-0.0125]],\n",
       " \n",
       "         [[-0.0125],\n",
       "          [-0.0125],\n",
       "          [-0.0125],\n",
       "          ...,\n",
       "          [-0.0125],\n",
       "          [-0.0125],\n",
       "          [-0.0125]]],\n",
       " \n",
       " \n",
       "        [[[-0.0125],\n",
       "          [-0.0125],\n",
       "          [-0.0125],\n",
       "          ...,\n",
       "          [-0.0125],\n",
       "          [-0.0125],\n",
       "          [-0.0125]],\n",
       " \n",
       "         [[-0.0125],\n",
       "          [-0.0125],\n",
       "          [-0.0125],\n",
       "          ...,\n",
       "          [-0.0125],\n",
       "          [-0.0125],\n",
       "          [-0.0125]],\n",
       " \n",
       "         [[-0.0125],\n",
       "          [-0.0125],\n",
       "          [-0.0125],\n",
       "          ...,\n",
       "          [-0.0125],\n",
       "          [-0.0125],\n",
       "          [-0.0125]],\n",
       " \n",
       "         ...,\n",
       " \n",
       "         [[-0.0125],\n",
       "          [-0.0125],\n",
       "          [-0.0125],\n",
       "          ...,\n",
       "          [-0.0125],\n",
       "          [-0.0125],\n",
       "          [-0.0125]],\n",
       " \n",
       "         [[-0.0125],\n",
       "          [-0.0125],\n",
       "          [-0.0125],\n",
       "          ...,\n",
       "          [-0.0125],\n",
       "          [-0.0125],\n",
       "          [-0.0125]],\n",
       " \n",
       "         [[-0.0125],\n",
       "          [-0.0125],\n",
       "          [-0.0125],\n",
       "          ...,\n",
       "          [-0.0125],\n",
       "          [-0.0125],\n",
       "          [-0.0125]]],\n",
       " \n",
       " \n",
       "        ...,\n",
       " \n",
       " \n",
       "        [[[-0.0125],\n",
       "          [-0.0125],\n",
       "          [-0.0125],\n",
       "          ...,\n",
       "          [-0.0125],\n",
       "          [-0.0125],\n",
       "          [-0.0125]],\n",
       " \n",
       "         [[-0.0125],\n",
       "          [-0.0125],\n",
       "          [-0.0125],\n",
       "          ...,\n",
       "          [-0.0125],\n",
       "          [-0.0125],\n",
       "          [-0.0125]],\n",
       " \n",
       "         [[-0.0125],\n",
       "          [-0.0125],\n",
       "          [-0.0125],\n",
       "          ...,\n",
       "          [-0.0125],\n",
       "          [-0.0125],\n",
       "          [-0.0125]],\n",
       " \n",
       "         ...,\n",
       " \n",
       "         [[-0.0125],\n",
       "          [-0.0125],\n",
       "          [-0.0125],\n",
       "          ...,\n",
       "          [-0.0125],\n",
       "          [-0.0125],\n",
       "          [-0.0125]],\n",
       " \n",
       "         [[-0.0125],\n",
       "          [-0.0125],\n",
       "          [-0.0125],\n",
       "          ...,\n",
       "          [-0.0125],\n",
       "          [-0.0125],\n",
       "          [-0.0125]],\n",
       " \n",
       "         [[-0.0125],\n",
       "          [-0.0125],\n",
       "          [-0.0125],\n",
       "          ...,\n",
       "          [-0.0125],\n",
       "          [-0.0125],\n",
       "          [-0.0125]]],\n",
       " \n",
       " \n",
       "        [[[-0.0125],\n",
       "          [-0.0125],\n",
       "          [-0.0125],\n",
       "          ...,\n",
       "          [-0.0125],\n",
       "          [-0.0125],\n",
       "          [-0.0125]],\n",
       " \n",
       "         [[-0.0125],\n",
       "          [-0.0125],\n",
       "          [-0.0125],\n",
       "          ...,\n",
       "          [-0.0125],\n",
       "          [-0.0125],\n",
       "          [-0.0125]],\n",
       " \n",
       "         [[-0.0125],\n",
       "          [-0.0125],\n",
       "          [-0.0125],\n",
       "          ...,\n",
       "          [-0.0125],\n",
       "          [-0.0125],\n",
       "          [-0.0125]],\n",
       " \n",
       "         ...,\n",
       " \n",
       "         [[-0.0125],\n",
       "          [-0.0125],\n",
       "          [-0.0125],\n",
       "          ...,\n",
       "          [-0.0125],\n",
       "          [-0.0125],\n",
       "          [-0.0125]],\n",
       " \n",
       "         [[-0.0125],\n",
       "          [-0.0125],\n",
       "          [-0.0125],\n",
       "          ...,\n",
       "          [-0.0125],\n",
       "          [-0.0125],\n",
       "          [-0.0125]],\n",
       " \n",
       "         [[-0.0125],\n",
       "          [-0.0125],\n",
       "          [-0.0125],\n",
       "          ...,\n",
       "          [-0.0125],\n",
       "          [-0.0125],\n",
       "          [-0.0125]]],\n",
       " \n",
       " \n",
       "        [[[-0.0125],\n",
       "          [-0.0125],\n",
       "          [-0.0125],\n",
       "          ...,\n",
       "          [-0.0125],\n",
       "          [-0.0125],\n",
       "          [-0.0125]],\n",
       " \n",
       "         [[-0.0125],\n",
       "          [-0.0125],\n",
       "          [-0.0125],\n",
       "          ...,\n",
       "          [-0.0125],\n",
       "          [-0.0125],\n",
       "          [-0.0125]],\n",
       " \n",
       "         [[-0.0125],\n",
       "          [-0.0125],\n",
       "          [-0.0125],\n",
       "          ...,\n",
       "          [-0.0125],\n",
       "          [-0.0125],\n",
       "          [-0.0125]],\n",
       " \n",
       "         ...,\n",
       " \n",
       "         [[-0.0125],\n",
       "          [-0.0125],\n",
       "          [-0.0125],\n",
       "          ...,\n",
       "          [-0.0125],\n",
       "          [-0.0125],\n",
       "          [-0.0125]],\n",
       " \n",
       "         [[-0.0125],\n",
       "          [-0.0125],\n",
       "          [-0.0125],\n",
       "          ...,\n",
       "          [-0.0125],\n",
       "          [-0.0125],\n",
       "          [-0.0125]],\n",
       " \n",
       "         [[-0.0125],\n",
       "          [-0.0125],\n",
       "          [-0.0125],\n",
       "          ...,\n",
       "          [-0.0125],\n",
       "          [-0.0125],\n",
       "          [-0.0125]]]])]"
      ]
     },
     "execution_count": 37,
     "metadata": {},
     "output_type": "execute_result"
    }
   ],
   "source": [
    "X_train"
   ]
  },
  {
   "cell_type": "code",
   "execution_count": null,
   "metadata": {},
   "outputs": [],
   "source": [
    "a = tf.zeros([1, 2], dtype=tf.float32)"
   ]
  },
  {
   "cell_type": "code",
   "execution_count": null,
   "metadata": {},
   "outputs": [],
   "source": [
    "Y_train[0][0].reshape((501, 501))"
   ]
  },
  {
   "cell_type": "code",
   "execution_count": null,
   "metadata": {},
   "outputs": [],
   "source": [
    "plt.imshow(Y_train[0][0].reshape((501, 501)), cmap=cm.gist_ncar_r)"
   ]
  },
  {
   "cell_type": "code",
   "execution_count": null,
   "metadata": {},
   "outputs": [],
   "source": [
    "tl.utils.predict(sess, network, x_train, x, y_op)"
   ]
  },
  {
   "cell_type": "code",
   "execution_count": 15,
   "metadata": {},
   "outputs": [
    {
     "data": {
      "text/plain": [
       "<tf.Tensor 'conv3d/BiasAdd:0' shape=(?, ?, 501, 501, 1) dtype=float32>"
      ]
     },
     "execution_count": 15,
     "metadata": {},
     "output_type": "execute_result"
    }
   ],
   "source": [
    "network"
   ]
  },
  {
   "cell_type": "code",
   "execution_count": 55,
   "metadata": {},
   "outputs": [
    {
     "data": {
      "image/png": "[encoded data removed]",
      "text/plain": [
       "<Figure size 432x288 with 1 Axes>"
      ]
     },
     "metadata": {},
     "output_type": "display_data"
    },
    {
     "name": "stdout",
     "output_type": "stream",
     "text": [
      "↓↓↓下面的是模型的0输出，上面的是0真实值↑↑↑\n"
     ]
    },
    {
     "data": {
      "image/png": "[encoded data removed]",
      "text/plain": [
       "<Figure size 432x288 with 1 Axes>"
      ]
     },
     "metadata": {},
     "output_type": "display_data"
    },
    {
     "name": "stdout",
     "output_type": "stream",
     "text": [
      "\n",
      "------------------------------------\n",
      "\n"
     ]
    },
    {
     "data": {
      "image/png": "[encoded data removed]",
      "text/plain": [
       "<Figure size 432x288 with 1 Axes>"
      ]
     },
     "metadata": {},
     "output_type": "display_data"
    },
    {
     "name": "stdout",
     "output_type": "stream",
     "text": [
      "↓↓↓下面的是模型的5输出，上面的是5真实值↑↑↑\n"
     ]
    },
    {
     "data": {
      "image/png": "[encoded data removed]",
      "text/plain": [
       "<Figure size 432x288 with 1 Axes>"
      ]
     },
     "metadata": {},
     "output_type": "display_data"
    },
    {
     "name": "stdout",
     "output_type": "stream",
     "text": [
      "\n",
      "------------------------------------\n",
      "\n"
     ]
    },
    {
     "data": {
      "image/png": "[encoded data removed]",
      "text/plain": [
       "<Figure size 432x288 with 1 Axes>"
      ]
     },
     "metadata": {},
     "output_type": "display_data"
    },
    {
     "name": "stdout",
     "output_type": "stream",
     "text": [
      "↓↓↓下面的是模型的10输出，上面的是10真实值↑↑↑\n"
     ]
    },
    {
     "data": {
      "image/png": "[encoded data removed]",
      "text/plain": [
       "<Figure size 432x288 with 1 Axes>"
      ]
     },
     "metadata": {},
     "output_type": "display_data"
    },
    {
     "name": "stdout",
     "output_type": "stream",
     "text": [
      "\n",
      "------------------------------------\n",
      "\n"
     ]
    },
    {
     "data": {
      "image/png": "[encoded data removed]",
      "text/plain": [
       "<Figure size 432x288 with 1 Axes>"
      ]
     },
     "metadata": {},
     "output_type": "display_data"
    },
    {
     "name": "stdout",
     "output_type": "stream",
     "text": [
      "↓↓↓下面的是模型的15输出，上面的是15真实值↑↑↑\n"
     ]
    },
    {
     "data": {
      "image/png": "[encoded data removed]",
      "text/plain": [
       "<Figure size 432x288 with 1 Axes>"
      ]
     },
     "metadata": {},
     "output_type": "display_data"
    },
    {
     "name": "stdout",
     "output_type": "stream",
     "text": [
      "\n",
      "------------------------------------\n",
      "\n"
     ]
    },
    {
     "data": {
      "image/png": "[encoded data removed]",
      "text/plain": [
       "<Figure size 432x288 with 1 Axes>"
      ]
     },
     "metadata": {},
     "output_type": "display_data"
    },
    {
     "name": "stdout",
     "output_type": "stream",
     "text": [
      "↓↓↓下面的是模型的20输出，上面的是20真实值↑↑↑\n"
     ]
    },
    {
     "data": {
      "image/png": "[encoded data removed]",
      "text/plain": [
       "<Figure size 432x288 with 1 Axes>"
      ]
     },
     "metadata": {},
     "output_type": "display_data"
    },
    {
     "name": "stdout",
     "output_type": "stream",
     "text": [
      "\n",
      "------------------------------------\n",
      "\n"
     ]
    },
    {
     "data": {
      "image/png": "[encoded data removed]",
      "text/plain": [
       "<Figure size 432x288 with 1 Axes>"
      ]
     },
     "metadata": {},
     "output_type": "display_data"
    },
    {
     "name": "stdout",
     "output_type": "stream",
     "text": [
      "↓↓↓下面的是模型的25输出，上面的是25真实值↑↑↑\n"
     ]
    },
    {
     "data": {
      "image/png": "[encoded data removed]",
      "text/plain": [
       "<Figure size 432x288 with 1 Axes>"
      ]
     },
     "metadata": {},
     "output_type": "display_data"
    },
    {
     "name": "stdout",
     "output_type": "stream",
     "text": [
      "\n",
      "------------------------------------\n",
      "\n"
     ]
    }
   ],
   "source": [
    "feed_dict = {x: X_train}\n",
    "prediction = sess.run(y, feed_dict=feed_dict)\n",
    "prediction = prediction[0] * SCALAR\n",
    "Y_validation = Y_train[0] * SCALAR\n",
    "for j in range(0, 30, 5):\n",
    "    plt.imshow(Y_validation[j].reshape((501,501)), cmap=cm.gist_ncar_r)\n",
    "    plt.show()\n",
    "    print('↓↓↓下面的是模型的%d输出，上面的是%d真实值↑↑↑' % (j, j))\n",
    "    prediction[j] = np.where(prediction[j]<3, -1, prediction[j])\n",
    "    plt.imshow(prediction[j].reshape((501,501)), cmap=cm.gist_ncar_r)\n",
    "    plt.show()\n",
    "    print('\\n------------------------------------\\n')"
   ]
  },
  {
   "cell_type": "code",
   "execution_count": 21,
   "metadata": {},
   "outputs": [
    {
     "data": {
      "text/plain": [
       "(30, 501, 501, 1)"
      ]
     },
     "execution_count": 21,
     "metadata": {},
     "output_type": "execute_result"
    }
   ],
   "source": [
    "Y_train[0].shape"
   ]
  },
  {
   "cell_type": "code",
   "execution_count": 39,
   "metadata": {},
   "outputs": [
    {
     "data": {
      "text/plain": [
       "array([[[[-1.],\n",
       "         [-1.],\n",
       "         [-1.],\n",
       "         ...,\n",
       "         [-1.],\n",
       "         [-1.],\n",
       "         [-1.]],\n",
       "\n",
       "        [[-1.],\n",
       "         [-1.],\n",
       "         [-1.],\n",
       "         ...,\n",
       "         [-1.],\n",
       "         [-1.],\n",
       "         [-1.]],\n",
       "\n",
       "        [[-1.],\n",
       "         [-1.],\n",
       "         [-1.],\n",
       "         ...,\n",
       "         [-1.],\n",
       "         [-1.],\n",
       "         [-1.]],\n",
       "\n",
       "        ...,\n",
       "\n",
       "        [[-1.],\n",
       "         [-1.],\n",
       "         [-1.],\n",
       "         ...,\n",
       "         [-1.],\n",
       "         [-1.],\n",
       "         [-1.]],\n",
       "\n",
       "        [[-1.],\n",
       "         [-1.],\n",
       "         [-1.],\n",
       "         ...,\n",
       "         [-1.],\n",
       "         [-1.],\n",
       "         [-1.]],\n",
       "\n",
       "        [[-1.],\n",
       "         [-1.],\n",
       "         [-1.],\n",
       "         ...,\n",
       "         [-1.],\n",
       "         [-1.],\n",
       "         [-1.]]],\n",
       "\n",
       "\n",
       "       [[[-1.],\n",
       "         [-1.],\n",
       "         [-1.],\n",
       "         ...,\n",
       "         [-1.],\n",
       "         [-1.],\n",
       "         [-1.]],\n",
       "\n",
       "        [[-1.],\n",
       "         [-1.],\n",
       "         [-1.],\n",
       "         ...,\n",
       "         [-1.],\n",
       "         [-1.],\n",
       "         [-1.]],\n",
       "\n",
       "        [[-1.],\n",
       "         [-1.],\n",
       "         [-1.],\n",
       "         ...,\n",
       "         [-1.],\n",
       "         [-1.],\n",
       "         [-1.]],\n",
       "\n",
       "        ...,\n",
       "\n",
       "        [[-1.],\n",
       "         [-1.],\n",
       "         [-1.],\n",
       "         ...,\n",
       "         [-1.],\n",
       "         [-1.],\n",
       "         [-1.]],\n",
       "\n",
       "        [[-1.],\n",
       "         [-1.],\n",
       "         [-1.],\n",
       "         ...,\n",
       "         [-1.],\n",
       "         [-1.],\n",
       "         [-1.]],\n",
       "\n",
       "        [[-1.],\n",
       "         [-1.],\n",
       "         [-1.],\n",
       "         ...,\n",
       "         [-1.],\n",
       "         [-1.],\n",
       "         [-1.]]],\n",
       "\n",
       "\n",
       "       [[[-1.],\n",
       "         [-1.],\n",
       "         [-1.],\n",
       "         ...,\n",
       "         [-1.],\n",
       "         [-1.],\n",
       "         [-1.]],\n",
       "\n",
       "        [[-1.],\n",
       "         [-1.],\n",
       "         [-1.],\n",
       "         ...,\n",
       "         [-1.],\n",
       "         [-1.],\n",
       "         [-1.]],\n",
       "\n",
       "        [[-1.],\n",
       "         [-1.],\n",
       "         [-1.],\n",
       "         ...,\n",
       "         [-1.],\n",
       "         [-1.],\n",
       "         [-1.]],\n",
       "\n",
       "        ...,\n",
       "\n",
       "        [[-1.],\n",
       "         [-1.],\n",
       "         [-1.],\n",
       "         ...,\n",
       "         [-1.],\n",
       "         [-1.],\n",
       "         [-1.]],\n",
       "\n",
       "        [[-1.],\n",
       "         [-1.],\n",
       "         [-1.],\n",
       "         ...,\n",
       "         [-1.],\n",
       "         [-1.],\n",
       "         [-1.]],\n",
       "\n",
       "        [[-1.],\n",
       "         [-1.],\n",
       "         [-1.],\n",
       "         ...,\n",
       "         [-1.],\n",
       "         [-1.],\n",
       "         [-1.]]],\n",
       "\n",
       "\n",
       "       ...,\n",
       "\n",
       "\n",
       "       [[[-1.],\n",
       "         [-1.],\n",
       "         [-1.],\n",
       "         ...,\n",
       "         [-1.],\n",
       "         [-1.],\n",
       "         [-1.]],\n",
       "\n",
       "        [[-1.],\n",
       "         [-1.],\n",
       "         [-1.],\n",
       "         ...,\n",
       "         [-1.],\n",
       "         [-1.],\n",
       "         [-1.]],\n",
       "\n",
       "        [[-1.],\n",
       "         [-1.],\n",
       "         [-1.],\n",
       "         ...,\n",
       "         [-1.],\n",
       "         [-1.],\n",
       "         [-1.]],\n",
       "\n",
       "        ...,\n",
       "\n",
       "        [[-1.],\n",
       "         [-1.],\n",
       "         [-1.],\n",
       "         ...,\n",
       "         [-1.],\n",
       "         [-1.],\n",
       "         [-1.]],\n",
       "\n",
       "        [[-1.],\n",
       "         [-1.],\n",
       "         [-1.],\n",
       "         ...,\n",
       "         [-1.],\n",
       "         [-1.],\n",
       "         [-1.]],\n",
       "\n",
       "        [[-1.],\n",
       "         [-1.],\n",
       "         [-1.],\n",
       "         ...,\n",
       "         [-1.],\n",
       "         [-1.],\n",
       "         [-1.]]],\n",
       "\n",
       "\n",
       "       [[[-1.],\n",
       "         [-1.],\n",
       "         [-1.],\n",
       "         ...,\n",
       "         [-1.],\n",
       "         [-1.],\n",
       "         [-1.]],\n",
       "\n",
       "        [[-1.],\n",
       "         [-1.],\n",
       "         [-1.],\n",
       "         ...,\n",
       "         [-1.],\n",
       "         [-1.],\n",
       "         [-1.]],\n",
       "\n",
       "        [[-1.],\n",
       "         [-1.],\n",
       "         [-1.],\n",
       "         ...,\n",
       "         [-1.],\n",
       "         [-1.],\n",
       "         [-1.]],\n",
       "\n",
       "        ...,\n",
       "\n",
       "        [[-1.],\n",
       "         [-1.],\n",
       "         [-1.],\n",
       "         ...,\n",
       "         [-1.],\n",
       "         [-1.],\n",
       "         [-1.]],\n",
       "\n",
       "        [[-1.],\n",
       "         [-1.],\n",
       "         [-1.],\n",
       "         ...,\n",
       "         [-1.],\n",
       "         [-1.],\n",
       "         [-1.]],\n",
       "\n",
       "        [[-1.],\n",
       "         [-1.],\n",
       "         [-1.],\n",
       "         ...,\n",
       "         [-1.],\n",
       "         [-1.],\n",
       "         [-1.]]],\n",
       "\n",
       "\n",
       "       [[[-1.],\n",
       "         [-1.],\n",
       "         [-1.],\n",
       "         ...,\n",
       "         [-1.],\n",
       "         [-1.],\n",
       "         [-1.]],\n",
       "\n",
       "        [[-1.],\n",
       "         [-1.],\n",
       "         [-1.],\n",
       "         ...,\n",
       "         [-1.],\n",
       "         [-1.],\n",
       "         [-1.]],\n",
       "\n",
       "        [[-1.],\n",
       "         [-1.],\n",
       "         [-1.],\n",
       "         ...,\n",
       "         [-1.],\n",
       "         [-1.],\n",
       "         [-1.]],\n",
       "\n",
       "        ...,\n",
       "\n",
       "        [[-1.],\n",
       "         [-1.],\n",
       "         [-1.],\n",
       "         ...,\n",
       "         [-1.],\n",
       "         [-1.],\n",
       "         [-1.]],\n",
       "\n",
       "        [[-1.],\n",
       "         [-1.],\n",
       "         [-1.],\n",
       "         ...,\n",
       "         [-1.],\n",
       "         [-1.],\n",
       "         [-1.]],\n",
       "\n",
       "        [[-1.],\n",
       "         [-1.],\n",
       "         [-1.],\n",
       "         ...,\n",
       "         [-1.],\n",
       "         [-1.],\n",
       "         [-1.]]]])"
      ]
     },
     "execution_count": 39,
     "metadata": {},
     "output_type": "execute_result"
    }
   ],
   "source": [
    "Y_validation"
   ]
  },
  {
   "cell_type": "code",
   "execution_count": 43,
   "metadata": {},
   "outputs": [
    {
     "data": {
      "text/plain": [
       "<matplotlib.axes._subplots.AxesSubplot at 0x7f28b8fd5dd8>"
      ]
     },
     "execution_count": 43,
     "metadata": {},
     "output_type": "execute_result"
    },
    {
     "data": {
      "image/png": "[encoded data removed]",
      "text/plain": [
       "<Figure size 432x288 with 1 Axes>"
      ]
     },
     "metadata": {},
     "output_type": "display_data"
    }
   ],
   "source": [
    "sns.distplot(prediction.ravel())"
   ]
  },
  {
   "cell_type": "code",
   "execution_count": 40,
   "metadata": {},
   "outputs": [
    {
     "data": {
      "text/plain": [
       "array([[[[-1.1189725 ],\n",
       "         [-1.1540542 ],\n",
       "         [-1.1454688 ],\n",
       "         ...,\n",
       "         [-1.1454688 ],\n",
       "         [-1.1513419 ],\n",
       "         [-1.2399669 ]],\n",
       "\n",
       "        [[-1.1237689 ],\n",
       "         [-1.1165576 ],\n",
       "         [-1.1050597 ],\n",
       "         ...,\n",
       "         [-1.1050597 ],\n",
       "         [-1.1159664 ],\n",
       "         [-1.1628034 ]],\n",
       "\n",
       "        [[-1.1160605 ],\n",
       "         [-1.105125  ],\n",
       "         [-1.092862  ],\n",
       "         ...,\n",
       "         [-1.092862  ],\n",
       "         [-1.1074526 ],\n",
       "         [-1.1563879 ]],\n",
       "\n",
       "        ...,\n",
       "\n",
       "        [[-1.1160605 ],\n",
       "         [-1.105125  ],\n",
       "         [-1.092862  ],\n",
       "         ...,\n",
       "         [-1.092862  ],\n",
       "         [-1.1074526 ],\n",
       "         [-1.1563879 ]],\n",
       "\n",
       "        [[-1.1280261 ],\n",
       "         [-1.1232722 ],\n",
       "         [-1.1128824 ],\n",
       "         ...,\n",
       "         [-1.1128824 ],\n",
       "         [-1.1245651 ],\n",
       "         [-1.1660296 ]],\n",
       "\n",
       "        [[-1.1701331 ],\n",
       "         [-1.1364694 ],\n",
       "         [-1.1312935 ],\n",
       "         ...,\n",
       "         [-1.1312935 ],\n",
       "         [-1.1410613 ],\n",
       "         [-1.1268951 ]]],\n",
       "\n",
       "\n",
       "       [[[-1.2445129 ],\n",
       "         [-1.2092615 ],\n",
       "         [-1.2157704 ],\n",
       "         ...,\n",
       "         [-1.215374  ],\n",
       "         [-1.184342  ],\n",
       "         [-1.3048714 ]],\n",
       "\n",
       "        [[-1.1914932 ],\n",
       "         [-1.1118927 ],\n",
       "         [-1.1311345 ],\n",
       "         ...,\n",
       "         [-1.1314878 ],\n",
       "         [-1.1076152 ],\n",
       "         [-1.1875281 ]],\n",
       "\n",
       "        [[-1.2012062 ],\n",
       "         [-1.1427997 ],\n",
       "         [-1.1690868 ],\n",
       "         ...,\n",
       "         [-1.169666  ],\n",
       "         [-1.1517171 ],\n",
       "         [-1.2253246 ]],\n",
       "\n",
       "        ...,\n",
       "\n",
       "        [[-1.1964291 ],\n",
       "         [-1.1364522 ],\n",
       "         [-1.162636  ],\n",
       "         ...,\n",
       "         [-1.1635879 ],\n",
       "         [-1.146952  ],\n",
       "         [-1.2237225 ]],\n",
       "\n",
       "        [[-1.1673511 ],\n",
       "         [-1.0965359 ],\n",
       "         [-1.1224614 ],\n",
       "         ...,\n",
       "         [-1.1234039 ],\n",
       "         [-1.1164242 ],\n",
       "         [-1.2116803 ]],\n",
       "\n",
       "        [[-1.2581215 ],\n",
       "         [-1.1746073 ],\n",
       "         [-1.1931657 ],\n",
       "         ...,\n",
       "         [-1.1944788 ],\n",
       "         [-1.207735  ],\n",
       "         [-1.2235075 ]]],\n",
       "\n",
       "\n",
       "       [[[-1.2474324 ],\n",
       "         [-1.1749972 ],\n",
       "         [-1.1973276 ],\n",
       "         ...,\n",
       "         [-1.199963  ],\n",
       "         [-1.1562659 ],\n",
       "         [-1.3230429 ]],\n",
       "\n",
       "        [[-1.1429685 ],\n",
       "         [-1.0285378 ],\n",
       "         [-1.0676608 ],\n",
       "         ...,\n",
       "         [-1.066186  ],\n",
       "         [-1.0259929 ],\n",
       "         [-1.169702  ]],\n",
       "\n",
       "        [[-1.1777048 ],\n",
       "         [-1.0894655 ],\n",
       "         [-1.1311494 ],\n",
       "         ...,\n",
       "         [-1.1265177 ],\n",
       "         [-1.0927392 ],\n",
       "         [-1.2189927 ]],\n",
       "\n",
       "        ...,\n",
       "\n",
       "        [[-1.1832696 ],\n",
       "         [-1.0931599 ],\n",
       "         [-1.1333055 ],\n",
       "         ...,\n",
       "         [-1.126285  ],\n",
       "         [-1.0884618 ],\n",
       "         [-1.21259   ]],\n",
       "\n",
       "        [[-1.1388638 ],\n",
       "         [-1.0290732 ],\n",
       "         [-1.0728967 ],\n",
       "         ...,\n",
       "         [-1.0643721 ],\n",
       "         [-1.037393  ],\n",
       "         [-1.186692  ]],\n",
       "\n",
       "        [[-1.2820361 ],\n",
       "         [-1.157687  ],\n",
       "         [-1.1832485 ],\n",
       "         ...,\n",
       "         [-1.1756732 ],\n",
       "         [-1.17876   ],\n",
       "         [-1.2129568 ]]],\n",
       "\n",
       "\n",
       "       ...,\n",
       "\n",
       "\n",
       "       [[[-0.5922561 ],\n",
       "         [-0.16342096],\n",
       "         [ 0.02834409],\n",
       "         ...,\n",
       "         [ 0.01545429],\n",
       "         [-0.14158025],\n",
       "         [-0.80690634]],\n",
       "\n",
       "        [[-0.20794407],\n",
       "         [ 0.6367748 ],\n",
       "         [ 1.0002198 ],\n",
       "         ...,\n",
       "         [ 1.1682469 ],\n",
       "         [ 1.025743  ],\n",
       "         [ 0.14397688]],\n",
       "\n",
       "        [[-0.30047566],\n",
       "         [ 0.6616008 ],\n",
       "         [ 1.0705462 ],\n",
       "         ...,\n",
       "         [ 1.303309  ],\n",
       "         [ 1.1492028 ],\n",
       "         [ 0.35567915]],\n",
       "\n",
       "        ...,\n",
       "\n",
       "        [[-0.43813866],\n",
       "         [ 0.59221476],\n",
       "         [ 1.0024071 ],\n",
       "         ...,\n",
       "         [ 1.3738749 ],\n",
       "         [ 1.2406868 ],\n",
       "         [ 0.5443314 ]],\n",
       "\n",
       "        [[-0.52860665],\n",
       "         [ 0.42733595],\n",
       "         [ 0.733861  ],\n",
       "         ...,\n",
       "         [ 1.0549357 ],\n",
       "         [ 0.95535946],\n",
       "         [ 0.31503946]],\n",
       "\n",
       "        [[-1.069855  ],\n",
       "         [-0.3356625 ],\n",
       "         [-0.05243041],\n",
       "         ...,\n",
       "         [ 0.278826  ],\n",
       "         [ 0.2153077 ],\n",
       "         [-0.01643017]]],\n",
       "\n",
       "\n",
       "       [[[-0.58276284],\n",
       "         [-0.14870606],\n",
       "         [ 0.04736245],\n",
       "         ...,\n",
       "         [ 0.03577836],\n",
       "         [-0.12615547],\n",
       "         [-0.79881996]],\n",
       "\n",
       "        [[-0.19583605],\n",
       "         [ 0.65903556],\n",
       "         [ 1.0292513 ],\n",
       "         ...,\n",
       "         [ 1.2034466 ],\n",
       "         [ 1.0560563 ],\n",
       "         [ 0.16413346]],\n",
       "\n",
       "        [[-0.28790087],\n",
       "         [ 0.68644583],\n",
       "         [ 1.1025033 ],\n",
       "         ...,\n",
       "         [ 1.3428698 ],\n",
       "         [ 1.1843386 ],\n",
       "         [ 0.38160956]],\n",
       "\n",
       "        ...,\n",
       "\n",
       "        [[-0.42862144],\n",
       "         [ 0.6157719 ],\n",
       "         [ 1.0332808 ],\n",
       "         ...,\n",
       "         [ 1.4167625 ],\n",
       "         [ 1.2791078 ],\n",
       "         [ 0.5758849 ]],\n",
       "\n",
       "        [[-0.522475  ],\n",
       "         [ 0.445728  ],\n",
       "         [ 0.7585298 ],\n",
       "         ...,\n",
       "         [ 1.0907013 ],\n",
       "         [ 0.98729146],\n",
       "         [ 0.34133875]],\n",
       "\n",
       "        [[-1.0674474 ],\n",
       "         [-0.32460338],\n",
       "         [-0.03558271],\n",
       "         ...,\n",
       "         [ 0.30691153],\n",
       "         [ 0.2404178 ],\n",
       "         [ 0.00542   ]]],\n",
       "\n",
       "\n",
       "       [[[-0.57402205],\n",
       "         [-0.1351811 ],\n",
       "         [ 0.06483249],\n",
       "         ...,\n",
       "         [ 0.05453669],\n",
       "         [-0.11188924],\n",
       "         [-0.7913324 ]],\n",
       "\n",
       "        [[-0.1847025 ],\n",
       "         [ 0.67944765],\n",
       "         [ 1.0558228 ],\n",
       "         ...,\n",
       "         [ 1.2357843 ],\n",
       "         [ 1.0839897 ],\n",
       "         [ 0.18276684]],\n",
       "\n",
       "        [[-0.27634904],\n",
       "         [ 0.70918393],\n",
       "         [ 1.1316614 ],\n",
       "         ...,\n",
       "         [ 1.3790411 ],\n",
       "         [ 1.2165803 ],\n",
       "         [ 0.40551752]],\n",
       "\n",
       "        ...,\n",
       "\n",
       "        [[-0.41985837],\n",
       "         [ 0.63738674],\n",
       "         [ 1.0615306 ],\n",
       "         ...,\n",
       "         [ 1.4561036 ],\n",
       "         [ 1.3144343 ],\n",
       "         [ 0.6050317 ]],\n",
       "\n",
       "        [[-0.5168248 ],\n",
       "         [ 0.46262816],\n",
       "         [ 0.7811484 ],\n",
       "         ...,\n",
       "         [ 1.1236136 ],\n",
       "         [ 1.0167286 ],\n",
       "         [ 0.3656721 ]],\n",
       "\n",
       "        [[-1.0652108 ],\n",
       "         [-0.31438863],\n",
       "         [-0.02003789],\n",
       "         ...,\n",
       "         [ 0.3329537 ],\n",
       "         [ 0.2637078 ],\n",
       "         [ 0.02571777]]]], dtype=float32)"
      ]
     },
     "execution_count": 40,
     "metadata": {},
     "output_type": "execute_result"
    }
   ],
   "source": [
    "prediction"
   ]
  },
  {
   "cell_type": "code",
   "execution_count": null,
   "metadata": {},
   "outputs": [],
   "source": [
    "y = network.outputs\n",
    "for i, RAD_id in enumerate(RAD_id_list[0:1]):\n",
    "    X_validation, Y_validation = read_by_RAD_id(RAD_id, 5)\n",
    "    Y = tl.utils.predict(sess, network, X_validation, x, y)\n",
    "    Y = Y[0]\n",
    "    Y_validation = Y_validation[0]\n",
    "    plt.imshow(Y_validation.reshape((501,501)), cmap=cm.gist_ncar_r)\n",
    "    plt.show()\n",
    "    print('↓↓↓下面的是模型的%d输出，上面的是%d真实值↑↑↑' % (j, j))\n",
    "    plt.imshow(Y.reshape((501,501)), cmap=cm.gist_ncar_r)\n",
    "    plt.show()\n",
    "    print('\\n------------------------------------\\n')"
   ]
  },
  {
   "cell_type": "code",
   "execution_count": null,
   "metadata": {},
   "outputs": [],
   "source": [
    "Y"
   ]
  },
  {
   "cell_type": "code",
   "execution_count": null,
   "metadata": {},
   "outputs": [],
   "source": [
    "plt.imshow(y_train[0].reshape((501,501)), cmap=cm.gist_ncar_r)"
   ]
  },
  {
   "cell_type": "code",
   "execution_count": null,
   "metadata": {},
   "outputs": [],
   "source": [
    "y_train[0]"
   ]
  },
  {
   "cell_type": "code",
   "execution_count": null,
   "metadata": {},
   "outputs": [],
   "source": []
  }
 ],
 "metadata": {
  "kernelspec": {
   "display_name": "Python 3",
   "language": "python",
   "name": "python3"
  }
 },
 "nbformat": 4,
 "nbformat_minor": 2
}
