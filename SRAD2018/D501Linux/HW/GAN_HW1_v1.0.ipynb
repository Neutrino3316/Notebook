{
 "cells": [
  {
   "cell_type": "code",
   "execution_count": 1,
   "metadata": {},
   "outputs": [
    {
     "name": "stdout",
     "output_type": "stream",
     "text": [
      "Downloading MNIST...\n",
      "Succesfully downloaded train-images-idx3-ubyte.gz 9912422 bytes.\n",
      "Extracting mnist/train-images-idx3-ubyte.gz\n",
      "Downloading MNIST...\n",
      "Succesfully downloaded train-labels-idx1-ubyte.gz 28881 bytes.\n",
      "Extracting mnist/train-labels-idx1-ubyte.gz\n",
      "Downloading MNIST...\n",
      "Succesfully downloaded t10k-images-idx3-ubyte.gz 1648877 bytes.\n",
      "Extracting mnist/t10k-images-idx3-ubyte.gz\n",
      "Downloading MNIST...\n",
      "Succesfully downloaded t10k-labels-idx1-ubyte.gz 4542 bytes.\n",
      "Extracting mnist/t10k-labels-idx1-ubyte.gz\n"
     ]
    }
   ],
   "source": [
    "# -*- coding: utf-8 -*-\n",
    "\"\"\" GAN Example\n",
    "\n",
    "Use a generative adversarial network (GAN) to generate digit images from a\n",
    "noise distribution.\n",
    "\n",
    "References:\n",
    "    - Generative adversarial nets. I Goodfellow, J Pouget-Abadie, M Mirza,\n",
    "    B Xu, D Warde-Farley, S Ozair, Y. Bengio. Advances in neural information\n",
    "    processing systems, 2672-2680.\n",
    "\n",
    "Links:\n",
    "    - [GAN Paper](https://arxiv.org/pdf/1406.2661.pdf).\n",
    "\n",
    "\"\"\"\n",
    "\n",
    "from __future__ import division, print_function, absolute_import\n",
    "\n",
    "import matplotlib.pyplot as plt\n",
    "import numpy as np\n",
    "import tensorflow as tf\n",
    "import tflearn\n",
    "\n",
    "# Data loading and preprocessing\n",
    "import tflearn.datasets.mnist as mnist\n",
    "X, Y, testX, testY = mnist.load_data()"
   ]
  },
  {
   "cell_type": "code",
   "execution_count": 23,
   "metadata": {},
   "outputs": [],
   "source": [
    "tf.reset_default_graph()"
   ]
  },
  {
   "cell_type": "code",
   "execution_count": 24,
   "metadata": {},
   "outputs": [
    {
     "name": "stdout",
     "output_type": "stream",
     "text": [
      "Training Step: 8599  | total loss: \u001b[1m\u001b[32m4.13136\u001b[0m\u001b[0m | time: 4.280s\n",
      "| GEN | epoch: 010 | loss: 3.40676 -- iter: 54976/55000\n",
      "| DISC | epoch: 010 | loss: 0.72460 -- iter: 54976/55000\n",
      "Training Step: 8600  | total loss: \u001b[1m\u001b[32m4.12421\u001b[0m\u001b[0m | time: 4.285s\n",
      "| GEN | epoch: 010 | loss: 3.39497 -- iter: 55000/55000\n",
      "| DISC | epoch: 010 | loss: 0.72923 -- iter: 55000/55000\n",
      "--\n"
     ]
    }
   ],
   "source": [
    "image_dim = 784 # 28*28 pixels\n",
    "z_dim = 200 # Noise data points\n",
    "total_samples = len(X)\n",
    "\n",
    "\n",
    "# Generator\n",
    "def generator(x, reuse=False):\n",
    "    with tf.variable_scope('Generator', reuse=reuse):\n",
    "        x = tflearn.fully_connected(x, 256, activation='relu')\n",
    "        x = tflearn.fully_connected(x, image_dim, activation='sigmoid')\n",
    "        return x\n",
    "\n",
    "\n",
    "# Discriminator\n",
    "def discriminator(x, reuse=False):\n",
    "    with tf.variable_scope('Discriminator', reuse=reuse):\n",
    "        x = tflearn.fully_connected(x, 256, activation='relu')\n",
    "        x = tflearn.fully_connected(x, 1, activation='sigmoid')\n",
    "        return x\n",
    "\n",
    "# Build Networks\n",
    "gen_input = tflearn.input_data(shape=[None, z_dim], name='input_noise')\n",
    "disc_input = tflearn.input_data(shape=[None, 784], name='disc_input')\n",
    "\n",
    "gen_sample = generator(gen_input)\n",
    "disc_real = discriminator(disc_input)\n",
    "disc_fake = discriminator(gen_sample, reuse=True)\n",
    "\n",
    "# Define Loss\n",
    "disc_loss = -tf.reduce_mean(tf.log(disc_real) + tf.log(1. - disc_fake))\n",
    "gen_loss = -tf.reduce_mean(tf.log(disc_fake))\n",
    "\n",
    "# Build Training Ops for both Generator and Discriminator.\n",
    "# Each network optimization should only update its own variable, thus we need\n",
    "# to retrieve each network variables (with get_layer_variables_by_scope) and set\n",
    "# 'placeholder=None' because we do not need to feed any target.\n",
    "gen_vars = tflearn.get_layer_variables_by_scope('Generator')\n",
    "gen_model = tflearn.regression(gen_sample, placeholder=None, optimizer='adam', learning_rate=0.001,\n",
    "                               loss=gen_loss, trainable_vars=gen_vars,\n",
    "                               batch_size=64, name='target_gen', op_name='GEN')\n",
    "disc_vars = tflearn.get_layer_variables_by_scope('Discriminator')\n",
    "disc_model = tflearn.regression(disc_real, placeholder=None, optimizer='adam', learning_rate=0.001,\n",
    "                                loss=disc_loss, trainable_vars=disc_vars,\n",
    "                                batch_size=64, name='target_disc', op_name='DISC')\n",
    "# Define GAN model, that output the generated images.\n",
    "gan = tflearn.DNN(gen_model, tensorboard_dir='/home/hadoop/Documents/Neutrino/tensorboard_logs')\n",
    "\n",
    "# Training\n",
    "# Generate noise to feed to the generator\n",
    "z = np.random.uniform(-1., 1., size=[total_samples, z_dim])\n",
    "# Start training, feed both noise and real images.\n",
    "gan.fit(X_inputs={gen_input: z, disc_input: X},\n",
    "        Y_targets=None,\n",
    "        n_epoch=10)"
   ]
  },
  {
   "cell_type": "code",
   "execution_count": 25,
   "metadata": {},
   "outputs": [
    {
     "name": "stderr",
     "output_type": "stream",
     "text": [
      "/home/hadoop/.local/lib/python3.5/site-packages/matplotlib/figure.py:459: UserWarning: matplotlib is currently using a non-GUI backend, so cannot show the figure\n",
      "  \"matplotlib is currently using a non-GUI backend, \"\n"
     ]
    },
    {
     "data": {
      "image/png": "[encoded data removed]",
      "text/plain": [
       "<Figure size 720x288 with 20 Axes>"
      ]
     },
     "metadata": {},
     "output_type": "display_data"
    }
   ],
   "source": [
    "\n",
    "# Generate images from noise, using the generator network.\n",
    "f, a = plt.subplots(2, 10, figsize=(10, 4))\n",
    "for i in range(10):\n",
    "    for j in range(2):\n",
    "        # Noise input.\n",
    "        z = np.random.uniform(-1., 1., size=[1, z_dim])\n",
    "        # Generate image from noise. Extend to 3 channels for matplot figure.\n",
    "        temp = [[ii, ii, ii] for ii in list(gan.predict([z])[0])]\n",
    "        a[j][i].imshow(np.reshape(temp, (28, 28, 3)))\n",
    "f.show()\n",
    "plt.draw()"
   ]
  },
  {
   "cell_type": "code",
   "execution_count": null,
   "metadata": {},
   "outputs": [],
   "source": []
  }
 ],
 "metadata": {
  "kernelspec": {
   "display_name": "Python 3",
   "language": "python",
   "name": "python3"
  },
  "language_info": {
   "codemirror_mode": {
    "name": "ipython",
    "version": 3
   },
   "file_extension": ".py",
   "mimetype": "text/x-python",
   "name": "python",
   "nbconvert_exporter": "python",
   "pygments_lexer": "ipython3",
   "version": "3.5.2"
  }
 },
 "nbformat": 4,
 "nbformat_minor": 2
}
