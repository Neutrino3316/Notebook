{
 "cells": [
  {
   "cell_type": "code",
   "execution_count": 1,
   "metadata": {},
   "outputs": [],
   "source": [
    "# -*- coding: utf-8 -*-\n",
    "\"\"\" GAN Example\n",
    "\n",
    "Use a generative adversarial network (GAN) to generate digit images from a\n",
    "noise distribution.\n",
    "\n",
    "References:\n",
    "    - Generative adversarial nets. I Goodfellow, J Pouget-Abadie, M Mirza,\n",
    "    B Xu, D Warde-Farley, S Ozair, Y. Bengio. Advances in neural information\n",
    "    processing systems, 2672-2680.\n",
    "\n",
    "Links:\n",
    "    - [GAN Paper](https://arxiv.org/pdf/1406.2661.pdf).\n",
    "\n",
    "\"\"\"\n",
    "\n",
    "from __future__ import division, print_function, absolute_import\n",
    "\n",
    "import matplotlib.pyplot as plt\n",
    "import numpy as np\n",
    "import tensorflow as tf\n",
    "import tflearn\n",
    "\n",
    "# Data loading and preprocessing\n",
    "X, Y = tflearn.datasets.cifar10.load_data()"
   ]
  },
  {
   "cell_type": "code",
   "execution_count": 2,
   "metadata": {},
   "outputs": [
    {
     "data": {
      "text/plain": [
       "(50000, 32, 32, 3)"
      ]
     },
     "execution_count": 2,
     "metadata": {},
     "output_type": "execute_result"
    }
   ],
   "source": [
    "X[0].shape"
   ]
  },
  {
   "cell_type": "code",
   "execution_count": 3,
   "metadata": {},
   "outputs": [
    {
     "data": {
      "text/plain": [
       "(50000,)"
      ]
     },
     "execution_count": 3,
     "metadata": {},
     "output_type": "execute_result"
    }
   ],
   "source": [
    "X[1].shape"
   ]
  },
  {
   "cell_type": "code",
   "execution_count": 4,
   "metadata": {},
   "outputs": [
    {
     "data": {
      "text/plain": [
       "(10000, 32, 32, 3)"
      ]
     },
     "execution_count": 4,
     "metadata": {},
     "output_type": "execute_result"
    }
   ],
   "source": [
    "Y[0].shape"
   ]
  },
  {
   "cell_type": "code",
   "execution_count": 5,
   "metadata": {},
   "outputs": [
    {
     "data": {
      "text/plain": [
       "10000"
      ]
     },
     "execution_count": 5,
     "metadata": {},
     "output_type": "execute_result"
    }
   ],
   "source": [
    "len(Y[1])"
   ]
  },
  {
   "cell_type": "code",
   "execution_count": 6,
   "metadata": {},
   "outputs": [
    {
     "data": {
      "text/plain": [
       "1024"
      ]
     },
     "execution_count": 6,
     "metadata": {},
     "output_type": "execute_result"
    }
   ],
   "source": [
    "32*32"
   ]
  },
  {
   "cell_type": "code",
   "execution_count": 14,
   "metadata": {},
   "outputs": [],
   "source": [
    "tf.reset_default_graph()"
   ]
  },
  {
   "cell_type": "code",
   "execution_count": 15,
   "metadata": {},
   "outputs": [],
   "source": [
    "image_dim = 1024 # 28*28 pixels\n",
    "z_dim = 20 # Noise data points\n",
    "total_samples = len(X)\n",
    "\n",
    "\n",
    "# Generator\n",
    "def generator(x, reuse=False):\n",
    "    with tf.variable_scope('Generator', reuse=reuse):\n",
    "        x = tflearn.fully_connected(x, 256, activation='relu')\n",
    "        x = tflearn.fully_connected(x, image_dim, activation='tanh')\n",
    "        return x\n",
    "\n",
    "\n",
    "# Discriminator\n",
    "def discriminator(x, reuse=False):\n",
    "    with tf.variable_scope('Discriminator', reuse=reuse):\n",
    "        x = tflearn.fully_connected(x, 256, activation='relu')\n",
    "        x = tflearn.fully_connected(x, 1, activation='sigmoid')\n",
    "        return x\n",
    "\n",
    "# Build Networks\n",
    "gen_input = tflearn.input_data(shape=[None, z_dim], name='input_noise')\n",
    "disc_input = tflearn.input_data(shape=[None, 1024], name='disc_input')\n",
    "\n",
    "gen_sample = generator(gen_input)\n",
    "disc_real = discriminator(disc_input)\n",
    "disc_fake = discriminator(gen_sample, reuse=True)\n",
    "\n",
    "# Define Loss\n",
    "disc_loss = -tf.reduce_mean(tf.log(disc_real) + tf.log(1. - disc_fake))\n",
    "gen_loss = -tf.reduce_mean(tf.log(disc_fake))\n",
    "\n",
    "# Build Training Ops for both Generator and Discriminator.\n",
    "# Each network optimization should only update its own variable, thus we need\n",
    "# to retrieve each network variables (with get_layer_variables_by_scope) and set\n",
    "# 'placeholder=None' because we do not need to feed any target.\n",
    "gen_vars = tflearn.get_layer_variables_by_scope('Generator')\n",
    "gen_model = tflearn.regression(gen_sample, placeholder=None, optimizer='adam', learning_rate=0.0001,\n",
    "                               loss=gen_loss, trainable_vars=gen_vars,\n",
    "                               batch_size=64, name='target_gen', op_name='GEN')\n",
    "disc_vars = tflearn.get_layer_variables_by_scope('Discriminator')\n",
    "disc_model = tflearn.regression(disc_real, placeholder=None, optimizer='adam', learning_rate=0.0001,\n",
    "                                loss=disc_loss, trainable_vars=disc_vars,\n",
    "                                batch_size=64, name='target_disc', op_name='DISC')"
   ]
  },
  {
   "cell_type": "code",
   "execution_count": 16,
   "metadata": {},
   "outputs": [],
   "source": [
    "# Define GAN model, that output the generated images.\n",
    "gan = tflearn.DNN(gen_model, tensorboard_dir='/home/hadoop/Documents/Neutrino/tensorboard_logs')\n",
    "\n",
    "# Training\n",
    "# Generate noise to feed to the generator\n",
    "z = np.random.uniform(-1., 1., size=[total_samples, z_dim])"
   ]
  },
  {
   "cell_type": "code",
   "execution_count": null,
   "metadata": {},
   "outputs": [
    {
     "name": "stdout",
     "output_type": "stream",
     "text": [
      "---------------------------------\n",
      "Run id: WOXQ29\n",
      "Log directory: /home/hadoop/Documents/Neutrino/tensorboard_logs/\n",
      "---------------------------------\n",
      "Training samples: 4\n",
      "Validation samples: 0\n",
      "--\n"
     ]
    },
    {
     "name": "stderr",
     "output_type": "stream",
     "text": [
      "Exception in thread Thread-16:\n",
      "Traceback (most recent call last):\n",
      "  File \"/usr/lib/python3.5/threading.py\", line 914, in _bootstrap_inner\n",
      "    self.run()\n",
      "  File \"/usr/lib/python3.5/threading.py\", line 862, in run\n",
      "    self._target(*self._args, **self._kwargs)\n",
      "  File \"/home/hadoop/.local/lib/python3.5/site-packages/tflearn/data_flow.py\", line 187, in fill_feed_dict_queue\n",
      "    data = self.retrieve_data(batch_ids)\n",
      "  File \"/home/hadoop/.local/lib/python3.5/site-packages/tflearn/data_flow.py\", line 222, in retrieve_data\n",
      "    utils.slice_array(self.feed_dict[key], batch_ids)\n",
      "  File \"/home/hadoop/.local/lib/python3.5/site-packages/tflearn/utils.py\", line 187, in slice_array\n",
      "    return X[start]\n",
      "TypeError: only integer scalar arrays can be converted to a scalar index\n",
      "\n",
      "Exception in thread Thread-18:\n",
      "Traceback (most recent call last):\n",
      "  File \"/usr/lib/python3.5/threading.py\", line 914, in _bootstrap_inner\n",
      "    self.run()\n",
      "  File \"/usr/lib/python3.5/threading.py\", line 862, in run\n",
      "    self._target(*self._args, **self._kwargs)\n",
      "  File \"/home/hadoop/.local/lib/python3.5/site-packages/tflearn/data_flow.py\", line 187, in fill_feed_dict_queue\n",
      "    data = self.retrieve_data(batch_ids)\n",
      "  File \"/home/hadoop/.local/lib/python3.5/site-packages/tflearn/data_flow.py\", line 222, in retrieve_data\n",
      "    utils.slice_array(self.feed_dict[key], batch_ids)\n",
      "  File \"/home/hadoop/.local/lib/python3.5/site-packages/tflearn/utils.py\", line 187, in slice_array\n",
      "    return X[start]\n",
      "TypeError: only integer scalar arrays can be converted to a scalar index\n",
      "\n"
     ]
    }
   ],
   "source": [
    "# Start training, feed both noise and real images.\n",
    "gan.fit(X_inputs={gen_input: z, disc_input: X},\n",
    "        Y_targets=None,\n",
    "        n_epoch=1)"
   ]
  },
  {
   "cell_type": "code",
   "execution_count": null,
   "metadata": {},
   "outputs": [],
   "source": [
    "# Generate images from noise, using the generator network.\n",
    "f, a = plt.subplots(3, 10, figsize=(10, 4))\n",
    "for i in range(10):\n",
    "    for j in range(3):\n",
    "        # Noise input.\n",
    "        z = np.random.uniform(-1., 1., size=[1, z_dim])\n",
    "        # Generate image from noise. Extend to 3 channels for matplot figure.\n",
    "        temp = [[ii, ii, ii] for ii in list(gan.predict([z])[0])]\n",
    "        a[j][i].imshow(np.reshape(temp, (28, 28, 3)))\n",
    "f.show()\n",
    "plt.draw()"
   ]
  },
  {
   "cell_type": "code",
   "execution_count": null,
   "metadata": {},
   "outputs": [],
   "source": [
    "temp"
   ]
  },
  {
   "cell_type": "code",
   "execution_count": null,
   "metadata": {},
   "outputs": [],
   "source": []
  }
 ],
 "metadata": {
  "kernelspec": {
   "display_name": "Python 3",
   "language": "python",
   "name": "python3"
  },
  "language_info": {
   "codemirror_mode": {
    "name": "ipython",
    "version": 3
   },
   "file_extension": ".py",
   "mimetype": "text/x-python",
   "name": "python",
   "nbconvert_exporter": "python",
   "pygments_lexer": "ipython3",
   "version": "3.5.2"
  }
 },
 "nbformat": 4,
 "nbformat_minor": 2
}
