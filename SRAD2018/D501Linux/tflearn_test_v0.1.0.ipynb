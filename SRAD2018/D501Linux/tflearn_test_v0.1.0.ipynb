{
 "cells": [
  {
   "cell_type": "code",
   "execution_count": 1,
   "metadata": {},
   "outputs": [],
   "source": [
    "import tensorflow as tf"
   ]
  },
  {
   "cell_type": "code",
   "execution_count": 10,
   "metadata": {},
   "outputs": [],
   "source": [
    "tf.reset_default_graph()"
   ]
  },
  {
   "cell_type": "code",
   "execution_count": 3,
   "metadata": {},
   "outputs": [
    {
     "name": "stdout",
     "output_type": "stream",
     "text": [
      "hdf5 is not supported on this machine (please install/reinstall h5py for optimal experience)\n"
     ]
    }
   ],
   "source": [
    "from __future__ import division, print_function, absolute_import\n",
    "import tflearn"
   ]
  },
  {
   "cell_type": "code",
   "execution_count": 4,
   "metadata": {},
   "outputs": [
    {
     "name": "stdout",
     "output_type": "stream",
     "text": [
      "Downloading MNIST...\n",
      "Succesfully downloaded train-images-idx3-ubyte.gz 9912422 bytes.\n",
      "Extracting mnist/train-images-idx3-ubyte.gz\n",
      "Downloading MNIST...\n",
      "Succesfully downloaded train-labels-idx1-ubyte.gz 28881 bytes.\n",
      "Extracting mnist/train-labels-idx1-ubyte.gz\n",
      "Downloading MNIST...\n",
      "Succesfully downloaded t10k-images-idx3-ubyte.gz 1648877 bytes.\n",
      "Extracting mnist/t10k-images-idx3-ubyte.gz\n",
      "Downloading MNIST...\n",
      "Succesfully downloaded t10k-labels-idx1-ubyte.gz 4542 bytes.\n",
      "Extracting mnist/t10k-labels-idx1-ubyte.gz\n"
     ]
    }
   ],
   "source": [
    "X, Y, testX, testY = tflearn.datasets.mnist.load_data(one_hot=True)"
   ]
  },
  {
   "cell_type": "code",
   "execution_count": 5,
   "metadata": {},
   "outputs": [
    {
     "name": "stdout",
     "output_type": "stream",
     "text": [
      "WARNING:tensorflow:From /home/hadoop/.local/lib/python3.5/site-packages/tflearn/initializations.py:119: UniformUnitScaling.__init__ (from tensorflow.python.ops.init_ops) is deprecated and will be removed in a future version.\n",
      "Instructions for updating:\n",
      "Use tf.initializers.variance_scaling instead with distribution=uniform to get equivalent behavior.\n",
      "WARNING:tensorflow:From /home/hadoop/.local/lib/python3.5/site-packages/tflearn/objectives.py:66: calling reduce_sum (from tensorflow.python.ops.math_ops) with keep_dims is deprecated and will be removed in a future version.\n",
      "Instructions for updating:\n",
      "keep_dims is deprecated, use keepdims instead\n"
     ]
    }
   ],
   "source": []
  },
  {
   "cell_type": "code",
   "execution_count": 15,
   "metadata": {},
   "outputs": [
    {
     "name": "stdout",
     "output_type": "stream",
     "text": [
      "Training Step: 1099  | total loss: \u001b[1m\u001b[32m0.49958\u001b[0m\u001b[0m | time: 1.610s\n",
      "| SGD | epoch: 002 | loss: 0.49958 - acc: 0.8992 -- iter: 54900/55000\n",
      "Training Step: 1100  | total loss: \u001b[1m\u001b[32m0.52633\u001b[0m\u001b[0m | time: 2.649s\n",
      "| SGD | epoch: 002 | loss: 0.52633 - acc: 0.8893 | val_loss: 0.59388 - val_acc: 0.8548 -- iter: 55000/55000\n",
      "--\n"
     ]
    }
   ],
   "source": [
    "tf.reset_default_graph()\n",
    "with tf.device('/cpu:0'):\n",
    "    # Building deep neural network\n",
    "    net = tflearn.input_data(shape=[None, 784])\n",
    "    net = tflearn.fully_connected(net, 64, activation='tanh', regularizer='L2', weight_decay=0.001, weights_init=tflearn.initializations.uniform_scaling(seed=42), bias_init=tflearn.initializations.uniform_scaling(seed=42))\n",
    "    # net = tflearn.dropout(net, 0.8)\n",
    "    net = tflearn.fully_connected(net, 64, activation='tanh', regularizer='L2', weight_decay=0.001, weights_init=tflearn.initializations.uniform_scaling(seed=42), bias_init=tflearn.initializations.uniform_scaling(seed=42))\n",
    "    # net = tflearn.dropout(net, 0.8)\n",
    "    net = tflearn.fully_connected(net, 10, activation='softmax', regularizer='L2', weight_decay=0.001, weights_init=tflearn.initializations.uniform_scaling(seed=42), bias_init=tflearn.initializations.uniform_scaling(seed=42))\n",
    "\n",
    "    # Regression using SGD with learning rate decay and Top-3 accuracy\n",
    "    sgd = tflearn.SGD(learning_rate=0.01, lr_decay=0.96, decay_step=1000)\n",
    "    metrics = tflearn.metrics.Accuracy()\n",
    "    net = tflearn.regression(net, optimizer=sgd, metric=metrics,\n",
    "                             loss='categorical_crossentropy')\n",
    "\n",
    "\n",
    "    # Training\n",
    "    model = tflearn.DNN(net, tensorboard_verbose=0)\n",
    "    model.fit(X, Y, n_epoch=2, validation_set=(testX, testY), batch_size=100, show_metric=True, run_id=\"dense_model\", shuffle=False)"
   ]
  },
  {
   "cell_type": "code",
   "execution_count": 35,
   "metadata": {},
   "outputs": [
    {
     "name": "stdout",
     "output_type": "stream",
     "text": [
      "Training Step: 1099  | total loss: \u001b[1m\u001b[32m0.17744\u001b[0m\u001b[0m | time: 1.669s\n",
      "| Adam | epoch: 002 | loss: 0.17744 - acc: 0.9525 -- iter: 54900/55000\n",
      "Training Step: 1100  | total loss: \u001b[1m\u001b[32m0.21521\u001b[0m\u001b[0m | time: 2.708s\n",
      "| Adam | epoch: 002 | loss: 0.21521 - acc: 0.9453 | val_loss: 0.25896 - val_acc: 0.9264 -- iter: 55000/55000\n",
      "--\n"
     ]
    }
   ],
   "source": [
    "tf.reset_default_graph()\n",
    "with tf.device('/gpu:0'):\n",
    "    tf.reset_default_graph()\n",
    "    # Building deep neural network\n",
    "    net = tflearn.input_data(shape=[None, 784])\n",
    "    net = tflearn.fully_connected(net, 64, activation='tanh', regularizer='L2', weight_decay=0.001, weights_init=tflearn.initializations.uniform_scaling(seed=42), bias_init=tflearn.initializations.uniform_scaling(seed=42))\n",
    "    # net = tflearn.dropout(net, 0.8)\n",
    "    net = tflearn.fully_connected(net, 64, activation='tanh', regularizer='L2', weight_decay=0.001, weights_init=tflearn.initializations.uniform_scaling(seed=42), bias_init=tflearn.initializations.uniform_scaling(seed=42))\n",
    "    # net = tflearn.dropout(net, 0.8)\n",
    "    net = tflearn.fully_connected(net, 10, activation='softmax', regularizer='L2', weight_decay=0.001, weights_init=tflearn.initializations.uniform_scaling(seed=42), bias_init=tflearn.initializations.uniform_scaling(seed=42))\n",
    "\n",
    "    # Regression using SGD with learning rate decay and Top-3 accuracy\n",
    "    net = tflearn.regression(net, optimizer=tflearn.Adam(learning_rate=0.0003), metric=tflearn.metrics.Accuracy(), loss='categorical_crossentropy')\n",
    "\n",
    "\n",
    "    # Training\n",
    "    model = tflearn.DNN(net, tensorboard_verbose=0)\n",
    "    model.fit(X, Y, n_epoch=2, validation_set=(testX, testY), batch_size=100, show_metric=True, run_id=\"dense_model\", shuffle=False)"
   ]
  },
  {
   "cell_type": "code",
   "execution_count": 23,
   "metadata": {},
   "outputs": [
    {
     "data": {
      "text/plain": [
       "<tf.Tensor 'FullyConnected_2/W/read:0' shape=(64, 10) dtype=float32>"
      ]
     },
     "execution_count": 23,
     "metadata": {},
     "output_type": "execute_result"
    }
   ],
   "source": [
    "net.W.value()"
   ]
  },
  {
   "cell_type": "code",
   "execution_count": null,
   "metadata": {},
   "outputs": [],
   "source": []
  }
 ],
 "metadata": {
  "kernelspec": {
   "display_name": "Python 3",
   "language": "python",
   "name": "python3"
  },
  "language_info": {
   "codemirror_mode": {
    "name": "ipython",
    "version": 3
   },
   "file_extension": ".py",
   "mimetype": "text/x-python",
   "name": "python",
   "nbconvert_exporter": "python",
   "pygments_lexer": "ipython3",
   "version": "3.5.2"
  }
 },
 "nbformat": 4,
 "nbformat_minor": 2
}
